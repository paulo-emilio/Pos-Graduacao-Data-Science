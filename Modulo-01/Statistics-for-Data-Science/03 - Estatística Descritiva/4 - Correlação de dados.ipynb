{
 "cells": [
  {
   "cell_type": "markdown",
   "id": "d537ac19",
   "metadata": {},
   "source": [
    "# `correlação`.\n",
    "\n",
    "### A correlação é uma medida que tenta identificar o grau de relacionamento entre duas variáveis. Ela é muito útil para entender se uma variável exerce influência em outra. Por exemplo, a altura é correlacionada com a idade de uma criança?\n",
    "\n",
    "\n",
    "\n",
    "![alt_text](https://dataunirio.github.io/AulaCorrelacao/img/correlacao.png)"
   ]
  },
  {
   "cell_type": "markdown",
   "id": "c66f84f4",
   "metadata": {},
   "source": [
    "<br>"
   ]
  },
  {
   "cell_type": "markdown",
   "id": "002041f4",
   "metadata": {},
   "source": [
    "<br>"
   ]
  },
  {
   "cell_type": "markdown",
   "id": "ac1107bb",
   "metadata": {},
   "source": [
    "### A correlação varia entre -1 e 1: se assumir o valor -1, as variáveis são totalmente correlacionadas uma com a outra, sendo que enquanto uma cresce, a outra diminui. Quando a correlação assume valor 1, vice e versa. Quando for 0, indica que as variáveis não são relacionadas.\n",
    "\n",
    "![alt_text](https://d33wubrfki0l68.cloudfront.net/e3b158e0207e1a80248bc0d7283f6eee638d5e72/4f6f0/blog/correlacao_files/figure-html/unnamed-chunk-4-1.png)"
   ]
  },
  {
   "cell_type": "markdown",
   "id": "0a307dcc",
   "metadata": {},
   "source": [
    "<br>"
   ]
  },
  {
   "cell_type": "markdown",
   "id": "8b7e94b1",
   "metadata": {},
   "source": [
    "<br>"
   ]
  },
  {
   "cell_type": "markdown",
   "id": "e01677a5",
   "metadata": {},
   "source": [
    "<br>"
   ]
  },
  {
   "cell_type": "markdown",
   "id": "0b16c7c4",
   "metadata": {},
   "source": [
    "## Existem várias formas de se calcular a correlação entre duas variáveis. Podemos dividi-las em 2 tipos de correlação, as lineares e as não lineares.\n",
    "\n",
    "![alt_text](https://miro.medium.com/max/812/1*O2WOYcjo70vBDQHtvyiJzA.png)"
   ]
  },
  {
   "cell_type": "markdown",
   "id": "b97618b0",
   "metadata": {},
   "source": [
    "### Correlação de Pearson"
   ]
  },
  {
   "cell_type": "markdown",
   "id": "bfa0e70e",
   "metadata": {},
   "source": [
    "O Coeficiente de Correlação de Pearson é uma técnica para medir se duas variáveis estão relacionadas de maneira linear. Essa é a correlação mais conhecida e mais utilizada."
   ]
  },
  {
   "cell_type": "code",
   "execution_count": 2,
   "id": "303dd953",
   "metadata": {},
   "outputs": [],
   "source": [
    "from scipy.stats import pearsonr\n",
    "import numpy as np"
   ]
  },
  {
   "cell_type": "code",
   "execution_count": null,
   "id": "17905a7b",
   "metadata": {},
   "outputs": [],
   "source": []
  },
  {
   "cell_type": "markdown",
   "id": "634eccb8",
   "metadata": {},
   "source": [
    "#### Vamos ver um exemplo da correlação de pearson"
   ]
  },
  {
   "cell_type": "code",
   "execution_count": 13,
   "id": "91c521f8",
   "metadata": {},
   "outputs": [
    {
     "data": {
      "text/plain": [
       "array([ 5,  8, 11, 14, 17])"
      ]
     },
     "execution_count": 13,
     "metadata": {},
     "output_type": "execute_result"
    }
   ],
   "source": [
    "a = np.array([1, 2, 3, 4, 5])\n",
    "\n",
    "b = a * 3 + 2\n",
    "b"
   ]
  },
  {
   "cell_type": "markdown",
   "id": "9c6339d2",
   "metadata": {},
   "source": [
    "#### Perceba que b é uma combinação linear de a. Isso porque b = a * constante1 + constante2. Portanto, b é completamente dependente de a, e a relação deles é linear. Vamos ver qual será o resultado da correlação de pearson."
   ]
  },
  {
   "cell_type": "code",
   "execution_count": null,
   "id": "5d7d1a23",
   "metadata": {},
   "outputs": [],
   "source": []
  },
  {
   "cell_type": "code",
   "execution_count": 14,
   "id": "9876231f",
   "metadata": {},
   "outputs": [
    {
     "data": {
      "text/plain": [
       "(1.0, 0.0)"
      ]
     },
     "execution_count": 14,
     "metadata": {},
     "output_type": "execute_result"
    }
   ],
   "source": [
    "pearsonr(a, b)"
   ]
  },
  {
   "cell_type": "code",
   "execution_count": 6,
   "id": "80106e19",
   "metadata": {},
   "outputs": [],
   "source": []
  },
  {
   "cell_type": "markdown",
   "id": "e4e14ecd",
   "metadata": {},
   "source": [
    "#### Agora, vamos mudar a e b um pouquinho"
   ]
  },
  {
   "cell_type": "code",
   "execution_count": 15,
   "id": "a481d1a0",
   "metadata": {},
   "outputs": [
    {
     "data": {
      "text/plain": [
       "array([  3,  10,  29,  66, 127])"
      ]
     },
     "execution_count": 15,
     "metadata": {},
     "output_type": "execute_result"
    }
   ],
   "source": [
    "a = np.array([1, 2, 3, 4, 5])\n",
    "\n",
    "b = a ** 3 + 2\n",
    "b"
   ]
  },
  {
   "cell_type": "markdown",
   "id": "e49dc371",
   "metadata": {},
   "source": [
    "#### Apesar de b ainda ser completamente dependente de a, b já não é uma combinação linear de a. Vamos ver o resultado da correlação de pearson nesse caso."
   ]
  },
  {
   "cell_type": "code",
   "execution_count": null,
   "id": "b0210282",
   "metadata": {},
   "outputs": [],
   "source": []
  },
  {
   "cell_type": "code",
   "execution_count": 16,
   "id": "b67dd7ae",
   "metadata": {},
   "outputs": [
    {
     "data": {
      "text/plain": [
       "(0.9431175138077005, 0.01614585528863041)"
      ]
     },
     "execution_count": 16,
     "metadata": {},
     "output_type": "execute_result"
    }
   ],
   "source": [
    "pearsonr(a, b)"
   ]
  },
  {
   "cell_type": "code",
   "execution_count": null,
   "id": "7708b9d5",
   "metadata": {},
   "outputs": [],
   "source": []
  },
  {
   "cell_type": "markdown",
   "id": "b274cfcd",
   "metadata": {},
   "source": [
    "#### Mesmo b sendo totalmente dependente de a, a correlação nao foi 1! Isso porque a relação entre eles não é linear."
   ]
  },
  {
   "cell_type": "markdown",
   "id": "c15d6a02",
   "metadata": {},
   "source": [
    "<br>"
   ]
  },
  {
   "cell_type": "code",
   "execution_count": null,
   "id": "b5ee016f",
   "metadata": {},
   "outputs": [],
   "source": []
  },
  {
   "cell_type": "code",
   "execution_count": null,
   "id": "aacfdaf9",
   "metadata": {},
   "outputs": [],
   "source": []
  },
  {
   "cell_type": "markdown",
   "id": "490cda6c",
   "metadata": {},
   "source": [
    "### Vamos continuar usando os dados do preço do Big Mac de Julho de 2022.\n",
    "\n",
    "<br>\n",
    "\n",
    "https://www.kaggle.com/datasets/vittoriogiatti/bigmacprice"
   ]
  },
  {
   "cell_type": "markdown",
   "id": "297c43c5",
   "metadata": {},
   "source": [
    "#### Importando a biblioteca pandas (https://pandas.pydata.org)"
   ]
  },
  {
   "cell_type": "code",
   "execution_count": 18,
   "id": "a00884b3",
   "metadata": {},
   "outputs": [],
   "source": [
    "import pandas"
   ]
  },
  {
   "cell_type": "markdown",
   "id": "1aaf55fa",
   "metadata": {},
   "source": [
    "#### Lendo os dados, que estão em csv"
   ]
  },
  {
   "cell_type": "code",
   "execution_count": 19,
   "id": "77ed9b87",
   "metadata": {},
   "outputs": [],
   "source": [
    "df = pandas.read_csv('BigmacPriceJuly2022.csv')"
   ]
  },
  {
   "cell_type": "code",
   "execution_count": 20,
   "id": "eebe356a",
   "metadata": {},
   "outputs": [
    {
     "data": {
      "text/html": [
       "<div>\n",
       "<style scoped>\n",
       "    .dataframe tbody tr th:only-of-type {\n",
       "        vertical-align: middle;\n",
       "    }\n",
       "\n",
       "    .dataframe tbody tr th {\n",
       "        vertical-align: top;\n",
       "    }\n",
       "\n",
       "    .dataframe thead th {\n",
       "        text-align: right;\n",
       "    }\n",
       "</style>\n",
       "<table border=\"1\" class=\"dataframe\">\n",
       "  <thead>\n",
       "    <tr style=\"text-align: right;\">\n",
       "      <th></th>\n",
       "      <th>date</th>\n",
       "      <th>currency_code</th>\n",
       "      <th>name</th>\n",
       "      <th>local_price</th>\n",
       "      <th>dollar_ex</th>\n",
       "      <th>dollar_price</th>\n",
       "    </tr>\n",
       "  </thead>\n",
       "  <tbody>\n",
       "    <tr>\n",
       "      <th>0</th>\n",
       "      <td>2022-07-01</td>\n",
       "      <td>ARS</td>\n",
       "      <td>Argentina</td>\n",
       "      <td>590.00</td>\n",
       "      <td>129</td>\n",
       "      <td>4.57</td>\n",
       "    </tr>\n",
       "    <tr>\n",
       "      <th>1</th>\n",
       "      <td>2022-07-01</td>\n",
       "      <td>AUD</td>\n",
       "      <td>Australia</td>\n",
       "      <td>6.70</td>\n",
       "      <td>1</td>\n",
       "      <td>6.70</td>\n",
       "    </tr>\n",
       "    <tr>\n",
       "      <th>2</th>\n",
       "      <td>2022-07-01</td>\n",
       "      <td>EUR</td>\n",
       "      <td>Austria</td>\n",
       "      <td>4.35</td>\n",
       "      <td>1</td>\n",
       "      <td>4.35</td>\n",
       "    </tr>\n",
       "    <tr>\n",
       "      <th>3</th>\n",
       "      <td>2022-07-01</td>\n",
       "      <td>AZN</td>\n",
       "      <td>Azerbaijan</td>\n",
       "      <td>4.70</td>\n",
       "      <td>1</td>\n",
       "      <td>4.70</td>\n",
       "    </tr>\n",
       "    <tr>\n",
       "      <th>4</th>\n",
       "      <td>2022-07-01</td>\n",
       "      <td>BHD</td>\n",
       "      <td>Bahrain</td>\n",
       "      <td>1.60</td>\n",
       "      <td>1</td>\n",
       "      <td>1.60</td>\n",
       "    </tr>\n",
       "  </tbody>\n",
       "</table>\n",
       "</div>"
      ],
      "text/plain": [
       "         date currency_code        name  local_price  dollar_ex  dollar_price\n",
       "0  2022-07-01           ARS   Argentina       590.00        129          4.57\n",
       "1  2022-07-01           AUD   Australia         6.70          1          6.70\n",
       "2  2022-07-01           EUR     Austria         4.35          1          4.35\n",
       "3  2022-07-01           AZN  Azerbaijan         4.70          1          4.70\n",
       "4  2022-07-01           BHD     Bahrain         1.60          1          1.60"
      ]
     },
     "execution_count": 20,
     "metadata": {},
     "output_type": "execute_result"
    }
   ],
   "source": [
    "df.head()"
   ]
  },
  {
   "cell_type": "markdown",
   "id": "adb86f1b",
   "metadata": {},
   "source": [
    "### Descrição das colunas\n",
    "\n",
    "* **`date`** - Data do registro\n",
    "* **`currency_code`** - Código ISO 4217 internacional da moeda do país\n",
    "* **`name`** - Nome do país\n",
    "* **`local_price`** - Preço do Big Mac na moeda local\n",
    "* **`dollar_ex`** - Taxa de Conversão do dólar americano para a moeda local\n",
    "* **`local_price`** - Preço do Big Mac em dólares americanos\n"
   ]
  },
  {
   "cell_type": "code",
   "execution_count": null,
   "id": "2853b763",
   "metadata": {},
   "outputs": [],
   "source": []
  },
  {
   "cell_type": "markdown",
   "id": "137a25b5",
   "metadata": {},
   "source": [
    "### O cálculo da correlação de pearson no pandas é bem simples"
   ]
  },
  {
   "cell_type": "code",
   "execution_count": 22,
   "id": "586e26db",
   "metadata": {},
   "outputs": [
    {
     "data": {
      "text/html": [
       "<div>\n",
       "<style scoped>\n",
       "    .dataframe tbody tr th:only-of-type {\n",
       "        vertical-align: middle;\n",
       "    }\n",
       "\n",
       "    .dataframe tbody tr th {\n",
       "        vertical-align: top;\n",
       "    }\n",
       "\n",
       "    .dataframe thead th {\n",
       "        text-align: right;\n",
       "    }\n",
       "</style>\n",
       "<table border=\"1\" class=\"dataframe\">\n",
       "  <thead>\n",
       "    <tr style=\"text-align: right;\">\n",
       "      <th></th>\n",
       "      <th>local_price</th>\n",
       "      <th>dollar_ex</th>\n",
       "      <th>dollar_price</th>\n",
       "    </tr>\n",
       "  </thead>\n",
       "  <tbody>\n",
       "    <tr>\n",
       "      <th>local_price</th>\n",
       "      <td>1.000000</td>\n",
       "      <td>0.954986</td>\n",
       "      <td>-0.002980</td>\n",
       "    </tr>\n",
       "    <tr>\n",
       "      <th>dollar_ex</th>\n",
       "      <td>0.954986</td>\n",
       "      <td>1.000000</td>\n",
       "      <td>-0.063468</td>\n",
       "    </tr>\n",
       "    <tr>\n",
       "      <th>dollar_price</th>\n",
       "      <td>-0.002980</td>\n",
       "      <td>-0.063468</td>\n",
       "      <td>1.000000</td>\n",
       "    </tr>\n",
       "  </tbody>\n",
       "</table>\n",
       "</div>"
      ],
      "text/plain": [
       "              local_price  dollar_ex  dollar_price\n",
       "local_price      1.000000   0.954986     -0.002980\n",
       "dollar_ex        0.954986   1.000000     -0.063468\n",
       "dollar_price    -0.002980  -0.063468      1.000000"
      ]
     },
     "execution_count": 22,
     "metadata": {},
     "output_type": "execute_result"
    }
   ],
   "source": [
    "df.corr()"
   ]
  },
  {
   "cell_type": "markdown",
   "id": "e504c95d",
   "metadata": {},
   "source": [
    " "
   ]
  },
  {
   "cell_type": "markdown",
   "id": "9320f71b",
   "metadata": {},
   "source": [
    "#### Por padrão, o pandas calcula a correlação de Pearson"
   ]
  },
  {
   "cell_type": "code",
   "execution_count": null,
   "id": "f304c2b8",
   "metadata": {},
   "outputs": [],
   "source": []
  },
  {
   "cell_type": "code",
   "execution_count": null,
   "id": "ce231832",
   "metadata": {},
   "outputs": [],
   "source": []
  },
  {
   "cell_type": "code",
   "execution_count": null,
   "id": "127347c6",
   "metadata": {},
   "outputs": [],
   "source": []
  },
  {
   "cell_type": "code",
   "execution_count": null,
   "id": "869d7be9",
   "metadata": {},
   "outputs": [],
   "source": []
  },
  {
   "cell_type": "code",
   "execution_count": null,
   "id": "1841e972",
   "metadata": {},
   "outputs": [],
   "source": []
  },
  {
   "cell_type": "markdown",
   "id": "a3f6ea95",
   "metadata": {},
   "source": [
    "### Correlação de Spearman"
   ]
  },
  {
   "cell_type": "markdown",
   "id": "6fa212cd",
   "metadata": {},
   "source": [
    "A correlação de Spearman, de maneira simplificada, analisa se quando o valor de uma variável aumenta ou diminui, o valor da outra variável aumenta ou diminui.\n",
    "\n",
    "Uma vez que a correlação de Spearman segue essa lógica e não tem pressupostos lineares como na correlação de Pearson, é possível utilizá-la para relações não lineares."
   ]
  },
  {
   "cell_type": "code",
   "execution_count": 23,
   "id": "b22b07ce",
   "metadata": {},
   "outputs": [],
   "source": [
    "from scipy.stats import spearmanr"
   ]
  },
  {
   "cell_type": "markdown",
   "id": "ab6d94e8",
   "metadata": {},
   "source": [
    "#### Vamos repetir os exemplos e ver como a correlação de Spearman se comporta"
   ]
  },
  {
   "cell_type": "code",
   "execution_count": 26,
   "id": "2c260c75",
   "metadata": {},
   "outputs": [
    {
     "data": {
      "text/plain": [
       "array([ 5,  8, 11, 14, 17])"
      ]
     },
     "execution_count": 26,
     "metadata": {},
     "output_type": "execute_result"
    }
   ],
   "source": [
    "a = np.array([1, 2, 3, 4, 5])\n",
    "\n",
    "b = a * 3 + 2\n",
    "b"
   ]
  },
  {
   "cell_type": "markdown",
   "id": "30157db3",
   "metadata": {},
   "source": [
    "#### Aqui, b é uma combinação linear de a"
   ]
  },
  {
   "cell_type": "code",
   "execution_count": null,
   "id": "fdd96e63",
   "metadata": {},
   "outputs": [],
   "source": []
  },
  {
   "cell_type": "code",
   "execution_count": 27,
   "id": "4ed93ba8",
   "metadata": {},
   "outputs": [
    {
     "data": {
      "text/plain": [
       "SpearmanrResult(correlation=0.9999999999999999, pvalue=1.4042654220543672e-24)"
      ]
     },
     "execution_count": 27,
     "metadata": {},
     "output_type": "execute_result"
    }
   ],
   "source": [
    "spearmanr(a, b)"
   ]
  },
  {
   "cell_type": "code",
   "execution_count": 6,
   "id": "9ca1a690",
   "metadata": {},
   "outputs": [],
   "source": []
  },
  {
   "cell_type": "markdown",
   "id": "7468a177",
   "metadata": {},
   "source": [
    "#### Agora, com uma relação não linear entre a e b"
   ]
  },
  {
   "cell_type": "code",
   "execution_count": 28,
   "id": "77eb3864",
   "metadata": {},
   "outputs": [
    {
     "data": {
      "text/plain": [
       "array([  3,  10,  29,  66, 127])"
      ]
     },
     "execution_count": 28,
     "metadata": {},
     "output_type": "execute_result"
    }
   ],
   "source": [
    "a = np.array([1, 2, 3, 4, 5])\n",
    "\n",
    "b = a ** 3 + 2\n",
    "b"
   ]
  },
  {
   "cell_type": "code",
   "execution_count": null,
   "id": "085be310",
   "metadata": {},
   "outputs": [],
   "source": []
  },
  {
   "cell_type": "code",
   "execution_count": 29,
   "id": "f0f43790",
   "metadata": {},
   "outputs": [
    {
     "data": {
      "text/plain": [
       "SpearmanrResult(correlation=0.9999999999999999, pvalue=1.4042654220543672e-24)"
      ]
     },
     "execution_count": 29,
     "metadata": {},
     "output_type": "execute_result"
    }
   ],
   "source": [
    "spearmanr(a, b)"
   ]
  },
  {
   "cell_type": "code",
   "execution_count": null,
   "id": "f7e15ecb",
   "metadata": {},
   "outputs": [],
   "source": []
  },
  {
   "cell_type": "markdown",
   "id": "b21c8c7d",
   "metadata": {},
   "source": [
    "#### Mesmo que a relação entre a e b não seja linear, a correlação foi 1! "
   ]
  },
  {
   "cell_type": "markdown",
   "id": "9c5c2da9",
   "metadata": {},
   "source": [
    "<br>"
   ]
  },
  {
   "cell_type": "code",
   "execution_count": null,
   "id": "3be121f5",
   "metadata": {},
   "outputs": [],
   "source": []
  },
  {
   "cell_type": "markdown",
   "id": "b96eeac1",
   "metadata": {},
   "source": [
    "### Mesmo que a correlação de Pearson não seja alta, a de Spearman pode ser\n",
    "\n",
    "![alt_text](https://upload.wikimedia.org/wikipedia/commons/thumb/4/4e/Spearman_fig1.svg/300px-Spearman_fig1.svg.png)"
   ]
  },
  {
   "cell_type": "code",
   "execution_count": null,
   "id": "7927fb85",
   "metadata": {},
   "outputs": [],
   "source": []
  },
  {
   "cell_type": "markdown",
   "id": "e0d14f40",
   "metadata": {},
   "source": [
    "### O cálculo da correlação de spearman no pandas é bem simples"
   ]
  },
  {
   "cell_type": "code",
   "execution_count": 30,
   "id": "11540894",
   "metadata": {},
   "outputs": [
    {
     "data": {
      "text/html": [
       "<div>\n",
       "<style scoped>\n",
       "    .dataframe tbody tr th:only-of-type {\n",
       "        vertical-align: middle;\n",
       "    }\n",
       "\n",
       "    .dataframe tbody tr th {\n",
       "        vertical-align: top;\n",
       "    }\n",
       "\n",
       "    .dataframe thead th {\n",
       "        text-align: right;\n",
       "    }\n",
       "</style>\n",
       "<table border=\"1\" class=\"dataframe\">\n",
       "  <thead>\n",
       "    <tr style=\"text-align: right;\">\n",
       "      <th></th>\n",
       "      <th>local_price</th>\n",
       "      <th>dollar_ex</th>\n",
       "      <th>dollar_price</th>\n",
       "    </tr>\n",
       "  </thead>\n",
       "  <tbody>\n",
       "    <tr>\n",
       "      <th>local_price</th>\n",
       "      <td>1.000000</td>\n",
       "      <td>0.958868</td>\n",
       "      <td>-0.073513</td>\n",
       "    </tr>\n",
       "    <tr>\n",
       "      <th>dollar_ex</th>\n",
       "      <td>0.958868</td>\n",
       "      <td>1.000000</td>\n",
       "      <td>-0.313316</td>\n",
       "    </tr>\n",
       "    <tr>\n",
       "      <th>dollar_price</th>\n",
       "      <td>-0.073513</td>\n",
       "      <td>-0.313316</td>\n",
       "      <td>1.000000</td>\n",
       "    </tr>\n",
       "  </tbody>\n",
       "</table>\n",
       "</div>"
      ],
      "text/plain": [
       "              local_price  dollar_ex  dollar_price\n",
       "local_price      1.000000   0.958868     -0.073513\n",
       "dollar_ex        0.958868   1.000000     -0.313316\n",
       "dollar_price    -0.073513  -0.313316      1.000000"
      ]
     },
     "execution_count": 30,
     "metadata": {},
     "output_type": "execute_result"
    }
   ],
   "source": [
    "df.corr(method = 'spearman')"
   ]
  },
  {
   "cell_type": "code",
   "execution_count": null,
   "id": "300a03cc",
   "metadata": {},
   "outputs": [],
   "source": []
  },
  {
   "cell_type": "code",
   "execution_count": null,
   "id": "385b69f5",
   "metadata": {},
   "outputs": [],
   "source": []
  },
  {
   "cell_type": "markdown",
   "id": "11c6c6b5",
   "metadata": {},
   "source": [
    "### Em geral, usamos a correlação de Spearman quando:\n",
    "\n",
    "* a relação entre as variáveis pode ser não linear\n",
    "* uma das variáveis é um ranking \n",
    "* quando existem muitos valores extremos nos dados, causando uma variância muito grande"
   ]
  }
 ],
 "metadata": {
  "kernelspec": {
   "display_name": "Python 3 (ipykernel)",
   "language": "python",
   "name": "python3"
  },
  "language_info": {
   "codemirror_mode": {
    "name": "ipython",
    "version": 3
   },
   "file_extension": ".py",
   "mimetype": "text/x-python",
   "name": "python",
   "nbconvert_exporter": "python",
   "pygments_lexer": "ipython3",
   "version": "3.8.9"
  }
 },
 "nbformat": 4,
 "nbformat_minor": 5
}
