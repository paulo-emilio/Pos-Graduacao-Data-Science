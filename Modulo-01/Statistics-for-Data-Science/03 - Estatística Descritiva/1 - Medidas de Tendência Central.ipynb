{
 "cells": [
  {
   "cell_type": "markdown",
   "id": "0206d46b",
   "metadata": {},
   "source": [
    "## A tendência central é uma medida de valores numa amostra que identifica os diferentes pontos centrais nos dados.\n",
    "<br>\n",
    "\n",
    "![alt text](data:image/png;base64,iVBORw0KGgoAAAANSUhEUgAAASsAAACoCAMAAACPKThEAAAApVBMVEXf0IAAtcEAAADk15b/AADf0YDgynzl1oQAn6rn14TRw3jczX7n14UJqrazp2epnF5+dkgAu8e6rGnKvHNMRyyil115cUZYSSWEd0U7KguXilIQAAAAg44AYWwAkp0ATVgAFCQANkIsKRlDPibv34kwLRzCtW9mXztMSCzviVXd2YXgyXwAe4WZhlDp0oEXAACql1u7p2YAVF4AQk0AjJYALDkACh7BL9h4AAACl0lEQVR4nO3cW1PaUBSGYdgthi1BBaR4VuRQW6092f7/n9ZMZ3qRtfea+QALCO9zySxXklcIF2ZsNAAAAAAAAAAAAAAAAAAAAAAAAAAAAN6a1mGqs+mT2lKdkDpqbfqstlMnDDp1Ba0cnXBoykRaOapW5pU1t3pDv5dNt2oN5gl7Rtti063iafrdclKs7/iL2Hyr42msmZ7QKi+eDk2Z4gOt8v5TqzImVr+o3WxVTmb31upXtZutYhge1fVnxytv3dVWg6JVEye0craGubmGklbeVlrpW2mlb6WVvpVW+lZa6VtppW+llb6VVvpWWulbaaVvpZW+lVb6VlrpW2mlb6WVvnXvWxUp50z3vlUxvEjYJP+27nureD+bGOHCGaVVP5Y104+08lrZEyt3sVXLVVStzCtVq+xo1cr+IatqlR+tWqV/8/LPQvL3WTV7HHtKtR94ZeXDCu+rwntflcn7qpjY4yxu0ef6lonV+vR+L31eolWj8XjgeR49dY3rs+f86PmLHb394mz9emMmm+Nvzmho29G77/nRx2CP3wxz98oODpb7EPqf6WJ01WvW9K7PnJvQ+Y0dvfXuV5dtOzp27lcxdJtm9K6fH+2Enh0NA//SXv1+FUdX9vhVq/xotlV+9LJtt46d78Fsq/xl5lstd93LoJWOVjpa6Wilo5WOVjpa6Wilo5WOVjpa6Wilo5WOVjpa6Wilo5WOVjpa6Wilo5WOVjpa6Wilo5WOVrqYfZ4hP7pQq8zzDPnR0LWj29vqqW38cFtd2dGfbqsXO/rLbXVjJru/3VZ2aXe9rR7k/+kUZ+mo+wxkym2Vclul1tkq99C69wCe/nz7+kYXu1gAAAAAAAAAAAAAAAAAAAAAAAAAAN6cd1D9AaD2oI3Hqj6sAAAAAElFTkSuQmCC)"
   ]
  },
  {
   "cell_type": "markdown",
   "id": "424f9ad7",
   "metadata": {},
   "source": [
    "### As medidas mais comuns de tendência central são a média, a mediana e a moda."
   ]
  },
  {
   "cell_type": "markdown",
   "id": "a225eb91",
   "metadata": {},
   "source": [
    "<br>\n",
    "<br>\n",
    "<br>"
   ]
  },
  {
   "cell_type": "markdown",
   "id": "9cff6ade",
   "metadata": {},
   "source": [
    "### Vamos usar dados abertos do preço do Big Mac, desde 2000 a 2022, para diversos países. Os dados podem ser encontrados no Kaggle.\n",
    "\n",
    "<br>\n",
    "\n",
    "https://www.kaggle.com/datasets/vittoriogiatti/bigmacprice"
   ]
  },
  {
   "cell_type": "markdown",
   "id": "d02f0f0f",
   "metadata": {},
   "source": [
    "#### Importando a biblioteca pandas (https://pandas.pydata.org)"
   ]
  },
  {
   "cell_type": "code",
   "execution_count": 1,
   "id": "dd3dbedf",
   "metadata": {},
   "outputs": [],
   "source": [
    "import pandas"
   ]
  },
  {
   "cell_type": "markdown",
   "id": "f1fd389c",
   "metadata": {},
   "source": [
    "#### Lendo os dados, que estão em csv"
   ]
  },
  {
   "cell_type": "code",
   "execution_count": 2,
   "id": "24077779",
   "metadata": {},
   "outputs": [],
   "source": [
    "df = pandas.read_csv('BigmacPrice.csv')"
   ]
  },
  {
   "cell_type": "code",
   "execution_count": 3,
   "id": "2ddf6217",
   "metadata": {},
   "outputs": [
    {
     "data": {
      "text/html": [
       "<div>\n",
       "<style scoped>\n",
       "    .dataframe tbody tr th:only-of-type {\n",
       "        vertical-align: middle;\n",
       "    }\n",
       "\n",
       "    .dataframe tbody tr th {\n",
       "        vertical-align: top;\n",
       "    }\n",
       "\n",
       "    .dataframe thead th {\n",
       "        text-align: right;\n",
       "    }\n",
       "</style>\n",
       "<table border=\"1\" class=\"dataframe\">\n",
       "  <thead>\n",
       "    <tr style=\"text-align: right;\">\n",
       "      <th></th>\n",
       "      <th>date</th>\n",
       "      <th>currency_code</th>\n",
       "      <th>name</th>\n",
       "      <th>local_price</th>\n",
       "      <th>dollar_ex</th>\n",
       "      <th>dollar_price</th>\n",
       "    </tr>\n",
       "  </thead>\n",
       "  <tbody>\n",
       "    <tr>\n",
       "      <th>0</th>\n",
       "      <td>2000-04-01</td>\n",
       "      <td>ARS</td>\n",
       "      <td>Argentina</td>\n",
       "      <td>2.50</td>\n",
       "      <td>1</td>\n",
       "      <td>2.50</td>\n",
       "    </tr>\n",
       "    <tr>\n",
       "      <th>1</th>\n",
       "      <td>2000-04-01</td>\n",
       "      <td>AUD</td>\n",
       "      <td>Australia</td>\n",
       "      <td>2.59</td>\n",
       "      <td>1</td>\n",
       "      <td>2.59</td>\n",
       "    </tr>\n",
       "    <tr>\n",
       "      <th>2</th>\n",
       "      <td>2000-04-01</td>\n",
       "      <td>BRL</td>\n",
       "      <td>Brazil</td>\n",
       "      <td>2.95</td>\n",
       "      <td>1</td>\n",
       "      <td>2.95</td>\n",
       "    </tr>\n",
       "    <tr>\n",
       "      <th>3</th>\n",
       "      <td>2000-04-01</td>\n",
       "      <td>GBP</td>\n",
       "      <td>Britain</td>\n",
       "      <td>1.90</td>\n",
       "      <td>1</td>\n",
       "      <td>1.90</td>\n",
       "    </tr>\n",
       "    <tr>\n",
       "      <th>4</th>\n",
       "      <td>2000-04-01</td>\n",
       "      <td>CAD</td>\n",
       "      <td>Canada</td>\n",
       "      <td>2.85</td>\n",
       "      <td>1</td>\n",
       "      <td>2.85</td>\n",
       "    </tr>\n",
       "  </tbody>\n",
       "</table>\n",
       "</div>"
      ],
      "text/plain": [
       "         date currency_code       name  local_price  dollar_ex  dollar_price\n",
       "0  2000-04-01           ARS  Argentina         2.50          1          2.50\n",
       "1  2000-04-01           AUD  Australia         2.59          1          2.59\n",
       "2  2000-04-01           BRL     Brazil         2.95          1          2.95\n",
       "3  2000-04-01           GBP    Britain         1.90          1          1.90\n",
       "4  2000-04-01           CAD     Canada         2.85          1          2.85"
      ]
     },
     "execution_count": 3,
     "metadata": {},
     "output_type": "execute_result"
    }
   ],
   "source": [
    "df.head()"
   ]
  },
  {
   "cell_type": "code",
   "execution_count": null,
   "id": "8a2ab5ab",
   "metadata": {},
   "outputs": [],
   "source": []
  },
  {
   "cell_type": "markdown",
   "id": "ee646e46",
   "metadata": {},
   "source": [
    "### Descrição das colunas\n",
    "\n",
    "* **`date`** - Data do registro\n",
    "* **`currency_code`** - Código ISO 4217 internacional da moeda do país\n",
    "* **`name`** - Nome do país\n",
    "* **`local_price`** - Preço do Big Mac na moeda local\n",
    "* **`dollar_ex`** - Taxa de Conversão do dólar americano para a moeda local\n",
    "* **`local_price`** - Preço do Big Mac em dólares americanos\n"
   ]
  },
  {
   "cell_type": "code",
   "execution_count": null,
   "id": "bbeff5c0",
   "metadata": {},
   "outputs": [],
   "source": []
  },
  {
   "cell_type": "markdown",
   "id": "cd678f2a",
   "metadata": {},
   "source": [
    "#### Vamos olhar os tipos dos dados"
   ]
  },
  {
   "cell_type": "code",
   "execution_count": 4,
   "id": "6136183d",
   "metadata": {},
   "outputs": [
    {
     "data": {
      "text/plain": [
       "date              object\n",
       "currency_code     object\n",
       "name              object\n",
       "local_price      float64\n",
       "dollar_ex          int64\n",
       "dollar_price     float64\n",
       "dtype: object"
      ]
     },
     "execution_count": 4,
     "metadata": {},
     "output_type": "execute_result"
    }
   ],
   "source": [
    "df.dtypes"
   ]
  },
  {
   "cell_type": "markdown",
   "id": "0040165c",
   "metadata": {},
   "source": [
    "### Vamos filtrar os dados somente do mês de Julho de 2022"
   ]
  },
  {
   "cell_type": "code",
   "execution_count": 5,
   "id": "d00958c0",
   "metadata": {},
   "outputs": [],
   "source": [
    "df_filtered = df[df['date'] == '2022-07-01']"
   ]
  },
  {
   "cell_type": "code",
   "execution_count": 6,
   "id": "ff931e5a",
   "metadata": {},
   "outputs": [
    {
     "data": {
      "text/html": [
       "<div>\n",
       "<style scoped>\n",
       "    .dataframe tbody tr th:only-of-type {\n",
       "        vertical-align: middle;\n",
       "    }\n",
       "\n",
       "    .dataframe tbody tr th {\n",
       "        vertical-align: top;\n",
       "    }\n",
       "\n",
       "    .dataframe thead th {\n",
       "        text-align: right;\n",
       "    }\n",
       "</style>\n",
       "<table border=\"1\" class=\"dataframe\">\n",
       "  <thead>\n",
       "    <tr style=\"text-align: right;\">\n",
       "      <th></th>\n",
       "      <th>date</th>\n",
       "      <th>currency_code</th>\n",
       "      <th>name</th>\n",
       "      <th>local_price</th>\n",
       "      <th>dollar_ex</th>\n",
       "      <th>dollar_price</th>\n",
       "    </tr>\n",
       "  </thead>\n",
       "  <tbody>\n",
       "    <tr>\n",
       "      <th>1876</th>\n",
       "      <td>2022-07-01</td>\n",
       "      <td>ARS</td>\n",
       "      <td>Argentina</td>\n",
       "      <td>590.00</td>\n",
       "      <td>129</td>\n",
       "      <td>4.57</td>\n",
       "    </tr>\n",
       "    <tr>\n",
       "      <th>1877</th>\n",
       "      <td>2022-07-01</td>\n",
       "      <td>AUD</td>\n",
       "      <td>Australia</td>\n",
       "      <td>6.70</td>\n",
       "      <td>1</td>\n",
       "      <td>6.70</td>\n",
       "    </tr>\n",
       "    <tr>\n",
       "      <th>1878</th>\n",
       "      <td>2022-07-01</td>\n",
       "      <td>EUR</td>\n",
       "      <td>Austria</td>\n",
       "      <td>4.35</td>\n",
       "      <td>1</td>\n",
       "      <td>4.35</td>\n",
       "    </tr>\n",
       "    <tr>\n",
       "      <th>1879</th>\n",
       "      <td>2022-07-01</td>\n",
       "      <td>AZN</td>\n",
       "      <td>Azerbaijan</td>\n",
       "      <td>4.70</td>\n",
       "      <td>1</td>\n",
       "      <td>4.70</td>\n",
       "    </tr>\n",
       "    <tr>\n",
       "      <th>1880</th>\n",
       "      <td>2022-07-01</td>\n",
       "      <td>BHD</td>\n",
       "      <td>Bahrain</td>\n",
       "      <td>1.60</td>\n",
       "      <td>1</td>\n",
       "      <td>1.60</td>\n",
       "    </tr>\n",
       "  </tbody>\n",
       "</table>\n",
       "</div>"
      ],
      "text/plain": [
       "            date currency_code        name  local_price  dollar_ex  \\\n",
       "1876  2022-07-01           ARS   Argentina       590.00        129   \n",
       "1877  2022-07-01           AUD   Australia         6.70          1   \n",
       "1878  2022-07-01           EUR     Austria         4.35          1   \n",
       "1879  2022-07-01           AZN  Azerbaijan         4.70          1   \n",
       "1880  2022-07-01           BHD     Bahrain         1.60          1   \n",
       "\n",
       "      dollar_price  \n",
       "1876          4.57  \n",
       "1877          6.70  \n",
       "1878          4.35  \n",
       "1879          4.70  \n",
       "1880          1.60  "
      ]
     },
     "execution_count": 6,
     "metadata": {},
     "output_type": "execute_result"
    }
   ],
   "source": [
    "df_filtered.head()"
   ]
  },
  {
   "cell_type": "code",
   "execution_count": 7,
   "id": "1535e70f",
   "metadata": {},
   "outputs": [
    {
     "data": {
      "text/plain": [
       "date             70\n",
       "currency_code    70\n",
       "name             70\n",
       "local_price      70\n",
       "dollar_ex        70\n",
       "dollar_price     70\n",
       "dtype: int64"
      ]
     },
     "execution_count": 7,
     "metadata": {},
     "output_type": "execute_result"
    }
   ],
   "source": [
    "df_filtered.count()"
   ]
  },
  {
   "cell_type": "markdown",
   "id": "c81a9438",
   "metadata": {},
   "source": [
    "#### Quantos países únicos nós temos?"
   ]
  },
  {
   "cell_type": "code",
   "execution_count": 8,
   "id": "84fdb8a2",
   "metadata": {},
   "outputs": [
    {
     "data": {
      "text/plain": [
       "name\n",
       "Argentina               1\n",
       "Australia               1\n",
       "Austria                 1\n",
       "Azerbaijan              1\n",
       "Bahrain                 1\n",
       "                       ..\n",
       "United Arab Emirates    1\n",
       "United States           1\n",
       "Uruguay                 1\n",
       "Venezuela               1\n",
       "Vietnam                 1\n",
       "Name: date, Length: 70, dtype: int64"
      ]
     },
     "execution_count": 8,
     "metadata": {},
     "output_type": "execute_result"
    }
   ],
   "source": [
    "df_filtered.groupby('name').count()['date']"
   ]
  },
  {
   "cell_type": "code",
   "execution_count": null,
   "id": "bdf38ee8",
   "metadata": {},
   "outputs": [],
   "source": []
  },
  {
   "cell_type": "markdown",
   "id": "17248e9a",
   "metadata": {},
   "source": [
    "### Temos 1 linha por país! Dessa forma, vamos calcular as medidas de tendência central. Salvaremos também os dados de Julho/2022 pois os reutilizaremos mais para frente."
   ]
  },
  {
   "cell_type": "code",
   "execution_count": 9,
   "id": "618cad5a",
   "metadata": {},
   "outputs": [],
   "source": [
    "df_filtered.to_csv('BigmacPriceJuly2022.csv', index = False)"
   ]
  },
  {
   "cell_type": "code",
   "execution_count": null,
   "id": "e457618c",
   "metadata": {},
   "outputs": [],
   "source": []
  },
  {
   "cell_type": "code",
   "execution_count": null,
   "id": "85bcc349",
   "metadata": {},
   "outputs": [],
   "source": []
  },
  {
   "cell_type": "markdown",
   "id": "4e32c76d",
   "metadata": {},
   "source": [
    "---------"
   ]
  },
  {
   "cell_type": "markdown",
   "id": "50371197",
   "metadata": {},
   "source": [
    "`Moda`"
   ]
  },
  {
   "cell_type": "markdown",
   "id": "6c75da7b",
   "metadata": {},
   "source": [
    "\n",
    "## Já bastante conhecida,  a `Moda` é uma medida estatística de tendência central, que interessa sempre que estivermos em busca dos valores mais comuns de um dado.\n",
    "\n",
    "É o valor dos dados que ocorre com a maior frequência, ou seja, o valor que mais se repete dentro de uma série de observações. \n",
    "\n",
    "![alt text](https://blog.professorferretto.com.br/wp-content/uploads/2017/11/moda.png)"
   ]
  },
  {
   "cell_type": "code",
   "execution_count": null,
   "id": "5266c188",
   "metadata": {},
   "outputs": [],
   "source": []
  },
  {
   "cell_type": "code",
   "execution_count": 10,
   "id": "a0ba5c26",
   "metadata": {},
   "outputs": [],
   "source": [
    "df = pandas.read_csv('BigmacPriceJuly2022.csv')"
   ]
  },
  {
   "cell_type": "code",
   "execution_count": null,
   "id": "b6550634",
   "metadata": {},
   "outputs": [],
   "source": []
  },
  {
   "cell_type": "markdown",
   "id": "c541ef0b",
   "metadata": {},
   "source": [
    "## O pandas tem uma função para a moda, tornando bem simples o seu cálculo!"
   ]
  },
  {
   "cell_type": "markdown",
   "id": "eb891f64",
   "metadata": {},
   "source": [
    "### Vamos calcular a moda do preço do Big Mac em dólares americanos"
   ]
  },
  {
   "cell_type": "code",
   "execution_count": 11,
   "id": "82504e0b",
   "metadata": {},
   "outputs": [
    {
     "data": {
      "text/plain": [
       "0    4.00\n",
       "1    4.58\n",
       "Name: dollar_price, dtype: float64"
      ]
     },
     "execution_count": 11,
     "metadata": {},
     "output_type": "execute_result"
    }
   ],
   "source": [
    "df['dollar_price'].mode()"
   ]
  },
  {
   "cell_type": "markdown",
   "id": "0bc48ad4",
   "metadata": {},
   "source": [
    "Repare que o resultado é uma série do Pandas!"
   ]
  },
  {
   "cell_type": "code",
   "execution_count": null,
   "id": "be2d76dc",
   "metadata": {},
   "outputs": [],
   "source": []
  },
  {
   "cell_type": "markdown",
   "id": "3b679006",
   "metadata": {},
   "source": [
    "### Vamos ver quantas vezes esses valores ocorreram"
   ]
  },
  {
   "cell_type": "code",
   "execution_count": 12,
   "id": "c9e1169a",
   "metadata": {},
   "outputs": [
    {
     "data": {
      "text/plain": [
       "4.58    3\n",
       "4.00    3\n",
       "3.50    2\n",
       "5.67    2\n",
       "3.71    2\n",
       "       ..\n",
       "2.85    1\n",
       "2.30    1\n",
       "1.30    1\n",
       "6.70    1\n",
       "2.95    1\n",
       "Name: dollar_price, Length: 61, dtype: int64"
      ]
     },
     "execution_count": 12,
     "metadata": {},
     "output_type": "execute_result"
    }
   ],
   "source": [
    "df['dollar_price'].value_counts()"
   ]
  },
  {
   "cell_type": "code",
   "execution_count": null,
   "id": "95f615ec",
   "metadata": {},
   "outputs": [],
   "source": []
  },
  {
   "cell_type": "code",
   "execution_count": null,
   "id": "453f65a5",
   "metadata": {},
   "outputs": [],
   "source": []
  },
  {
   "cell_type": "markdown",
   "id": "71a83137",
   "metadata": {},
   "source": [
    "### Podemos ter mais de um valor para a moda!!"
   ]
  },
  {
   "cell_type": "code",
   "execution_count": null,
   "id": "60a1b4e1",
   "metadata": {},
   "outputs": [],
   "source": []
  },
  {
   "cell_type": "code",
   "execution_count": null,
   "id": "016c5964",
   "metadata": {},
   "outputs": [],
   "source": []
  },
  {
   "cell_type": "code",
   "execution_count": null,
   "id": "624beadc",
   "metadata": {},
   "outputs": [],
   "source": []
  },
  {
   "cell_type": "code",
   "execution_count": null,
   "id": "0f98b91b",
   "metadata": {},
   "outputs": [],
   "source": []
  },
  {
   "cell_type": "code",
   "execution_count": null,
   "id": "d7cac5fd",
   "metadata": {},
   "outputs": [],
   "source": []
  },
  {
   "cell_type": "markdown",
   "id": "0d326b17",
   "metadata": {},
   "source": [
    "--- "
   ]
  },
  {
   "cell_type": "markdown",
   "id": "0c68e660",
   "metadata": {},
   "source": [
    "`Média`"
   ]
  },
  {
   "cell_type": "markdown",
   "id": "3b6f03da",
   "metadata": {},
   "source": [
    "## A famosa média!! Ela é bastante relevante por ser muito fácil de ser calculada, além de ser muito popular.\n",
    "\n",
    "![alt text](https://us.123rf.com/450wm/jameschipper/jameschipper1704/jameschipper170400133/76165125-credit-score-gauge.jpg?ver=6)\n",
    "\n",
    "\n",
    "## Calculamos a média simplesmente somando todos os valores e dividindo pelo tamanho da amostra.\n",
    "\n",
    "![alt text](https://cdn.educba.com/academy/wp-content/uploads/2019/03/Average-Formula.jpg)\n",
    "\n",
    "\n",
    "A média é uma importante medida que busca expressar a tendência central dos dados de interesse. "
   ]
  },
  {
   "cell_type": "markdown",
   "id": "d63291b7",
   "metadata": {},
   "source": [
    "### É muito simples calcular a média com pandas"
   ]
  },
  {
   "cell_type": "markdown",
   "id": "a636c48f",
   "metadata": {},
   "source": [
    "#### Vamos calcular a média do preço do Big Mac em dólares americanos"
   ]
  },
  {
   "cell_type": "code",
   "execution_count": 13,
   "id": "024b4f04",
   "metadata": {},
   "outputs": [
    {
     "data": {
      "text/plain": [
       "4.003571428571429"
      ]
     },
     "execution_count": 13,
     "metadata": {},
     "output_type": "execute_result"
    }
   ],
   "source": [
    "df['dollar_price'].mean()"
   ]
  },
  {
   "cell_type": "code",
   "execution_count": null,
   "id": "24410eb9",
   "metadata": {},
   "outputs": [],
   "source": []
  },
  {
   "cell_type": "markdown",
   "id": "684af5fb",
   "metadata": {},
   "source": [
    "Esse é o valor médio do preço do Big Mac no mundo, em dólares!"
   ]
  },
  {
   "cell_type": "code",
   "execution_count": null,
   "id": "383a560a",
   "metadata": {},
   "outputs": [],
   "source": []
  },
  {
   "cell_type": "markdown",
   "id": "cb9efb33",
   "metadata": {},
   "source": [
    "## Apesar de ser muito popular e fácil de ser calculada, precisamos tomar cuidados especiais com a média. Isso porque ela é `facilmente` influenciada por valores extremos na nossa amostra!\n",
    "\n",
    "\n",
    "![alt text](https://images.nagwa.com/figures/explainers/845148137695/2.svg)"
   ]
  },
  {
   "cell_type": "code",
   "execution_count": 14,
   "id": "96fa0a9f",
   "metadata": {},
   "outputs": [],
   "source": [
    "def media(lista):\n",
    "    return sum(lista)/len(lista)"
   ]
  },
  {
   "cell_type": "markdown",
   "id": "fa45933b",
   "metadata": {},
   "source": [
    "### Vamos calcular a média de algumas listas de alturas de pessoas e ver como a média se comporta em cada caso."
   ]
  },
  {
   "cell_type": "markdown",
   "id": "c74e714c",
   "metadata": {},
   "source": [
    "A primeira lista tem alturas bem próximas uma das outras"
   ]
  },
  {
   "cell_type": "code",
   "execution_count": 15,
   "id": "51b03076",
   "metadata": {},
   "outputs": [],
   "source": [
    "lista_alturas_1 = [1.67, 1.72, 1.70, 1.69, 1.74, 1.71]"
   ]
  },
  {
   "cell_type": "code",
   "execution_count": 16,
   "id": "f7299e9f",
   "metadata": {},
   "outputs": [
    {
     "data": {
      "text/plain": [
       "1.705"
      ]
     },
     "execution_count": 16,
     "metadata": {},
     "output_type": "execute_result"
    }
   ],
   "source": [
    "media(lista_alturas_1)"
   ]
  },
  {
   "cell_type": "code",
   "execution_count": null,
   "id": "caa27270",
   "metadata": {},
   "outputs": [],
   "source": []
  },
  {
   "cell_type": "markdown",
   "id": "6e07548f",
   "metadata": {},
   "source": [
    "A segunda lista tem alturas mais espaçadas uma das outras"
   ]
  },
  {
   "cell_type": "code",
   "execution_count": 17,
   "id": "1661eea3",
   "metadata": {},
   "outputs": [],
   "source": [
    "lista_alturas_2 = [1.60, 1.66, 1.72, 1.69, 1.78, 1.77]"
   ]
  },
  {
   "cell_type": "code",
   "execution_count": 18,
   "id": "07ffabbb",
   "metadata": {},
   "outputs": [
    {
     "data": {
      "text/plain": [
       "1.7033333333333331"
      ]
     },
     "execution_count": 18,
     "metadata": {},
     "output_type": "execute_result"
    }
   ],
   "source": [
    "media(lista_alturas_2)"
   ]
  },
  {
   "cell_type": "code",
   "execution_count": null,
   "id": "37e3874f",
   "metadata": {},
   "outputs": [],
   "source": []
  },
  {
   "cell_type": "code",
   "execution_count": null,
   "id": "fdf042ff",
   "metadata": {},
   "outputs": [],
   "source": []
  },
  {
   "cell_type": "markdown",
   "id": "89466db1",
   "metadata": {},
   "source": [
    "A terceira lista tem uma altura bem menor do que as outras"
   ]
  },
  {
   "cell_type": "code",
   "execution_count": 19,
   "id": "80808982",
   "metadata": {},
   "outputs": [],
   "source": [
    "lista_alturas_3 = [1.20, 1.72, 1.70, 1.69, 1.74, 1.71]"
   ]
  },
  {
   "cell_type": "code",
   "execution_count": 20,
   "id": "68132fa5",
   "metadata": {},
   "outputs": [
    {
     "data": {
      "text/plain": [
       "1.626666666666667"
      ]
     },
     "execution_count": 20,
     "metadata": {},
     "output_type": "execute_result"
    }
   ],
   "source": [
    "media(lista_alturas_3)"
   ]
  },
  {
   "cell_type": "code",
   "execution_count": null,
   "id": "d6946c82",
   "metadata": {},
   "outputs": [],
   "source": []
  },
  {
   "cell_type": "markdown",
   "id": "c017ce84",
   "metadata": {},
   "source": [
    "Finalmente, a quarta lista tem uma altura bem maior do que as outras"
   ]
  },
  {
   "cell_type": "code",
   "execution_count": 21,
   "id": "6d4143e9",
   "metadata": {},
   "outputs": [],
   "source": [
    "lista_alturas_4 = [1.67, 1.72, 1.70, 1.69, 1.74, 2.24]"
   ]
  },
  {
   "cell_type": "code",
   "execution_count": 22,
   "id": "3c19e82c",
   "metadata": {},
   "outputs": [
    {
     "data": {
      "text/plain": [
       "1.7933333333333332"
      ]
     },
     "execution_count": 22,
     "metadata": {},
     "output_type": "execute_result"
    }
   ],
   "source": [
    "media(lista_alturas_4)"
   ]
  },
  {
   "cell_type": "code",
   "execution_count": null,
   "id": "49b52bd7",
   "metadata": {},
   "outputs": [],
   "source": []
  },
  {
   "cell_type": "code",
   "execution_count": null,
   "id": "ba4af5c5",
   "metadata": {},
   "outputs": [],
   "source": []
  },
  {
   "cell_type": "markdown",
   "id": "02a646dc",
   "metadata": {},
   "source": [
    "## Viu o que acontece com a média?"
   ]
  },
  {
   "cell_type": "code",
   "execution_count": null,
   "id": "b9cd1e09",
   "metadata": {},
   "outputs": [],
   "source": []
  },
  {
   "cell_type": "code",
   "execution_count": null,
   "id": "dff63c74",
   "metadata": {},
   "outputs": [],
   "source": []
  },
  {
   "cell_type": "code",
   "execution_count": null,
   "id": "6ac9aa74",
   "metadata": {},
   "outputs": [],
   "source": []
  },
  {
   "cell_type": "code",
   "execution_count": null,
   "id": "31902ff2",
   "metadata": {},
   "outputs": [],
   "source": []
  },
  {
   "cell_type": "markdown",
   "id": "6c32ce6e",
   "metadata": {},
   "source": [
    "---"
   ]
  },
  {
   "cell_type": "markdown",
   "id": "2433765e",
   "metadata": {},
   "source": [
    "`Mediana`"
   ]
  },
  {
   "cell_type": "markdown",
   "id": "a86147d3",
   "metadata": {},
   "source": [
    "## A `mediana` é uma medida de tendência central muito interessante. Ela faz uma divisão exatamente no meio dos nossos dados. É o valor do meio do nosso conjunto de dados. \n",
    "\n",
    "\n",
    "![alt text](https://temasdeenfermeria.com.ar/wp-content/uploads/2012/06/mediana.jpg)\n",
    "\n",
    "\n",
    "### Para que a mediana seja calculada, primeiramente precisamos ordenar os dados para que então seja identificado o valor do meio. Por isso, a mediana é relativamente custosa de ser calculada, principalmente em cenários de big data.\n",
    "<br>\n",
    "\n",
    "![alt text](https://educa.ibge.gov.br/images/vamoscontar/recursos/mediana/mediana_animacao4.gif)"
   ]
  },
  {
   "cell_type": "markdown",
   "id": "5140caf0",
   "metadata": {},
   "source": [
    "### É bem fácil calcular a mediana com pandas"
   ]
  },
  {
   "cell_type": "code",
   "execution_count": 23,
   "id": "79d20ea8",
   "metadata": {},
   "outputs": [
    {
     "data": {
      "text/plain": [
       "3.9050000000000002"
      ]
     },
     "execution_count": 23,
     "metadata": {},
     "output_type": "execute_result"
    }
   ],
   "source": [
    "df['dollar_price'].median()"
   ]
  },
  {
   "cell_type": "markdown",
   "id": "f059462e",
   "metadata": {},
   "source": [
    "Essa é a mediana do preço do Big Mac no mundo, em dólares!"
   ]
  },
  {
   "cell_type": "code",
   "execution_count": null,
   "id": "0b9bc0ab",
   "metadata": {},
   "outputs": [],
   "source": []
  },
  {
   "cell_type": "code",
   "execution_count": null,
   "id": "4cedfdfd",
   "metadata": {},
   "outputs": [],
   "source": []
  },
  {
   "cell_type": "markdown",
   "id": "fe356798",
   "metadata": {},
   "source": [
    "### Ao contrário da média, a mediana não é facilmente influenciada por valores extremos!"
   ]
  },
  {
   "cell_type": "code",
   "execution_count": 24,
   "id": "1b8a1be2",
   "metadata": {},
   "outputs": [],
   "source": [
    "import numpy as np"
   ]
  },
  {
   "cell_type": "markdown",
   "id": "6130750d",
   "metadata": {},
   "source": [
    "Lista equilibrada"
   ]
  },
  {
   "cell_type": "code",
   "execution_count": 25,
   "id": "a38ea229",
   "metadata": {},
   "outputs": [],
   "source": [
    "lista_alturas_1 = [1.67, 1.72, 1.70, 1.69, 1.74, 1.71]"
   ]
  },
  {
   "cell_type": "code",
   "execution_count": 26,
   "id": "62f95ea1",
   "metadata": {},
   "outputs": [
    {
     "data": {
      "text/plain": [
       "1.705"
      ]
     },
     "execution_count": 26,
     "metadata": {},
     "output_type": "execute_result"
    }
   ],
   "source": [
    "media(lista_alturas_1)"
   ]
  },
  {
   "cell_type": "code",
   "execution_count": 27,
   "id": "6b8bfd5d",
   "metadata": {},
   "outputs": [
    {
     "data": {
      "text/plain": [
       "1.705"
      ]
     },
     "execution_count": 27,
     "metadata": {},
     "output_type": "execute_result"
    }
   ],
   "source": [
    "np.median(lista_alturas_1)"
   ]
  },
  {
   "cell_type": "code",
   "execution_count": null,
   "id": "289b4dd4",
   "metadata": {},
   "outputs": [],
   "source": []
  },
  {
   "cell_type": "code",
   "execution_count": null,
   "id": "e30588bd",
   "metadata": {},
   "outputs": [],
   "source": []
  },
  {
   "cell_type": "markdown",
   "id": "2245f6a0",
   "metadata": {},
   "source": [
    "Lista mais espaçada"
   ]
  },
  {
   "cell_type": "code",
   "execution_count": 28,
   "id": "7e2b564c",
   "metadata": {},
   "outputs": [],
   "source": [
    "lista_alturas_2 = [1.60, 1.66, 1.72, 1.69, 1.78, 1.77]"
   ]
  },
  {
   "cell_type": "code",
   "execution_count": 29,
   "id": "518b3d88",
   "metadata": {},
   "outputs": [
    {
     "data": {
      "text/plain": [
       "1.7033333333333331"
      ]
     },
     "execution_count": 29,
     "metadata": {},
     "output_type": "execute_result"
    }
   ],
   "source": [
    "media(lista_alturas_2)"
   ]
  },
  {
   "cell_type": "code",
   "execution_count": 30,
   "id": "118a9a99",
   "metadata": {},
   "outputs": [
    {
     "data": {
      "text/plain": [
       "1.705"
      ]
     },
     "execution_count": 30,
     "metadata": {},
     "output_type": "execute_result"
    }
   ],
   "source": [
    "np.median(lista_alturas_2)"
   ]
  },
  {
   "cell_type": "code",
   "execution_count": null,
   "id": "e3ba755f",
   "metadata": {},
   "outputs": [],
   "source": []
  },
  {
   "cell_type": "code",
   "execution_count": null,
   "id": "599ca1ec",
   "metadata": {},
   "outputs": [],
   "source": []
  },
  {
   "cell_type": "markdown",
   "id": "c678bd3d",
   "metadata": {},
   "source": [
    "Lista com uma altura bem menor do que as outras"
   ]
  },
  {
   "cell_type": "code",
   "execution_count": 31,
   "id": "b1964473",
   "metadata": {},
   "outputs": [],
   "source": [
    "lista_alturas_3 = [1.20, 1.72, 1.70, 1.69, 1.74, 1.71]"
   ]
  },
  {
   "cell_type": "code",
   "execution_count": 32,
   "id": "dc5f58ce",
   "metadata": {},
   "outputs": [
    {
     "data": {
      "text/plain": [
       "1.626666666666667"
      ]
     },
     "execution_count": 32,
     "metadata": {},
     "output_type": "execute_result"
    }
   ],
   "source": [
    "media(lista_alturas_3)"
   ]
  },
  {
   "cell_type": "code",
   "execution_count": 33,
   "id": "a27df608",
   "metadata": {},
   "outputs": [
    {
     "data": {
      "text/plain": [
       "1.705"
      ]
     },
     "execution_count": 33,
     "metadata": {},
     "output_type": "execute_result"
    }
   ],
   "source": [
    "np.median(lista_alturas_3)"
   ]
  },
  {
   "cell_type": "code",
   "execution_count": null,
   "id": "d0a5d42c",
   "metadata": {},
   "outputs": [],
   "source": []
  },
  {
   "cell_type": "code",
   "execution_count": null,
   "id": "fd618edc",
   "metadata": {},
   "outputs": [],
   "source": []
  },
  {
   "cell_type": "markdown",
   "id": "ea38d2b2",
   "metadata": {},
   "source": [
    "Lista com uma altura bem maior do que as outras"
   ]
  },
  {
   "cell_type": "code",
   "execution_count": 34,
   "id": "8dccbca1",
   "metadata": {},
   "outputs": [],
   "source": [
    "lista_alturas_4 = [1.67, 1.72, 1.70, 1.69, 1.74, 2.24]"
   ]
  },
  {
   "cell_type": "code",
   "execution_count": 35,
   "id": "cf29ca4f",
   "metadata": {},
   "outputs": [
    {
     "data": {
      "text/plain": [
       "1.7933333333333332"
      ]
     },
     "execution_count": 35,
     "metadata": {},
     "output_type": "execute_result"
    }
   ],
   "source": [
    "media(lista_alturas_4)"
   ]
  },
  {
   "cell_type": "code",
   "execution_count": 36,
   "id": "9a7af12c",
   "metadata": {},
   "outputs": [
    {
     "data": {
      "text/plain": [
       "1.71"
      ]
     },
     "execution_count": 36,
     "metadata": {},
     "output_type": "execute_result"
    }
   ],
   "source": [
    "np.median(lista_alturas_4)"
   ]
  },
  {
   "cell_type": "code",
   "execution_count": null,
   "id": "515ebe09",
   "metadata": {},
   "outputs": [],
   "source": []
  },
  {
   "cell_type": "code",
   "execution_count": null,
   "id": "9645025d",
   "metadata": {},
   "outputs": [],
   "source": []
  },
  {
   "cell_type": "markdown",
   "id": "0af1097c",
   "metadata": {},
   "source": [
    "## A mediana quase não se altera!"
   ]
  }
 ],
 "metadata": {
  "kernelspec": {
   "display_name": "Python 3 (ipykernel)",
   "language": "python",
   "name": "python3"
  },
  "language_info": {
   "codemirror_mode": {
    "name": "ipython",
    "version": 3
   },
   "file_extension": ".py",
   "mimetype": "text/x-python",
   "name": "python",
   "nbconvert_exporter": "python",
   "pygments_lexer": "ipython3",
   "version": "3.11.4"
  }
 },
 "nbformat": 4,
 "nbformat_minor": 5
}
