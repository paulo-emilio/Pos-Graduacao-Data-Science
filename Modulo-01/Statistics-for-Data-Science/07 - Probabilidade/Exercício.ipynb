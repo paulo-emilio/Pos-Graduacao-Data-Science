{
 "cells": [
  {
   "cell_type": "markdown",
   "id": "33398e20",
   "metadata": {},
   "source": [
    "Considere que a probabilidade de uma pessoa viajar é de 10%, a probabilidade dela estar de férias é de 20% e a probabilidade dela viajar durante as férias é de 5%. Sabendo que essa pessoa está de férias, qual a probabilidade dela viajar?"
   ]
  },
  {
   "cell_type": "code",
   "execution_count": 1,
   "id": "c182a636",
   "metadata": {},
   "outputs": [],
   "source": [
    "v = 0.1\n",
    "f = 0.2\n",
    "vf = 0.05"
   ]
  },
  {
   "cell_type": "code",
   "execution_count": 2,
   "id": "ba6806cd",
   "metadata": {},
   "outputs": [
    {
     "data": {
      "text/plain": [
       "0.25"
      ]
     },
     "execution_count": 2,
     "metadata": {},
     "output_type": "execute_result"
    }
   ],
   "source": [
    "pv_f = vf / f\n",
    "pv_f"
   ]
  },
  {
   "cell_type": "code",
   "execution_count": null,
   "id": "22250eb8",
   "metadata": {},
   "outputs": [],
   "source": []
  }
 ],
 "metadata": {
  "kernelspec": {
   "display_name": "Python 3 (ipykernel)",
   "language": "python",
   "name": "python3"
  },
  "language_info": {
   "codemirror_mode": {
    "name": "ipython",
    "version": 3
   },
   "file_extension": ".py",
   "mimetype": "text/x-python",
   "name": "python",
   "nbconvert_exporter": "python",
   "pygments_lexer": "ipython3",
   "version": "3.11.4"
  }
 },
 "nbformat": 4,
 "nbformat_minor": 5
}
