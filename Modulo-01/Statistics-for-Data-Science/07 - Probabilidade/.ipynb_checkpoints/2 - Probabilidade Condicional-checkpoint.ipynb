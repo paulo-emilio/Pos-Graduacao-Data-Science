{
 "cells": [
  {
   "cell_type": "markdown",
   "id": "2bcab44f",
   "metadata": {},
   "source": [
    "# `Probabilidade Condicional`"
   ]
  },
  {
   "cell_type": "markdown",
   "id": "93077217",
   "metadata": {},
   "source": [
    "#### Imagine que já observamos um evento acontecer e queremos usar essa informação para atualizar a probabilidade de um próximo evento ocorrer. A probabilidade condicional vem para nos ajudar a calcular essa nova probabilidade.\n",
    "\n",
    "#### Por exemplo, digamos que trabalhemos num banco e queremos calcular a probabilidade de uma pessoa pagar seu cartão de crédito em dia. Se já temos a informação de que essa pessoa pagou todas suas contas dos últimos 2 anos em dia, poderíamos usar essa informação para atualizar a probabilidade de que ela pague seu cartão de crédito em dia também, o que vai influenciar no seu limite de crédito.\n",
    "\n",
    "\n",
    "![alt_text](https://www.investopedia.com/thmb/7bQ9znS4u3ojMlaHRpuXrpmQBsg=/1500x0/filters:no_upscale():max_bytes(150000):strip_icc()/Investopedia-terms-conditional-probability-V2-07203898f1ff4ff490fe41fea5a4af76.png)\n",
    "\n",
    "\n",
    "#### Portanto, na probabilidade condicional, atualizamos nossa probabilidade utilizando uma evidência já observada."
   ]
  },
  {
   "cell_type": "markdown",
   "id": "e3148868",
   "metadata": {},
   "source": [
    "### Existe uma fórmula para a probabilidade condicional!\n",
    "\n",
    "\n",
    "![alt_text](https://blogdoenem.com.br/apostilas/MDIII_Matematica_jorge-web-resources/image/7708.png)\n",
    "\n",
    "<br>\n",
    "<br>\n",
    "<br>\n",
    "\n",
    "* $P(A|B)$ = probabilidade de A dado B (aqui, B já aconteceu e queremos saber a probabilidade de A ocorrer)\n",
    "\n",
    "\n",
    "* $P(A \\cap B)$ = probabilidade de A e B ocorrerem, ou seja, a interseção dos eventos\n",
    "\n",
    "\n",
    "* $P(B)$ = probabilidade de B ocorrer\n",
    "\n",
    "\n",
    "<br>\n",
    "<br>\n",
    "<br>"
   ]
  },
  {
   "cell_type": "markdown",
   "id": "3f401949",
   "metadata": {},
   "source": [
    "#### Exemplo\n",
    "\n",
    "Digamos que de todas as pessoas clientes de um banco, 15% delas pagou todas as contas em dia no último ano, 27% delas possuem cartão de crédito e 9% das pessoas possuem cartão de crédito e pagaram suas contas em dia no último ano. Dado que uma pessoa paga suas contas em dia, qual a probabilidade dela possuir um cartão de crédito?"
   ]
  },
  {
   "cell_type": "code",
   "execution_count": 3,
   "id": "def30bc3",
   "metadata": {},
   "outputs": [
    {
     "data": {
      "text/plain": [
       "0.6"
      ]
     },
     "execution_count": 3,
     "metadata": {},
     "output_type": "execute_result"
    }
   ],
   "source": [
    "# A = pagar as contas em dia no último ano\n",
    "# B = possuir cartão de crédito\n",
    "\n",
    "\n",
    "\n",
    "p_A = 0.15\n",
    "p_B = 0.27\n",
    "p_A_e_B = 0.09\n",
    "\n",
    "\n",
    "p_B_dado_A = p_A_e_B / p_A\n",
    "p_B_dado_A"
   ]
  },
  {
   "cell_type": "code",
   "execution_count": null,
   "id": "0146c89c",
   "metadata": {},
   "outputs": [],
   "source": []
  },
  {
   "cell_type": "code",
   "execution_count": null,
   "id": "eb6d178e",
   "metadata": {},
   "outputs": [],
   "source": []
  },
  {
   "cell_type": "code",
   "execution_count": null,
   "id": "fe65f846",
   "metadata": {},
   "outputs": [],
   "source": []
  },
  {
   "cell_type": "code",
   "execution_count": null,
   "id": "64a6df97",
   "metadata": {},
   "outputs": [],
   "source": []
  },
  {
   "cell_type": "code",
   "execution_count": null,
   "id": "9ea413ac",
   "metadata": {},
   "outputs": [],
   "source": []
  },
  {
   "cell_type": "code",
   "execution_count": null,
   "id": "58cad1b2",
   "metadata": {},
   "outputs": [],
   "source": []
  },
  {
   "cell_type": "markdown",
   "id": "7e5d8830",
   "metadata": {},
   "source": [
    "## Teorema do Produto\n",
    "\n",
    "#### Como consequência da definição da probabilidade condicional, temos o teorema do produto:\n",
    "\n",
    "<br>\n",
    "\n",
    "$P(A \\cap B) = P(A)P(B|A)$, onde $P(A) > 0$\n",
    "\n",
    "ou\n",
    "\n",
    "$P(A \\cap B) = P(B)P(A|B)$, onde $P(B) > 0$\n",
    "\n",
    "\n",
    "\n",
    "<br>\n",
    "<br>\n",
    "<br>\n",
    "\n",
    "Além disso, se A e B são independentes, então\n",
    "\n",
    "$P(A \\cap B) = P(A)P(B)$ \n",
    "\n",
    "e\n",
    "\n",
    "$P(A|B) = P(A)$ ; $P(B|A) = P(B)$"
   ]
  },
  {
   "cell_type": "markdown",
   "id": "e2f23626",
   "metadata": {},
   "source": [
    "#### Exemplo\n",
    "\n",
    "Digamos que um supermercado sabe que a chance de uma crianca comprar um sorvete da marca X é de 20%. Qual a chance de duas crianças que não se conhecem comprarem esse sorvete?"
   ]
  },
  {
   "cell_type": "code",
   "execution_count": 4,
   "id": "d6281799",
   "metadata": {},
   "outputs": [
    {
     "data": {
      "text/plain": [
       "0.04000000000000001"
      ]
     },
     "execution_count": 4,
     "metadata": {},
     "output_type": "execute_result"
    }
   ],
   "source": [
    "# A = primeira criança comprar o sorvete\n",
    "# B = segunda criança comprar o sorvete\n",
    "\n",
    "p_A = 0.2\n",
    "p_B = 0.2\n",
    "\n",
    "p_A_intersecao_B = p_A * p_B\n",
    "\n",
    "p_A_intersecao_B"
   ]
  },
  {
   "cell_type": "code",
   "execution_count": null,
   "id": "16318198",
   "metadata": {},
   "outputs": [],
   "source": []
  },
  {
   "cell_type": "code",
   "execution_count": null,
   "id": "954c2195",
   "metadata": {},
   "outputs": [],
   "source": []
  },
  {
   "cell_type": "code",
   "execution_count": null,
   "id": "514e916d",
   "metadata": {},
   "outputs": [],
   "source": []
  },
  {
   "cell_type": "code",
   "execution_count": null,
   "id": "504d2acb",
   "metadata": {},
   "outputs": [],
   "source": []
  },
  {
   "cell_type": "code",
   "execution_count": null,
   "id": "777dad8f",
   "metadata": {},
   "outputs": [],
   "source": []
  },
  {
   "cell_type": "code",
   "execution_count": null,
   "id": "50ae4b5e",
   "metadata": {},
   "outputs": [],
   "source": []
  }
 ],
 "metadata": {
  "kernelspec": {
   "display_name": "Python 3 (ipykernel)",
   "language": "python",
   "name": "python3"
  },
  "language_info": {
   "codemirror_mode": {
    "name": "ipython",
    "version": 3
   },
   "file_extension": ".py",
   "mimetype": "text/x-python",
   "name": "python",
   "nbconvert_exporter": "python",
   "pygments_lexer": "ipython3",
   "version": "3.11.4"
  }
 },
 "nbformat": 4,
 "nbformat_minor": 5
}
