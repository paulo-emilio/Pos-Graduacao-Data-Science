{
 "cells": [
  {
   "cell_type": "markdown",
   "id": "2bcab44f",
   "metadata": {},
   "source": [
    "# `Teorema de Bayes`"
   ]
  },
  {
   "cell_type": "markdown",
   "id": "93077217",
   "metadata": {},
   "source": [
    "#### A grande aplicação da probabilidade condicional é o Teorema de Bayes. Com ele, conseguimos atualizar uma probabilidade a priori utilizando informações que já ocorreram, chegando numa probabilidade a posteriori.\n",
    "\n",
    "#### O Teorema de Bayes tem muitas aplicações, em campos desde a medicina até a física, passando por computação e engenharia e muito mais. É um divisor de águas na Estatística, que passa a se dividir entre Estatística Frequentista e Estatística Bayesiana.\n",
    "\n",
    "\n",
    "![alt_text](https://estatsite.com.br/wp-content/uploads/2016/09/1.jpg)\n",
    "\n",
    "\n",
    "\n",
    "* Estatística Frequentista: probabilidade é calculada por uma frequência relativa a partir de muitas repetições de um mesmo experimento\n",
    "\n",
    "* Estatística Bayesiana: probabilidade é o quanto acreditamos que um evento possa ocorrer"
   ]
  },
  {
   "cell_type": "markdown",
   "id": "e3148868",
   "metadata": {},
   "source": [
    "### E qual a fórmula?\n",
    "\n",
    "\n",
    "![alt_text](https://imaginariopuro.files.wordpress.com/2016/11/equation-13.jpg?w=730&h=191)\n",
    "\n",
    "<br>\n",
    "<br>\n",
    "O denominador é representado pelo teorema da probabilidade total\n",
    "\n",
    "\n",
    "<br>\n",
    "<br>\n",
    "<br>\n",
    "\n",
    "\n",
    "Vamos chamar de probabilidade a priori a probabilidade que não possui nenhuma informação anterior.\n",
    "\n",
    "Vamos chamar de probabilidade a posteriori a probabilidade final calculada utilizando informação anterior já obtida."
   ]
  },
  {
   "cell_type": "code",
   "execution_count": null,
   "id": "9c08a8dd",
   "metadata": {},
   "outputs": [],
   "source": []
  },
  {
   "cell_type": "code",
   "execution_count": null,
   "id": "3aba7610",
   "metadata": {},
   "outputs": [],
   "source": []
  },
  {
   "cell_type": "markdown",
   "id": "787fed88",
   "metadata": {},
   "source": [
    "#### Exemplo\n",
    "\n",
    "\n",
    "Vamos estimar a eficácia de um exame de câncer.\n",
    "\n",
    "\n",
    "**Se o resultado positivo do exame for positivo, qual a probabilidade de que a pessoa tenha câncer?**\n",
    "\n",
    "Vamos calcular utilizando o Teorema de Bayes!"
   ]
  },
  {
   "cell_type": "markdown",
   "id": "c64515eb",
   "metadata": {},
   "source": [
    "<br>\n",
    "<br>\n",
    "<br>\n",
    "\n",
    "A = exame dar positivo\n",
    "\n",
    "B = pessoa ter câncer\n",
    "<br>\n",
    "<br>\n",
    "\n",
    "\n",
    "$$P(\\text{pessoa ter câncer} \\mid \\text{exame foi positivo}) = \\frac{P(\\text{exame foi positivo} \\mid \\text{pessoa ter câncer}) \\cdot P(\\text{pessoa ter câncer})}{P(\\text{exame foi positivo})}$$\n",
    "\n",
    "onde \n",
    "\n",
    "\n",
    "$$P(\\text{exame dar positivo}) =$$\n",
    "$$P(\\text{pessoa ter câncer}) \\cdot P(\\text{exame foi positivo} \\mid \\text{pessoa ter câncer})$$  $$+$$ $$P(\\text{pessoa não ter câncer}) \\cdot P(\\text{exame dar positivo} \\mid \\text{pessoa não ter câncer})$$"
   ]
  },
  {
   "cell_type": "code",
   "execution_count": null,
   "id": "52da0fb3",
   "metadata": {},
   "outputs": [],
   "source": []
  },
  {
   "cell_type": "code",
   "execution_count": null,
   "id": "98c12ab8",
   "metadata": {},
   "outputs": [],
   "source": []
  },
  {
   "cell_type": "markdown",
   "id": "b0b273b3",
   "metadata": {},
   "source": [
    "#### Vamos às informações já conhecidas\n",
    "\n",
    "\n",
    "- Probabilidade de ter a câncer = 1%\n",
    "\n",
    "\n",
    "- Probabilidade de uma pessoa com câncer ter o exame positivo = 99%\n",
    "\n",
    "\n",
    "- Probabilidade de uma pessoa que não tem câncer ter o exame negativo = 99.5%"
   ]
  },
  {
   "cell_type": "code",
   "execution_count": null,
   "id": "e2f3c39d",
   "metadata": {},
   "outputs": [],
   "source": []
  },
  {
   "cell_type": "markdown",
   "id": "07d195c4",
   "metadata": {},
   "source": [
    "Vamos identificar essas probabilidades!"
   ]
  },
  {
   "cell_type": "markdown",
   "id": "849f1abf",
   "metadata": {},
   "source": [
    "- Probabilidade de ter a câncer = P(B)\n",
    "\n",
    "\n",
    "- Probabilidade de uma pessoa com câncer ter o exame positivo = P(A|B)\n",
    "\n",
    "\n",
    "- Probabilidade de uma pessoa que não tem câncer ter o exame negativo = P(A_c | B_c)\n",
    "\n",
    "onde A_c = exame dar negativo e B_c = pessoa não ter câncer"
   ]
  },
  {
   "cell_type": "code",
   "execution_count": null,
   "id": "158086fe",
   "metadata": {},
   "outputs": [],
   "source": []
  },
  {
   "cell_type": "code",
   "execution_count": 6,
   "id": "a898afa1",
   "metadata": {},
   "outputs": [],
   "source": [
    "p_B = 0.01\n",
    "p_Bc = 1 - p_B\n",
    "\n",
    "p_A_dado_B = 0.99\n",
    "p_Ac_dado_B = 1 - p_A_dado_B\n",
    "\n",
    "p_Ac_dado_Bc = 0.995\n",
    "p_A_dado_Bc = 1 - p_Ac_dado_Bc"
   ]
  },
  {
   "cell_type": "code",
   "execution_count": null,
   "id": "b0929692",
   "metadata": {},
   "outputs": [],
   "source": []
  },
  {
   "cell_type": "code",
   "execution_count": null,
   "id": "0693abfd",
   "metadata": {},
   "outputs": [],
   "source": []
  },
  {
   "cell_type": "markdown",
   "id": "b44c79b8",
   "metadata": {},
   "source": [
    "Primeiro, vamos calcular a probabildiade de o exame dar positivo usando o teorema da probabilidade total"
   ]
  },
  {
   "cell_type": "markdown",
   "id": "b1ec6200",
   "metadata": {},
   "source": [
    "$$P(\\text{exame dar positivo}) =$$\n",
    "$$P(\\text{pessoa ter câncer}) \\cdot P(\\text{exame foi positivo} \\mid \\text{pessoa ter câncer})$$  $$+$$ $$P(\\text{pessoa não ter câncer}) \\cdot P(\\text{exame dar positivo} \\mid \\text{pessoa não ter câncer})$$\n",
    "\n",
    "\n",
    "então\n",
    "\n",
    "\n",
    "$$P(A) = P(B) \\cdot P(A|B) + P(B_c) \\cdot P(A|B_c)$$"
   ]
  },
  {
   "cell_type": "code",
   "execution_count": 7,
   "id": "1dad0416",
   "metadata": {},
   "outputs": [
    {
     "data": {
      "text/plain": [
       "0.014850000000000006"
      ]
     },
     "execution_count": 7,
     "metadata": {},
     "output_type": "execute_result"
    }
   ],
   "source": [
    "p_A = p_B*p_A_dado_B + p_Bc*p_A_dado_Bc\n",
    "p_A"
   ]
  },
  {
   "cell_type": "code",
   "execution_count": null,
   "id": "8847a6b3",
   "metadata": {},
   "outputs": [],
   "source": []
  },
  {
   "cell_type": "markdown",
   "id": "4fd4ff72",
   "metadata": {},
   "source": [
    "Essa é a probabilidade do exame dar positivo. Agora vamos ao que queríamos, **se o resultado positivo do exame for positivo, qual a probabilidade de que a pessoa tenha câncer?**"
   ]
  },
  {
   "cell_type": "code",
   "execution_count": null,
   "id": "2daa0aeb",
   "metadata": {},
   "outputs": [],
   "source": []
  },
  {
   "cell_type": "markdown",
   "id": "3beeacf8",
   "metadata": {},
   "source": [
    "$$P(\\text{pessoa ter câncer} \\mid \\text{exame foi positivo}) = \\frac{P(\\text{exame foi positivo} \\mid \\text{pessoa ter câncer}) \\cdot P(\\text{pessoa ter câncer})}{P(\\text{exame foi positivo})}$$\n",
    "\n",
    "então\n",
    "\n",
    "$$P(B \\mid A) = \\frac{P(A \\mid B) \\cdot P(B)}{P(A)}$$"
   ]
  },
  {
   "cell_type": "code",
   "execution_count": 8,
   "id": "c2f7318d",
   "metadata": {},
   "outputs": [
    {
     "data": {
      "text/plain": [
       "0.6666666666666665"
      ]
     },
     "execution_count": 8,
     "metadata": {},
     "output_type": "execute_result"
    }
   ],
   "source": [
    "p_B_dado_A = p_A_dado_B*p_B / p_A\n",
    "\n",
    "p_B_dado_A"
   ]
  },
  {
   "cell_type": "code",
   "execution_count": null,
   "id": "0b4b3b44",
   "metadata": {},
   "outputs": [],
   "source": []
  },
  {
   "cell_type": "code",
   "execution_count": null,
   "id": "bfc5bb1f",
   "metadata": {},
   "outputs": [],
   "source": []
  },
  {
   "cell_type": "code",
   "execution_count": null,
   "id": "7d1b343b",
   "metadata": {},
   "outputs": [],
   "source": []
  },
  {
   "cell_type": "code",
   "execution_count": null,
   "id": "8e7a11c3",
   "metadata": {},
   "outputs": [],
   "source": []
  }
 ],
 "metadata": {
  "kernelspec": {
   "display_name": "Python 3 (ipykernel)",
   "language": "python",
   "name": "python3"
  },
  "language_info": {
   "codemirror_mode": {
    "name": "ipython",
    "version": 3
   },
   "file_extension": ".py",
   "mimetype": "text/x-python",
   "name": "python",
   "nbconvert_exporter": "python",
   "pygments_lexer": "ipython3",
   "version": "3.11.4"
  }
 },
 "nbformat": 4,
 "nbformat_minor": 5
}
