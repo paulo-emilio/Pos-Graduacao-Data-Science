{
 "cells": [
  {
   "cell_type": "markdown",
   "id": "ee71d7df",
   "metadata": {},
   "source": [
    "### Dizemos que uma métrica é uma proporção quando ela representa uma razão entre uma parte e o todo. Por exemplo, quando dizemos que 58% dos carros vendidos no Brasil são automáticos, estamos falando de uma proporção.\n",
    "\n",
    "<br>\n",
    "\n",
    "### O intervalo de confiaça para proporção funciona na mesma lógica do intervalo de confiança para média. Na prática, o que estamos calculando é um intervalo de x% de confiança onde esperamos que a proporção da população esteja, com x% de probabilidade.\n",
    "\n",
    "<br>\n",
    "\n",
    "### Por exemplo, para um intervalo de 95% de confiança, a gente espera que a proporção da população esteja dentro desse intervalo, com 95% de probabilidade. Quanto mais o nível de confiança, maior será o intervalo.\n",
    "\n",
    "![alt_text](https://faculty.elgin.edu/dkernler/statistics/ch09/images/sample-proportions.jpg)\n",
    "\n",
    "<br>\n",
    "<br>\n",
    "<br>\n",
    "\n",
    "### Para calcularmos um intervalo de 99% de confiança, por exemplo, utilizamos o quantil 0.99 da Normal Padrão. A grande diferença do intervalo de confiança de média para o de proporção está na variância.\n",
    "\n",
    "\n",
    "#### Quando pensamos numa variável de proporção, para cada observação temos a possibilidade de sucesso ou fracasso, com uma probabilidade p. Isso nos lembra uma distribuição específica, a de Bernoulli! No fim do dia, a proporção de sucessos é uma estimativa para a probabilidade de sucesso. \n",
    "\n",
    "#### Para uma variável Bernoulli com probabilidade de sucesso p, a variância é igual a p*(1-p).\n",
    "\n",
    "![alt text](https://images.slideplayer.com/31/9598749/slides/slide_26.jpg)\n",
    "\n",
    "\n"
   ]
  },
  {
   "cell_type": "markdown",
   "id": "7fbb5268",
   "metadata": {},
   "source": [
    "---\n",
    "<br>\n",
    "<br>\n",
    "\n",
    "#### Quanto a margem de erro, a lógica permanece a mesma, e quanto maior a amostra, menor é a margem de erro.\n"
   ]
  },
  {
   "cell_type": "code",
   "execution_count": null,
   "id": "ae0d4af6",
   "metadata": {},
   "outputs": [],
   "source": []
  },
  {
   "cell_type": "code",
   "execution_count": null,
   "id": "fe18873d",
   "metadata": {},
   "outputs": [],
   "source": []
  },
  {
   "cell_type": "markdown",
   "id": "94ed6e19",
   "metadata": {},
   "source": [
    "### Na grande maioria das vezes, não sabemos o valor da variância da população e acabamos por utilizar a variância da amostra em vez disso. O problema é que, muito provavelmente, a variância amostral vai ser menor do que a variância populacional.\n",
    "\n",
    "### Por isso, ao invés de utilizarmos os quantis da distribuição Normal para construir o intervalo de confiança, utilizamos os quantis da distribuição T de Student."
   ]
  },
  {
   "cell_type": "markdown",
   "id": "2510bb74",
   "metadata": {},
   "source": [
    "<br>"
   ]
  },
  {
   "cell_type": "code",
   "execution_count": null,
   "id": "36e84db1",
   "metadata": {},
   "outputs": [],
   "source": []
  },
  {
   "cell_type": "code",
   "execution_count": null,
   "id": "6472f02a",
   "metadata": {},
   "outputs": [],
   "source": []
  },
  {
   "cell_type": "markdown",
   "id": "21715a4b",
   "metadata": {},
   "source": [
    "### Vamos usar os dados do preço do Big Mac de Julho de 2022.\n",
    "\n",
    "<br>\n",
    "\n",
    "https://www.kaggle.com/datasets/vittoriogiatti/bigmacprice"
   ]
  },
  {
   "cell_type": "markdown",
   "id": "96e4b6f1",
   "metadata": {},
   "source": [
    "#### Importando a biblioteca pandas (https://pandas.pydata.org)"
   ]
  },
  {
   "cell_type": "code",
   "execution_count": 3,
   "id": "fd3c4c2f",
   "metadata": {},
   "outputs": [],
   "source": [
    "import pandas"
   ]
  },
  {
   "cell_type": "markdown",
   "id": "ebced3a0",
   "metadata": {},
   "source": [
    "#### Lendo os dados, que estão em csv"
   ]
  },
  {
   "cell_type": "code",
   "execution_count": 4,
   "id": "afe20312",
   "metadata": {},
   "outputs": [],
   "source": [
    "df = pandas.read_csv('BigmacPriceJuly2022.csv')"
   ]
  },
  {
   "cell_type": "code",
   "execution_count": 5,
   "id": "069f4ca0",
   "metadata": {},
   "outputs": [
    {
     "data": {
      "text/html": [
       "<div>\n",
       "<style scoped>\n",
       "    .dataframe tbody tr th:only-of-type {\n",
       "        vertical-align: middle;\n",
       "    }\n",
       "\n",
       "    .dataframe tbody tr th {\n",
       "        vertical-align: top;\n",
       "    }\n",
       "\n",
       "    .dataframe thead th {\n",
       "        text-align: right;\n",
       "    }\n",
       "</style>\n",
       "<table border=\"1\" class=\"dataframe\">\n",
       "  <thead>\n",
       "    <tr style=\"text-align: right;\">\n",
       "      <th></th>\n",
       "      <th>date</th>\n",
       "      <th>currency_code</th>\n",
       "      <th>name</th>\n",
       "      <th>local_price</th>\n",
       "      <th>dollar_ex</th>\n",
       "      <th>dollar_price</th>\n",
       "    </tr>\n",
       "  </thead>\n",
       "  <tbody>\n",
       "    <tr>\n",
       "      <th>0</th>\n",
       "      <td>2022-07-01</td>\n",
       "      <td>ARS</td>\n",
       "      <td>Argentina</td>\n",
       "      <td>590.00</td>\n",
       "      <td>129</td>\n",
       "      <td>4.57</td>\n",
       "    </tr>\n",
       "    <tr>\n",
       "      <th>1</th>\n",
       "      <td>2022-07-01</td>\n",
       "      <td>AUD</td>\n",
       "      <td>Australia</td>\n",
       "      <td>6.70</td>\n",
       "      <td>1</td>\n",
       "      <td>6.70</td>\n",
       "    </tr>\n",
       "    <tr>\n",
       "      <th>2</th>\n",
       "      <td>2022-07-01</td>\n",
       "      <td>EUR</td>\n",
       "      <td>Austria</td>\n",
       "      <td>4.35</td>\n",
       "      <td>1</td>\n",
       "      <td>4.35</td>\n",
       "    </tr>\n",
       "    <tr>\n",
       "      <th>3</th>\n",
       "      <td>2022-07-01</td>\n",
       "      <td>AZN</td>\n",
       "      <td>Azerbaijan</td>\n",
       "      <td>4.70</td>\n",
       "      <td>1</td>\n",
       "      <td>4.70</td>\n",
       "    </tr>\n",
       "    <tr>\n",
       "      <th>4</th>\n",
       "      <td>2022-07-01</td>\n",
       "      <td>BHD</td>\n",
       "      <td>Bahrain</td>\n",
       "      <td>1.60</td>\n",
       "      <td>1</td>\n",
       "      <td>1.60</td>\n",
       "    </tr>\n",
       "  </tbody>\n",
       "</table>\n",
       "</div>"
      ],
      "text/plain": [
       "         date currency_code        name  local_price  dollar_ex  dollar_price\n",
       "0  2022-07-01           ARS   Argentina       590.00        129          4.57\n",
       "1  2022-07-01           AUD   Australia         6.70          1          6.70\n",
       "2  2022-07-01           EUR     Austria         4.35          1          4.35\n",
       "3  2022-07-01           AZN  Azerbaijan         4.70          1          4.70\n",
       "4  2022-07-01           BHD     Bahrain         1.60          1          1.60"
      ]
     },
     "execution_count": 5,
     "metadata": {},
     "output_type": "execute_result"
    }
   ],
   "source": [
    "df.head()"
   ]
  },
  {
   "cell_type": "code",
   "execution_count": null,
   "id": "25eb2c78",
   "metadata": {},
   "outputs": [],
   "source": []
  },
  {
   "cell_type": "markdown",
   "id": "ac5c78b1",
   "metadata": {},
   "source": [
    "### Descrição das colunas\n",
    "\n",
    "* **`date`** - Data do registro\n",
    "* **`currency_code`** - Código ISO 4217 internacional da moeda do país\n",
    "* **`name`** - Nome do país\n",
    "* **`local_price`** - Preço do Big Mac na moeda local\n",
    "* **`dollar_ex`** - Taxa de Conversão do dólar americano para a moeda local\n",
    "* **`local_price`** - Preço do Big Mac em dólares americanos\n"
   ]
  },
  {
   "cell_type": "code",
   "execution_count": null,
   "id": "b0cea9d1",
   "metadata": {},
   "outputs": [],
   "source": []
  },
  {
   "cell_type": "code",
   "execution_count": null,
   "id": "f37a191f",
   "metadata": {},
   "outputs": [],
   "source": []
  },
  {
   "cell_type": "code",
   "execution_count": null,
   "id": "50b83bce",
   "metadata": {},
   "outputs": [],
   "source": []
  },
  {
   "cell_type": "markdown",
   "id": "fd8d71c5",
   "metadata": {},
   "source": [
    "#### Vamos criar uma coluna cujo resultado é 1 se o bigmac custa mais do que 4 dólares e 0 se custa igual ou menos do que 4 dólares"
   ]
  },
  {
   "cell_type": "code",
   "execution_count": 6,
   "id": "1f45985d",
   "metadata": {},
   "outputs": [],
   "source": [
    "def e_caro(preco):\n",
    "    if preco > 4:\n",
    "        return 1\n",
    "    return 0"
   ]
  },
  {
   "cell_type": "code",
   "execution_count": 7,
   "id": "faf87335",
   "metadata": {},
   "outputs": [],
   "source": [
    "df['bigmac_caro'] = df['dollar_price'].apply(e_caro)"
   ]
  },
  {
   "cell_type": "code",
   "execution_count": 8,
   "id": "95f9e748",
   "metadata": {},
   "outputs": [
    {
     "data": {
      "text/html": [
       "<div>\n",
       "<style scoped>\n",
       "    .dataframe tbody tr th:only-of-type {\n",
       "        vertical-align: middle;\n",
       "    }\n",
       "\n",
       "    .dataframe tbody tr th {\n",
       "        vertical-align: top;\n",
       "    }\n",
       "\n",
       "    .dataframe thead th {\n",
       "        text-align: right;\n",
       "    }\n",
       "</style>\n",
       "<table border=\"1\" class=\"dataframe\">\n",
       "  <thead>\n",
       "    <tr style=\"text-align: right;\">\n",
       "      <th></th>\n",
       "      <th>date</th>\n",
       "      <th>currency_code</th>\n",
       "      <th>name</th>\n",
       "      <th>local_price</th>\n",
       "      <th>dollar_ex</th>\n",
       "      <th>dollar_price</th>\n",
       "      <th>bigmac_caro</th>\n",
       "    </tr>\n",
       "  </thead>\n",
       "  <tbody>\n",
       "    <tr>\n",
       "      <th>0</th>\n",
       "      <td>2022-07-01</td>\n",
       "      <td>ARS</td>\n",
       "      <td>Argentina</td>\n",
       "      <td>590.00</td>\n",
       "      <td>129</td>\n",
       "      <td>4.57</td>\n",
       "      <td>1</td>\n",
       "    </tr>\n",
       "    <tr>\n",
       "      <th>1</th>\n",
       "      <td>2022-07-01</td>\n",
       "      <td>AUD</td>\n",
       "      <td>Australia</td>\n",
       "      <td>6.70</td>\n",
       "      <td>1</td>\n",
       "      <td>6.70</td>\n",
       "      <td>1</td>\n",
       "    </tr>\n",
       "    <tr>\n",
       "      <th>2</th>\n",
       "      <td>2022-07-01</td>\n",
       "      <td>EUR</td>\n",
       "      <td>Austria</td>\n",
       "      <td>4.35</td>\n",
       "      <td>1</td>\n",
       "      <td>4.35</td>\n",
       "      <td>1</td>\n",
       "    </tr>\n",
       "    <tr>\n",
       "      <th>3</th>\n",
       "      <td>2022-07-01</td>\n",
       "      <td>AZN</td>\n",
       "      <td>Azerbaijan</td>\n",
       "      <td>4.70</td>\n",
       "      <td>1</td>\n",
       "      <td>4.70</td>\n",
       "      <td>1</td>\n",
       "    </tr>\n",
       "    <tr>\n",
       "      <th>4</th>\n",
       "      <td>2022-07-01</td>\n",
       "      <td>BHD</td>\n",
       "      <td>Bahrain</td>\n",
       "      <td>1.60</td>\n",
       "      <td>1</td>\n",
       "      <td>1.60</td>\n",
       "      <td>0</td>\n",
       "    </tr>\n",
       "  </tbody>\n",
       "</table>\n",
       "</div>"
      ],
      "text/plain": [
       "         date currency_code        name  local_price  dollar_ex  dollar_price  \\\n",
       "0  2022-07-01           ARS   Argentina       590.00        129          4.57   \n",
       "1  2022-07-01           AUD   Australia         6.70          1          6.70   \n",
       "2  2022-07-01           EUR     Austria         4.35          1          4.35   \n",
       "3  2022-07-01           AZN  Azerbaijan         4.70          1          4.70   \n",
       "4  2022-07-01           BHD     Bahrain         1.60          1          1.60   \n",
       "\n",
       "   bigmac_caro  \n",
       "0            1  \n",
       "1            1  \n",
       "2            1  \n",
       "3            1  \n",
       "4            0  "
      ]
     },
     "execution_count": 8,
     "metadata": {},
     "output_type": "execute_result"
    }
   ],
   "source": [
    "df.head()"
   ]
  },
  {
   "cell_type": "code",
   "execution_count": null,
   "id": "12fb90a8",
   "metadata": {},
   "outputs": [],
   "source": []
  },
  {
   "cell_type": "code",
   "execution_count": 9,
   "id": "829198e5",
   "metadata": {},
   "outputs": [
    {
     "data": {
      "text/html": [
       "<div>\n",
       "<style scoped>\n",
       "    .dataframe tbody tr th:only-of-type {\n",
       "        vertical-align: middle;\n",
       "    }\n",
       "\n",
       "    .dataframe tbody tr th {\n",
       "        vertical-align: top;\n",
       "    }\n",
       "\n",
       "    .dataframe thead th {\n",
       "        text-align: right;\n",
       "    }\n",
       "</style>\n",
       "<table border=\"1\" class=\"dataframe\">\n",
       "  <thead>\n",
       "    <tr style=\"text-align: right;\">\n",
       "      <th></th>\n",
       "      <th>local_price</th>\n",
       "      <th>dollar_ex</th>\n",
       "      <th>dollar_price</th>\n",
       "      <th>bigmac_caro</th>\n",
       "    </tr>\n",
       "  </thead>\n",
       "  <tbody>\n",
       "    <tr>\n",
       "      <th>count</th>\n",
       "      <td>70.000000</td>\n",
       "      <td>70.000000</td>\n",
       "      <td>70.000000</td>\n",
       "      <td>70.000000</td>\n",
       "    </tr>\n",
       "    <tr>\n",
       "      <th>mean</th>\n",
       "      <td>3793.318143</td>\n",
       "      <td>1042.428571</td>\n",
       "      <td>4.003571</td>\n",
       "      <td>0.428571</td>\n",
       "    </tr>\n",
       "    <tr>\n",
       "      <th>std</th>\n",
       "      <td>17915.281337</td>\n",
       "      <td>4462.135648</td>\n",
       "      <td>1.353213</td>\n",
       "      <td>0.498445</td>\n",
       "    </tr>\n",
       "    <tr>\n",
       "      <th>min</th>\n",
       "      <td>1.300000</td>\n",
       "      <td>1.000000</td>\n",
       "      <td>1.300000</td>\n",
       "      <td>0.000000</td>\n",
       "    </tr>\n",
       "    <tr>\n",
       "      <th>25%</th>\n",
       "      <td>4.662500</td>\n",
       "      <td>1.000000</td>\n",
       "      <td>3.000000</td>\n",
       "      <td>0.000000</td>\n",
       "    </tr>\n",
       "    <tr>\n",
       "      <th>50%</th>\n",
       "      <td>16.840000</td>\n",
       "      <td>4.000000</td>\n",
       "      <td>3.905000</td>\n",
       "      <td>0.000000</td>\n",
       "    </tr>\n",
       "    <tr>\n",
       "      <th>75%</th>\n",
       "      <td>93.500000</td>\n",
       "      <td>27.750000</td>\n",
       "      <td>4.687500</td>\n",
       "      <td>1.000000</td>\n",
       "    </tr>\n",
       "    <tr>\n",
       "      <th>max</th>\n",
       "      <td>130000.000000</td>\n",
       "      <td>25600.000000</td>\n",
       "      <td>7.100000</td>\n",
       "      <td>1.000000</td>\n",
       "    </tr>\n",
       "  </tbody>\n",
       "</table>\n",
       "</div>"
      ],
      "text/plain": [
       "         local_price     dollar_ex  dollar_price  bigmac_caro\n",
       "count      70.000000     70.000000     70.000000    70.000000\n",
       "mean     3793.318143   1042.428571      4.003571     0.428571\n",
       "std     17915.281337   4462.135648      1.353213     0.498445\n",
       "min         1.300000      1.000000      1.300000     0.000000\n",
       "25%         4.662500      1.000000      3.000000     0.000000\n",
       "50%        16.840000      4.000000      3.905000     0.000000\n",
       "75%        93.500000     27.750000      4.687500     1.000000\n",
       "max    130000.000000  25600.000000      7.100000     1.000000"
      ]
     },
     "execution_count": 9,
     "metadata": {},
     "output_type": "execute_result"
    }
   ],
   "source": [
    "df.describe()"
   ]
  },
  {
   "cell_type": "code",
   "execution_count": null,
   "id": "3ef7245c",
   "metadata": {},
   "outputs": [],
   "source": []
  },
  {
   "cell_type": "code",
   "execution_count": null,
   "id": "3f4157c7",
   "metadata": {},
   "outputs": [],
   "source": []
  },
  {
   "cell_type": "code",
   "execution_count": null,
   "id": "ff2050a0",
   "metadata": {},
   "outputs": [],
   "source": []
  },
  {
   "cell_type": "code",
   "execution_count": null,
   "id": "065478f1",
   "metadata": {},
   "outputs": [],
   "source": []
  },
  {
   "cell_type": "code",
   "execution_count": null,
   "id": "1a2d3fdc",
   "metadata": {},
   "outputs": [],
   "source": []
  },
  {
   "cell_type": "code",
   "execution_count": null,
   "id": "128f4949",
   "metadata": {},
   "outputs": [],
   "source": []
  },
  {
   "cell_type": "markdown",
   "id": "f7c17dbb",
   "metadata": {},
   "source": [
    "#### Vamos fazer um Intervalo com 95% Confiança para a proporção de Big Mac caros"
   ]
  },
  {
   "cell_type": "code",
   "execution_count": 13,
   "id": "833f1929",
   "metadata": {},
   "outputs": [
    {
     "name": "stdout",
     "output_type": "stream",
     "text": [
      "\n",
      "\n",
      "Proporção de Big Mac's caros: 0.42857142857142855\n",
      "Desvio Padrão da proporção de Big Mac's caros: 0.49487165930539345\n"
     ]
    }
   ],
   "source": [
    "big_mac_caro_prop = df[\"bigmac_caro\"].mean()\n",
    "big_mac_caro_prop_desvio_padrao = (big_mac_caro_prop * (1 - big_mac_caro_prop)) ** 0.5\n",
    "\n",
    "print('\\n')\n",
    "print(\"Proporção de Big Mac's caros: {}\".format(big_mac_caro_prop))\n",
    "print(\"Desvio Padrão da proporção de Big Mac's caros: {}\"\\\n",
    "      .format(big_mac_caro_prop_desvio_padrao))"
   ]
  },
  {
   "cell_type": "code",
   "execution_count": null,
   "id": "0554660b",
   "metadata": {},
   "outputs": [],
   "source": []
  },
  {
   "cell_type": "code",
   "execution_count": 10,
   "id": "a8357aea",
   "metadata": {},
   "outputs": [],
   "source": []
  },
  {
   "cell_type": "code",
   "execution_count": 14,
   "id": "60322299",
   "metadata": {},
   "outputs": [
    {
     "name": "stdout",
     "output_type": "stream",
     "text": [
      "Intervalo de 95% de Confiança para Proporção: (-0.5586705189915981, 1.4158133761344551)\n"
     ]
    }
   ],
   "source": [
    "from scipy.stats import t\n",
    "\n",
    "# df = graus de liberdade , que vai ser o tamanho da amostra menos 1.\n",
    "# loc = média da amostra\n",
    "# scale = desvio padrão da amostra\n",
    "\n",
    "graus_de_liberdade = df.shape[0] - 1\n",
    "\n",
    "intervalo_95_big_mac_prop = t.interval(0.95 , \n",
    "                                  df = graus_de_liberdade,\n",
    "                                  loc = big_mac_caro_prop,\n",
    "                                  scale = big_mac_caro_prop_desvio_padrao)\n",
    "\n",
    "\n",
    "print('Intervalo de 95% de Confiança para Proporção: {}'.format(intervalo_95_big_mac_prop))\n",
    "\n"
   ]
  },
  {
   "cell_type": "code",
   "execution_count": null,
   "id": "44809551",
   "metadata": {},
   "outputs": [],
   "source": []
  },
  {
   "cell_type": "code",
   "execution_count": null,
   "id": "812f62d9",
   "metadata": {},
   "outputs": [],
   "source": []
  },
  {
   "cell_type": "code",
   "execution_count": 15,
   "id": "c724451f",
   "metadata": {},
   "outputs": [
    {
     "name": "stdout",
     "output_type": "stream",
     "text": [
      "Margem de erro do intervalo: 0.9872419475630265\n"
     ]
    }
   ],
   "source": [
    "margem_de_erro_big_mac_prop = intervalo_95_big_mac_prop[1] - big_mac_caro_prop\n",
    "print('Margem de erro do intervalo: {}'.format(margem_de_erro_big_mac_prop))"
   ]
  },
  {
   "cell_type": "code",
   "execution_count": null,
   "id": "da2c9069",
   "metadata": {},
   "outputs": [],
   "source": []
  }
 ],
 "metadata": {
  "kernelspec": {
   "display_name": "Python 3 (ipykernel)",
   "language": "python",
   "name": "python3"
  },
  "language_info": {
   "codemirror_mode": {
    "name": "ipython",
    "version": 3
   },
   "file_extension": ".py",
   "mimetype": "text/x-python",
   "name": "python",
   "nbconvert_exporter": "python",
   "pygments_lexer": "ipython3",
   "version": "3.11.4"
  }
 },
 "nbformat": 4,
 "nbformat_minor": 5
}
