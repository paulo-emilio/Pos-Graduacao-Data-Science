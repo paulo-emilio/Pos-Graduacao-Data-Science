{
 "cells": [
  {
   "cell_type": "markdown",
   "id": "ee71d7df",
   "metadata": {},
   "source": [
    "### Como vimos, o Teorema do Limite Central nos diz que, para uma amostra grande o suficiente, a média tem distribuição normal. Um resultado disso é que podemos fazer uma estimativa intervalar para a média da população utilizando a amostra que temos disponível. \n",
    "\n",
    "\n",
    "<br>\n",
    "<br>\n",
    "\n",
    "### Na prática, o que estamos calculando é um intervalo de x% de confiança onde esperamos que a média da população esteja, com x% de probabilidade.\n",
    "\n",
    "<br>\n",
    "\n",
    "### Por exemplo, para um intervalo de 95% de confiança, a gente espera que a média da população esteja dentro desse intervalo, com 95% de probabilidade. Quanto mais o nível de confiança, maior será o intervalo.\n",
    "\n",
    "![alt text](https://nulib.github.io/moderndive_book/ismaykimkuyper_files/figure-html/N-CIs-1.png)\n",
    "\n",
    "<br>\n",
    "<br>\n",
    "<br>\n",
    "\n",
    "### Para calcularmos um intervalo de 99% de confiança, por exemplo, utilizamos o quantil 0.99 da Normal Padrão.\n",
    "\n",
    "<br>\n",
    "\n",
    "\n",
    "![alt_text](http://www.statisticslectures.com/images/ci3.gif)\n",
    "\n"
   ]
  },
  {
   "cell_type": "markdown",
   "id": "79c01088",
   "metadata": {},
   "source": [
    "<br>\n",
    "<br>"
   ]
  },
  {
   "cell_type": "markdown",
   "id": "7fbb5268",
   "metadata": {},
   "source": [
    "---\n",
    "<br>\n",
    "<br>\n",
    "\n",
    "### Num intervalo de confiança, a média sempre estará no centro do intervalo. Daí, a distância entre a média e o limite do intervalo é chamada de margem de erro.\n",
    "\n",
    "#### A margem de erro tem a ver com o quanto eu estou aceitando errar; mais especificamente, é a amplitude do meu intervalo. Quanto maior a amostra, menor é a margem de erro.\n",
    "\n",
    "<br>\n",
    "<br>\n",
    "\n",
    "![alt text](https://upload.wikimedia.org/wikipedia/commons/thumb/f/f9/Margin-of-error-95.svg/1200px-Margin-of-error-95.svg.png)"
   ]
  },
  {
   "cell_type": "code",
   "execution_count": null,
   "id": "ae0d4af6",
   "metadata": {},
   "outputs": [],
   "source": []
  },
  {
   "cell_type": "markdown",
   "id": "03d0f986",
   "metadata": {},
   "source": [
    "## `IMPORTANTE`\n",
    "\n",
    "<br>\n",
    "\n",
    "#### O intervalo de confiança é para a média dos dados, não para os dados todos!"
   ]
  },
  {
   "cell_type": "code",
   "execution_count": null,
   "id": "5c78a6f1",
   "metadata": {},
   "outputs": [],
   "source": []
  },
  {
   "cell_type": "code",
   "execution_count": null,
   "id": "36e84db1",
   "metadata": {},
   "outputs": [],
   "source": []
  },
  {
   "cell_type": "code",
   "execution_count": null,
   "id": "6472f02a",
   "metadata": {},
   "outputs": [],
   "source": []
  },
  {
   "cell_type": "markdown",
   "id": "21715a4b",
   "metadata": {},
   "source": [
    "### Vamos usar os dados do preço do Big Mac de Julho de 2022.\n",
    "\n",
    "<br>\n",
    "\n",
    "https://www.kaggle.com/datasets/vittoriogiatti/bigmacprice"
   ]
  },
  {
   "cell_type": "markdown",
   "id": "96e4b6f1",
   "metadata": {},
   "source": [
    "#### Importando a biblioteca pandas (https://pandas.pydata.org)"
   ]
  },
  {
   "cell_type": "code",
   "execution_count": 1,
   "id": "fd3c4c2f",
   "metadata": {},
   "outputs": [],
   "source": [
    "import pandas"
   ]
  },
  {
   "cell_type": "markdown",
   "id": "ebced3a0",
   "metadata": {},
   "source": [
    "#### Lendo os dados, que estão em csv"
   ]
  },
  {
   "cell_type": "code",
   "execution_count": 2,
   "id": "afe20312",
   "metadata": {},
   "outputs": [],
   "source": [
    "df = pandas.read_csv('BigmacPriceJuly2022.csv')"
   ]
  },
  {
   "cell_type": "code",
   "execution_count": 3,
   "id": "069f4ca0",
   "metadata": {},
   "outputs": [
    {
     "data": {
      "text/html": [
       "<div>\n",
       "<style scoped>\n",
       "    .dataframe tbody tr th:only-of-type {\n",
       "        vertical-align: middle;\n",
       "    }\n",
       "\n",
       "    .dataframe tbody tr th {\n",
       "        vertical-align: top;\n",
       "    }\n",
       "\n",
       "    .dataframe thead th {\n",
       "        text-align: right;\n",
       "    }\n",
       "</style>\n",
       "<table border=\"1\" class=\"dataframe\">\n",
       "  <thead>\n",
       "    <tr style=\"text-align: right;\">\n",
       "      <th></th>\n",
       "      <th>date</th>\n",
       "      <th>currency_code</th>\n",
       "      <th>name</th>\n",
       "      <th>local_price</th>\n",
       "      <th>dollar_ex</th>\n",
       "      <th>dollar_price</th>\n",
       "    </tr>\n",
       "  </thead>\n",
       "  <tbody>\n",
       "    <tr>\n",
       "      <th>0</th>\n",
       "      <td>2022-07-01</td>\n",
       "      <td>ARS</td>\n",
       "      <td>Argentina</td>\n",
       "      <td>590.00</td>\n",
       "      <td>129</td>\n",
       "      <td>4.57</td>\n",
       "    </tr>\n",
       "    <tr>\n",
       "      <th>1</th>\n",
       "      <td>2022-07-01</td>\n",
       "      <td>AUD</td>\n",
       "      <td>Australia</td>\n",
       "      <td>6.70</td>\n",
       "      <td>1</td>\n",
       "      <td>6.70</td>\n",
       "    </tr>\n",
       "    <tr>\n",
       "      <th>2</th>\n",
       "      <td>2022-07-01</td>\n",
       "      <td>EUR</td>\n",
       "      <td>Austria</td>\n",
       "      <td>4.35</td>\n",
       "      <td>1</td>\n",
       "      <td>4.35</td>\n",
       "    </tr>\n",
       "    <tr>\n",
       "      <th>3</th>\n",
       "      <td>2022-07-01</td>\n",
       "      <td>AZN</td>\n",
       "      <td>Azerbaijan</td>\n",
       "      <td>4.70</td>\n",
       "      <td>1</td>\n",
       "      <td>4.70</td>\n",
       "    </tr>\n",
       "    <tr>\n",
       "      <th>4</th>\n",
       "      <td>2022-07-01</td>\n",
       "      <td>BHD</td>\n",
       "      <td>Bahrain</td>\n",
       "      <td>1.60</td>\n",
       "      <td>1</td>\n",
       "      <td>1.60</td>\n",
       "    </tr>\n",
       "  </tbody>\n",
       "</table>\n",
       "</div>"
      ],
      "text/plain": [
       "         date currency_code        name  local_price  dollar_ex  dollar_price\n",
       "0  2022-07-01           ARS   Argentina       590.00        129          4.57\n",
       "1  2022-07-01           AUD   Australia         6.70          1          6.70\n",
       "2  2022-07-01           EUR     Austria         4.35          1          4.35\n",
       "3  2022-07-01           AZN  Azerbaijan         4.70          1          4.70\n",
       "4  2022-07-01           BHD     Bahrain         1.60          1          1.60"
      ]
     },
     "execution_count": 3,
     "metadata": {},
     "output_type": "execute_result"
    }
   ],
   "source": [
    "df.head()"
   ]
  },
  {
   "cell_type": "code",
   "execution_count": null,
   "id": "25eb2c78",
   "metadata": {},
   "outputs": [],
   "source": []
  },
  {
   "cell_type": "markdown",
   "id": "ac5c78b1",
   "metadata": {},
   "source": [
    "### Descrição das colunas\n",
    "\n",
    "* **`date`** - Data do registro\n",
    "* **`currency_code`** - Código ISO 4217 internacional da moeda do país\n",
    "* **`name`** - Nome do país\n",
    "* **`local_price`** - Preço do Big Mac na moeda local\n",
    "* **`dollar_ex`** - Taxa de Conversão do dólar americano para a moeda local\n",
    "* **`local_price`** - Preço do Big Mac em dólares americanos\n"
   ]
  },
  {
   "cell_type": "code",
   "execution_count": null,
   "id": "b0cea9d1",
   "metadata": {},
   "outputs": [],
   "source": []
  },
  {
   "cell_type": "code",
   "execution_count": null,
   "id": "f37a191f",
   "metadata": {},
   "outputs": [],
   "source": []
  },
  {
   "cell_type": "code",
   "execution_count": null,
   "id": "1a2d3fdc",
   "metadata": {},
   "outputs": [],
   "source": []
  },
  {
   "cell_type": "code",
   "execution_count": null,
   "id": "128f4949",
   "metadata": {},
   "outputs": [],
   "source": []
  },
  {
   "cell_type": "markdown",
   "id": "f7c17dbb",
   "metadata": {},
   "source": [
    "#### Vamos fazer um Intervalo com 95% Confiança para a média do preço do Big Mac em dólares"
   ]
  },
  {
   "cell_type": "code",
   "execution_count": 4,
   "id": "833f1929",
   "metadata": {},
   "outputs": [
    {
     "name": "stdout",
     "output_type": "stream",
     "text": [
      "\n",
      "\n",
      "Média do preco do Big Mac em dólares: 4.003571428571429\n",
      "Desvio Padrão do preco do Big Mac em dólares: 1.3532130692415167\n"
     ]
    }
   ],
   "source": [
    "from scipy import stats\n",
    "\n",
    "big_mac_media = df[\"dollar_price\"].mean()\n",
    "big_mac_desvio_padrao = df[\"dollar_price\"].std()\n",
    "\n",
    "print('\\n')\n",
    "print('Média do preco do Big Mac em dólares: {}'.format(big_mac_media))\n",
    "print('Desvio Padrão do preco do Big Mac em dólares: {}'.format(big_mac_desvio_padrao))"
   ]
  },
  {
   "cell_type": "code",
   "execution_count": null,
   "id": "0554660b",
   "metadata": {},
   "outputs": [],
   "source": []
  },
  {
   "cell_type": "code",
   "execution_count": null,
   "id": "a8357aea",
   "metadata": {},
   "outputs": [],
   "source": []
  },
  {
   "cell_type": "code",
   "execution_count": null,
   "id": "8060e3bb",
   "metadata": {},
   "outputs": [],
   "source": []
  },
  {
   "cell_type": "code",
   "execution_count": 5,
   "id": "60322299",
   "metadata": {},
   "outputs": [
    {
     "name": "stdout",
     "output_type": "stream",
     "text": [
      "Intervalo de 95% de Confiança para Média: (1.3513225494491499, 6.655820307693708)\n"
     ]
    }
   ],
   "source": [
    "# loc é a média.\n",
    "# scale é o desvio padrão.\n",
    " \n",
    "intervalo_95_big_mac = stats.norm.interval(0.95 ,\n",
    "                                         loc = big_mac_media , \n",
    "                                         scale = big_mac_desvio_padrao)\n",
    "\n",
    "\n",
    "print('Intervalo de 95% de Confiança para Média: {}'.format(intervalo_95_big_mac))\n",
    "\n"
   ]
  },
  {
   "cell_type": "code",
   "execution_count": null,
   "id": "44809551",
   "metadata": {},
   "outputs": [],
   "source": []
  },
  {
   "cell_type": "code",
   "execution_count": null,
   "id": "812f62d9",
   "metadata": {},
   "outputs": [],
   "source": []
  },
  {
   "cell_type": "code",
   "execution_count": 6,
   "id": "c724451f",
   "metadata": {},
   "outputs": [
    {
     "name": "stdout",
     "output_type": "stream",
     "text": [
      "Margem de erro do intervalo: 2.652248879122279\n"
     ]
    }
   ],
   "source": [
    "margem_de_erro_big_mac = intervalo_95_big_mac[1] - big_mac_media\n",
    "print('Margem de erro do intervalo: {}'.format(margem_de_erro_big_mac))"
   ]
  },
  {
   "cell_type": "code",
   "execution_count": null,
   "id": "da2c9069",
   "metadata": {},
   "outputs": [],
   "source": []
  }
 ],
 "metadata": {
  "kernelspec": {
   "display_name": "Python 3 (ipykernel)",
   "language": "python",
   "name": "python3"
  },
  "language_info": {
   "codemirror_mode": {
    "name": "ipython",
    "version": 3
   },
   "file_extension": ".py",
   "mimetype": "text/x-python",
   "name": "python",
   "nbconvert_exporter": "python",
   "pygments_lexer": "ipython3",
   "version": "3.11.4"
  }
 },
 "nbformat": 4,
 "nbformat_minor": 5
}
