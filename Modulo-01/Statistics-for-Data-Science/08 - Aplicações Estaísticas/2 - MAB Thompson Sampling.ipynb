{
 "cells": [
  {
   "cell_type": "markdown",
   "id": "32669da0",
   "metadata": {},
   "source": [
    "# `Thompson Sampling`\n",
    "\n",
    "\n",
    "#### O algoritmo Thompson Sampling é um algoritmo de reinforcement learning do time MAB (Multi Armed Bandit). Um MAB tenta resolver um problema onde você possui várias opções de escolha e tem como objetivo maximizar a sua recompensa obtida numa escolha vencedora. Surgiu com o caça-níquel e hoje utilizamos em muitas aplicações de mercado.\n",
    "\n",
    "\n",
    "#### A ideia é que, uma vez identificada a opção que te dá recompensas mais vezes, você passa a majoritariamente escolher essa opção, até que uma outra opção se mostre melhor.\n",
    "\n",
    "<br>\n",
    "\n",
    "![alt_text](https://blogs.mathworks.com/images/loren/2016/multiarmedbandit.jpg)\n",
    "\n",
    "\n",
    "<br>\n",
    "<br>\n",
    "<br>\n",
    "<br>\n",
    "\n",
    "\n",
    "#### O Thompson Sampling é um MAB que utiliza estatística Bayesiana, numa combinação de uma priori com distribuição de Bernoulli e uma posteriori com distribuição Beta(a, b). Nesse caso,\n",
    "\n",
    "* a = número de vezes que se obteve uma recompensa na escolha (sucessos) + 1\n",
    "* b = número de vezes que não se obteve uma recompensa na escolha (fracassos) + 1\n",
    "\n",
    "\n",
    "\n",
    "![alt_text](https://gdmarmerola.github.io/assets/img/posts/ts_for_mab_cover.jpg)\n",
    "\n",
    "\n",
    "\n",
    "\n",
    "#### Portanto, cada opção vai ter sua própria distribuição Beta com seus próprios a e b. A partir daí, nós calculamos uma amostra de tamanho 1 de cada distribuição e a que apresentar o maior resultado será a opção escolhida. \n",
    "\n",
    "#### As opções com uma taxa de sucesso maior vão ter uma maior probabilidade de terem amostras maiories e, portanto, serão mais escolhidas."
   ]
  },
  {
   "cell_type": "code",
   "execution_count": null,
   "id": "3af5325a",
   "metadata": {},
   "outputs": [],
   "source": []
  },
  {
   "cell_type": "code",
   "execution_count": null,
   "id": "f64957df",
   "metadata": {},
   "outputs": [],
   "source": []
  },
  {
   "cell_type": "code",
   "execution_count": null,
   "id": "fe822b9a",
   "metadata": {},
   "outputs": [],
   "source": []
  },
  {
   "cell_type": "code",
   "execution_count": null,
   "id": "f2e1f836",
   "metadata": {},
   "outputs": [],
   "source": []
  },
  {
   "cell_type": "markdown",
   "id": "657ad5c6",
   "metadata": {},
   "source": [
    "#### Exemplo\n",
    "\n",
    "\n",
    "Digamos que lançamos uma matéria num portal de notícias, mas a editoria não sabe qual a melhor opção de título da matéria mais vai atrair cliques para a notícia. A editoria criou 4 títulos interessantes, e vamos usar um Thompson Sampling para decidir qual o melhor título da matéria e mostra-lo para a maioria dos usuários que acessar o portal."
   ]
  },
  {
   "cell_type": "code",
   "execution_count": 26,
   "id": "f744e9b3",
   "metadata": {},
   "outputs": [],
   "source": [
    "# num primeiro momento, a e b serão iguais a 1 para as quatro matérias \n",
    "\n",
    "\n",
    "titulo_1_a = 0 + 1\n",
    "titulo_1_b = 0 + 1\n",
    "\n",
    "titulo_2_a = 0 + 1\n",
    "titulo_2_b = 0 + 1\n",
    "\n",
    "titulo_3_a = 0 + 1\n",
    "titulo_3_b = 0 + 1\n",
    "\n",
    "titulo_4_a = 0 + 1\n",
    "titulo_4_b = 0 + 1"
   ]
  },
  {
   "cell_type": "code",
   "execution_count": null,
   "id": "e26a26eb",
   "metadata": {},
   "outputs": [],
   "source": []
  },
  {
   "cell_type": "code",
   "execution_count": 23,
   "id": "064c596e",
   "metadata": {},
   "outputs": [],
   "source": [
    "# agora, vamos amostrar das Betas de cada título"
   ]
  },
  {
   "cell_type": "code",
   "execution_count": 24,
   "id": "22580f6f",
   "metadata": {},
   "outputs": [],
   "source": [
    "from numpy.random import beta"
   ]
  },
  {
   "cell_type": "code",
   "execution_count": 32,
   "id": "91c0a0cf",
   "metadata": {},
   "outputs": [
    {
     "name": "stdout",
     "output_type": "stream",
     "text": [
      "Resultado para o título 1: [0.23716184]\n",
      "Resultado para o título 2: [0.06832705]\n",
      "Resultado para o título 3: [0.47876608]\n",
      "Resultado para o título 4: [0.0397726]\n"
     ]
    }
   ],
   "source": [
    "t1 = beta(a = titulo_1_a, b = titulo_1_b, size = 1)\n",
    "t2 = beta(a = titulo_2_a, b = titulo_2_b, size = 1)\n",
    "t3 = beta(a = titulo_3_a, b = titulo_3_b, size = 1)\n",
    "t4 = beta(a = titulo_4_a, b = titulo_4_b, size = 1)\n",
    "\n",
    "\n",
    "\n",
    "print(\"Resultado para o título 1: {}\".format(t1))\n",
    "print(\"Resultado para o título 2: {}\".format(t2))\n",
    "print(\"Resultado para o título 3: {}\".format(t3))\n",
    "print(\"Resultado para o título 4: {}\".format(t4))"
   ]
  },
  {
   "cell_type": "code",
   "execution_count": null,
   "id": "a7cbde1d",
   "metadata": {},
   "outputs": [],
   "source": []
  },
  {
   "cell_type": "markdown",
   "id": "26faf8c2",
   "metadata": {},
   "source": [
    "A cada vez que for amostrado, vamos mostrar o maior resultado e guardar se foi sucesso (clicado) ou fracasso (não clicado)."
   ]
  },
  {
   "cell_type": "markdown",
   "id": "95f3fa49",
   "metadata": {},
   "source": [
    "Depois de uma hora no site, os resultados são:\n",
    "\n",
    "* Título 1 - 1000 clicks e 5000 sem clicks\n",
    "* Título 2 - 987 clicks e 4763 sem clicks\n",
    "* Título 3 - 1563 clicks e 7580 sem clicks\n",
    "* Título 4 - 804 clicks e 4503 sem clicks\n",
    "\n",
    "\n",
    "Vamos ver como ficam os resultados agora!"
   ]
  },
  {
   "cell_type": "code",
   "execution_count": null,
   "id": "e3142c3d",
   "metadata": {},
   "outputs": [],
   "source": []
  },
  {
   "cell_type": "code",
   "execution_count": null,
   "id": "3d6e5cc8",
   "metadata": {},
   "outputs": [],
   "source": []
  },
  {
   "cell_type": "code",
   "execution_count": 33,
   "id": "d6417f26",
   "metadata": {},
   "outputs": [],
   "source": [
    "titulo_1_a = 1000 + 1\n",
    "titulo_1_b = 5000 + 1\n",
    "\n",
    "titulo_2_a = 987 + 1\n",
    "titulo_2_b = 4763 + 1\n",
    "\n",
    "titulo_3_a = 1563 + 1\n",
    "titulo_3_b = 7580 + 1\n",
    "\n",
    "titulo_4_a = 804 + 1\n",
    "titulo_4_b = 4503 + 1"
   ]
  },
  {
   "cell_type": "code",
   "execution_count": null,
   "id": "33fa41e1",
   "metadata": {},
   "outputs": [],
   "source": []
  },
  {
   "cell_type": "code",
   "execution_count": null,
   "id": "8e033532",
   "metadata": {},
   "outputs": [],
   "source": []
  },
  {
   "cell_type": "code",
   "execution_count": 43,
   "id": "8477ee90",
   "metadata": {},
   "outputs": [
    {
     "name": "stdout",
     "output_type": "stream",
     "text": [
      "Resultado para o título 1: [0.16560462]\n",
      "Resultado para o título 2: [0.17315465]\n",
      "Resultado para o título 3: [0.18060401]\n",
      "Resultado para o título 4: [0.14483962]\n"
     ]
    }
   ],
   "source": [
    "t1 = beta(a = titulo_1_a, b = titulo_1_b, size = 1)\n",
    "t2 = beta(a = titulo_2_a, b = titulo_2_b, size = 1)\n",
    "t3 = beta(a = titulo_3_a, b = titulo_3_b, size = 1)\n",
    "t4 = beta(a = titulo_4_a, b = titulo_4_b, size = 1)\n",
    "\n",
    "\n",
    "\n",
    "print(\"Resultado para o título 1: {}\".format(t1))\n",
    "print(\"Resultado para o título 2: {}\".format(t2))\n",
    "print(\"Resultado para o título 3: {}\".format(t3))\n",
    "print(\"Resultado para o título 4: {}\".format(t4))"
   ]
  },
  {
   "cell_type": "code",
   "execution_count": null,
   "id": "e170c752",
   "metadata": {},
   "outputs": [],
   "source": []
  },
  {
   "cell_type": "markdown",
   "id": "08b369e0",
   "metadata": {},
   "source": [
    "O título 3 parece ser o melhor!!"
   ]
  }
 ],
 "metadata": {
  "kernelspec": {
   "display_name": "Python 3 (ipykernel)",
   "language": "python",
   "name": "python3"
  },
  "language_info": {
   "codemirror_mode": {
    "name": "ipython",
    "version": 3
   },
   "file_extension": ".py",
   "mimetype": "text/x-python",
   "name": "python",
   "nbconvert_exporter": "python",
   "pygments_lexer": "ipython3",
   "version": "3.8.9"
  }
 },
 "nbformat": 4,
 "nbformat_minor": 5
}
