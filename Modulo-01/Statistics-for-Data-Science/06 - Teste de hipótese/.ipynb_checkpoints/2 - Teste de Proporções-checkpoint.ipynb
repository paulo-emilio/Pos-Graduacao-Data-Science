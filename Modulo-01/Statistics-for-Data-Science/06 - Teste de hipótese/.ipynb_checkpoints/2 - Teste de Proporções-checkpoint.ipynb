{
 "cells": [
  {
   "cell_type": "markdown",
   "id": "8ea7809d",
   "metadata": {},
   "source": [
    "# `Teste de Hipótese de Proporções`\n",
    "\n",
    "\n",
    "### Como vimos, o Teorema do Limite Central nos diz que, para uma amostra grande o suficiente, a média tem distribuição normal. Um resultado disso é o teste de hipótese entre proporções!\n",
    "\n",
    "\n",
    "\n",
    "### Vamos passo a passo pra entendermos direitinho como funciona.\n",
    "\n",
    "\n",
    "<br>\n",
    "<br>\n",
    "<br>\n",
    "\n",
    "#### 0 - Pelo teorema do limite central, a média tem distribuição normal. Se considerarmos cada observação como uma Bernoulli, onde 0 representa um fracasso e 1 representa sucesso, a média dessas observações é uma proporção!\n",
    "\n",
    "<br>\n",
    "<br>\n",
    "\n",
    "#### 1.1 - Num teste de hipótese de comparação entre duas médias, temos duas hipóteses: a nula e a alternativa. A hipótese nula vai dizer que as duas médias são iguais, ela basicamente diz que a ideia que queremos testar não altera a realidade atual e, por isso, as duas médias são iguais. A hipótese alternativa diz que elas são diferentes, ou seja, a ideia que testamos alterou a realidade atual, o status quo foi mudado.\n",
    "\n",
    "<br>\n",
    "\n",
    "#### 1.2 - A amostra obtida sob a realidade atual vai ser chamada de amostra `controle`, ou grupo controle. A amostra obtida sob a realidade nova, com a ideia que está sendo testada, será chamada de amostra `variante`, ou grupo variante.\n",
    "\n",
    "![alt_text](https://miro.medium.com/max/1000/0*KS_jfZBdZ9DxAvEz.png)\n",
    "\n",
    "<br>\n",
    "<br>\n",
    "\n",
    "#### 2 - Para medir se houve diferença entre as médias dos grupos controle e variante, vamos diminuir a média do grupo controle pela média do grupo variante, formando uma nova variável. Vamos chamá-la de X.\n",
    "\n",
    "<br>\n",
    "<br>\n",
    "\n",
    "\n",
    "#### 3 - Essa nova variável X tem distribuição Normal!\n",
    "\n",
    "<br>\n",
    "<br>\n",
    "\n",
    "\n",
    "#### 4 - Se considerarmos que H0 é verdadeiro, então X tem média iguai a 0. \n",
    "\n",
    "\n",
    "<br>\n",
    "<br>\n",
    "\n",
    "\n",
    "#### 5.1 - Olhamos para o valor observado das médias das amostras controle e variante, bem como seus tamanhos e suas variâncias e chegamos a uma estatística que chamamos de estatística de teste. Se esse valor for muito improvável de ocorrer segundo a distribuição de X (diferença das médias), entaão\n",
    "\n",
    "#### 5.2 - Se esse valor for muito improvável de ocorrer segundo a distribuição de X (diferença das médias) sob H0 (média de X é 0), então rejeitamos a hipótese nula e dizemos que as médias dos grupos são diferentes. Senão, dizemos que são iguais.\n",
    "\n",
    "<br>\n",
    "<br>\n",
    "\n",
    "#### 6 - Chamamos de `p-valor` a probabilidade de ocorrência da estatística de teste ou valores mais extremos, segundo a distribuição de X, sob H0.\n",
    "\n",
    "![alt text](https://www.researchgate.net/publication/242308781/figure/fig3/AS:669554216812562@1536645573785/Acceptance-and-rejection-regions-of-the-Z-test.png)\n",
    "\n",
    "\n",
    "\n",
    "\n",
    "\n",
    "#### 7.1 - Na prática, se o p-valor obtido for baixo, nós rejeitamos H0 e dizemos que as médias dos grupos são diferentes. Se o p-valor for alto, nós não rejeitamos H0 e dizemos que a média dos grupos são iguais.\n",
    "\n",
    "#### 7.2 - Para decidir se um p-valor é baixo, definimos antes do teste começar um treshold, a quem chamaremos de nível de significância. Se o p-valor for menor ou igual ao nível de significância, então ele é baixo.\n",
    "\n",
    "\n",
    "#### Por exemplo, digamos que o nosso nível de significância é 5%. Sob a hipótese nula, as médias propostas são iguais. Daí,\n",
    "\n",
    "* Se o p-valor for menor do que 5%, rejeitamos a hipótese nula com 95% de confiança. \n",
    "* Se o p-valor for menor do que 1%, rejeitamos a hipótese nula com 99% de confiança. \n",
    "* Senão, não rejeitamos a hipótese nula."
   ]
  },
  {
   "cell_type": "code",
   "execution_count": null,
   "id": "54593fad",
   "metadata": {},
   "outputs": [],
   "source": []
  },
  {
   "cell_type": "code",
   "execution_count": null,
   "id": "af52e18d",
   "metadata": {},
   "outputs": [],
   "source": []
  },
  {
   "cell_type": "markdown",
   "id": "73b63393",
   "metadata": {},
   "source": [
    "## `A grande particularidade do teste de proporções é que,` <br><br> `como consideramos que cada observação é uma Bernoulli,` <br><br> `então sabemos exatamente qual é a sua variância, o que` <br><br> `simplifica o nosso teste.`"
   ]
  },
  {
   "cell_type": "code",
   "execution_count": null,
   "id": "756526d9",
   "metadata": {},
   "outputs": [],
   "source": []
  },
  {
   "cell_type": "code",
   "execution_count": null,
   "id": "da7dbbe8",
   "metadata": {},
   "outputs": [],
   "source": []
  },
  {
   "cell_type": "code",
   "execution_count": null,
   "id": "b654c669",
   "metadata": {},
   "outputs": [],
   "source": []
  },
  {
   "cell_type": "markdown",
   "id": "d21539b2",
   "metadata": {},
   "source": [
    "### Vamos ver como calcular o p-valor na prática!"
   ]
  },
  {
   "cell_type": "markdown",
   "id": "9cff6ade",
   "metadata": {},
   "source": [
    "### Vamos usar dados abertos de séries e filmes da Netflix. Os dados podem ser encontrados no Kaggle.\n",
    "\n",
    "<br>\n",
    "\n",
    "https://www.kaggle.com/datasets/ariyoomotade/netflix-data-cleaning-analysis-and-visualization"
   ]
  },
  {
   "cell_type": "markdown",
   "id": "d02f0f0f",
   "metadata": {},
   "source": [
    "#### Importando a biblioteca pandas (https://pandas.pydata.org)"
   ]
  },
  {
   "cell_type": "code",
   "execution_count": 1,
   "id": "dd3dbedf",
   "metadata": {},
   "outputs": [],
   "source": [
    "import pandas"
   ]
  },
  {
   "cell_type": "markdown",
   "id": "f1fd389c",
   "metadata": {},
   "source": [
    "#### Lendo os dados, que estão em csv"
   ]
  },
  {
   "cell_type": "code",
   "execution_count": 14,
   "id": "24077779",
   "metadata": {},
   "outputs": [],
   "source": [
    "df = pandas.read_csv('netflix.csv')"
   ]
  },
  {
   "cell_type": "code",
   "execution_count": 15,
   "id": "2ddf6217",
   "metadata": {},
   "outputs": [
    {
     "data": {
      "text/html": [
       "<div>\n",
       "<style scoped>\n",
       "    .dataframe tbody tr th:only-of-type {\n",
       "        vertical-align: middle;\n",
       "    }\n",
       "\n",
       "    .dataframe tbody tr th {\n",
       "        vertical-align: top;\n",
       "    }\n",
       "\n",
       "    .dataframe thead th {\n",
       "        text-align: right;\n",
       "    }\n",
       "</style>\n",
       "<table border=\"1\" class=\"dataframe\">\n",
       "  <thead>\n",
       "    <tr style=\"text-align: right;\">\n",
       "      <th></th>\n",
       "      <th>show_id</th>\n",
       "      <th>type</th>\n",
       "      <th>title</th>\n",
       "      <th>director</th>\n",
       "      <th>country</th>\n",
       "      <th>date_added</th>\n",
       "      <th>release_year</th>\n",
       "      <th>rating</th>\n",
       "      <th>duration</th>\n",
       "      <th>listed_in</th>\n",
       "    </tr>\n",
       "  </thead>\n",
       "  <tbody>\n",
       "    <tr>\n",
       "      <th>0</th>\n",
       "      <td>s1</td>\n",
       "      <td>Movie</td>\n",
       "      <td>Dick Johnson Is Dead</td>\n",
       "      <td>Kirsten Johnson</td>\n",
       "      <td>United States</td>\n",
       "      <td>9/25/2021</td>\n",
       "      <td>2020</td>\n",
       "      <td>PG-13</td>\n",
       "      <td>90 min</td>\n",
       "      <td>Documentaries</td>\n",
       "    </tr>\n",
       "    <tr>\n",
       "      <th>1</th>\n",
       "      <td>s3</td>\n",
       "      <td>TV Show</td>\n",
       "      <td>Ganglands</td>\n",
       "      <td>Julien Leclercq</td>\n",
       "      <td>France</td>\n",
       "      <td>9/24/2021</td>\n",
       "      <td>2021</td>\n",
       "      <td>TV-MA</td>\n",
       "      <td>1 Season</td>\n",
       "      <td>Crime TV Shows, International TV Shows, TV Act...</td>\n",
       "    </tr>\n",
       "    <tr>\n",
       "      <th>2</th>\n",
       "      <td>s6</td>\n",
       "      <td>TV Show</td>\n",
       "      <td>Midnight Mass</td>\n",
       "      <td>Mike Flanagan</td>\n",
       "      <td>United States</td>\n",
       "      <td>9/24/2021</td>\n",
       "      <td>2021</td>\n",
       "      <td>TV-MA</td>\n",
       "      <td>1 Season</td>\n",
       "      <td>TV Dramas, TV Horror, TV Mysteries</td>\n",
       "    </tr>\n",
       "    <tr>\n",
       "      <th>3</th>\n",
       "      <td>s14</td>\n",
       "      <td>Movie</td>\n",
       "      <td>Confessions of an Invisible Girl</td>\n",
       "      <td>Bruno Garotti</td>\n",
       "      <td>Brazil</td>\n",
       "      <td>9/22/2021</td>\n",
       "      <td>2021</td>\n",
       "      <td>TV-PG</td>\n",
       "      <td>91 min</td>\n",
       "      <td>Children &amp; Family Movies, Comedies</td>\n",
       "    </tr>\n",
       "    <tr>\n",
       "      <th>4</th>\n",
       "      <td>s8</td>\n",
       "      <td>Movie</td>\n",
       "      <td>Sankofa</td>\n",
       "      <td>Haile Gerima</td>\n",
       "      <td>United States</td>\n",
       "      <td>9/24/2021</td>\n",
       "      <td>1993</td>\n",
       "      <td>TV-MA</td>\n",
       "      <td>125 min</td>\n",
       "      <td>Dramas, Independent Movies, International Movies</td>\n",
       "    </tr>\n",
       "  </tbody>\n",
       "</table>\n",
       "</div>"
      ],
      "text/plain": [
       "  show_id     type                             title         director  \\\n",
       "0      s1    Movie              Dick Johnson Is Dead  Kirsten Johnson   \n",
       "1      s3  TV Show                         Ganglands  Julien Leclercq   \n",
       "2      s6  TV Show                     Midnight Mass    Mike Flanagan   \n",
       "3     s14    Movie  Confessions of an Invisible Girl    Bruno Garotti   \n",
       "4      s8    Movie                           Sankofa     Haile Gerima   \n",
       "\n",
       "         country date_added  release_year rating  duration  \\\n",
       "0  United States  9/25/2021          2020  PG-13    90 min   \n",
       "1         France  9/24/2021          2021  TV-MA  1 Season   \n",
       "2  United States  9/24/2021          2021  TV-MA  1 Season   \n",
       "3         Brazil  9/22/2021          2021  TV-PG    91 min   \n",
       "4  United States  9/24/2021          1993  TV-MA   125 min   \n",
       "\n",
       "                                           listed_in  \n",
       "0                                      Documentaries  \n",
       "1  Crime TV Shows, International TV Shows, TV Act...  \n",
       "2                 TV Dramas, TV Horror, TV Mysteries  \n",
       "3                 Children & Family Movies, Comedies  \n",
       "4   Dramas, Independent Movies, International Movies  "
      ]
     },
     "execution_count": 15,
     "metadata": {},
     "output_type": "execute_result"
    }
   ],
   "source": [
    "df.head()"
   ]
  },
  {
   "cell_type": "code",
   "execution_count": null,
   "id": "8a2ab5ab",
   "metadata": {},
   "outputs": [],
   "source": []
  },
  {
   "cell_type": "code",
   "execution_count": null,
   "id": "da0ea8c5",
   "metadata": {},
   "outputs": [],
   "source": []
  },
  {
   "cell_type": "markdown",
   "id": "ee646e46",
   "metadata": {},
   "source": [
    "### Descrição das colunas\n",
    "\n",
    "* **`show_id`** - id da série ou filme\n",
    "* **`type`** - tipo de conteúdo(Tv show ou Movie)\n",
    "* **`title`** - título da série ou filme\n",
    "* **`director`** - pessoa diretora da série ou do filme\n",
    "* **`country`** - país da série ou filme\n",
    "* **`date_added`** - data de adição à Netflix\n",
    "* **`release_year`** - ano de lançamento\n",
    "* **`rating`** - rating da TV para o filme ou série\n",
    "* **`duration`** - duração do conteúdo\n",
    "* **`listed_in`** - gênero do conteúdo"
   ]
  },
  {
   "cell_type": "code",
   "execution_count": null,
   "id": "bbeff5c0",
   "metadata": {},
   "outputs": [],
   "source": []
  },
  {
   "cell_type": "markdown",
   "id": "f838abd4",
   "metadata": {},
   "source": [
    "### Será que existe uma diferença na proporção de filmes longos entres os filmes Ingleses e os Americanos?"
   ]
  },
  {
   "cell_type": "markdown",
   "id": "01440308",
   "metadata": {},
   "source": [
    "Primeiro, vamos criar uma coluna com os valor numérico da duração"
   ]
  },
  {
   "cell_type": "code",
   "execution_count": 16,
   "id": "2e5e784f",
   "metadata": {},
   "outputs": [],
   "source": [
    "filmes = df[df['type'] == 'Movie']"
   ]
  },
  {
   "cell_type": "code",
   "execution_count": 17,
   "id": "085ab729",
   "metadata": {},
   "outputs": [
    {
     "data": {
      "text/plain": [
       "show_id         6126\n",
       "type            6126\n",
       "title           6126\n",
       "director        6126\n",
       "country         6126\n",
       "date_added      6126\n",
       "release_year    6126\n",
       "rating          6126\n",
       "duration        6126\n",
       "listed_in       6126\n",
       "dtype: int64"
      ]
     },
     "execution_count": 17,
     "metadata": {},
     "output_type": "execute_result"
    }
   ],
   "source": [
    "filmes.count()"
   ]
  },
  {
   "cell_type": "code",
   "execution_count": null,
   "id": "5f06c67b",
   "metadata": {},
   "outputs": [],
   "source": []
  },
  {
   "cell_type": "code",
   "execution_count": null,
   "id": "9d63944b",
   "metadata": {},
   "outputs": [],
   "source": []
  },
  {
   "cell_type": "code",
   "execution_count": 18,
   "id": "f123661f",
   "metadata": {},
   "outputs": [
    {
     "name": "stderr",
     "output_type": "stream",
     "text": [
      "/var/folders/dr/h5psw2rs6vxdwmnb2kl93mtm0000gq/T/ipykernel_67499/2372845979.py:4: SettingWithCopyWarning: \n",
      "A value is trying to be set on a copy of a slice from a DataFrame.\n",
      "Try using .loc[row_indexer,col_indexer] = value instead\n",
      "\n",
      "See the caveats in the documentation: https://pandas.pydata.org/pandas-docs/stable/user_guide/indexing.html#returning-a-view-versus-a-copy\n",
      "  filmes['duracao_min'] = filmes['duration'].apply(duracao_numerica)\n"
     ]
    }
   ],
   "source": [
    "def duracao_numerica(valor):\n",
    "    return int(valor.split(' ')[0])\n",
    "\n",
    "filmes['duracao_min'] = filmes['duration'].apply(duracao_numerica)"
   ]
  },
  {
   "cell_type": "code",
   "execution_count": null,
   "id": "23456056",
   "metadata": {},
   "outputs": [],
   "source": []
  },
  {
   "cell_type": "code",
   "execution_count": 29,
   "id": "69ccae3b",
   "metadata": {},
   "outputs": [
    {
     "name": "stderr",
     "output_type": "stream",
     "text": [
      "/var/folders/dr/h5psw2rs6vxdwmnb2kl93mtm0000gq/T/ipykernel_67499/3033614277.py:6: SettingWithCopyWarning: \n",
      "A value is trying to be set on a copy of a slice from a DataFrame.\n",
      "Try using .loc[row_indexer,col_indexer] = value instead\n",
      "\n",
      "See the caveats in the documentation: https://pandas.pydata.org/pandas-docs/stable/user_guide/indexing.html#returning-a-view-versus-a-copy\n",
      "  filmes['filme_longo'] = filmes['duracao_min'].apply(filme_longo)\n"
     ]
    }
   ],
   "source": [
    "def filme_longo(valor):\n",
    "    if valor > 150:\n",
    "        return 1\n",
    "    return 0\n",
    "\n",
    "filmes['filme_longo'] = filmes['duracao_min'].apply(filme_longo)"
   ]
  },
  {
   "cell_type": "code",
   "execution_count": null,
   "id": "69f4a9c9",
   "metadata": {},
   "outputs": [],
   "source": []
  },
  {
   "cell_type": "code",
   "execution_count": null,
   "id": "9167bc88",
   "metadata": {},
   "outputs": [],
   "source": []
  },
  {
   "cell_type": "code",
   "execution_count": null,
   "id": "6aeac591",
   "metadata": {},
   "outputs": [],
   "source": []
  },
  {
   "cell_type": "code",
   "execution_count": 30,
   "id": "79e46db5",
   "metadata": {},
   "outputs": [
    {
     "data": {
      "text/html": [
       "<div>\n",
       "<style scoped>\n",
       "    .dataframe tbody tr th:only-of-type {\n",
       "        vertical-align: middle;\n",
       "    }\n",
       "\n",
       "    .dataframe tbody tr th {\n",
       "        vertical-align: top;\n",
       "    }\n",
       "\n",
       "    .dataframe thead th {\n",
       "        text-align: right;\n",
       "    }\n",
       "</style>\n",
       "<table border=\"1\" class=\"dataframe\">\n",
       "  <thead>\n",
       "    <tr style=\"text-align: right;\">\n",
       "      <th></th>\n",
       "      <th>show_id</th>\n",
       "      <th>type</th>\n",
       "      <th>title</th>\n",
       "      <th>director</th>\n",
       "      <th>country</th>\n",
       "      <th>date_added</th>\n",
       "      <th>release_year</th>\n",
       "      <th>rating</th>\n",
       "      <th>duration</th>\n",
       "      <th>listed_in</th>\n",
       "      <th>duracao_min</th>\n",
       "      <th>filme_longo</th>\n",
       "    </tr>\n",
       "  </thead>\n",
       "  <tbody>\n",
       "    <tr>\n",
       "      <th>0</th>\n",
       "      <td>s1</td>\n",
       "      <td>Movie</td>\n",
       "      <td>Dick Johnson Is Dead</td>\n",
       "      <td>Kirsten Johnson</td>\n",
       "      <td>United States</td>\n",
       "      <td>9/25/2021</td>\n",
       "      <td>2020</td>\n",
       "      <td>PG-13</td>\n",
       "      <td>90 min</td>\n",
       "      <td>Documentaries</td>\n",
       "      <td>90</td>\n",
       "      <td>0</td>\n",
       "    </tr>\n",
       "    <tr>\n",
       "      <th>3</th>\n",
       "      <td>s14</td>\n",
       "      <td>Movie</td>\n",
       "      <td>Confessions of an Invisible Girl</td>\n",
       "      <td>Bruno Garotti</td>\n",
       "      <td>Brazil</td>\n",
       "      <td>9/22/2021</td>\n",
       "      <td>2021</td>\n",
       "      <td>TV-PG</td>\n",
       "      <td>91 min</td>\n",
       "      <td>Children &amp; Family Movies, Comedies</td>\n",
       "      <td>91</td>\n",
       "      <td>0</td>\n",
       "    </tr>\n",
       "    <tr>\n",
       "      <th>4</th>\n",
       "      <td>s8</td>\n",
       "      <td>Movie</td>\n",
       "      <td>Sankofa</td>\n",
       "      <td>Haile Gerima</td>\n",
       "      <td>United States</td>\n",
       "      <td>9/24/2021</td>\n",
       "      <td>1993</td>\n",
       "      <td>TV-MA</td>\n",
       "      <td>125 min</td>\n",
       "      <td>Dramas, Independent Movies, International Movies</td>\n",
       "      <td>125</td>\n",
       "      <td>0</td>\n",
       "    </tr>\n",
       "    <tr>\n",
       "      <th>6</th>\n",
       "      <td>s10</td>\n",
       "      <td>Movie</td>\n",
       "      <td>The Starling</td>\n",
       "      <td>Theodore Melfi</td>\n",
       "      <td>United States</td>\n",
       "      <td>9/24/2021</td>\n",
       "      <td>2021</td>\n",
       "      <td>PG-13</td>\n",
       "      <td>104 min</td>\n",
       "      <td>Comedies, Dramas</td>\n",
       "      <td>104</td>\n",
       "      <td>0</td>\n",
       "    </tr>\n",
       "    <tr>\n",
       "      <th>7</th>\n",
       "      <td>s939</td>\n",
       "      <td>Movie</td>\n",
       "      <td>Motu Patlu in the Game of Zones</td>\n",
       "      <td>Suhas Kadav</td>\n",
       "      <td>India</td>\n",
       "      <td>5/1/2021</td>\n",
       "      <td>2019</td>\n",
       "      <td>TV-Y7</td>\n",
       "      <td>87 min</td>\n",
       "      <td>Children &amp; Family Movies, Comedies, Music &amp; Mu...</td>\n",
       "      <td>87</td>\n",
       "      <td>0</td>\n",
       "    </tr>\n",
       "  </tbody>\n",
       "</table>\n",
       "</div>"
      ],
      "text/plain": [
       "  show_id   type                             title         director  \\\n",
       "0      s1  Movie              Dick Johnson Is Dead  Kirsten Johnson   \n",
       "3     s14  Movie  Confessions of an Invisible Girl    Bruno Garotti   \n",
       "4      s8  Movie                           Sankofa     Haile Gerima   \n",
       "6     s10  Movie                      The Starling   Theodore Melfi   \n",
       "7    s939  Movie   Motu Patlu in the Game of Zones      Suhas Kadav   \n",
       "\n",
       "         country date_added  release_year rating duration  \\\n",
       "0  United States  9/25/2021          2020  PG-13   90 min   \n",
       "3         Brazil  9/22/2021          2021  TV-PG   91 min   \n",
       "4  United States  9/24/2021          1993  TV-MA  125 min   \n",
       "6  United States  9/24/2021          2021  PG-13  104 min   \n",
       "7          India   5/1/2021          2019  TV-Y7   87 min   \n",
       "\n",
       "                                           listed_in  duracao_min  filme_longo  \n",
       "0                                      Documentaries           90            0  \n",
       "3                 Children & Family Movies, Comedies           91            0  \n",
       "4   Dramas, Independent Movies, International Movies          125            0  \n",
       "6                                   Comedies, Dramas          104            0  \n",
       "7  Children & Family Movies, Comedies, Music & Mu...           87            0  "
      ]
     },
     "execution_count": 30,
     "metadata": {},
     "output_type": "execute_result"
    }
   ],
   "source": [
    "filmes.head()"
   ]
  },
  {
   "cell_type": "code",
   "execution_count": null,
   "id": "f6189f1f",
   "metadata": {},
   "outputs": [],
   "source": []
  },
  {
   "cell_type": "code",
   "execution_count": null,
   "id": "529dddba",
   "metadata": {},
   "outputs": [],
   "source": []
  },
  {
   "cell_type": "markdown",
   "id": "90df6a4d",
   "metadata": {},
   "source": [
    "#### Vamos olhar para a distribuição de filmes longos para esses dois países"
   ]
  },
  {
   "cell_type": "code",
   "execution_count": 41,
   "id": "d7f30d73",
   "metadata": {},
   "outputs": [],
   "source": [
    "inglaterra = filmes['country'] == 'United Kingdom'\n",
    "eua = filmes['country'] == 'United States'\n",
    "\n",
    "inglaterra_ou_eua = (inglaterra) | (eua)"
   ]
  },
  {
   "cell_type": "code",
   "execution_count": null,
   "id": "6f0e7e94",
   "metadata": {},
   "outputs": [],
   "source": []
  },
  {
   "cell_type": "code",
   "execution_count": 42,
   "id": "68da7abf",
   "metadata": {},
   "outputs": [
    {
     "data": {
      "text/plain": [
       "country\n",
       "United Kingdom    0.015504\n",
       "United States     0.012944\n",
       "Name: filme_longo, dtype: float64"
      ]
     },
     "execution_count": 42,
     "metadata": {},
     "output_type": "execute_result"
    }
   ],
   "source": [
    "filmes[inglaterra_ou_eua].groupby('country').mean()['filme_longo']"
   ]
  },
  {
   "cell_type": "code",
   "execution_count": null,
   "id": "d40a2940",
   "metadata": {},
   "outputs": [],
   "source": []
  },
  {
   "cell_type": "code",
   "execution_count": null,
   "id": "78095c8e",
   "metadata": {},
   "outputs": [],
   "source": []
  },
  {
   "cell_type": "code",
   "execution_count": null,
   "id": "7f44a693",
   "metadata": {},
   "outputs": [],
   "source": []
  },
  {
   "cell_type": "code",
   "execution_count": null,
   "id": "071b0e7a",
   "metadata": {},
   "outputs": [],
   "source": []
  },
  {
   "cell_type": "code",
   "execution_count": null,
   "id": "bbbdd0b6",
   "metadata": {},
   "outputs": [],
   "source": []
  },
  {
   "cell_type": "code",
   "execution_count": null,
   "id": "8e4f46bf",
   "metadata": {},
   "outputs": [],
   "source": []
  },
  {
   "cell_type": "markdown",
   "id": "b123692e",
   "metadata": {},
   "source": [
    "## Vamos calcular o `p-valor` do teste de hipótese entre essas duas propoções, usando a distribuição Normal!"
   ]
  },
  {
   "cell_type": "code",
   "execution_count": 33,
   "id": "1a249a08",
   "metadata": {},
   "outputs": [],
   "source": [
    "from statsmodels.stats.proportion import proportions_ztest"
   ]
  },
  {
   "cell_type": "code",
   "execution_count": 43,
   "id": "265ed3ac",
   "metadata": {},
   "outputs": [],
   "source": [
    "numero_filmes_longos_eua = filmes[eua]['filme_longo'].sum()\n",
    "tamanho_amostra_eua = filmes[eua]['filme_longo'].count()\n",
    "\n",
    "\n",
    "numero_filmes_longos_inglaterra = filmes[inglaterra]['filme_longo'].sum()\n",
    "tamanho_amostra_inglaterra = filmes[inglaterra]['filme_longo'].count()"
   ]
  },
  {
   "cell_type": "code",
   "execution_count": null,
   "id": "50814637",
   "metadata": {},
   "outputs": [],
   "source": []
  },
  {
   "cell_type": "code",
   "execution_count": null,
   "id": "54441c27",
   "metadata": {},
   "outputs": [],
   "source": []
  },
  {
   "cell_type": "code",
   "execution_count": 45,
   "id": "39b00833",
   "metadata": {},
   "outputs": [
    {
     "data": {
      "text/plain": [
       "(-0.40793974795918075, 0.6833179103024831)"
      ]
     },
     "execution_count": 45,
     "metadata": {},
     "output_type": "execute_result"
    }
   ],
   "source": [
    "resultado_teste = proportions_ztest(\n",
    "\n",
    "    count = [numero_filmes_longos_eua, numero_filmes_longos_inglaterra],\n",
    "    nobs = [tamanho_amostra_eua, tamanho_amostra_inglaterra]\n",
    ")\n",
    "\n",
    "resultado_teste"
   ]
  },
  {
   "cell_type": "code",
   "execution_count": 46,
   "id": "24db93c8",
   "metadata": {},
   "outputs": [
    {
     "data": {
      "text/plain": [
       "0.6833179103024831"
      ]
     },
     "execution_count": 46,
     "metadata": {},
     "output_type": "execute_result"
    }
   ],
   "source": [
    "p_valor = resultado_teste[1]\n",
    "\n",
    "p_valor"
   ]
  },
  {
   "cell_type": "code",
   "execution_count": null,
   "id": "c918f5bc",
   "metadata": {},
   "outputs": [],
   "source": []
  },
  {
   "cell_type": "code",
   "execution_count": null,
   "id": "a62bae32",
   "metadata": {},
   "outputs": [],
   "source": []
  },
  {
   "cell_type": "markdown",
   "id": "57297b3c",
   "metadata": {},
   "source": [
    "#### Se definirmos o nível de significância em 5%, ficaria assim:"
   ]
  },
  {
   "cell_type": "code",
   "execution_count": 47,
   "id": "18901370",
   "metadata": {},
   "outputs": [
    {
     "name": "stdout",
     "output_type": "stream",
     "text": [
      "Aceito que as médias sejam iguais, com 95% de confianca!\n"
     ]
    }
   ],
   "source": [
    "if(p_valor >= 0.05):\n",
    "    print(\"Aceito que as médias sejam iguais, com 95% de confianca!\")\n",
    "else:\n",
    "    print(\"Rejeito que as médias sejam iguais, com 95% de confianca!\")"
   ]
  },
  {
   "cell_type": "code",
   "execution_count": null,
   "id": "37cdc763",
   "metadata": {},
   "outputs": [],
   "source": []
  },
  {
   "cell_type": "code",
   "execution_count": null,
   "id": "f75b87d2",
   "metadata": {},
   "outputs": [],
   "source": []
  },
  {
   "cell_type": "code",
   "execution_count": null,
   "id": "26321efe",
   "metadata": {},
   "outputs": [],
   "source": []
  },
  {
   "cell_type": "code",
   "execution_count": null,
   "id": "57adc7ba",
   "metadata": {},
   "outputs": [],
   "source": []
  },
  {
   "cell_type": "code",
   "execution_count": null,
   "id": "4cfa2048",
   "metadata": {},
   "outputs": [],
   "source": []
  },
  {
   "cell_type": "code",
   "execution_count": null,
   "id": "68dc4008",
   "metadata": {},
   "outputs": [],
   "source": []
  },
  {
   "cell_type": "code",
   "execution_count": null,
   "id": "c4989e86",
   "metadata": {},
   "outputs": [],
   "source": []
  }
 ],
 "metadata": {
  "kernelspec": {
   "display_name": "Python 3 (ipykernel)",
   "language": "python",
   "name": "python3"
  },
  "language_info": {
   "codemirror_mode": {
    "name": "ipython",
    "version": 3
   },
   "file_extension": ".py",
   "mimetype": "text/x-python",
   "name": "python",
   "nbconvert_exporter": "python",
   "pygments_lexer": "ipython3",
   "version": "3.11.4"
  }
 },
 "nbformat": 4,
 "nbformat_minor": 5
}
