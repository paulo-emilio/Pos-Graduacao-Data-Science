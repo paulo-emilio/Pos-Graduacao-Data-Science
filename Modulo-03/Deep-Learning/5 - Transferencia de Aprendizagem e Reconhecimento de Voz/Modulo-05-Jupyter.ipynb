{
 "cells": [
  {
   "cell_type": "markdown",
   "id": "eb885849-2e4c-49a1-be4b-2b74fe63604c",
   "metadata": {},
   "source": [
    "Parte 05 - Testando o Modelo"
   ]
  },
  {
   "cell_type": "code",
   "execution_count": null,
   "id": "abee377e-1e55-4684-a04d-6fbd3b12c9e2",
   "metadata": {},
   "outputs": [],
   "source": [
    "#pip install pipwin\n",
    "#pipwin install pyaudio\n",
    "#pip install SpeechRecognition"
   ]
  },
  {
   "cell_type": "code",
   "execution_count": 6,
   "id": "073a6473-131e-48a1-ba47-7057ff2a81c3",
   "metadata": {},
   "outputs": [
    {
     "name": "stdout",
     "output_type": "stream",
     "text": [
      "Headset (Razer Hammerhead TWS X\n"
     ]
    }
   ],
   "source": [
    "# qual mic usar\n",
    "print(sr.Microphone().list_microphone_names()[3])"
   ]
  },
  {
   "cell_type": "code",
   "execution_count": 15,
   "id": "86dd0f58",
   "metadata": {},
   "outputs": [
    {
     "name": "stdout",
     "output_type": "stream",
     "text": [
      "Pode falar! Vou gravar e transcrever.\n",
      "--------------------------------------------------\n",
      "Transcrição:\n",
      "hello world\n"
     ]
    }
   ],
   "source": [
    "import speech_recognition as sr\n",
    "\n",
    "rec = sr.Recognizer()\n",
    "\n",
    "\n",
    "with sr.Microphone(3) as mic:\n",
    "    rec.adjust_for_ambient_noise(mic)\n",
    "    print(\"Pode falar! Vou gravar e transcrever.\")\n",
    "    print(\"-\"*50)\n",
    "    audio = rec.listen(mic)\n",
    "    texto = rec.recognize_google(audio, language=\"pt-BR\")\n",
    "    print('Transcrição:')\n",
    "    print(texto)"
   ]
  },
  {
   "cell_type": "markdown",
   "id": "01463308-88ee-4ed3-ad79-a683ea637b48",
   "metadata": {},
   "source": [
    " "
   ]
  }
 ],
 "metadata": {
  "kernelspec": {
   "display_name": "Python 3 (ipykernel)",
   "language": "python",
   "name": "python3"
  },
  "language_info": {
   "codemirror_mode": {
    "name": "ipython",
    "version": 3
   },
   "file_extension": ".py",
   "mimetype": "text/x-python",
   "name": "python",
   "nbconvert_exporter": "python",
   "pygments_lexer": "ipython3",
   "version": "3.11.7"
  }
 },
 "nbformat": 4,
 "nbformat_minor": 5
}
