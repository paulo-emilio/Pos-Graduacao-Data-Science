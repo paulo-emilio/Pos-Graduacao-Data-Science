{
 "cells": [
  {
   "cell_type": "markdown",
   "metadata": {
    "id": "vjzK2r_unKzN"
   },
   "source": [
    "\n",
    "# **TESTES DE HIPÓTESES - PARTE 1(Definindo Teste de Hipóteses)**\n",
    "\n",
    "O teste de hipótese é um tipo de análise estatística em que você testa suas suposições sobre um parâmetro populacional. É usado para estimar a relação entre 2 variáveis estatísticas.\n",
    "\n",
    "Vamos discutir alguns exemplos de hipóteses estatísticas da vida real:\n",
    "\n",
    "•\tUm professor supõe que 10% dos alunos de sua faculdade vêm de famílias de classe alta.\n",
    "•\tUm médico acredita o tratamento contra a obesidade é 40% eficaz para pacientes diabéticos.\n",
    "\n",
    "Agora que você conhece o teste de hipótese, veja os dois tipos de teste de hipótese em estatística.\n",
    "\n",
    "A hipótese nula é a suposição de que o evento não ocorrerá. Uma hipótese nula não tem influência sobre o resultado do estudo, a menos que seja rejeitada.\n",
    "\n",
    "**H0 é o símbolo para isso, e é pronunciado H-nula.**\n",
    "\n",
    "A hipótese alternativa é o oposto lógico da hipótese nula. A aceitação da hipótese alternativa segue a rejeição da hipótese nula. H1 é o símbolo para isso.\n",
    "\n",
    "\n",
    "\n",
    "Vamos entender isso com um exemplo.\n",
    "\n",
    "Um fabricante de desinfetante afirma que seu produto mata 45% dos germes em média.\n",
    "Para testar a afirmação dessa empresa, crie uma hipótese nula e alternativa.\n",
    "\n",
    "H0 (Hipótese Nula): Média = 95%.\n",
    "Hipótese alternativa (H1): A média é inferior a 95%. **negrito**\n",
    "\n",
    "Outro exemplo direto para entender esse conceito é determinar se uma moeda é cara ou coroa. A hipótese nula afirma que a probabilidade de dar cara é igual à probabilidade de dar coroa. Em contraste, a teoria alternativa afirma que a probabilidade de uma exibição de caras e coroas seria muito diferente.\n",
    "Dependendo da distribuição da população, você pode classificar a hipótese estatística em dois tipos.\n",
    "Hipótese Simples: Uma hipótese simples especifica um valor exato para o parâmetro.\n",
    "Hipótese composta: Uma hipótese composta especifica um intervalo de valores.\n",
    "\n",
    "***Nível de significância***\n",
    "\n",
    "O valor alfa é um critério para determinar se uma estatística de teste é estatisticamente significativa. Em um teste estatístico, Alfa representa uma probabilidade aceitável de um erro Tipo I. Como alfa é uma probabilidade, pode estar entre 0 e 1. Na prática, os valores de alfa mais comumente usados são 0,01, 0,05 e 0,1, que representam 1%, 5% e 10% de chance de um erro Tipo I , respectivamente (ou seja, rejeitar a hipótese nula quando ela é de fato correta).\n",
    "\n",
    "***Valor P***\n",
    "\n",
    "Um valor-p é uma métrica que expressa a probabilidade de uma diferença observada ter ocorrido por acaso. À medida que o valor-p diminui, a significância estatística da diferença observada aumenta. Se o valor-p for muito baixo, você rejeita a hipótese nula.\n"
   ]
  },
  {
   "cell_type": "markdown",
   "metadata": {
    "id": "1iPUNYr6q2Hy"
   },
   "source": [
    "# **TESTES DE HIPÓTESES - PARTE 2(Etapas de Construção de um Teste de Hipótese)**"
   ]
  },
  {
   "cell_type": "markdown",
   "metadata": {
    "id": "hhpBzWPcrkQK"
   },
   "source": [
    "A empresa Suco Bom produz sucos de frutas em embalagens de 500 ml. Seu processo de produção é quase todo automatizado e as embalagens de sucos são preenchidas por uma máquina que às vezes apresenta um certo desajuste, levando a erros no preenchimento das embalagens para mais ou menos conteúdo. Quando o volume médio cai abaixo de 500 ml, a empresa se preocupa em perder vendas e ter problemas com os orgãos fiscalizadores. Quando o volume passa de 500 ml, a empresa começa a se preocupar com prejuízos no processo de produção.\n",
    "\n",
    "O setor de controle de qualidade da empresa Suco Bom extrai, periodicamente, amostras de 50 embalagens para monitorar o processo de produção. Para cada amostra, é realizado um teste de hipóteses para avaliar se o maquinário se desajustou. A equipe de controle de qualidade assume um nível de significância de 5%.\n",
    "\n",
    "Suponha agora que uma amostra de 50 embalagens foi selecionada e que a média amostral observada foi de 503,24 ml e desvio padrao 4,48. Esse valor de média amostral é suficientemente maior que 500 ml para nos fazer rejeitar a hipótese de que a média do processo é de 500 ml ao nível de significância de 5%?\n",
    "\n"
   ]
  },
  {
   "cell_type": "code",
   "execution_count": 1,
   "metadata": {
    "id": "QaHVGcy9rpcP"
   },
   "outputs": [],
   "source": [
    "from scipy.stats import norm\n",
    "from numpy import sqrt"
   ]
  },
  {
   "cell_type": "code",
   "execution_count": 2,
   "metadata": {
    "id": "0EGUdkj9rvzv"
   },
   "outputs": [],
   "source": [
    "# Hipotese de ser igual, significa um bicaudal com h0 da medias serem iguais\n",
    "# 𝐻0:𝜇=500 \n",
    "# 𝐻1:𝜇≠500"
   ]
  },
  {
   "cell_type": "code",
   "execution_count": 3,
   "metadata": {
    "id": "FimRfV3mryVc"
   },
   "outputs": [],
   "source": [
    "u = 500\n",
    "n = 50\n",
    "sig = 0.05"
   ]
  },
  {
   "cell_type": "code",
   "execution_count": 4,
   "metadata": {
    "colab": {
     "base_uri": "https://localhost:8080/"
    },
    "id": "gP9Xauqsr1BK",
    "outputId": "59e35c31-f65c-4357-cb96-6ad388098141"
   },
   "outputs": [
    {
     "name": "stdout",
     "output_type": "stream",
     "text": [
      "-1.9599639845400545\n"
     ]
    },
    {
     "data": {
      "text/plain": [
       "5.113897256795581"
      ]
     },
     "execution_count": 4,
     "metadata": {},
     "output_type": "execute_result"
    }
   ],
   "source": [
    "z_sig_sob2 = norm.ppf(sig/2)\n",
    "print(z_sig_sob2)\n",
    "x = 503.24\n",
    "s = 4.48\n",
    "z = (x-u)/(s/sqrt(n))\n",
    "z"
   ]
  },
  {
   "cell_type": "code",
   "execution_count": 5,
   "metadata": {
    "colab": {
     "base_uri": "https://localhost:8080/"
    },
    "id": "oqpPx5-Cr7mm",
    "outputId": "d0c818e5-d341-4f30-880c-3b369e4449d4"
   },
   "outputs": [
    {
     "name": "stdout",
     "output_type": "stream",
     "text": [
      "0.9999998422104751\n",
      "3.155790497810784e-07\n",
      "Rejeita h0\n"
     ]
    }
   ],
   "source": [
    "area = norm.cdf(z)\n",
    "print(area)\n",
    "pvalor = 2*(1-area)\n",
    "print(pvalor)\n",
    "if (pvalor <= sig):\n",
    "    print('Rejeita h0')\n",
    "else:\n",
    "    print('Aceita h0')\n",
    "\n",
    "#Rejeitar  𝐻0  se o valor  𝑝≤𝛼"
   ]
  },
  {
   "cell_type": "markdown",
   "metadata": {
    "id": "uRhf9iR1sC0v"
   },
   "source": [
    "# **TESTES DE HIPÓTESES - PARTE 3(Definindo Método de Neyman-Pearson)**\n",
    "\n",
    "\n",
    "O paradigma NP visa corrigir esse problema abordando diretamente os erros de classificação assimétricos. O objetivo é maximizar a taxa de verdadeiros positivos (TP) enquanto se mantém a taxa de falsos positivos (FP) dentro de um limite aceitável. Isso é conseguido através da maximização da Razão de Verdadeiros Positivos (TPR) e da minimização da Razão de Falsos Positivos (FPR) - duas métricas de avaliação de desempenho amplamente utilizadas no mundo da classificação binária. O paradigma NP é amplamente usado em aplicações onde os erros de classificação assimétricos são preocupações centrais, como detecção de fraudes, diagnóstico médico e detecção de uso indevido.\n",
    "\n",
    "O uso do paradigma de classificação NP tem se mostrado bastante útil para melhorar a precisão de classificação de dados. Por exemplo, ao processar dados de imagem, é possível detectar erros de classificação mais graves e minimizar os erros menos graves. Isso é particularmente útil para aplicações médicas, onde é necessário um alto nível de precisão para evitar erros potencialmente fatais. Além disso, o uso do paradigma de classificação NP torna possível a classificação de dados heterogêneos e em grande escala, o que é essencial para aplicações móveis e na web."
   ]
  },
  {
   "cell_type": "markdown",
   "metadata": {
    "id": "Z0skbbituV2C"
   },
   "source": [
    "# **TESTES DE HIPÓTESES - PARTE 4(Neyman-Pearson na Prática)**\n",
    "\n",
    "\n",
    "\n",
    "\n",
    "\n"
   ]
  },
  {
   "cell_type": "code",
   "execution_count": 8,
   "metadata": {
    "colab": {
     "base_uri": "https://localhost:8080/"
    },
    "id": "Nw71yzAEvnqM",
    "outputId": "1909cbc6-5e4b-4d2b-b7a4-bf81c9d35736"
   },
   "outputs": [
    {
     "name": "stdout",
     "output_type": "stream",
     "text": [
      "Looking in indexes: https://pypi.org/simple, https://us-python.pkg.dev/colab-wheels/public/simple/\n",
      "Collecting nproc\n",
      "  Downloading nproc-1.5.2-py3-none-any.whl (19 kB)\n",
      "Requirement already satisfied: joblib in /usr/local/lib/python3.8/dist-packages (from nproc) (1.2.0)\n",
      "Requirement already satisfied: numpy in /usr/local/lib/python3.8/dist-packages (from nproc) (1.21.6)\n",
      "Collecting sklearn\n",
      "  Downloading sklearn-0.0.post1.tar.gz (3.6 kB)\n",
      "  Preparing metadata (setup.py) ... \u001b[?25l\u001b[?25hdone\n",
      "Requirement already satisfied: scipy in /usr/local/lib/python3.8/dist-packages (from nproc) (1.7.3)\n",
      "Building wheels for collected packages: sklearn\n",
      "  Building wheel for sklearn (setup.py) ... \u001b[?25l\u001b[?25hdone\n",
      "  Created wheel for sklearn: filename=sklearn-0.0.post1-py3-none-any.whl size=2344 sha256=c092b0da1f2b190d457f4f1aaad56cd41af303980136fb4a76214f3be02c9378\n",
      "  Stored in directory: /root/.cache/pip/wheels/14/25/f7/1cc0956978ae479e75140219088deb7a36f60459df242b1a72\n",
      "Successfully built sklearn\n",
      "Installing collected packages: sklearn, nproc\n",
      "Successfully installed nproc-1.5.2 sklearn-0.0.post1\n"
     ]
    }
   ],
   "source": [
    "pip install nproc"
   ]
  },
  {
   "cell_type": "code",
   "execution_count": 9,
   "metadata": {
    "id": "eSoxifJTw5Dv"
   },
   "outputs": [],
   "source": [
    "from nproc import npc"
   ]
  },
  {
   "cell_type": "code",
   "execution_count": 11,
   "metadata": {
    "id": "xOaYinC8xFXV"
   },
   "outputs": [],
   "source": [
    "import numpy as np\n",
    "import os\n",
    "from sklearn.metrics import confusion_matrix\n",
    "from sklearn.metrics import accuracy_score\n",
    "from nproc import npc"
   ]
  },
  {
   "cell_type": "code",
   "execution_count": 12,
   "metadata": {
    "id": "7z-EjMqAxwER"
   },
   "outputs": [],
   "source": [
    "test = npc()\n",
    "\n",
    "np.random.seed()"
   ]
  },
  {
   "cell_type": "code",
   "execution_count": 13,
   "metadata": {
    "id": "DdSGikS_x0Vp"
   },
   "outputs": [],
   "source": [
    "# Crie um conjunto de dados (x,y) com 2 recursos, rótulo binário e tamanho de amostra 10000.\n",
    "n = 10000\n",
    "x = np.random.normal(0, 1, (n,2))\n",
    "c = 1+3*x[:,0]\n",
    "y = np.random.binomial(1, 1/(1+np.exp(-c)), n)"
   ]
  },
  {
   "cell_type": "code",
   "execution_count": 14,
   "metadata": {
    "id": "YrTS7DBex4cg"
   },
   "outputs": [],
   "source": [
    "# Chame a função npc para construir classificadores Neyman-Pearson.\n",
    "# O limite superior padrão da taxa de erro tipo I é alfa=0,05.\n",
    "fit = test.npc(x, y, 'logistic', n_cores=os.cpu_count())"
   ]
  },
  {
   "cell_type": "code",
   "execution_count": 15,
   "metadata": {
    "id": "B1RqtSbQx_G6"
   },
   "outputs": [],
   "source": [
    "# Avalie a predição do ajuste do classificador NP em um conjunto de teste (xtest, ytest).\n",
    "x_test = np.random.normal(0, 1, (n,2))\n",
    "c_test = 1+3*x_test[:,0]\n",
    "y_test = np.random.binomial(1, 1/(1+np.exp(-c_test)), n)"
   ]
  },
  {
   "cell_type": "code",
   "execution_count": 16,
   "metadata": {
    "colab": {
     "base_uri": "https://localhost:8080/"
    },
    "id": "hg3HCQ1EyDe6",
    "outputId": "ebb1b586-2f6c-468f-de0e-7712488c707d"
   },
   "outputs": [
    {
     "name": "stdout",
     "output_type": "stream",
     "text": [
      "Accuracy on training set: 0.7268\n",
      "Accuracy on test set: 0.7243\n"
     ]
    }
   ],
   "source": [
    "#Calcule a precisão geral do classificador, bem como a realizada\n",
    "# taxa de erro tipo I em dados de teste.\n",
    "# Estritamente falando, para demonstrar a eficácia do classificador de ajuste\n",
    "# sob o paradigma NP, devemos repetir este experimento muitas vezes, e\n",
    "# mostra que em 1 - delta dessas repetições, a taxa de erro tipo I é menor que alfa.\n",
    "\n",
    "fitted_score = test.predict(fit,x)\n",
    "print(\"Accuracy on training set:\", accuracy_score(fitted_score[0], y))\n",
    "pred_score = test.predict(fit,x_test)\n",
    "print(\"Accuracy on test set:\", accuracy_score(pred_score[0], y_test))"
   ]
  },
  {
   "cell_type": "code",
   "execution_count": 17,
   "metadata": {
    "colab": {
     "base_uri": "https://localhost:8080/"
    },
    "id": "Tnpq1oYDyIia",
    "outputId": "ebda985e-9d30-4c10-c508-3ae260b0031f"
   },
   "outputs": [
    {
     "name": "stdout",
     "output_type": "stream",
     "text": [
      "Confusion matrix:\n",
      "[[3816  125]\n",
      " [2632 3427]]\n",
      "Type I error rate: 0.03172\n",
      "Type II error rate: 0.43440\n"
     ]
    }
   ],
   "source": [
    "cm = confusion_matrix(y_test, pred_score[0])\n",
    "print(\"Confusion matrix:\")\n",
    "print(cm)\n",
    "tn, fp, fn, tp = cm.ravel()\n",
    "print(\"Type I error rate: {:.5f}\".format(fp/(fp+tn)))\n",
    "print(\"Type II error rate: {:.5f}\".format(fn/(fn+tp)))"
   ]
  }
 ],
 "metadata": {
  "colab": {
   "provenance": []
  },
  "kernelspec": {
   "display_name": "Python 3 (ipykernel)",
   "language": "python",
   "name": "python3"
  },
  "language_info": {
   "codemirror_mode": {
    "name": "ipython",
    "version": 3
   },
   "file_extension": ".py",
   "mimetype": "text/x-python",
   "name": "python",
   "nbconvert_exporter": "python",
   "pygments_lexer": "ipython3",
   "version": "3.11.7"
  }
 },
 "nbformat": 4,
 "nbformat_minor": 4
}
