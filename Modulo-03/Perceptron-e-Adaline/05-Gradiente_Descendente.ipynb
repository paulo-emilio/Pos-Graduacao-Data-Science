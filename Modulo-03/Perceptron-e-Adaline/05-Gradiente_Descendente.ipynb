{
 "cells": [
  {
   "cell_type": "markdown",
   "metadata": {
    "colab_type": "text",
    "id": "view-in-github"
   },
   "source": [
    "<a href=\"https://colab.research.google.com/github/Rafael-Barbosa/Perceptron_Adaline/blob/main/Gradiente_Descendente.ipynb\" target=\"_parent\"><img src=\"https://colab.research.google.com/assets/colab-badge.svg\" alt=\"Open In Colab\"/></a>"
   ]
  },
  {
   "cell_type": "code",
   "execution_count": 1,
   "metadata": {
    "id": "kg23trQZWGhs"
   },
   "outputs": [],
   "source": [
    "import numpy as np\n",
    "import pandas as pd\n",
    "from IPython import display\n",
    "from mpl_toolkits.mplot3d import Axes3D\n",
    "from matplotlib import cm\n",
    "from matplotlib import pyplot as plt\n",
    "from matplotlib.ticker import LinearLocator, FormatStrFormatter"
   ]
  },
  {
   "cell_type": "code",
   "execution_count": 2,
   "metadata": {
    "colab": {
     "base_uri": "https://localhost:8080/",
     "height": 265
    },
    "id": "7o51TBVqWOJs",
    "outputId": "153d1b5f-d5fc-40b1-b561-116cd4bef564"
   },
   "outputs": [
    {
     "data": {
      "image/png": "[encoded data removed]",
      "text/plain": [
       "<Figure size 640x480 with 1 Axes>"
      ]
     },
     "metadata": {},
     "output_type": "display_data"
    }
   ],
   "source": [
    "np.random.seed(0)\n",
    "dados = pd.DataFrame()\n",
    "dados['x'] = np.linspace(-10,10,100)\n",
    "dados['y'] = 5 + 1*dados['x'] + np.random.normal(0,3,100)\n",
    "\n",
    "plt.scatter(dados['x'], dados['y'])\n",
    "plt.axhline(y=0, linewidth=2, color = 'k')\n",
    "plt.axvline(x=0, linewidth=2, color = 'k')\n",
    "plt.show()"
   ]
  },
  {
   "cell_type": "code",
   "execution_count": 3,
   "metadata": {
    "id": "ils5G8-2n6Kp"
   },
   "outputs": [],
   "source": [
    "def L(y, y_hat):\n",
    "    return ((y-y_hat) ** 2).sum()\n"
   ]
  },
  {
   "cell_type": "code",
   "execution_count": 4,
   "metadata": {
    "id": "_YfR8n4yn_ky"
   },
   "outputs": [],
   "source": [
    "class linear_regr(object):\n",
    "\n",
    "    def __init__(self, learning_rate=0.0001, training_iters=1000, show_learning=False):\n",
    "        self.learning_rate = learning_rate\n",
    "        self.training_iters = training_iters\n",
    "        self.show_learning = show_learning\n",
    "\n",
    "        \n",
    "    def fit(self, X_train, y_train, plot=False):\n",
    "        \n",
    "        # formata os dados\n",
    "        if len(X_train.values.shape) < 2:\n",
    "            X = X_train.values.reshape(-1,1)\n",
    "        X = np.insert(X, 0, 1, 1)\n",
    "        \n",
    "        # para plotar o aprendizado (é preciso conhecer a equação geradora)\n",
    "        if self.show_learning:\n",
    "            assert X.shape[1] <= 2 # só é possível viazualizar 2 parâmetros\n",
    "            self.w1_loss = [L(y_train, 5 + i * X_train) for i in np.linspace(0,6,20)]\n",
    "            self.b_loss = [L(y_train, i + 3 * X_train) for i in np.linspace(-10,20,20)]\n",
    "        \n",
    "        # inicia os parâmetros com pequenos valores aleatórios (nosso chute razoável)\n",
    "        self.w_hat = np.random.normal(0,5, size = X[0].shape)\n",
    "        \n",
    "        loss = [] # para plotar o aprendizado\n",
    "        for _ in range(self.training_iters):\n",
    "            \n",
    "            gradient = np.zeros(self.w_hat.shape) # inicia o gradiente\n",
    "            \n",
    "            # atualiza o gradiente com informação de todos os pontos\n",
    "            for point, yi in zip(X, y_train):\n",
    "                gradient +=  (point * self.w_hat - yi) * point\n",
    "            \n",
    "            gradient *= self.learning_rate # multiplica o gradiente pela taxa de aprendizado\n",
    "                  \n",
    "            # atualiza os parâmetros\n",
    "            self.w_hat -= gradient\n",
    "            \n",
    "            l = ((y_train - self.predict(X_train)) ** 2).sum() # calcula o custo\n",
    "                        \n",
    "            loss.append(l) # armazeno o custo para gráfico\n",
    "        \n",
    "            if self.show_learning:\n",
    "                # mostra o estado atual do aprendizado\n",
    "                self._show_state(X_train, y_train, loss) \n",
    "            \n",
    "        \n",
    "    def predict(self, X_test):\n",
    "        # formata os dados\n",
    "        if len(X_test.values.shape) < 2:\n",
    "            X = X_test.values.reshape(-1,1)\n",
    "        X = np.insert(X, 0, 1, 1)\n",
    "        \n",
    "        return np.dot(X, self.w_hat) \n",
    "    \n",
    "    \n",
    "    def _show_state(self, X_train, y_train, loss):\n",
    "        # visualiza o processo de aprendizado\n",
    "        lb = L(y_train, self.w_hat[0] + 3 * X_train) # calcula o custo na direção b\n",
    "        lw = L(y_train, 5 + self.w_hat[1] * X_train) # calcula o custo na direção w\n",
    "\n",
    "        # scatter plot\n",
    "        plt.subplot(221)\n",
    "        plt.scatter(X_train, y_train, s= 10)\n",
    "        plt.plot(X_train, self.predict(X_train), c='r')\n",
    "        plt.title('$y = b + w x$')\n",
    "        plt.tick_params(labelsize=9, labelleft=False, labelbottom = False)\n",
    "        plt.grid(True)\n",
    "\n",
    "        # loss\n",
    "        plt.subplot(222)\n",
    "        plt.plot(range(len(loss)), loss)\n",
    "        plt.title('Custo')\n",
    "        plt.tick_params(labelsize=9, labelleft=False, labelbottom = False)\n",
    "        plt.grid(True)\n",
    "\n",
    "        # b_loss\n",
    "        plt.subplot(223)\n",
    "        plt.plot( np.linspace(-10,20,20), self.b_loss)\n",
    "        plt.scatter(self.w_hat[0], lb, c = 'k')\n",
    "        plt.title('Custo em $\\hat{b}$')\n",
    "        plt.tick_params(labelleft=False)\n",
    "        plt.grid(True)\n",
    "        \n",
    "        # w_loss\n",
    "        plt.subplot(224)\n",
    "        plt.plot(np.linspace(0,6,20), self.w1_loss)\n",
    "        plt.scatter(self.w_hat[1], lw, c = 'k')\n",
    "        plt.title('Custo em $\\hat{w}$')\n",
    "        plt.grid(True)\n",
    "        plt.tick_params(labelleft=False)\n",
    "        \n",
    "        plt.tight_layout()\n",
    "        display.display(plt.gcf())\n",
    "        display.clear_output(wait=True)\n",
    "        plt.clf() # limpa a imagem do gráfico"
   ]
  },
  {
   "cell_type": "code",
   "execution_count": 5,
   "metadata": {
    "colab": {
     "base_uri": "https://localhost:8080/",
     "height": 34
    },
    "id": "O8e87mqyq8AE",
    "outputId": "df24a6e5-a342-484a-fb43-45f901e415c0"
   },
   "outputs": [
    {
     "data": {
      "text/plain": [
       "<Figure size 640x480 with 0 Axes>"
      ]
     },
     "metadata": {},
     "output_type": "display_data"
    }
   ],
   "source": [
    "regr = linear_regr(learning_rate=0.0005, training_iters=30, show_learning=True)\n",
    "regr.fit(dados['x'], dados['y'])"
   ]
  },
  {
   "cell_type": "code",
   "execution_count": null,
   "metadata": {
    "id": "1RNMvf7foCN6"
   },
   "outputs": [],
   "source": []
  },
  {
   "cell_type": "code",
   "execution_count": null,
   "metadata": {
    "id": "BPZs-eKxXOJB"
   },
   "outputs": [],
   "source": []
  },
  {
   "cell_type": "code",
   "execution_count": null,
   "metadata": {
    "id": "-AlimdOAo81V"
   },
   "outputs": [],
   "source": []
  },
  {
   "cell_type": "code",
   "execution_count": null,
   "metadata": {
    "id": "X1B3bKEAnGAg"
   },
   "outputs": [],
   "source": []
  }
 ],
 "metadata": {
  "colab": {
   "authorship_tag": "ABX9TyMjSaW4ecmlIpl3GPsR++BI",
   "include_colab_link": true,
   "provenance": []
  },
  "kernelspec": {
   "display_name": "Python 3 (ipykernel)",
   "language": "python",
   "name": "python3"
  },
  "language_info": {
   "codemirror_mode": {
    "name": "ipython",
    "version": 3
   },
   "file_extension": ".py",
   "mimetype": "text/x-python",
   "name": "python",
   "nbconvert_exporter": "python",
   "pygments_lexer": "ipython3",
   "version": "3.11.7"
  }
 },
 "nbformat": 4,
 "nbformat_minor": 4
}
