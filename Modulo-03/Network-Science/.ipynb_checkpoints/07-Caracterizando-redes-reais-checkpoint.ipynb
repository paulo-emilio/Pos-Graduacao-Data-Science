{
 "cells": [
  {
   "cell_type": "code",
   "execution_count": 1,
   "metadata": {},
   "outputs": [],
   "source": [
    "import networkx as nx\n",
    "import pandas as pd\n",
    "import numpy as np\n",
    "import seaborn as sns\n",
    "import scipy\n",
    "import matplotlib.pyplot as plt\n",
    "import requests"
   ]
  },
  {
   "cell_type": "code",
   "execution_count": 2,
   "metadata": {
    "collapsed": false,
    "jupyter": {
     "outputs_hidden": false
    }
   },
   "outputs": [],
   "source": [
    "def download_file(url):\n",
    "    file_path = url.split('/')[-1]\n",
    "    resp = requests.get(url)\n",
    "    with open(file_path, 'wb') as f:\n",
    "        f.write(resp.content)\n",
    "    return file_path"
   ]
  },
  {
   "cell_type": "markdown",
   "metadata": {
    "collapsed": false,
    "jupyter": {
     "outputs_hidden": false
    }
   },
   "source": [
    "# 1. Redes de colaboração\n",
    "\n",
    "- Artigos na área de astrofísica\n",
    "- Publicados entre 1993 e 2003\n",
    "\n",
    "[Link para o dataset](https://snap.stanford.edu/data/ca-AstroPh.html)\n",
    "\n",
    "Referência:\n",
    "- J. Leskovec, J. Kleinberg and C. Faloutsos. Graph Evolution: Densification and Shrinking Diameters. ACM Transactions on Knowledge Discovery from Data (ACM TKDD), 1(1), 2007."
   ]
  },
  {
   "cell_type": "code",
   "execution_count": 3,
   "metadata": {
    "collapsed": false,
    "jupyter": {
     "outputs_hidden": false
    }
   },
   "outputs": [
    {
     "data": {
      "text/plain": [
       "'ca-AstroPh.txt.gz'"
      ]
     },
     "execution_count": 3,
     "metadata": {},
     "output_type": "execute_result"
    }
   ],
   "source": [
    "url = 'https://snap.stanford.edu/data/ca-AstroPh.txt.gz'\n",
    "file_path = download_file(url)\n",
    "file_path"
   ]
  },
  {
   "cell_type": "code",
   "execution_count": 4,
   "metadata": {
    "collapsed": false,
    "jupyter": {
     "outputs_hidden": false
    }
   },
   "outputs": [
    {
     "name": "stdout",
     "output_type": "stream",
     "text": [
      "Graph with 18772 nodes and 198110 edges\n"
     ]
    }
   ],
   "source": [
    "G = nx.read_edgelist(file_path)\n",
    "print(G)"
   ]
  },
  {
   "cell_type": "markdown",
   "metadata": {
    "collapsed": false,
    "jupyter": {
     "outputs_hidden": false
    }
   },
   "source": [
    "## Densidade da rede"
   ]
  },
  {
   "cell_type": "code",
   "execution_count": 5,
   "metadata": {
    "collapsed": false,
    "jupyter": {
     "outputs_hidden": false
    }
   },
   "outputs": [
    {
     "data": {
      "text/plain": [
       "0.0011244455715955115"
      ]
     },
     "execution_count": 5,
     "metadata": {},
     "output_type": "execute_result"
    }
   ],
   "source": [
    "nx.density(G)"
   ]
  },
  {
   "cell_type": "markdown",
   "metadata": {
    "collapsed": false,
    "jupyter": {
     "outputs_hidden": false
    }
   },
   "source": [
    "## Conectividade"
   ]
  },
  {
   "cell_type": "code",
   "execution_count": 6,
   "metadata": {
    "collapsed": false,
    "jupyter": {
     "outputs_hidden": false
    }
   },
   "outputs": [
    {
     "data": {
      "text/plain": [
       "False"
      ]
     },
     "execution_count": 6,
     "metadata": {},
     "output_type": "execute_result"
    }
   ],
   "source": [
    "nx.is_connected(G)"
   ]
  },
  {
   "cell_type": "markdown",
   "metadata": {
    "collapsed": false,
    "jupyter": {
     "outputs_hidden": false
    }
   },
   "source": [
    "Quantas **componentes conexas** existem na rede?"
   ]
  },
  {
   "cell_type": "code",
   "execution_count": 7,
   "metadata": {
    "collapsed": false,
    "jupyter": {
     "outputs_hidden": false
    }
   },
   "outputs": [
    {
     "data": {
      "text/plain": [
       "290"
      ]
     },
     "execution_count": 7,
     "metadata": {},
     "output_type": "execute_result"
    }
   ],
   "source": [
    "nx.number_connected_components(G)"
   ]
  },
  {
   "cell_type": "markdown",
   "metadata": {
    "collapsed": false,
    "jupyter": {
     "outputs_hidden": false
    }
   },
   "source": [
    "Convertendo para `list` primeiro:"
   ]
  },
  {
   "cell_type": "code",
   "execution_count": 8,
   "metadata": {
    "collapsed": false,
    "jupyter": {
     "outputs_hidden": false
    }
   },
   "outputs": [
    {
     "data": {
      "text/plain": [
       "290"
      ]
     },
     "execution_count": 8,
     "metadata": {},
     "output_type": "execute_result"
    }
   ],
   "source": [
    "components = nx.connected_components(G)\n",
    "len(list(components))"
   ]
  },
  {
   "cell_type": "markdown",
   "metadata": {},
   "source": [
    "Tamanho de cada componente"
   ]
  },
  {
   "cell_type": "code",
   "execution_count": 9,
   "metadata": {
    "collapsed": false,
    "jupyter": {
     "outputs_hidden": false
    }
   },
   "outputs": [],
   "source": [
    "components = nx.connected_components(G)\n",
    "sizes = []\n",
    "for comp in components:\n",
    "    sizes.append(len(comp))"
   ]
  },
  {
   "cell_type": "markdown",
   "metadata": {
    "collapsed": false,
    "jupyter": {
     "outputs_hidden": false
    }
   },
   "source": [
    "Usando *list comprehension*:"
   ]
  },
  {
   "cell_type": "code",
   "execution_count": 10,
   "metadata": {
    "collapsed": false,
    "jupyter": {
     "outputs_hidden": false
    }
   },
   "outputs": [],
   "source": [
    "components = nx.connected_components(G)\n",
    "sizes = [len(comp) for comp in components]"
   ]
  },
  {
   "cell_type": "code",
   "execution_count": 11,
   "metadata": {
    "collapsed": false,
    "jupyter": {
     "outputs_hidden": false
    }
   },
   "outputs": [
    {
     "data": {
      "text/plain": [
       "count      290.000000\n",
       "mean        64.731034\n",
       "std       1051.125146\n",
       "min          1.000000\n",
       "25%          2.000000\n",
       "50%          3.000000\n",
       "75%          3.000000\n",
       "max      17903.000000\n",
       "dtype: float64"
      ]
     },
     "execution_count": 11,
     "metadata": {},
     "output_type": "execute_result"
    }
   ],
   "source": [
    "sizes = pd.Series(sizes)\n",
    "sizes.describe()"
   ]
  },
  {
   "cell_type": "markdown",
   "metadata": {
    "collapsed": false,
    "jupyter": {
     "outputs_hidden": false
    }
   },
   "source": [
    "Vamos analisar apenas a **maior componente**. Esse é um processo bastante comum."
   ]
  },
  {
   "cell_type": "code",
   "execution_count": 12,
   "metadata": {
    "collapsed": false,
    "jupyter": {
     "outputs_hidden": false
    }
   },
   "outputs": [
    {
     "data": {
      "text/plain": [
       "{'82709',\n",
       " '87415',\n",
       " '82886',\n",
       " '28415',\n",
       " '49462',\n",
       " '128017',\n",
       " '4713',\n",
       " '96909',\n",
       " '65613',\n",
       " '80405',\n",
       " '3087',\n",
       " '92043',\n",
       " '122805',\n",
       " '98279',\n",
       " '63312',\n",
       " '85565',\n",
       " '8100',\n",
       " '82159',\n",
       " '122700',\n",
       " '21368',\n",
       " '72889',\n",
       " '108201',\n",
       " '68728',\n",
       " '46026',\n",
       " '58651',\n",
       " '123438',\n",
       " '43430',\n",
       " '110519',\n",
       " '60766',\n",
       " '10160',\n",
       " '8620',\n",
       " '64481',\n",
       " '68050',\n",
       " '95881',\n",
       " '32078',\n",
       " '48802',\n",
       " '24761',\n",
       " '51977',\n",
       " '130091',\n",
       " '69195',\n",
       " '49019',\n",
       " '79101',\n",
       " '53243',\n",
       " '99361',\n",
       " '45678',\n",
       " '123148',\n",
       " '32270',\n",
       " '85774',\n",
       " '20899',\n",
       " '119604',\n",
       " '56042',\n",
       " '88746',\n",
       " '131840',\n",
       " '106304',\n",
       " '109781',\n",
       " '77581',\n",
       " '117174',\n",
       " '124653',\n",
       " '24637',\n",
       " '83434',\n",
       " '51876',\n",
       " '38608',\n",
       " '8053',\n",
       " '9541',\n",
       " '8396',\n",
       " '30700',\n",
       " '110796',\n",
       " '127702',\n",
       " '74065',\n",
       " '79463',\n",
       " '101996',\n",
       " '79238',\n",
       " '78999',\n",
       " '86126',\n",
       " '78582',\n",
       " '54401',\n",
       " '76439',\n",
       " '104177',\n",
       " '29026',\n",
       " '58703',\n",
       " '31862',\n",
       " '16731',\n",
       " '94793',\n",
       " '95765',\n",
       " '13623',\n",
       " '125956',\n",
       " '109534',\n",
       " '9352',\n",
       " '39335',\n",
       " '49352',\n",
       " '107365',\n",
       " '111616',\n",
       " '56202',\n",
       " '62420',\n",
       " '112184',\n",
       " '106690',\n",
       " '119623',\n",
       " '42318',\n",
       " '23779',\n",
       " '17942',\n",
       " '108143',\n",
       " '6548',\n",
       " '39194',\n",
       " '124056',\n",
       " '48038',\n",
       " '13962',\n",
       " '49691',\n",
       " '4483',\n",
       " '42198',\n",
       " '114543',\n",
       " '5283',\n",
       " '10926',\n",
       " '18397',\n",
       " '93987',\n",
       " '67926',\n",
       " '38527',\n",
       " '4283',\n",
       " '121864',\n",
       " '37479',\n",
       " '98439',\n",
       " '76005',\n",
       " '62855',\n",
       " '72408',\n",
       " '129634',\n",
       " '15613',\n",
       " '18176',\n",
       " '53628',\n",
       " '54208',\n",
       " '45229',\n",
       " '29801',\n",
       " '98282',\n",
       " '120207',\n",
       " '2634',\n",
       " '50946',\n",
       " '42357',\n",
       " '22427',\n",
       " '83572',\n",
       " '93402',\n",
       " '85659',\n",
       " '127757',\n",
       " '65984',\n",
       " '35020',\n",
       " '88032',\n",
       " '112491',\n",
       " '11154',\n",
       " '74614',\n",
       " '86788',\n",
       " '68020',\n",
       " '13219',\n",
       " '21134',\n",
       " '85816',\n",
       " '37861',\n",
       " '53929',\n",
       " '123581',\n",
       " '74577',\n",
       " '68830',\n",
       " '21867',\n",
       " '55094',\n",
       " '97953',\n",
       " '32473',\n",
       " '100152',\n",
       " '90637',\n",
       " '38379',\n",
       " '97504',\n",
       " '83488',\n",
       " '89838',\n",
       " '25735',\n",
       " '58605',\n",
       " '116069',\n",
       " '89644',\n",
       " '46798',\n",
       " '16237',\n",
       " '61897',\n",
       " '124431',\n",
       " '95839',\n",
       " '78426',\n",
       " '89588',\n",
       " '74290',\n",
       " '81496',\n",
       " '125267',\n",
       " '111938',\n",
       " '62844',\n",
       " '29800',\n",
       " '25934',\n",
       " '38898',\n",
       " '53955',\n",
       " '102633',\n",
       " '3780',\n",
       " '33364',\n",
       " '43105',\n",
       " '60010',\n",
       " '72637',\n",
       " '44934',\n",
       " '7919',\n",
       " '68472',\n",
       " '97444',\n",
       " '127660',\n",
       " '75006',\n",
       " '50125',\n",
       " '96436',\n",
       " '100606',\n",
       " '16789',\n",
       " '56399',\n",
       " '98143',\n",
       " '122292',\n",
       " '76400',\n",
       " '66075',\n",
       " '72972',\n",
       " '45697',\n",
       " '48643',\n",
       " '73438',\n",
       " '103432',\n",
       " '77822',\n",
       " '43602',\n",
       " '90912',\n",
       " '100408',\n",
       " '104491',\n",
       " '86505',\n",
       " '104458',\n",
       " '12656',\n",
       " '35292',\n",
       " '125235',\n",
       " '6996',\n",
       " '63073',\n",
       " '16021',\n",
       " '122894',\n",
       " '34524',\n",
       " '108487',\n",
       " '81708',\n",
       " '96239',\n",
       " '68018',\n",
       " '101475',\n",
       " '116949',\n",
       " '63969',\n",
       " '125204',\n",
       " '3550',\n",
       " '62117',\n",
       " '46454',\n",
       " '89308',\n",
       " '89458',\n",
       " '46354',\n",
       " '65253',\n",
       " '4475',\n",
       " '104526',\n",
       " '27872',\n",
       " '82019',\n",
       " '74932',\n",
       " '72570',\n",
       " '13395',\n",
       " '11538',\n",
       " '103211',\n",
       " '32191',\n",
       " '119448',\n",
       " '104297',\n",
       " '48790',\n",
       " '59220',\n",
       " '127749',\n",
       " '118981',\n",
       " '67729',\n",
       " '69977',\n",
       " '11430',\n",
       " '57776',\n",
       " '85810',\n",
       " '51985',\n",
       " '59528',\n",
       " '22313',\n",
       " '2164',\n",
       " '72783',\n",
       " '17441',\n",
       " '28253',\n",
       " '83806',\n",
       " '89755',\n",
       " '127293',\n",
       " '32269',\n",
       " '108366',\n",
       " '40275',\n",
       " '125188',\n",
       " '30927',\n",
       " '34922',\n",
       " '49613',\n",
       " '81201',\n",
       " '76976',\n",
       " '296',\n",
       " '5802',\n",
       " '52162',\n",
       " '70339',\n",
       " '39714',\n",
       " '79552',\n",
       " '133011',\n",
       " '503',\n",
       " '25781',\n",
       " '20780',\n",
       " '94380',\n",
       " '38607',\n",
       " '123413',\n",
       " '25452',\n",
       " '7009',\n",
       " '27225',\n",
       " '55050',\n",
       " '114850',\n",
       " '11412',\n",
       " '103463',\n",
       " '55676',\n",
       " '47029',\n",
       " '89017',\n",
       " '26468',\n",
       " '107324',\n",
       " '55714',\n",
       " '92163',\n",
       " '87493',\n",
       " '83773',\n",
       " '76378',\n",
       " '104749',\n",
       " '89881',\n",
       " '56742',\n",
       " '13577',\n",
       " '86050',\n",
       " '117443',\n",
       " '50897',\n",
       " '29958',\n",
       " '57197',\n",
       " '9504',\n",
       " '131856',\n",
       " '87214',\n",
       " '5852',\n",
       " '103620',\n",
       " '81557',\n",
       " '131988',\n",
       " '40497',\n",
       " '33132',\n",
       " '60699',\n",
       " '127115',\n",
       " '25528',\n",
       " '130322',\n",
       " '55962',\n",
       " '57618',\n",
       " '106685',\n",
       " '99981',\n",
       " '99883',\n",
       " '44793',\n",
       " '94287',\n",
       " '83438',\n",
       " '19839',\n",
       " '56412',\n",
       " '73134',\n",
       " '115988',\n",
       " '128156',\n",
       " '20852',\n",
       " '87944',\n",
       " '63013',\n",
       " '61790',\n",
       " '111967',\n",
       " '16058',\n",
       " '113046',\n",
       " '13146',\n",
       " '26908',\n",
       " '123958',\n",
       " '53891',\n",
       " '75042',\n",
       " '96233',\n",
       " '6540',\n",
       " '106637',\n",
       " '92024',\n",
       " '55640',\n",
       " '127614',\n",
       " '100210',\n",
       " '4904',\n",
       " '55690',\n",
       " '28063',\n",
       " '41947',\n",
       " '40607',\n",
       " '87340',\n",
       " '86304',\n",
       " '62854',\n",
       " '44706',\n",
       " '36019',\n",
       " '102414',\n",
       " '112527',\n",
       " '124095',\n",
       " '57220',\n",
       " '109619',\n",
       " '92094',\n",
       " '100970',\n",
       " '85755',\n",
       " '21816',\n",
       " '79478',\n",
       " '98765',\n",
       " '21149',\n",
       " '29285',\n",
       " '33224',\n",
       " '33973',\n",
       " '42995',\n",
       " '117788',\n",
       " '61846',\n",
       " '102928',\n",
       " '35301',\n",
       " '12466',\n",
       " '25591',\n",
       " '3675',\n",
       " '1904',\n",
       " '16540',\n",
       " '18996',\n",
       " '36368',\n",
       " '56837',\n",
       " '41877',\n",
       " '122391',\n",
       " '67774',\n",
       " '17806',\n",
       " '112097',\n",
       " '98278',\n",
       " '81353',\n",
       " '11530',\n",
       " '83303',\n",
       " '107879',\n",
       " '2766',\n",
       " '9577',\n",
       " '105034',\n",
       " '68796',\n",
       " '126782',\n",
       " '118468',\n",
       " '49321',\n",
       " '110590',\n",
       " '55098',\n",
       " '106392',\n",
       " '99462',\n",
       " '75855',\n",
       " '52907',\n",
       " '117121',\n",
       " '130549',\n",
       " '53608',\n",
       " '599',\n",
       " '51090',\n",
       " '126052',\n",
       " '42551',\n",
       " '107140',\n",
       " '70751',\n",
       " '105035',\n",
       " '15921',\n",
       " '110685',\n",
       " '36579',\n",
       " '124291',\n",
       " '14715',\n",
       " '15765',\n",
       " '30057',\n",
       " '81296',\n",
       " '28563',\n",
       " '123699',\n",
       " '51549',\n",
       " '48707',\n",
       " '66006',\n",
       " '44870',\n",
       " '85744',\n",
       " '55528',\n",
       " '101940',\n",
       " '91063',\n",
       " '69601',\n",
       " '38868',\n",
       " '59371',\n",
       " '131273',\n",
       " '9643',\n",
       " '118306',\n",
       " '32379',\n",
       " '107715',\n",
       " '79201',\n",
       " '122755',\n",
       " '23632',\n",
       " '74941',\n",
       " '73714',\n",
       " '44622',\n",
       " '29353',\n",
       " '82072',\n",
       " '52706',\n",
       " '34033',\n",
       " '104073',\n",
       " '21140',\n",
       " '44127',\n",
       " '13759',\n",
       " '85077',\n",
       " '94787',\n",
       " '48657',\n",
       " '37540',\n",
       " '891',\n",
       " '20355',\n",
       " '63430',\n",
       " '96596',\n",
       " '120507',\n",
       " '94841',\n",
       " '59510',\n",
       " '105477',\n",
       " '120055',\n",
       " '43604',\n",
       " '3981',\n",
       " '98463',\n",
       " '115221',\n",
       " '84334',\n",
       " '107019',\n",
       " '55607',\n",
       " '132284',\n",
       " '115259',\n",
       " '119843',\n",
       " '3766',\n",
       " '110632',\n",
       " '27311',\n",
       " '98349',\n",
       " '15610',\n",
       " '64353',\n",
       " '37832',\n",
       " '39815',\n",
       " '31361',\n",
       " '114815',\n",
       " '78779',\n",
       " '27125',\n",
       " '19888',\n",
       " '11378',\n",
       " '46115',\n",
       " '5580',\n",
       " '48090',\n",
       " '82020',\n",
       " '87344',\n",
       " '73784',\n",
       " '52371',\n",
       " '126194',\n",
       " '77416',\n",
       " '15160',\n",
       " '76672',\n",
       " '123798',\n",
       " '97020',\n",
       " '52613',\n",
       " '86845',\n",
       " '5134',\n",
       " '51662',\n",
       " '54180',\n",
       " '94842',\n",
       " '25544',\n",
       " '108856',\n",
       " '41475',\n",
       " '125102',\n",
       " '98155',\n",
       " '85011',\n",
       " '16305',\n",
       " '95109',\n",
       " '68213',\n",
       " '110473',\n",
       " '749',\n",
       " '116680',\n",
       " '127740',\n",
       " '99468',\n",
       " '64780',\n",
       " '97207',\n",
       " '89924',\n",
       " '103230',\n",
       " '82749',\n",
       " '103235',\n",
       " '85741',\n",
       " '87234',\n",
       " '73420',\n",
       " '3582',\n",
       " '86000',\n",
       " '3334',\n",
       " '69228',\n",
       " '87302',\n",
       " '84730',\n",
       " '20207',\n",
       " '64470',\n",
       " '37040',\n",
       " '50251',\n",
       " '18257',\n",
       " '56448',\n",
       " '124190',\n",
       " '102423',\n",
       " '85764',\n",
       " '120161',\n",
       " '125189',\n",
       " '39743',\n",
       " '81219',\n",
       " '63479',\n",
       " '84204',\n",
       " '131470',\n",
       " '22672',\n",
       " '895',\n",
       " '20218',\n",
       " '21195',\n",
       " '34676',\n",
       " '81564',\n",
       " '54947',\n",
       " '50399',\n",
       " '19480',\n",
       " '116962',\n",
       " '85840',\n",
       " '7208',\n",
       " '5516',\n",
       " '69188',\n",
       " '6291',\n",
       " '118950',\n",
       " '93801',\n",
       " '91008',\n",
       " '100211',\n",
       " '34718',\n",
       " '16260',\n",
       " '30736',\n",
       " '84515',\n",
       " '75280',\n",
       " '3449',\n",
       " '116284',\n",
       " '95784',\n",
       " '2109',\n",
       " '46690',\n",
       " '84804',\n",
       " '44079',\n",
       " '19943',\n",
       " '98191',\n",
       " '101346',\n",
       " '95267',\n",
       " '13977',\n",
       " '90455',\n",
       " '112972',\n",
       " '44631',\n",
       " '52084',\n",
       " '61894',\n",
       " '82216',\n",
       " '302',\n",
       " '26503',\n",
       " '33805',\n",
       " '128016',\n",
       " '116876',\n",
       " '110431',\n",
       " '16276',\n",
       " '28283',\n",
       " '19819',\n",
       " '9167',\n",
       " '48688',\n",
       " '75539',\n",
       " '100974',\n",
       " '93031',\n",
       " '87779',\n",
       " '17514',\n",
       " '871',\n",
       " '130669',\n",
       " '1664',\n",
       " '566',\n",
       " '89169',\n",
       " '65532',\n",
       " '29091',\n",
       " '125373',\n",
       " '5233',\n",
       " '13630',\n",
       " '93692',\n",
       " '108989',\n",
       " '128262',\n",
       " '103217',\n",
       " '3193',\n",
       " '80593',\n",
       " '90075',\n",
       " '85765',\n",
       " '86525',\n",
       " '8446',\n",
       " '116885',\n",
       " '85811',\n",
       " '53427',\n",
       " '69614',\n",
       " '46497',\n",
       " '19564',\n",
       " '107846',\n",
       " '124929',\n",
       " '29949',\n",
       " '18460',\n",
       " '105103',\n",
       " '61803',\n",
       " '45105',\n",
       " '110541',\n",
       " '59627',\n",
       " '20181',\n",
       " '81032',\n",
       " '101370',\n",
       " '49364',\n",
       " '80021',\n",
       " '84513',\n",
       " '77098',\n",
       " '64393',\n",
       " '96923',\n",
       " '13649',\n",
       " '60600',\n",
       " '117818',\n",
       " '26526',\n",
       " '62097',\n",
       " '26786',\n",
       " '60809',\n",
       " '42810',\n",
       " '79171',\n",
       " '103457',\n",
       " '125595',\n",
       " '60576',\n",
       " '84207',\n",
       " '78800',\n",
       " '101941',\n",
       " '58401',\n",
       " '91253',\n",
       " '120865',\n",
       " '73209',\n",
       " '9602',\n",
       " '54558',\n",
       " '80433',\n",
       " '114112',\n",
       " '63142',\n",
       " '17644',\n",
       " '16056',\n",
       " '22979',\n",
       " '126935',\n",
       " '91031',\n",
       " '35666',\n",
       " '11635',\n",
       " '75049',\n",
       " '69433',\n",
       " '8350',\n",
       " '56944',\n",
       " '122140',\n",
       " '113652',\n",
       " '18344',\n",
       " '9335',\n",
       " '46043',\n",
       " '100736',\n",
       " '105827',\n",
       " '25780',\n",
       " '126992',\n",
       " '46583',\n",
       " '386',\n",
       " '51146',\n",
       " '123346',\n",
       " '14694',\n",
       " '79818',\n",
       " '84053',\n",
       " '38290',\n",
       " '72640',\n",
       " '46797',\n",
       " '17440',\n",
       " '36474',\n",
       " '32371',\n",
       " '57447',\n",
       " '85997',\n",
       " '32406',\n",
       " '90954',\n",
       " '117063',\n",
       " '16359',\n",
       " '102654',\n",
       " '5527',\n",
       " '7926',\n",
       " '62419',\n",
       " '120609',\n",
       " '11040',\n",
       " '86991',\n",
       " '65191',\n",
       " '93278',\n",
       " '57495',\n",
       " '130643',\n",
       " '66685',\n",
       " '125854',\n",
       " '36065',\n",
       " '4349',\n",
       " '35598',\n",
       " '66766',\n",
       " '49361',\n",
       " '42098',\n",
       " '54206',\n",
       " '75171',\n",
       " '108283',\n",
       " '112363',\n",
       " '126965',\n",
       " '85883',\n",
       " '117386',\n",
       " '91154',\n",
       " '58132',\n",
       " '78781',\n",
       " '60978',\n",
       " '5547',\n",
       " '58494',\n",
       " '64176',\n",
       " '29741',\n",
       " '71226',\n",
       " '58069',\n",
       " '68252',\n",
       " '116971',\n",
       " '14716',\n",
       " '29893',\n",
       " '116453',\n",
       " '92125',\n",
       " '129360',\n",
       " '115796',\n",
       " '74591',\n",
       " '22071',\n",
       " '22352',\n",
       " '82967',\n",
       " '73618',\n",
       " '43779',\n",
       " '92088',\n",
       " '100024',\n",
       " '20756',\n",
       " '17097',\n",
       " '105406',\n",
       " '41665',\n",
       " '120177',\n",
       " '110751',\n",
       " '103502',\n",
       " '104001',\n",
       " '10565',\n",
       " '127967',\n",
       " '78341',\n",
       " '5101',\n",
       " '3658',\n",
       " '129641',\n",
       " '7521',\n",
       " '77293',\n",
       " '126509',\n",
       " '15678',\n",
       " '59793',\n",
       " '52136',\n",
       " '125164',\n",
       " '126924',\n",
       " '77515',\n",
       " '121270',\n",
       " '72738',\n",
       " '72636',\n",
       " '91923',\n",
       " '17691',\n",
       " '29996',\n",
       " '23459',\n",
       " '28389',\n",
       " '11753',\n",
       " '57477',\n",
       " '16222',\n",
       " '97320',\n",
       " '131389',\n",
       " '17977',\n",
       " '112173',\n",
       " '47831',\n",
       " '8834',\n",
       " '88596',\n",
       " '76626',\n",
       " '7206',\n",
       " '36015',\n",
       " '94410',\n",
       " '67303',\n",
       " '48322',\n",
       " '56795',\n",
       " '50289',\n",
       " '14215',\n",
       " '116658',\n",
       " '118408',\n",
       " '49744',\n",
       " '5912',\n",
       " '86557',\n",
       " '53618',\n",
       " '96987',\n",
       " '122552',\n",
       " '119711',\n",
       " '84',\n",
       " '46673',\n",
       " '17201',\n",
       " '59850',\n",
       " '130842',\n",
       " '100551',\n",
       " '81794',\n",
       " '18911',\n",
       " '86104',\n",
       " '111932',\n",
       " '88905',\n",
       " '110461',\n",
       " '66430',\n",
       " '125609',\n",
       " '27222',\n",
       " '124078',\n",
       " '62459',\n",
       " '110547',\n",
       " '70367',\n",
       " '72216',\n",
       " '102698',\n",
       " '95104',\n",
       " '58216',\n",
       " '7974',\n",
       " '86146',\n",
       " '80602',\n",
       " '80815',\n",
       " '6916',\n",
       " '11478',\n",
       " '1949',\n",
       " '125471',\n",
       " '95261',\n",
       " '111271',\n",
       " '90104',\n",
       " '23816',\n",
       " '5051',\n",
       " '26826',\n",
       " '110239',\n",
       " '95690',\n",
       " '3566',\n",
       " '90119',\n",
       " '65541',\n",
       " '42072',\n",
       " '98647',\n",
       " '27638',\n",
       " '63926',\n",
       " '86690',\n",
       " '90068',\n",
       " '47731',\n",
       " '40108',\n",
       " '54015',\n",
       " '37285',\n",
       " '49740',\n",
       " '12446',\n",
       " '101227',\n",
       " '85409',\n",
       " '127281',\n",
       " '12472',\n",
       " '44794',\n",
       " '132021',\n",
       " '16219',\n",
       " '28164',\n",
       " '80439',\n",
       " '46342',\n",
       " '18007',\n",
       " '23347',\n",
       " '31077',\n",
       " '3167',\n",
       " '44011',\n",
       " '62471',\n",
       " '51064',\n",
       " '64124',\n",
       " '130883',\n",
       " '120859',\n",
       " '60104',\n",
       " '815',\n",
       " '103671',\n",
       " '67189',\n",
       " '119535',\n",
       " '57991',\n",
       " '130409',\n",
       " '36814',\n",
       " '17863',\n",
       " '28251',\n",
       " '30627',\n",
       " '78601',\n",
       " '73082',\n",
       " '127393',\n",
       " '83998',\n",
       " '48548',\n",
       " '130834',\n",
       " '4744',\n",
       " '60819',\n",
       " '32302',\n",
       " '42809',\n",
       " '126015',\n",
       " '25501',\n",
       " '42507',\n",
       " '99923',\n",
       " '131654',\n",
       " '72562',\n",
       " '52987',\n",
       " '21542',\n",
       " '103096',\n",
       " '102382',\n",
       " '7599',\n",
       " '27304',\n",
       " '85113',\n",
       " '45384',\n",
       " '51071',\n",
       " '2657',\n",
       " '95145',\n",
       " '82888',\n",
       " '82170',\n",
       " '122387',\n",
       " '46146',\n",
       " '118320',\n",
       " '44021',\n",
       " '102365',\n",
       " '77819',\n",
       " '33851',\n",
       " '74339',\n",
       " '46783',\n",
       " '12218',\n",
       " '40552',\n",
       " '82796',\n",
       " '5424',\n",
       " '96356',\n",
       " '7359',\n",
       " '86738',\n",
       " '64245',\n",
       " '95255',\n",
       " '4526',\n",
       " '33781',\n",
       " '60472',\n",
       " '124358',\n",
       " '31800',\n",
       " '94648',\n",
       " '17548',\n",
       " '70099',\n",
       " '131370',\n",
       " '59433',\n",
       " '61893',\n",
       " '36643',\n",
       " '84162',\n",
       " '122188',\n",
       " ...}"
      ]
     },
     "execution_count": 12,
     "metadata": {},
     "output_type": "execute_result"
    }
   ],
   "source": [
    "components = nx.connected_components(G)\n",
    "nodes = max(components, key=len)\n",
    "nodes"
   ]
  },
  {
   "cell_type": "code",
   "execution_count": 13,
   "metadata": {
    "collapsed": false,
    "jupyter": {
     "outputs_hidden": false
    }
   },
   "outputs": [
    {
     "name": "stdout",
     "output_type": "stream",
     "text": [
      "Graph with 17903 nodes and 197031 edges\n"
     ]
    }
   ],
   "source": [
    "H = G.subgraph(nodes)\n",
    "print(H)"
   ]
  },
  {
   "cell_type": "markdown",
   "metadata": {
    "collapsed": false,
    "jupyter": {
     "outputs_hidden": false
    }
   },
   "source": [
    "Percentual de nós e arestas na **maior componente**:"
   ]
  },
  {
   "cell_type": "code",
   "execution_count": 14,
   "metadata": {
    "collapsed": false,
    "jupyter": {
     "outputs_hidden": false
    }
   },
   "outputs": [
    {
     "data": {
      "text/plain": [
       "0.9537076496910292"
      ]
     },
     "execution_count": 14,
     "metadata": {},
     "output_type": "execute_result"
    }
   ],
   "source": [
    "H.number_of_nodes() / G.number_of_nodes()"
   ]
  },
  {
   "cell_type": "code",
   "execution_count": 15,
   "metadata": {
    "collapsed": false,
    "jupyter": {
     "outputs_hidden": false
    }
   },
   "outputs": [
    {
     "data": {
      "text/plain": [
       "0.9945535308666902"
      ]
     },
     "execution_count": 15,
     "metadata": {},
     "output_type": "execute_result"
    }
   ],
   "source": [
    "H.number_of_edges() / G.number_of_edges()"
   ]
  },
  {
   "cell_type": "markdown",
   "metadata": {
    "collapsed": false,
    "jupyter": {
     "outputs_hidden": false
    }
   },
   "source": [
    "## Distribuição dos graus"
   ]
  },
  {
   "cell_type": "markdown",
   "metadata": {
    "collapsed": false,
    "jupyter": {
     "outputs_hidden": false
    }
   },
   "source": [
    "### Histograma"
   ]
  },
  {
   "cell_type": "code",
   "execution_count": 16,
   "metadata": {
    "collapsed": false,
    "jupyter": {
     "outputs_hidden": false
    }
   },
   "outputs": [
    {
     "data": {
      "image/png": "[encoded data removed]",
      "text/plain": [
       "<Figure size 640x480 with 1 Axes>"
      ]
     },
     "metadata": {},
     "output_type": "display_data"
    }
   ],
   "source": [
    "degree_list = [degree for node, degree in H.degree]\n",
    "degree_list = pd.Series(degree_list)\n",
    "degree_list.hist();"
   ]
  },
  {
   "cell_type": "code",
   "execution_count": 17,
   "metadata": {
    "collapsed": false,
    "jupyter": {
     "outputs_hidden": false
    }
   },
   "outputs": [
    {
     "data": {
      "text/plain": [
       "count    17903.000000\n",
       "mean        22.010948\n",
       "std         31.016923\n",
       "min          1.000000\n",
       "25%          4.000000\n",
       "50%         10.000000\n",
       "75%         28.000000\n",
       "max        504.000000\n",
       "dtype: float64"
      ]
     },
     "execution_count": 17,
     "metadata": {},
     "output_type": "execute_result"
    }
   ],
   "source": [
    "degree_list.describe()"
   ]
  },
  {
   "cell_type": "code",
   "execution_count": 18,
   "metadata": {},
   "outputs": [
    {
     "data": {
      "image/png": "[encoded data removed]",
      "text/plain": [
       "<Figure size 640x480 with 1 Axes>"
      ]
     },
     "metadata": {},
     "output_type": "display_data"
    }
   ],
   "source": [
    "# somente >= 200\n",
    "degree_list[degree_list >= 200].hist();"
   ]
  },
  {
   "cell_type": "markdown",
   "metadata": {
    "collapsed": false,
    "jupyter": {
     "outputs_hidden": false
    }
   },
   "source": [
    "### Gráfico de *ranqueamento*"
   ]
  },
  {
   "cell_type": "markdown",
   "metadata": {
    "collapsed": false,
    "jupyter": {
     "outputs_hidden": false
    }
   },
   "source": [
    "Apesar de ter cauda longa, não parece seguir Lei de Potência"
   ]
  },
  {
   "cell_type": "code",
   "execution_count": 19,
   "metadata": {
    "collapsed": false,
    "jupyter": {
     "outputs_hidden": false
    }
   },
   "outputs": [
    {
     "data": {
      "image/png": "[encoded data removed]",
      "text/plain": [
       "<Figure size 640x480 with 1 Axes>"
      ]
     },
     "metadata": {},
     "output_type": "display_data"
    }
   ],
   "source": [
    "y = degree_list.sort_values(ascending=False)\n",
    "x = range(len(y))\n",
    "plt.plot(x, y)\n",
    "plt.loglog()\n",
    "plt.xlabel('Posição (rank)')\n",
    "plt.ylabel('Grau do nó');"
   ]
  },
  {
   "cell_type": "markdown",
   "metadata": {
    "collapsed": false,
    "jupyter": {
     "outputs_hidden": false
    }
   },
   "source": [
    "## Distâncias"
   ]
  },
  {
   "cell_type": "markdown",
   "metadata": {
    "collapsed": false,
    "jupyter": {
     "outputs_hidden": false
    }
   },
   "source": [
    "Cálculo pode ser bastante demorado. Por isso vamos usar o módulo `approximation`:"
   ]
  },
  {
   "cell_type": "code",
   "execution_count": 20,
   "metadata": {
    "collapsed": false,
    "jupyter": {
     "outputs_hidden": false
    }
   },
   "outputs": [
    {
     "data": {
      "text/plain": [
       "14"
      ]
     },
     "execution_count": 20,
     "metadata": {},
     "output_type": "execute_result"
    }
   ],
   "source": [
    "nx.algorithms.approximation.diameter(H)"
   ]
  },
  {
   "cell_type": "code",
   "execution_count": 21,
   "metadata": {
    "collapsed": false,
    "jupyter": {
     "outputs_hidden": false
    }
   },
   "outputs": [
    {
     "data": {
      "text/plain": [
       "['1086',\n",
       " '21718',\n",
       " '35290',\n",
       " '38109',\n",
       " '53213',\n",
       " '92790',\n",
       " '89732',\n",
       " '93504',\n",
       " '62821']"
      ]
     },
     "execution_count": 21,
     "metadata": {},
     "output_type": "execute_result"
    }
   ],
   "source": [
    "top_nodes = [node for node, degree in H.degree if degree > 350]\n",
    "top_nodes"
   ]
  },
  {
   "cell_type": "code",
   "execution_count": 22,
   "metadata": {
    "collapsed": false,
    "jupyter": {
     "outputs_hidden": false
    }
   },
   "outputs": [
    {
     "data": {
      "text/plain": [
       "count    17903.000000\n",
       "mean         2.875663\n",
       "std          0.845950\n",
       "min          0.000000\n",
       "25%          2.000000\n",
       "50%          3.000000\n",
       "75%          3.000000\n",
       "max          9.000000\n",
       "dtype: float64"
      ]
     },
     "execution_count": 22,
     "metadata": {},
     "output_type": "execute_result"
    }
   ],
   "source": [
    "# nó 1086 de exemplo\n",
    "distances = nx.shortest_path_length(H, '1086')\n",
    "distances = pd.Series(distances)\n",
    "distances.describe()"
   ]
  },
  {
   "cell_type": "code",
   "execution_count": 23,
   "metadata": {
    "collapsed": false,
    "jupyter": {
     "outputs_hidden": false
    }
   },
   "outputs": [
    {
     "data": {
      "text/plain": [
       "count    17903.000000\n",
       "mean         2.858459\n",
       "std          0.844698\n",
       "min          0.000000\n",
       "25%          2.000000\n",
       "50%          3.000000\n",
       "75%          3.000000\n",
       "max          9.000000\n",
       "dtype: float64"
      ]
     },
     "execution_count": 23,
     "metadata": {},
     "output_type": "execute_result"
    }
   ],
   "source": [
    "# nó 62821 de exemplo\n",
    "distances = nx.shortest_path_length(H, '62821')\n",
    "distances = pd.Series(distances)\n",
    "distances.describe()"
   ]
  },
  {
   "cell_type": "markdown",
   "metadata": {
    "collapsed": false,
    "jupyter": {
     "outputs_hidden": false
    }
   },
   "source": [
    "## Clusterização"
   ]
  },
  {
   "cell_type": "markdown",
   "metadata": {
    "collapsed": false,
    "jupyter": {
     "outputs_hidden": false
    }
   },
   "source": [
    "Mais uma vez, vamos usar uma **aproximação**:"
   ]
  },
  {
   "cell_type": "code",
   "execution_count": 24,
   "metadata": {
    "collapsed": false,
    "jupyter": {
     "outputs_hidden": false
    }
   },
   "outputs": [
    {
     "data": {
      "text/plain": [
       "0.62"
      ]
     },
     "execution_count": 24,
     "metadata": {},
     "output_type": "execute_result"
    }
   ],
   "source": [
    "nx.algorithms.approximation.average_clustering(H)"
   ]
  },
  {
   "cell_type": "markdown",
   "metadata": {
    "collapsed": false,
    "jupyter": {
     "outputs_hidden": false
    }
   },
   "source": [
    "## Comparação com rede aleatória Erdös-Rényi"
   ]
  },
  {
   "cell_type": "code",
   "execution_count": 25,
   "metadata": {
    "collapsed": false,
    "jupyter": {
     "outputs_hidden": false
    }
   },
   "outputs": [
    {
     "name": "stdout",
     "output_type": "stream",
     "text": [
      "Graph with 18772 nodes and 197308 edges\n"
     ]
    }
   ],
   "source": [
    "num_nodes = G.number_of_nodes()\n",
    "density = nx.density(G)\n",
    "random_graph = nx.erdos_renyi_graph(num_nodes, density, seed=42)\n",
    "print(random_graph)"
   ]
  },
  {
   "cell_type": "markdown",
   "metadata": {
    "collapsed": false,
    "jupyter": {
     "outputs_hidden": false
    }
   },
   "source": [
    "### Clusterização"
   ]
  },
  {
   "cell_type": "code",
   "execution_count": 26,
   "metadata": {
    "collapsed": false,
    "jupyter": {
     "outputs_hidden": false
    }
   },
   "outputs": [
    {
     "data": {
      "text/plain": [
       "0.662"
      ]
     },
     "execution_count": 26,
     "metadata": {},
     "output_type": "execute_result"
    }
   ],
   "source": [
    "nx.algorithms.approximation.average_clustering(H)"
   ]
  },
  {
   "cell_type": "code",
   "execution_count": 27,
   "metadata": {
    "collapsed": false,
    "jupyter": {
     "outputs_hidden": false
    }
   },
   "outputs": [
    {
     "data": {
      "text/plain": [
       "0.0"
      ]
     },
     "execution_count": 27,
     "metadata": {},
     "output_type": "execute_result"
    }
   ],
   "source": [
    "nx.algorithms.approximation.average_clustering(random_graph)"
   ]
  },
  {
   "cell_type": "markdown",
   "metadata": {
    "collapsed": false,
    "jupyter": {
     "outputs_hidden": false
    }
   },
   "source": [
    "### Número de componentes"
   ]
  },
  {
   "cell_type": "code",
   "execution_count": 28,
   "metadata": {
    "collapsed": false,
    "jupyter": {
     "outputs_hidden": false
    }
   },
   "outputs": [
    {
     "data": {
      "text/plain": [
       "290"
      ]
     },
     "execution_count": 28,
     "metadata": {},
     "output_type": "execute_result"
    }
   ],
   "source": [
    "nx.number_connected_components(G)"
   ]
  },
  {
   "cell_type": "code",
   "execution_count": 29,
   "metadata": {
    "collapsed": false,
    "jupyter": {
     "outputs_hidden": false
    }
   },
   "outputs": [
    {
     "data": {
      "text/plain": [
       "1"
      ]
     },
     "execution_count": 29,
     "metadata": {},
     "output_type": "execute_result"
    }
   ],
   "source": [
    "nx.number_connected_components(random_graph)"
   ]
  },
  {
   "cell_type": "markdown",
   "metadata": {
    "collapsed": false,
    "jupyter": {
     "outputs_hidden": false
    }
   },
   "source": [
    "### Diâmetro"
   ]
  },
  {
   "cell_type": "code",
   "execution_count": 30,
   "metadata": {
    "collapsed": false,
    "jupyter": {
     "outputs_hidden": false
    }
   },
   "outputs": [
    {
     "data": {
      "text/plain": [
       "14"
      ]
     },
     "execution_count": 30,
     "metadata": {},
     "output_type": "execute_result"
    }
   ],
   "source": [
    "nx.algorithms.approximation.diameter(H)"
   ]
  },
  {
   "cell_type": "code",
   "execution_count": 31,
   "metadata": {
    "collapsed": false,
    "jupyter": {
     "outputs_hidden": false
    }
   },
   "outputs": [
    {
     "data": {
      "text/plain": [
       "5"
      ]
     },
     "execution_count": 31,
     "metadata": {},
     "output_type": "execute_result"
    }
   ],
   "source": [
    "nx.algorithms.approximation.diameter(random_graph)"
   ]
  },
  {
   "cell_type": "markdown",
   "metadata": {
    "collapsed": false,
    "jupyter": {
     "outputs_hidden": false
    }
   },
   "source": [
    "### Distribuição dos graus"
   ]
  },
  {
   "cell_type": "code",
   "execution_count": 32,
   "metadata": {
    "collapsed": false,
    "jupyter": {
     "outputs_hidden": false
    }
   },
   "outputs": [
    {
     "data": {
      "image/png": "[encoded data removed]",
      "text/plain": [
       "<Figure size 640x480 with 1 Axes>"
      ]
     },
     "metadata": {},
     "output_type": "display_data"
    }
   ],
   "source": [
    "degree_list = [degree for node, degree in G.degree]\n",
    "degree_list = pd.Series(degree_list)\n",
    "degree_list.hist();"
   ]
  },
  {
   "cell_type": "code",
   "execution_count": 33,
   "metadata": {
    "collapsed": false,
    "jupyter": {
     "outputs_hidden": false
    }
   },
   "outputs": [
    {
     "data": {
      "image/png": "[encoded data removed]",
      "text/plain": [
       "<Figure size 640x480 with 1 Axes>"
      ]
     },
     "metadata": {},
     "output_type": "display_data"
    }
   ],
   "source": [
    "rng_degree_list = [degree for node, degree in random_graph.degree]\n",
    "rng_degree_list = pd.Series(rng_degree_list)\n",
    "rng_degree_list.hist();"
   ]
  },
  {
   "cell_type": "markdown",
   "metadata": {
    "collapsed": false,
    "jupyter": {
     "outputs_hidden": false
    }
   },
   "source": [
    "# 2. Internet\n",
    "\n",
    "\"*Fotografia*\" tirada em novembro de 2007\n",
    "\n",
    "[Link para o dataset](https://snap.stanford.edu/data/as-Caida.html)\n",
    "\n",
    "Referência:\n",
    "- J. Leskovec, J. Kleinberg and C. Faloutsos. Graphs over Time: Densification Laws, Shrinking Diameters and Possible Explanations. ACM SIGKDD International Conference on Knowledge Discovery and Data Mining (KDD), 2005."
   ]
  },
  {
   "cell_type": "code",
   "execution_count": 34,
   "metadata": {
    "collapsed": false,
    "jupyter": {
     "outputs_hidden": false
    }
   },
   "outputs": [
    {
     "data": {
      "text/plain": [
       "'as-caida20071105.txt.gz'"
      ]
     },
     "execution_count": 34,
     "metadata": {},
     "output_type": "execute_result"
    }
   ],
   "source": [
    "url = 'https://snap.stanford.edu/data/as-caida20071105.txt.gz'\n",
    "file_path = download_file(url)\n",
    "file_path"
   ]
  },
  {
   "cell_type": "code",
   "execution_count": 35,
   "metadata": {
    "collapsed": false,
    "jupyter": {
     "outputs_hidden": false
    }
   },
   "outputs": [
    {
     "name": "stdout",
     "output_type": "stream",
     "text": [
      "Graph with 26475 nodes and 53381 edges\n"
     ]
    }
   ],
   "source": [
    "G = nx.read_weighted_edgelist(file_path)\n",
    "print(G)"
   ]
  },
  {
   "cell_type": "markdown",
   "metadata": {
    "collapsed": false,
    "jupyter": {
     "outputs_hidden": false
    }
   },
   "source": [
    "## Densidade da rede"
   ]
  },
  {
   "cell_type": "markdown",
   "metadata": {
    "collapsed": false,
    "jupyter": {
     "outputs_hidden": false
    }
   },
   "source": [
    "Dez vezes menor do que a rede de colaboração!"
   ]
  },
  {
   "cell_type": "code",
   "execution_count": 36,
   "metadata": {
    "collapsed": false,
    "jupyter": {
     "outputs_hidden": false
    }
   },
   "outputs": [
    {
     "data": {
      "text/plain": [
       "0.0001523214859084934"
      ]
     },
     "execution_count": 36,
     "metadata": {},
     "output_type": "execute_result"
    }
   ],
   "source": [
    "nx.density(G)"
   ]
  },
  {
   "cell_type": "markdown",
   "metadata": {
    "collapsed": false,
    "jupyter": {
     "outputs_hidden": false
    }
   },
   "source": [
    "## Conectividade"
   ]
  },
  {
   "cell_type": "markdown",
   "metadata": {
    "collapsed": false,
    "jupyter": {
     "outputs_hidden": false
    }
   },
   "source": [
    "Faz sentido que a rede seja conectada:"
   ]
  },
  {
   "cell_type": "code",
   "execution_count": 37,
   "metadata": {
    "collapsed": false,
    "jupyter": {
     "outputs_hidden": false
    }
   },
   "outputs": [
    {
     "data": {
      "text/plain": [
       "True"
      ]
     },
     "execution_count": 37,
     "metadata": {},
     "output_type": "execute_result"
    }
   ],
   "source": [
    "nx.is_connected(G)"
   ]
  },
  {
   "cell_type": "markdown",
   "metadata": {
    "collapsed": false,
    "jupyter": {
     "outputs_hidden": false
    }
   },
   "source": [
    "Só existe uma **componente conexa** na rede:"
   ]
  },
  {
   "cell_type": "code",
   "execution_count": 38,
   "metadata": {
    "collapsed": false,
    "jupyter": {
     "outputs_hidden": false
    }
   },
   "outputs": [
    {
     "data": {
      "text/plain": [
       "1"
      ]
     },
     "execution_count": 38,
     "metadata": {},
     "output_type": "execute_result"
    }
   ],
   "source": [
    "nx.number_connected_components(G)"
   ]
  },
  {
   "cell_type": "markdown",
   "metadata": {
    "collapsed": false,
    "jupyter": {
     "outputs_hidden": false
    }
   },
   "source": [
    "## Distribuição dos graus"
   ]
  },
  {
   "cell_type": "markdown",
   "metadata": {
    "collapsed": false,
    "jupyter": {
     "outputs_hidden": false
    }
   },
   "source": [
    "### Histograma"
   ]
  },
  {
   "cell_type": "code",
   "execution_count": 39,
   "metadata": {
    "collapsed": false,
    "jupyter": {
     "outputs_hidden": false
    }
   },
   "outputs": [
    {
     "data": {
      "image/png": "[encoded data removed]",
      "text/plain": [
       "<Figure size 640x480 with 1 Axes>"
      ]
     },
     "metadata": {},
     "output_type": "display_data"
    }
   ],
   "source": [
    "degree_list = [degree for node, degree in G.degree]\n",
    "degree_list = pd.Series(degree_list)\n",
    "degree_list.hist();"
   ]
  },
  {
   "cell_type": "code",
   "execution_count": 40,
   "metadata": {
    "collapsed": false,
    "jupyter": {
     "outputs_hidden": false
    }
   },
   "outputs": [
    {
     "data": {
      "text/plain": [
       "count    26475.000000\n",
       "mean         4.032559\n",
       "std         33.374795\n",
       "min          1.000000\n",
       "25%          1.000000\n",
       "50%          2.000000\n",
       "75%          2.000000\n",
       "max       2628.000000\n",
       "dtype: float64"
      ]
     },
     "execution_count": 40,
     "metadata": {},
     "output_type": "execute_result"
    }
   ],
   "source": [
    "degree_list.describe()"
   ]
  },
  {
   "cell_type": "code",
   "execution_count": 41,
   "metadata": {},
   "outputs": [
    {
     "data": {
      "image/png": "[encoded data removed]",
      "text/plain": [
       "<Figure size 640x480 with 1 Axes>"
      ]
     },
     "metadata": {},
     "output_type": "display_data"
    }
   ],
   "source": [
    "degree_list[degree_list>200].hist();"
   ]
  },
  {
   "cell_type": "markdown",
   "metadata": {
    "collapsed": false,
    "jupyter": {
     "outputs_hidden": false
    }
   },
   "source": [
    "### Gráfico de *ranqueamento*"
   ]
  },
  {
   "cell_type": "markdown",
   "metadata": {
    "collapsed": false,
    "jupyter": {
     "outputs_hidden": false
    }
   },
   "source": [
    "Provavelmente uma Lei de Potência!"
   ]
  },
  {
   "cell_type": "code",
   "execution_count": 42,
   "metadata": {
    "collapsed": false,
    "jupyter": {
     "outputs_hidden": false
    }
   },
   "outputs": [
    {
     "data": {
      "image/png": "[encoded data removed]",
      "text/plain": [
       "<Figure size 640x480 with 1 Axes>"
      ]
     },
     "metadata": {},
     "output_type": "display_data"
    }
   ],
   "source": [
    "y = degree_list.sort_values(ascending=False)\n",
    "x = range(len(y))\n",
    "plt.plot(x, y)\n",
    "plt.loglog()\n",
    "plt.xlabel('Posição (rank)')\n",
    "plt.ylabel('Grau do nó');"
   ]
  },
  {
   "cell_type": "markdown",
   "metadata": {
    "collapsed": false,
    "jupyter": {
     "outputs_hidden": false
    }
   },
   "source": [
    "## Distâncias"
   ]
  },
  {
   "cell_type": "markdown",
   "metadata": {
    "collapsed": false,
    "jupyter": {
     "outputs_hidden": false
    }
   },
   "source": [
    "Novamente usaremos a aproximação:"
   ]
  },
  {
   "cell_type": "code",
   "execution_count": 43,
   "metadata": {
    "collapsed": false,
    "jupyter": {
     "outputs_hidden": false
    }
   },
   "outputs": [
    {
     "data": {
      "text/plain": [
       "17"
      ]
     },
     "execution_count": 43,
     "metadata": {},
     "output_type": "execute_result"
    }
   ],
   "source": [
    "nx.algorithms.approximation.diameter(G)"
   ]
  },
  {
   "cell_type": "code",
   "execution_count": 44,
   "metadata": {
    "collapsed": false,
    "jupyter": {
     "outputs_hidden": false
    }
   },
   "outputs": [
    {
     "data": {
      "text/plain": [
       "['174', '3356', '7018', '701', '1239']"
      ]
     },
     "execution_count": 44,
     "metadata": {},
     "output_type": "execute_result"
    }
   ],
   "source": [
    "top_nodes = [node for node, degree in G.degree if degree > 1500]\n",
    "top_nodes"
   ]
  },
  {
   "cell_type": "code",
   "execution_count": 45,
   "metadata": {
    "collapsed": false,
    "jupyter": {
     "outputs_hidden": false
    }
   },
   "outputs": [
    {
     "data": {
      "text/plain": [
       "count    26475.000000\n",
       "mean         2.421870\n",
       "std          0.728787\n",
       "min          0.000000\n",
       "25%          2.000000\n",
       "50%          2.000000\n",
       "75%          3.000000\n",
       "max         13.000000\n",
       "dtype: float64"
      ]
     },
     "execution_count": 45,
     "metadata": {},
     "output_type": "execute_result"
    }
   ],
   "source": [
    "distances = nx.shortest_path_length(G, '174')\n",
    "distances = pd.Series(distances)\n",
    "distances.describe()"
   ]
  },
  {
   "cell_type": "code",
   "execution_count": 46,
   "metadata": {
    "collapsed": false,
    "jupyter": {
     "outputs_hidden": false
    }
   },
   "outputs": [
    {
     "data": {
      "text/plain": [
       "count    26475.000000\n",
       "mean         2.330538\n",
       "std          0.675398\n",
       "min          0.000000\n",
       "25%          2.000000\n",
       "50%          2.000000\n",
       "75%          3.000000\n",
       "max         13.000000\n",
       "dtype: float64"
      ]
     },
     "execution_count": 46,
     "metadata": {},
     "output_type": "execute_result"
    }
   ],
   "source": [
    "distances = nx.shortest_path_length(G, '3356')\n",
    "distances = pd.Series(distances)\n",
    "distances.describe()"
   ]
  },
  {
   "cell_type": "markdown",
   "metadata": {
    "collapsed": false,
    "jupyter": {
     "outputs_hidden": false
    }
   },
   "source": [
    "## Clusterização"
   ]
  },
  {
   "cell_type": "markdown",
   "metadata": {
    "collapsed": false,
    "jupyter": {
     "outputs_hidden": false
    }
   },
   "source": [
    "Três vezes menor do que a da *Rede de colaboração*:"
   ]
  },
  {
   "cell_type": "code",
   "execution_count": 47,
   "metadata": {
    "collapsed": false,
    "jupyter": {
     "outputs_hidden": false
    }
   },
   "outputs": [
    {
     "data": {
      "text/plain": [
       "0.213"
      ]
     },
     "execution_count": 47,
     "metadata": {},
     "output_type": "execute_result"
    }
   ],
   "source": [
    "nx.algorithms.approximation.average_clustering(G)"
   ]
  },
  {
   "cell_type": "markdown",
   "metadata": {
    "collapsed": false,
    "jupyter": {
     "outputs_hidden": false
    }
   },
   "source": [
    "## Comparação com rede aleatória Erdös-Rényi"
   ]
  },
  {
   "cell_type": "code",
   "execution_count": 48,
   "metadata": {
    "collapsed": false,
    "jupyter": {
     "outputs_hidden": false
    }
   },
   "outputs": [
    {
     "name": "stdout",
     "output_type": "stream",
     "text": [
      "Graph with 26475 nodes and 53285 edges\n"
     ]
    }
   ],
   "source": [
    "num_nodes = G.number_of_nodes()\n",
    "density = nx.density(G)\n",
    "random_graph = nx.erdos_renyi_graph(num_nodes, density, seed=42)\n",
    "print(random_graph)"
   ]
  },
  {
   "cell_type": "markdown",
   "metadata": {
    "collapsed": false,
    "jupyter": {
     "outputs_hidden": false
    }
   },
   "source": [
    "### Clusterização"
   ]
  },
  {
   "cell_type": "code",
   "execution_count": 49,
   "metadata": {
    "collapsed": false,
    "jupyter": {
     "outputs_hidden": false
    }
   },
   "outputs": [
    {
     "data": {
      "text/plain": [
       "0.218"
      ]
     },
     "execution_count": 49,
     "metadata": {},
     "output_type": "execute_result"
    }
   ],
   "source": [
    "nx.algorithms.approximation.average_clustering(G)"
   ]
  },
  {
   "cell_type": "code",
   "execution_count": 50,
   "metadata": {
    "collapsed": false,
    "jupyter": {
     "outputs_hidden": false
    }
   },
   "outputs": [
    {
     "data": {
      "text/plain": [
       "0.0"
      ]
     },
     "execution_count": 50,
     "metadata": {},
     "output_type": "execute_result"
    }
   ],
   "source": [
    "nx.algorithms.approximation.average_clustering(random_graph)"
   ]
  },
  {
   "cell_type": "markdown",
   "metadata": {
    "collapsed": false,
    "jupyter": {
     "outputs_hidden": false
    }
   },
   "source": [
    "### Número de componentes"
   ]
  },
  {
   "cell_type": "code",
   "execution_count": 51,
   "metadata": {
    "collapsed": false,
    "jupyter": {
     "outputs_hidden": false
    }
   },
   "outputs": [
    {
     "data": {
      "text/plain": [
       "1"
      ]
     },
     "execution_count": 51,
     "metadata": {},
     "output_type": "execute_result"
    }
   ],
   "source": [
    "nx.number_connected_components(G)"
   ]
  },
  {
   "cell_type": "code",
   "execution_count": 52,
   "metadata": {
    "collapsed": false,
    "jupyter": {
     "outputs_hidden": false
    }
   },
   "outputs": [
    {
     "data": {
      "text/plain": [
       "474"
      ]
     },
     "execution_count": 52,
     "metadata": {},
     "output_type": "execute_result"
    }
   ],
   "source": [
    "nx.number_connected_components(random_graph)"
   ]
  },
  {
   "cell_type": "markdown",
   "metadata": {
    "collapsed": false,
    "jupyter": {
     "outputs_hidden": false
    }
   },
   "source": [
    "### Diâmetro"
   ]
  },
  {
   "cell_type": "code",
   "execution_count": 53,
   "metadata": {
    "collapsed": false,
    "jupyter": {
     "outputs_hidden": false
    }
   },
   "outputs": [
    {
     "data": {
      "text/plain": [
       "17"
      ]
     },
     "execution_count": 53,
     "metadata": {},
     "output_type": "execute_result"
    }
   ],
   "source": [
    "nx.algorithms.approximation.diameter(G)"
   ]
  },
  {
   "cell_type": "code",
   "execution_count": 54,
   "metadata": {
    "collapsed": false,
    "jupyter": {
     "outputs_hidden": false
    },
    "scrolled": true
   },
   "outputs": [],
   "source": [
    "# nx.algorithms.approximation.diameter(random_graph)"
   ]
  },
  {
   "cell_type": "markdown",
   "metadata": {
    "collapsed": false,
    "jupyter": {
     "outputs_hidden": false
    }
   },
   "source": [
    "Maior componente conexa do grafo aleatório:"
   ]
  },
  {
   "cell_type": "code",
   "execution_count": 55,
   "metadata": {
    "collapsed": false,
    "jupyter": {
     "outputs_hidden": false
    }
   },
   "outputs": [
    {
     "name": "stdout",
     "output_type": "stream",
     "text": [
      "Graph with 25980 nodes and 53263 edges\n"
     ]
    }
   ],
   "source": [
    "components = nx.connected_components(random_graph)\n",
    "nodes = max(components, key=len)\n",
    "random_graph_comp = random_graph.subgraph(nodes)\n",
    "print(random_graph_comp)"
   ]
  },
  {
   "cell_type": "code",
   "execution_count": 56,
   "metadata": {
    "collapsed": false,
    "jupyter": {
     "outputs_hidden": false
    }
   },
   "outputs": [
    {
     "data": {
      "text/plain": [
       "15"
      ]
     },
     "execution_count": 56,
     "metadata": {},
     "output_type": "execute_result"
    }
   ],
   "source": [
    "nx.algorithms.approximation.diameter(random_graph_comp)"
   ]
  },
  {
   "cell_type": "markdown",
   "metadata": {
    "collapsed": false,
    "jupyter": {
     "outputs_hidden": false
    }
   },
   "source": [
    "### Distribuição dos graus"
   ]
  },
  {
   "cell_type": "code",
   "execution_count": 57,
   "metadata": {
    "collapsed": false,
    "jupyter": {
     "outputs_hidden": false
    }
   },
   "outputs": [
    {
     "data": {
      "image/png": "[encoded data removed]",
      "text/plain": [
       "<Figure size 640x480 with 1 Axes>"
      ]
     },
     "metadata": {},
     "output_type": "display_data"
    }
   ],
   "source": [
    "degree_list = [degree for node, degree in G.degree]\n",
    "degree_list = pd.Series(degree_list)\n",
    "degree_list.hist();"
   ]
  },
  {
   "cell_type": "code",
   "execution_count": 58,
   "metadata": {
    "collapsed": false,
    "jupyter": {
     "outputs_hidden": false
    }
   },
   "outputs": [
    {
     "data": {
      "image/png": "[encoded data removed]",
      "text/plain": [
       "<Figure size 640x480 with 1 Axes>"
      ]
     },
     "metadata": {},
     "output_type": "display_data"
    }
   ],
   "source": [
    "rng_degree_list = [degree for node, degree in random_graph.degree]\n",
    "rng_degree_list = pd.Series(rng_degree_list)\n",
    "rng_degree_list.hist();"
   ]
  },
  {
   "cell_type": "markdown",
   "metadata": {
    "collapsed": false,
    "jupyter": {
     "outputs_hidden": false
    }
   },
   "source": [
    "# 3. Estradas\n",
    "\n",
    "- Rede rodoviária do estado da Pensilvânia, EUA.\n",
    "- Rede **direcionada**.\n",
    "\n",
    "[Link para o dataset](https://snap.stanford.edu/data/roadNet-PA.html)\n",
    "\n",
    "Referência:\n",
    "- J. Leskovec, K. Lang, A. Dasgupta, M. Mahoney. Community Structure in Large Networks: Natural Cluster Sizes and the Absence of Large Well-Defined Clusters. Internet Mathematics 6(1) 29--123, 2009."
   ]
  },
  {
   "cell_type": "code",
   "execution_count": 59,
   "metadata": {
    "collapsed": false,
    "jupyter": {
     "outputs_hidden": false
    }
   },
   "outputs": [
    {
     "data": {
      "text/plain": [
       "'roadNet-PA.txt.gz'"
      ]
     },
     "execution_count": 59,
     "metadata": {},
     "output_type": "execute_result"
    }
   ],
   "source": [
    "url = 'https://snap.stanford.edu/data/roadNet-PA.txt.gz'\n",
    "file_path = download_file(url)\n",
    "file_path"
   ]
  },
  {
   "cell_type": "markdown",
   "metadata": {
    "collapsed": false,
    "jupyter": {
     "outputs_hidden": false
    }
   },
   "source": [
    "Essa rede pode demorar para carregar!"
   ]
  },
  {
   "cell_type": "code",
   "execution_count": 60,
   "metadata": {
    "collapsed": false,
    "jupyter": {
     "outputs_hidden": false
    }
   },
   "outputs": [
    {
     "name": "stdout",
     "output_type": "stream",
     "text": [
      "DiGraph with 1088092 nodes and 3083796 edges\n"
     ]
    }
   ],
   "source": [
    "G = nx.read_edgelist(file_path, create_using=nx.DiGraph)\n",
    "print(G)"
   ]
  },
  {
   "cell_type": "markdown",
   "metadata": {
    "collapsed": false,
    "jupyter": {
     "outputs_hidden": false
    }
   },
   "source": [
    "## Densidade da rede"
   ]
  },
  {
   "cell_type": "markdown",
   "metadata": {
    "collapsed": false,
    "jupyter": {
     "outputs_hidden": false
    }
   },
   "source": [
    "Muito menor do que as outras! Por quê?"
   ]
  },
  {
   "cell_type": "code",
   "execution_count": 61,
   "metadata": {
    "collapsed": false,
    "jupyter": {
     "outputs_hidden": false
    }
   },
   "outputs": [
    {
     "data": {
      "text/plain": [
       "2.6046825795723353e-06"
      ]
     },
     "execution_count": 61,
     "metadata": {},
     "output_type": "execute_result"
    }
   ],
   "source": [
    "nx.density(G)"
   ]
  },
  {
   "cell_type": "markdown",
   "metadata": {
    "collapsed": false,
    "jupyter": {
     "outputs_hidden": false
    }
   },
   "source": [
    "## Conectividade"
   ]
  },
  {
   "cell_type": "markdown",
   "metadata": {
    "collapsed": false,
    "jupyter": {
     "outputs_hidden": false
    }
   },
   "source": [
    "Fortemente conexo -> caminho de **ida e volta**"
   ]
  },
  {
   "cell_type": "code",
   "execution_count": 62,
   "metadata": {
    "collapsed": false,
    "jupyter": {
     "outputs_hidden": false
    }
   },
   "outputs": [
    {
     "data": {
      "text/plain": [
       "False"
      ]
     },
     "execution_count": 62,
     "metadata": {},
     "output_type": "execute_result"
    }
   ],
   "source": [
    "nx.is_strongly_connected(G)"
   ]
  },
  {
   "cell_type": "markdown",
   "metadata": {
    "collapsed": false,
    "jupyter": {
     "outputs_hidden": false
    }
   },
   "source": [
    "Quantas **componentes conexas fortes** existem na rede?"
   ]
  },
  {
   "cell_type": "code",
   "execution_count": 63,
   "metadata": {
    "collapsed": false,
    "jupyter": {
     "outputs_hidden": false
    }
   },
   "outputs": [
    {
     "data": {
      "text/plain": [
       "206"
      ]
     },
     "execution_count": 63,
     "metadata": {},
     "output_type": "execute_result"
    }
   ],
   "source": [
    "nx.number_strongly_connected_components(G)"
   ]
  },
  {
   "cell_type": "markdown",
   "metadata": {
    "collapsed": false,
    "jupyter": {
     "outputs_hidden": false
    }
   },
   "source": [
    "Separando a **maior componente conexa forte**:"
   ]
  },
  {
   "cell_type": "code",
   "execution_count": 64,
   "metadata": {
    "collapsed": false,
    "jupyter": {
     "outputs_hidden": false
    }
   },
   "outputs": [
    {
     "name": "stdout",
     "output_type": "stream",
     "text": [
      "DiGraph with 1087562 nodes and 3083028 edges\n"
     ]
    }
   ],
   "source": [
    "components = nx.strongly_connected_components(G)\n",
    "nodes = max(components, key=len)\n",
    "H = G.subgraph(nodes)\n",
    "print(H)"
   ]
  },
  {
   "cell_type": "markdown",
   "metadata": {
    "collapsed": false,
    "jupyter": {
     "outputs_hidden": false
    }
   },
   "source": [
    "Percentual de nós e arestas na **maior componente**:"
   ]
  },
  {
   "cell_type": "code",
   "execution_count": 65,
   "metadata": {
    "collapsed": false,
    "jupyter": {
     "outputs_hidden": false
    }
   },
   "outputs": [
    {
     "data": {
      "text/plain": [
       "0.9995129088349147"
      ]
     },
     "execution_count": 65,
     "metadata": {},
     "output_type": "execute_result"
    }
   ],
   "source": [
    "H.number_of_nodes() / G.number_of_nodes()"
   ]
  },
  {
   "cell_type": "code",
   "execution_count": 66,
   "metadata": {
    "collapsed": false,
    "jupyter": {
     "outputs_hidden": false
    }
   },
   "outputs": [
    {
     "data": {
      "text/plain": [
       "0.9997509562889374"
      ]
     },
     "execution_count": 66,
     "metadata": {},
     "output_type": "execute_result"
    }
   ],
   "source": [
    "H.number_of_edges() / G.number_of_edges()"
   ]
  },
  {
   "cell_type": "markdown",
   "metadata": {
    "collapsed": false,
    "jupyter": {
     "outputs_hidden": false
    }
   },
   "source": [
    "## Distribuição dos graus"
   ]
  },
  {
   "cell_type": "markdown",
   "metadata": {
    "collapsed": false,
    "jupyter": {
     "outputs_hidden": false
    }
   },
   "source": [
    "### Histograma"
   ]
  },
  {
   "cell_type": "markdown",
   "metadata": {
    "collapsed": false,
    "jupyter": {
     "outputs_hidden": false
    }
   },
   "source": [
    "Grau de entrada:"
   ]
  },
  {
   "cell_type": "code",
   "execution_count": 67,
   "metadata": {
    "collapsed": false,
    "jupyter": {
     "outputs_hidden": false
    }
   },
   "outputs": [
    {
     "data": {
      "image/png": "[encoded data removed]",
      "text/plain": [
       "<Figure size 640x480 with 1 Axes>"
      ]
     },
     "metadata": {},
     "output_type": "display_data"
    }
   ],
   "source": [
    "in_degree_list = [degree for node, degree in G.in_degree]\n",
    "in_degree_list = pd.Series(in_degree_list)\n",
    "in_degree_list.hist();"
   ]
  },
  {
   "cell_type": "code",
   "execution_count": 68,
   "metadata": {
    "collapsed": false,
    "jupyter": {
     "outputs_hidden": false
    }
   },
   "outputs": [
    {
     "data": {
      "text/plain": [
       "count    1.088092e+06\n",
       "mean     2.834132e+00\n",
       "std      1.016930e+00\n",
       "min      1.000000e+00\n",
       "25%      2.000000e+00\n",
       "50%      3.000000e+00\n",
       "75%      4.000000e+00\n",
       "max      9.000000e+00\n",
       "dtype: float64"
      ]
     },
     "execution_count": 68,
     "metadata": {},
     "output_type": "execute_result"
    }
   ],
   "source": [
    "in_degree_list.describe()"
   ]
  },
  {
   "cell_type": "markdown",
   "metadata": {
    "collapsed": false,
    "jupyter": {
     "outputs_hidden": false
    }
   },
   "source": [
    "Grau de saída:"
   ]
  },
  {
   "cell_type": "code",
   "execution_count": 69,
   "metadata": {
    "collapsed": false,
    "jupyter": {
     "outputs_hidden": false
    }
   },
   "outputs": [
    {
     "data": {
      "image/png": "[encoded data removed]",
      "text/plain": [
       "<Figure size 640x480 with 1 Axes>"
      ]
     },
     "metadata": {},
     "output_type": "display_data"
    }
   ],
   "source": [
    "out_degree_list = [degree for node, degree in G.out_degree]\n",
    "out_degree_list = pd.Series(out_degree_list)\n",
    "out_degree_list.hist();"
   ]
  },
  {
   "cell_type": "code",
   "execution_count": 70,
   "metadata": {
    "collapsed": false,
    "jupyter": {
     "outputs_hidden": false
    }
   },
   "outputs": [
    {
     "data": {
      "text/plain": [
       "count    1.088092e+06\n",
       "mean     2.834132e+00\n",
       "std      1.016930e+00\n",
       "min      1.000000e+00\n",
       "25%      2.000000e+00\n",
       "50%      3.000000e+00\n",
       "75%      4.000000e+00\n",
       "max      9.000000e+00\n",
       "dtype: float64"
      ]
     },
     "execution_count": 70,
     "metadata": {},
     "output_type": "execute_result"
    }
   ],
   "source": [
    "out_degree_list.describe()"
   ]
  },
  {
   "cell_type": "markdown",
   "metadata": {
    "collapsed": false,
    "jupyter": {
     "outputs_hidden": false
    }
   },
   "source": [
    "### Gráfico de *ranqueamento*"
   ]
  },
  {
   "cell_type": "markdown",
   "metadata": {
    "collapsed": false,
    "jupyter": {
     "outputs_hidden": false
    }
   },
   "source": [
    "Certamente não segue Lei de Potência:"
   ]
  },
  {
   "cell_type": "code",
   "execution_count": 71,
   "metadata": {
    "collapsed": false,
    "jupyter": {
     "outputs_hidden": false
    }
   },
   "outputs": [
    {
     "data": {
      "image/png": "[encoded data removed]",
      "text/plain": [
       "<Figure size 640x480 with 1 Axes>"
      ]
     },
     "metadata": {},
     "output_type": "display_data"
    }
   ],
   "source": [
    "y = in_degree_list.sort_values(ascending=False)\n",
    "x = range(len(y))\n",
    "plt.plot(x, y)\n",
    "plt.loglog()\n",
    "plt.xlabel('Posição (rank)')\n",
    "plt.ylabel('Grau do nó');"
   ]
  },
  {
   "cell_type": "markdown",
   "metadata": {
    "collapsed": false,
    "jupyter": {
     "outputs_hidden": false
    }
   },
   "source": [
    "## Distâncias"
   ]
  },
  {
   "cell_type": "markdown",
   "metadata": {
    "collapsed": false,
    "jupyter": {
     "outputs_hidden": false
    }
   },
   "source": [
    "Limite inferior para o diâmetro:"
   ]
  },
  {
   "cell_type": "code",
   "execution_count": 72,
   "metadata": {
    "collapsed": false,
    "jupyter": {
     "outputs_hidden": false
    }
   },
   "outputs": [
    {
     "data": {
      "text/plain": [
       "794"
      ]
     },
     "execution_count": 72,
     "metadata": {},
     "output_type": "execute_result"
    }
   ],
   "source": [
    "nx.algorithms.approximation.diameter(H)"
   ]
  },
  {
   "cell_type": "code",
   "execution_count": 73,
   "metadata": {
    "collapsed": false,
    "jupyter": {
     "outputs_hidden": false
    }
   },
   "outputs": [
    {
     "data": {
      "text/plain": [
       "count    1.087562e+06\n",
       "mean     2.857163e+02\n",
       "std      1.085169e+02\n",
       "min      0.000000e+00\n",
       "25%      2.070000e+02\n",
       "50%      2.940000e+02\n",
       "75%      3.610000e+02\n",
       "max      5.410000e+02\n",
       "dtype: float64"
      ]
     },
     "execution_count": 73,
     "metadata": {},
     "output_type": "execute_result"
    }
   ],
   "source": [
    "distances = nx.shortest_path_length(H, '0')\n",
    "distances = pd.Series(distances)\n",
    "distances.describe()"
   ]
  },
  {
   "cell_type": "markdown",
   "metadata": {
    "collapsed": false,
    "jupyter": {
     "outputs_hidden": false
    }
   },
   "source": [
    "## Clusterização"
   ]
  },
  {
   "cell_type": "markdown",
   "metadata": {
    "collapsed": false,
    "jupyter": {
     "outputs_hidden": false
    }
   },
   "source": [
    "Vamos criar uma cópia **não direcionada** da rede:"
   ]
  },
  {
   "cell_type": "code",
   "execution_count": 74,
   "metadata": {
    "collapsed": false,
    "jupyter": {
     "outputs_hidden": false
    }
   },
   "outputs": [
    {
     "name": "stdout",
     "output_type": "stream",
     "text": [
      "Graph with 1087562 nodes and 1541514 edges\n"
     ]
    }
   ],
   "source": [
    "undirected = nx.to_undirected(H)\n",
    "print(undirected)"
   ]
  },
  {
   "cell_type": "markdown",
   "metadata": {
    "collapsed": false,
    "jupyter": {
     "outputs_hidden": false
    }
   },
   "source": [
    "Clusterização muito pequena! Faz sentido?"
   ]
  },
  {
   "cell_type": "code",
   "execution_count": 75,
   "metadata": {
    "collapsed": false,
    "jupyter": {
     "outputs_hidden": false
    }
   },
   "outputs": [
    {
     "data": {
      "text/plain": [
       "0.046"
      ]
     },
     "execution_count": 75,
     "metadata": {},
     "output_type": "execute_result"
    }
   ],
   "source": [
    "nx.algorithms.approximation.average_clustering(undirected)"
   ]
  },
  {
   "cell_type": "markdown",
   "metadata": {
    "collapsed": false,
    "jupyter": {
     "outputs_hidden": false
    }
   },
   "source": [
    "## Comparação com rede aleatória Erdös-Rényi"
   ]
  },
  {
   "cell_type": "markdown",
   "metadata": {
    "collapsed": false,
    "jupyter": {
     "outputs_hidden": false
    }
   },
   "source": [
    "Rede muito grade -> **equações**"
   ]
  },
  {
   "cell_type": "code",
   "execution_count": 76,
   "metadata": {
    "collapsed": false,
    "jupyter": {
     "outputs_hidden": false
    }
   },
   "outputs": [
    {
     "data": {
      "text/plain": [
       "(1088092, 2.6046825795723353e-06)"
      ]
     },
     "execution_count": 76,
     "metadata": {},
     "output_type": "execute_result"
    }
   ],
   "source": [
    "n = G.number_of_nodes()\n",
    "p = nx.density(G)\n",
    "n, p"
   ]
  },
  {
   "cell_type": "markdown",
   "metadata": {
    "collapsed": false,
    "jupyter": {
     "outputs_hidden": false
    }
   },
   "source": [
    "### Clusterização"
   ]
  },
  {
   "cell_type": "markdown",
   "metadata": {
    "collapsed": false,
    "jupyter": {
     "outputs_hidden": false
    }
   },
   "source": [
    "Cada aresta tem probabilidade `p` de existir, a chance de haver uma aresta entre vizinhos é `p`"
   ]
  },
  {
   "cell_type": "code",
   "execution_count": 77,
   "metadata": {
    "collapsed": false,
    "jupyter": {
     "outputs_hidden": false
    }
   },
   "outputs": [
    {
     "data": {
      "text/plain": [
       "2.6046825795723353e-06"
      ]
     },
     "execution_count": 77,
     "metadata": {},
     "output_type": "execute_result"
    }
   ],
   "source": [
    "random_graph_clustering = p\n",
    "random_graph_clustering"
   ]
  },
  {
   "cell_type": "markdown",
   "metadata": {
    "collapsed": false,
    "jupyter": {
     "outputs_hidden": false
    }
   },
   "source": [
    "### Número de componentes"
   ]
  },
  {
   "cell_type": "markdown",
   "metadata": {
    "collapsed": false,
    "jupyter": {
     "outputs_hidden": false
    }
   },
   "source": [
    "Componente gigante surge se grau médio é **maior do que 1**!"
   ]
  },
  {
   "cell_type": "code",
   "execution_count": 78,
   "metadata": {
    "collapsed": false,
    "jupyter": {
     "outputs_hidden": false
    }
   },
   "outputs": [
    {
     "data": {
      "text/plain": [
       "2.834131672689442"
      ]
     },
     "execution_count": 78,
     "metadata": {},
     "output_type": "execute_result"
    }
   ],
   "source": [
    "mean_degree = p * (n - 1)\n",
    "mean_degree"
   ]
  },
  {
   "cell_type": "markdown",
   "metadata": {
    "collapsed": false,
    "jupyter": {
     "outputs_hidden": false
    }
   },
   "source": [
    "### Diâmetro"
   ]
  },
  {
   "cell_type": "markdown",
   "metadata": {
    "collapsed": false,
    "jupyter": {
     "outputs_hidden": false
    }
   },
   "source": [
    "Em uma rede aleatória, pode ser estimado pelo **número de nós** e **grau médio**:"
   ]
  },
  {
   "cell_type": "code",
   "execution_count": 79,
   "metadata": {
    "collapsed": false,
    "jupyter": {
     "outputs_hidden": false
    }
   },
   "outputs": [
    {
     "data": {
      "text/plain": [
       "13.343055795874397"
      ]
     },
     "execution_count": 79,
     "metadata": {},
     "output_type": "execute_result"
    }
   ],
   "source": [
    "random_graph_diameter = np.log(n) / np.log(mean_degree)\n",
    "random_graph_diameter"
   ]
  },
  {
   "cell_type": "markdown",
   "metadata": {
    "collapsed": false,
    "jupyter": {
     "outputs_hidden": false
    }
   },
   "source": [
    "### Distribuição dos graus"
   ]
  },
  {
   "cell_type": "markdown",
   "metadata": {
    "collapsed": false,
    "jupyter": {
     "outputs_hidden": false
    }
   },
   "source": [
    "Graus seguem uma **Distribuição Binomial**:"
   ]
  },
  {
   "cell_type": "code",
   "execution_count": 80,
   "metadata": {
    "collapsed": false,
    "jupyter": {
     "outputs_hidden": false
    }
   },
   "outputs": [
    {
     "data": {
      "image/png": "[encoded data removed]",
      "text/plain": [
       "<Figure size 640x480 with 1 Axes>"
      ]
     },
     "metadata": {},
     "output_type": "display_data"
    }
   ],
   "source": [
    "degree_dist = scipy.stats.binom(n - 1, p)\n",
    "x = np.arange(10)\n",
    "y = degree_dist.pmf(x)\n",
    "plt.plot(x, y)\n",
    "plt.xlabel('Grau do nó')\n",
    "plt.ylabel('Probabilidade');"
   ]
  },
  {
   "cell_type": "code",
   "execution_count": 81,
   "metadata": {
    "collapsed": false,
    "jupyter": {
     "outputs_hidden": false
    }
   },
   "outputs": [
    {
     "data": {
      "image/png": "[encoded data removed]",
      "text/plain": [
       "<Figure size 500x500 with 1 Axes>"
      ]
     },
     "metadata": {},
     "output_type": "display_data"
    }
   ],
   "source": [
    "sns.displot(in_degree_list, stat='probability', bins=9)\n",
    "plt.plot(x, y);"
   ]
  },
  {
   "cell_type": "code",
   "execution_count": 82,
   "metadata": {
    "collapsed": false,
    "jupyter": {
     "outputs_hidden": false
    }
   },
   "outputs": [
    {
     "data": {
      "image/png": "[encoded data removed]",
      "text/plain": [
       "<Figure size 640x480 with 1 Axes>"
      ]
     },
     "metadata": {},
     "output_type": "display_data"
    }
   ],
   "source": [
    "rng_degree_list = [degree for node, degree in random_graph.degree]\n",
    "rng_degree_list = pd.Series(rng_degree_list)\n",
    "rng_degree_list.hist();"
   ]
  },
  {
   "cell_type": "markdown",
   "metadata": {
    "collapsed": false,
    "jupyter": {
     "outputs_hidden": false
    }
   },
   "source": [
    "# 4. Redes sociais\n",
    "\n",
    "- Rede social do site [Slashdot](https://slashdot.org/)\n",
    "- Aresta *friend or foe*\n",
    "\n",
    "[Link para o dataset](https://snap.stanford.edu/data/soc-Slashdot0811.html)\n",
    "\n",
    "Referência:\n",
    "- J. Leskovec, K. Lang, A. Dasgupta, M. Mahoney. Community Structure in Large Networks: Natural Cluster Sizes and the Absence of Large Well-Defined Clusters. Internet Mathematics 6(1) 29--123, 2009."
   ]
  },
  {
   "cell_type": "code",
   "execution_count": 83,
   "metadata": {
    "collapsed": false,
    "jupyter": {
     "outputs_hidden": false
    }
   },
   "outputs": [
    {
     "data": {
      "text/plain": [
       "'soc-Slashdot0811.txt.gz'"
      ]
     },
     "execution_count": 83,
     "metadata": {},
     "output_type": "execute_result"
    }
   ],
   "source": [
    "url = 'https://snap.stanford.edu/data/soc-Slashdot0811.txt.gz'\n",
    "file_path = download_file(url)\n",
    "file_path"
   ]
  },
  {
   "cell_type": "code",
   "execution_count": 84,
   "metadata": {
    "collapsed": false,
    "jupyter": {
     "outputs_hidden": false
    }
   },
   "outputs": [
    {
     "name": "stdout",
     "output_type": "stream",
     "text": [
      "DiGraph with 77360 nodes and 905468 edges\n"
     ]
    }
   ],
   "source": [
    "G = nx.read_edgelist(file_path, create_using=nx.DiGraph)\n",
    "print(G)"
   ]
  },
  {
   "cell_type": "markdown",
   "metadata": {
    "collapsed": false,
    "jupyter": {
     "outputs_hidden": false
    }
   },
   "source": [
    "## Densidade da rede"
   ]
  },
  {
   "cell_type": "markdown",
   "metadata": {
    "collapsed": false,
    "jupyter": {
     "outputs_hidden": false
    }
   },
   "source": [
    "Muito parecida com a densidade da Internet!"
   ]
  },
  {
   "cell_type": "code",
   "execution_count": 85,
   "metadata": {
    "collapsed": false,
    "jupyter": {
     "outputs_hidden": false
    }
   },
   "outputs": [
    {
     "data": {
      "text/plain": [
       "0.0001513023935343928"
      ]
     },
     "execution_count": 85,
     "metadata": {},
     "output_type": "execute_result"
    }
   ],
   "source": [
    "nx.density(G)"
   ]
  },
  {
   "cell_type": "markdown",
   "metadata": {
    "collapsed": false,
    "jupyter": {
     "outputs_hidden": false
    }
   },
   "source": [
    "## Conectividade"
   ]
  },
  {
   "cell_type": "markdown",
   "metadata": {
    "collapsed": false,
    "jupyter": {
     "outputs_hidden": false
    }
   },
   "source": [
    "Fortemente conexo -> caminho de **ida e volta**"
   ]
  },
  {
   "cell_type": "code",
   "execution_count": 86,
   "metadata": {
    "collapsed": false,
    "jupyter": {
     "outputs_hidden": false
    }
   },
   "outputs": [
    {
     "data": {
      "text/plain": [
       "False"
      ]
     },
     "execution_count": 86,
     "metadata": {},
     "output_type": "execute_result"
    }
   ],
   "source": [
    "nx.is_strongly_connected(G)"
   ]
  },
  {
   "cell_type": "markdown",
   "metadata": {
    "collapsed": false,
    "jupyter": {
     "outputs_hidden": false
    }
   },
   "source": [
    "Muitas **componentes conexas fortes**!"
   ]
  },
  {
   "cell_type": "code",
   "execution_count": 87,
   "metadata": {
    "collapsed": false,
    "jupyter": {
     "outputs_hidden": false
    }
   },
   "outputs": [
    {
     "data": {
      "text/plain": [
       "6724"
      ]
     },
     "execution_count": 87,
     "metadata": {},
     "output_type": "execute_result"
    }
   ],
   "source": [
    "nx.number_strongly_connected_components(G)"
   ]
  },
  {
   "cell_type": "markdown",
   "metadata": {
    "collapsed": false,
    "jupyter": {
     "outputs_hidden": false
    }
   },
   "source": [
    "Separando a **maior componente conexa forte**:"
   ]
  },
  {
   "cell_type": "code",
   "execution_count": 88,
   "metadata": {
    "collapsed": false,
    "jupyter": {
     "outputs_hidden": false
    }
   },
   "outputs": [
    {
     "name": "stdout",
     "output_type": "stream",
     "text": [
      "DiGraph with 70355 nodes and 888662 edges\n"
     ]
    }
   ],
   "source": [
    "components = nx.strongly_connected_components(G)\n",
    "nodes = max(components, key=len)\n",
    "H = G.subgraph(nodes)\n",
    "print(H)"
   ]
  },
  {
   "cell_type": "markdown",
   "metadata": {
    "collapsed": false,
    "jupyter": {
     "outputs_hidden": false
    }
   },
   "source": [
    "Percentual de nós e arestas na **maior componente**:"
   ]
  },
  {
   "cell_type": "code",
   "execution_count": 89,
   "metadata": {
    "collapsed": false,
    "jupyter": {
     "outputs_hidden": false
    }
   },
   "outputs": [
    {
     "data": {
      "text/plain": [
       "0.9094493278179938"
      ]
     },
     "execution_count": 89,
     "metadata": {},
     "output_type": "execute_result"
    }
   ],
   "source": [
    "H.number_of_nodes() / G.number_of_nodes()"
   ]
  },
  {
   "cell_type": "code",
   "execution_count": 90,
   "metadata": {
    "collapsed": false,
    "jupyter": {
     "outputs_hidden": false
    }
   },
   "outputs": [
    {
     "data": {
      "text/plain": [
       "0.9814394324261045"
      ]
     },
     "execution_count": 90,
     "metadata": {},
     "output_type": "execute_result"
    }
   ],
   "source": [
    "H.number_of_edges() / G.number_of_edges()"
   ]
  },
  {
   "cell_type": "markdown",
   "metadata": {
    "collapsed": false,
    "jupyter": {
     "outputs_hidden": false
    }
   },
   "source": [
    "Menor conectividade quando comparada às outras redes"
   ]
  },
  {
   "cell_type": "markdown",
   "metadata": {
    "collapsed": false,
    "jupyter": {
     "outputs_hidden": false
    }
   },
   "source": [
    "## Distribuição dos graus"
   ]
  },
  {
   "cell_type": "markdown",
   "metadata": {
    "collapsed": false,
    "jupyter": {
     "outputs_hidden": false
    }
   },
   "source": [
    "### Histograma"
   ]
  },
  {
   "cell_type": "markdown",
   "metadata": {
    "collapsed": false,
    "jupyter": {
     "outputs_hidden": false
    }
   },
   "source": [
    "Grau de entrada:"
   ]
  },
  {
   "cell_type": "code",
   "execution_count": 91,
   "metadata": {
    "collapsed": false,
    "jupyter": {
     "outputs_hidden": false
    }
   },
   "outputs": [
    {
     "data": {
      "image/png": "[encoded data removed]",
      "text/plain": [
       "<Figure size 640x480 with 1 Axes>"
      ]
     },
     "metadata": {},
     "output_type": "display_data"
    }
   ],
   "source": [
    "in_degree_list = [degree for node, degree in G.in_degree]\n",
    "in_degree_list = pd.Series(in_degree_list)\n",
    "in_degree_list.hist();"
   ]
  },
  {
   "cell_type": "code",
   "execution_count": 92,
   "metadata": {
    "collapsed": false,
    "jupyter": {
     "outputs_hidden": false
    }
   },
   "outputs": [
    {
     "data": {
      "text/plain": [
       "count    77360.000000\n",
       "mean        11.704602\n",
       "std         37.205199\n",
       "min          1.000000\n",
       "25%          2.000000\n",
       "50%          3.000000\n",
       "75%          8.000000\n",
       "max       2540.000000\n",
       "dtype: float64"
      ]
     },
     "execution_count": 92,
     "metadata": {},
     "output_type": "execute_result"
    }
   ],
   "source": [
    "in_degree_list.describe()"
   ]
  },
  {
   "cell_type": "markdown",
   "metadata": {
    "collapsed": false,
    "jupyter": {
     "outputs_hidden": false
    }
   },
   "source": [
    "Grau de saída:"
   ]
  },
  {
   "cell_type": "code",
   "execution_count": 93,
   "metadata": {
    "collapsed": false,
    "jupyter": {
     "outputs_hidden": false
    }
   },
   "outputs": [
    {
     "data": {
      "image/png": "[encoded data removed]",
      "text/plain": [
       "<Figure size 640x480 with 1 Axes>"
      ]
     },
     "metadata": {},
     "output_type": "display_data"
    }
   ],
   "source": [
    "out_degree_list = [degree for node, degree in G.out_degree]\n",
    "out_degree_list = pd.Series(out_degree_list)\n",
    "out_degree_list.hist();"
   ]
  },
  {
   "cell_type": "code",
   "execution_count": 94,
   "metadata": {
    "collapsed": false,
    "jupyter": {
     "outputs_hidden": false
    }
   },
   "outputs": [
    {
     "data": {
      "text/plain": [
       "count    77360.000000\n",
       "mean        11.704602\n",
       "std         36.844128\n",
       "min          0.000000\n",
       "25%          2.000000\n",
       "50%          3.000000\n",
       "75%          7.000000\n",
       "max       2508.000000\n",
       "dtype: float64"
      ]
     },
     "execution_count": 94,
     "metadata": {},
     "output_type": "execute_result"
    }
   ],
   "source": [
    "out_degree_list.describe()"
   ]
  },
  {
   "cell_type": "markdown",
   "metadata": {
    "collapsed": false,
    "jupyter": {
     "outputs_hidden": false
    }
   },
   "source": [
    "Graus de entrada e saída são parecidos"
   ]
  },
  {
   "cell_type": "markdown",
   "metadata": {
    "collapsed": false,
    "jupyter": {
     "outputs_hidden": false
    }
   },
   "source": [
    "### Gráfico de *ranqueamento*"
   ]
  },
  {
   "cell_type": "markdown",
   "metadata": {
    "collapsed": false,
    "jupyter": {
     "outputs_hidden": false
    }
   },
   "source": [
    "Será que segue Lei de Potência?"
   ]
  },
  {
   "cell_type": "code",
   "execution_count": 95,
   "metadata": {
    "collapsed": false,
    "jupyter": {
     "outputs_hidden": false
    }
   },
   "outputs": [
    {
     "data": {
      "image/png": "[encoded data removed]",
      "text/plain": [
       "<Figure size 640x480 with 1 Axes>"
      ]
     },
     "metadata": {},
     "output_type": "display_data"
    }
   ],
   "source": [
    "y = in_degree_list.sort_values(ascending=False)\n",
    "x = range(len(y))\n",
    "plt.plot(x, y)\n",
    "plt.loglog()\n",
    "plt.xlabel('Posição (rank)')\n",
    "plt.ylabel('Grau do nó');"
   ]
  },
  {
   "cell_type": "markdown",
   "metadata": {
    "collapsed": false,
    "jupyter": {
     "outputs_hidden": false
    }
   },
   "source": [
    "## Distâncias"
   ]
  },
  {
   "cell_type": "markdown",
   "metadata": {
    "collapsed": false,
    "jupyter": {
     "outputs_hidden": false
    }
   },
   "source": [
    "Limite inferior para o diâmetro:"
   ]
  },
  {
   "cell_type": "code",
   "execution_count": 96,
   "metadata": {
    "collapsed": false,
    "jupyter": {
     "outputs_hidden": false
    }
   },
   "outputs": [
    {
     "data": {
      "text/plain": [
       "12"
      ]
     },
     "execution_count": 96,
     "metadata": {},
     "output_type": "execute_result"
    }
   ],
   "source": [
    "nx.algorithms.approximation.diameter(H)"
   ]
  },
  {
   "cell_type": "code",
   "execution_count": 97,
   "metadata": {
    "collapsed": false,
    "jupyter": {
     "outputs_hidden": false
    }
   },
   "outputs": [
    {
     "data": {
      "text/plain": [
       "count    70355.00000\n",
       "mean         3.09435\n",
       "std          0.66968\n",
       "min          0.00000\n",
       "25%          3.00000\n",
       "50%          3.00000\n",
       "75%          3.00000\n",
       "max          7.00000\n",
       "dtype: float64"
      ]
     },
     "execution_count": 97,
     "metadata": {},
     "output_type": "execute_result"
    }
   ],
   "source": [
    "distances = nx.shortest_path_length(H, '0')\n",
    "distances = pd.Series(distances)\n",
    "distances.describe()"
   ]
  },
  {
   "cell_type": "markdown",
   "metadata": {
    "collapsed": false,
    "jupyter": {
     "outputs_hidden": false
    }
   },
   "source": [
    "## Clusterização"
   ]
  },
  {
   "cell_type": "markdown",
   "metadata": {
    "collapsed": false,
    "jupyter": {
     "outputs_hidden": false
    }
   },
   "source": [
    "Vamos criar uma cópia **não direcionada** da rede:"
   ]
  },
  {
   "cell_type": "code",
   "execution_count": 98,
   "metadata": {
    "collapsed": false,
    "jupyter": {
     "outputs_hidden": false
    }
   },
   "outputs": [
    {
     "name": "stdout",
     "output_type": "stream",
     "text": [
      "Graph with 70355 nodes and 529972 edges\n"
     ]
    }
   ],
   "source": [
    "undirected = nx.to_undirected(H)\n",
    "print(undirected)"
   ]
  },
  {
   "cell_type": "markdown",
   "metadata": {
    "collapsed": false,
    "jupyter": {
     "outputs_hidden": false
    }
   },
   "source": [
    "Como em muitas redes sociais, clusterização é alta!"
   ]
  },
  {
   "cell_type": "code",
   "execution_count": 99,
   "metadata": {
    "collapsed": false,
    "jupyter": {
     "outputs_hidden": false
    }
   },
   "outputs": [
    {
     "data": {
      "text/plain": [
       "0.576"
      ]
     },
     "execution_count": 99,
     "metadata": {},
     "output_type": "execute_result"
    }
   ],
   "source": [
    "nx.algorithms.approximation.average_clustering(undirected)"
   ]
  },
  {
   "cell_type": "markdown",
   "metadata": {
    "collapsed": false,
    "jupyter": {
     "outputs_hidden": false
    }
   },
   "source": [
    "## Comparação com rede aleatória Erdös-Rényi"
   ]
  },
  {
   "cell_type": "markdown",
   "metadata": {
    "collapsed": false,
    "jupyter": {
     "outputs_hidden": false
    }
   },
   "source": [
    "Vamos aproveitar as equações!"
   ]
  },
  {
   "cell_type": "code",
   "execution_count": 100,
   "metadata": {
    "collapsed": false,
    "jupyter": {
     "outputs_hidden": false
    }
   },
   "outputs": [
    {
     "data": {
      "text/plain": [
       "(77360, 0.0001513023935343928)"
      ]
     },
     "execution_count": 100,
     "metadata": {},
     "output_type": "execute_result"
    }
   ],
   "source": [
    "n = G.number_of_nodes()\n",
    "p = nx.density(G)\n",
    "n, p"
   ]
  },
  {
   "cell_type": "markdown",
   "metadata": {
    "collapsed": false,
    "jupyter": {
     "outputs_hidden": false
    }
   },
   "source": [
    "### Clusterização"
   ]
  },
  {
   "cell_type": "markdown",
   "metadata": {
    "collapsed": false,
    "jupyter": {
     "outputs_hidden": false
    }
   },
   "source": [
    "Certamente não é uma rede aleatória!"
   ]
  },
  {
   "cell_type": "code",
   "execution_count": 101,
   "metadata": {
    "collapsed": false,
    "jupyter": {
     "outputs_hidden": false
    }
   },
   "outputs": [
    {
     "data": {
      "text/plain": [
       "0.0001513023935343928"
      ]
     },
     "execution_count": 101,
     "metadata": {},
     "output_type": "execute_result"
    }
   ],
   "source": [
    "random_graph_clustering = p\n",
    "random_graph_clustering"
   ]
  },
  {
   "cell_type": "markdown",
   "metadata": {
    "collapsed": false,
    "jupyter": {
     "outputs_hidden": false
    }
   },
   "source": [
    "### Número de componentes"
   ]
  },
  {
   "cell_type": "markdown",
   "metadata": {
    "collapsed": false,
    "jupyter": {
     "outputs_hidden": false
    }
   },
   "source": [
    "Com grau médio > 1, tendência de formar uma **componente gigante**"
   ]
  },
  {
   "cell_type": "code",
   "execution_count": 102,
   "metadata": {
    "collapsed": false,
    "jupyter": {
     "outputs_hidden": false
    }
   },
   "outputs": [
    {
     "data": {
      "text/plain": [
       "11.704601861427093"
      ]
     },
     "execution_count": 102,
     "metadata": {},
     "output_type": "execute_result"
    }
   ],
   "source": [
    "mean_degree = p * (n - 1)\n",
    "mean_degree"
   ]
  },
  {
   "cell_type": "markdown",
   "metadata": {
    "collapsed": false,
    "jupyter": {
     "outputs_hidden": false
    }
   },
   "source": [
    "### Diâmetro"
   ]
  },
  {
   "cell_type": "markdown",
   "metadata": {
    "collapsed": false,
    "jupyter": {
     "outputs_hidden": false
    }
   },
   "source": [
    "Na rede aleatória, esperamos um diâmetro menor:"
   ]
  },
  {
   "cell_type": "code",
   "execution_count": 103,
   "metadata": {
    "collapsed": false,
    "jupyter": {
     "outputs_hidden": false
    }
   },
   "outputs": [
    {
     "data": {
      "text/plain": [
       "4.575734593499139"
      ]
     },
     "execution_count": 103,
     "metadata": {},
     "output_type": "execute_result"
    }
   ],
   "source": [
    "random_graph_diameter = np.log(n) / np.log(mean_degree)\n",
    "random_graph_diameter"
   ]
  },
  {
   "cell_type": "markdown",
   "metadata": {
    "collapsed": false,
    "jupyter": {
     "outputs_hidden": false
    }
   },
   "source": [
    "### Distribuição dos graus"
   ]
  },
  {
   "cell_type": "markdown",
   "metadata": {
    "collapsed": false,
    "jupyter": {
     "outputs_hidden": false
    }
   },
   "source": [
    "Graus seguem uma **Distribuição Binomial**:"
   ]
  },
  {
   "cell_type": "code",
   "execution_count": 104,
   "metadata": {
    "collapsed": false,
    "jupyter": {
     "outputs_hidden": false
    }
   },
   "outputs": [
    {
     "data": {
      "image/png": "[encoded data removed]",
      "text/plain": [
       "<Figure size 640x480 with 1 Axes>"
      ]
     },
     "metadata": {},
     "output_type": "display_data"
    }
   ],
   "source": [
    "degree_dist = scipy.stats.binom(n - 1, p)\n",
    "x = np.arange(20)\n",
    "y = degree_dist.pmf(x)\n",
    "plt.plot(x, y)\n",
    "plt.xlabel('Grau do nó')\n",
    "plt.ylabel('Probabilidade');"
   ]
  },
  {
   "cell_type": "code",
   "execution_count": 105,
   "metadata": {
    "collapsed": false,
    "jupyter": {
     "outputs_hidden": false
    }
   },
   "outputs": [
    {
     "data": {
      "image/png": "[encoded data removed]",
      "text/plain": [
       "<Figure size 640x480 with 1 Axes>"
      ]
     },
     "metadata": {},
     "output_type": "display_data"
    }
   ],
   "source": [
    "in_degree_list.hist();"
   ]
  }
 ],
 "metadata": {
  "kernelspec": {
   "display_name": "Python 3 (ipykernel)",
   "language": "python",
   "name": "python3"
  },
  "language_info": {
   "codemirror_mode": {
    "name": "ipython",
    "version": 3
   },
   "file_extension": ".py",
   "mimetype": "text/x-python",
   "name": "python",
   "nbconvert_exporter": "python",
   "pygments_lexer": "ipython3",
   "version": "3.11.7"
  }
 },
 "nbformat": 4,
 "nbformat_minor": 4
}
