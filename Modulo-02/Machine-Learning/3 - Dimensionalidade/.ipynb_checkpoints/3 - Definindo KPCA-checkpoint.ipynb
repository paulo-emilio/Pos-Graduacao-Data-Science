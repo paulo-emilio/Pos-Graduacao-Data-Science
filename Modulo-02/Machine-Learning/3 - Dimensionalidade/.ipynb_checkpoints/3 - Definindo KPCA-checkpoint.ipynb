{
 "cells": [
  {
   "cell_type": "markdown",
   "id": "cb33e860",
   "metadata": {},
   "source": [
    "# `KPCA`\n",
    "\n",
    "O KPCA é um algoritmo de aprendizado não supervisionado. A sigla significa Kernel Principal Component Analysis, que significa análise de componentes principais via kernel em inglês.\n",
    "\n",
    "O objetivo do KPCA é transformar as variáveis originais para novas variáveis, chamadas de componentes principais. Elas são projeções dos dados em espaços de dimensão menor. \n",
    "\n",
    "Ou seja, é exatamente o mesmo objetivo do PCA. A grande diferença é que o PCA é apropriado para quando os dados possuem uma relação linear, enquanto o KPCA consegue funcionar bem para conjuntos de dados com relações não lineares.\n",
    "\n",
    "<br><br>\n",
    "\n",
    "![alt_tex](https://ml-lectures.org/_images/circles_pca_kpca.png)"
   ]
  },
  {
   "cell_type": "markdown",
   "id": "6834ea6d",
   "metadata": {},
   "source": [
    "<br><br><br>\n",
    "\n",
    "### `Como funciona?`\n",
    "\n",
    "Para resolver os casos não lineares, o KPCA utiliza funções (kernel) para transformar os dados em um espaço linear, para então achar os componentes principais, exatamente igual ao PCA. Esse espaço transformado é chamado de espaco das features.\n",
    "\n",
    "<br><br>\n",
    "\n",
    "![alt_text](https://www.researchgate.net/publication/220238310/figure/fig1/AS:671522461061127@1537114839554/Simplified-overview-of-KPCA.png)"
   ]
  },
  {
   "cell_type": "markdown",
   "id": "e6fd6c3f",
   "metadata": {},
   "source": [
    " "
   ]
  },
  {
   "cell_type": "markdown",
   "id": "74b51b89",
   "metadata": {},
   "source": [
    " "
   ]
  },
  {
   "cell_type": "markdown",
   "id": "95fca24b",
   "metadata": {},
   "source": [
    "#### `Vantagens e Desvantagens do KPCA`\n",
    "\n",
    "<br>\n",
    "\n",
    "`Vantagens`\n",
    "* Funciona muito bem para dados não linearmente relacionados;\n",
    "* Muito utilizado para redução de dimensionalidade em imagens.\n",
    "\n",
    "\n",
    "`Desvantagens`\n",
    "* Nem sempre é fácil escolher o valor de K;\n",
    "* O resultado depende da escolha da função kernel;\n",
    "* Custo computacional pode ser alto para um grande volume de dados;\n",
    "* Não temos uma boa explicabilidade."
   ]
  }
 ],
 "metadata": {
  "kernelspec": {
   "display_name": "Python 3 (ipykernel)",
   "language": "python",
   "name": "python3"
  },
  "language_info": {
   "codemirror_mode": {
    "name": "ipython",
    "version": 3
   },
   "file_extension": ".py",
   "mimetype": "text/x-python",
   "name": "python",
   "nbconvert_exporter": "python",
   "pygments_lexer": "ipython3",
   "version": "3.8.9"
  }
 },
 "nbformat": 4,
 "nbformat_minor": 5
}
