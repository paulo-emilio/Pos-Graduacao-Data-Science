{
 "cells": [
  {
   "cell_type": "markdown",
   "id": "3bd6cacf",
   "metadata": {},
   "source": [
    "# `ALS` \n",
    "\n",
    "\n",
    "ALS é um algoritmo de machine learning usado para recomendação. A sigla significa Alternating Least Squares (Mínimos Quadrados Alternados em inglês), e é um algoritmo de filtragem colaborativa que usa fatoração de matrizes para fazer recomendações de itens para usuários, baseado numa matriz de interação usuário-item.\n",
    "\n",
    "\n",
    "Primeiro, vamos entender o que é fatoração de matrizes para depois entender como o ALS funciona.\n",
    "\n",
    "<br>\n",
    "\n",
    "![alt_text](https://miro.medium.com/max/781/1*EZu5sHcoyDhsRC00C9ZCTg.png)"
   ]
  },
  {
   "cell_type": "markdown",
   "id": "350092f5",
   "metadata": {},
   "source": [
    "### `Fatoração de Matrizes`\n",
    "\n",
    "\n",
    "\n",
    "Uma fatoração de matriz é uma decomposição de uma matriz em um produto de matrizes. No caso da filtragem colaborativa, os algoritmos de fatoração de matriz funcionam decompondo a matriz de interação usuário-item no produto de duas matrizes retangulares de menor dimensionalidade. \n",
    "\n",
    "Uma matriz pode ser vista como a matriz do usuário, onde as linhas representam os usuários e as colunas são os fatores latentes. \n",
    "\n",
    "A outra matriz é a matriz de itens onde as linhas são fatores latentes e as colunas representam itens.\n",
    "\n",
    "<br>\n",
    "\n",
    "![alt_text](https://miro.medium.com/max/1400/1*xMxQL_V9CWeLggrk-Uyzmg.png)"
   ]
  },
  {
   "cell_type": "markdown",
   "id": "c9d04876",
   "metadata": {},
   "source": [
    "<br><br>"
   ]
  },
  {
   "cell_type": "markdown",
   "id": "b8d16a6a",
   "metadata": {},
   "source": [
    "### `Como funciona?`\n",
    "\n",
    "\n",
    "\n",
    "O ALS aprende a fatorar a matriz de classificação em duas matrizes, a dos usuários e a dos itens. Daí, usando as posições preenchidas da matriz de interações usuário-item, o algoritmo chega nos melhores valores para as matrizes de usuários por fatores latentes e itens por fatores latentes para que o produto delas seja o mais próximo possível do valor observado. \n",
    "\n",
    "O resultado disso é que a matriz resultante do produto da matriz de usuário pela matriz de itens é uma matriz completamente preenchida, que vai conter as previsões das interações usuário-item que não foram observadas.\n",
    "\n",
    "\n",
    "<br>\n",
    "\n",
    "\n",
    "![alt_text](https://www.researchgate.net/publication/338721765/figure/fig2/AS:894097657184256@1590180901710/Alternating-Least-Squares-Method.jpg)"
   ]
  },
  {
   "cell_type": "markdown",
   "id": "c8b09fc2",
   "metadata": {},
   "source": [
    "<br><br>\n",
    "\n",
    "`Assim fica a matriz final!`\n",
    "\n",
    "![alt_text](https://d3i71xaburhd42.cloudfront.net/07d2577de9fb4bb5cbd7424ce5d64e6ef0dd78a0/30-Figure2.1-1.png)"
   ]
  },
  {
   "cell_type": "markdown",
   "id": "bb935bca",
   "metadata": {},
   "source": [
    "<br><br>"
   ]
  },
  {
   "cell_type": "markdown",
   "id": "83ea3b95",
   "metadata": {},
   "source": [
    "#### `Vantagens e Desvantagens do ALS`\n",
    "\n",
    "<br>\n",
    "\n",
    "`Vantagens`\n",
    "* Funciona bem para matrizes usuário-item esparsas\n",
    "* É referência de mercado e funciona muito bem na prática (prêmio Netflix)\n",
    "* É paralelizável\n",
    "* Funciona tanto para feedbacks explícitos quanto implícitos\n",
    "\n",
    "\n",
    "`Desvantagens`\n",
    "* Não vai funcionar bem para usuários cold start\n",
    "* Pode ser difícil determinar a quantidade de fatores latentes\n",
    "* Pode ser difícil calcular feedbacks implícitos\n",
    "* Não leva em consideração características dos usuários ou dos itens"
   ]
  }
 ],
 "metadata": {
  "kernelspec": {
   "display_name": "Python 3 (ipykernel)",
   "language": "python",
   "name": "python3"
  },
  "language_info": {
   "codemirror_mode": {
    "name": "ipython",
    "version": 3
   },
   "file_extension": ".py",
   "mimetype": "text/x-python",
   "name": "python",
   "nbconvert_exporter": "python",
   "pygments_lexer": "ipython3",
   "version": "3.8.9"
  }
 },
 "nbformat": 4,
 "nbformat_minor": 5
}
