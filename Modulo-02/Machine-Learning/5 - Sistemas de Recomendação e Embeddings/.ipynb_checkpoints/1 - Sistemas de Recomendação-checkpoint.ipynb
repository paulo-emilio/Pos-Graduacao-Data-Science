{
 "cells": [
  {
   "cell_type": "markdown",
   "id": "adc2fca0",
   "metadata": {},
   "source": [
    "# `Sistemas de Recomendação`\n",
    "\n",
    "<br>\n",
    "\n",
    "Um Sistema de recomendação é composto por um ou mais algoritmos que tem por objetivo sugerir itens relevantes para os usuários.\n",
    "\n",
    "Usamos sistemas de recomendação sempre que temos uma grande quantidade de itens para ofertar e não sabemos quais itens cada usuário mais gostaria de ver/interagir. Por exemplo, em Outubro de 2022, a Netflix possuía mais de 17 mil títulos em seu catálogo. Como mostrar os títulos que cada assinante mais gostaria? Através de sistemas de recomendação!\n",
    "\n",
    "![alt_text](https://cdn-images-1.medium.com/max/2600/1*R2cNKn98tsSb8ocLMs6SKg.png)"
   ]
  },
  {
   "cell_type": "markdown",
   "id": "58c53026",
   "metadata": {},
   "source": [
    "<br><br><br>\n",
    "\n",
    "## `Tipos de algoritmos de Recomendação`\n",
    "\n",
    "<br>\n",
    "\n",
    "Em geral, podemos dividir os algoritmos de recomendação em 3 tipos: `collaborative filtering`, `content-based` e não `personalizados`."
   ]
  },
  {
   "cell_type": "markdown",
   "id": "cfcd7af4",
   "metadata": {},
   "source": [
    "<br>\n",
    "\n",
    "### `Collaborative Filtering`\n",
    "\n",
    "\n",
    "Algoritmos de filtragem colaborativa para recomendação são algoritmos que se baseiam em informações já observadas entre usuários e itens, usando esses inputs para gerar novas recomendações. Essas informações são armazenadas num formato de matriz, que chamamos matriz de preferências, ou matriz de interações usuário-item.\n",
    "\n",
    "Portanto, o objetivo aqui é usar as informações na matriz de preferências para estimar novas interações futuras de usuário-item ou item-item e, em alguns casos, usuário-usuário.\n",
    "\n",
    "<br>\n",
    "\n",
    "![alt_text](https://buildingrecommenders.files.wordpress.com/2015/11/recommender-comparison1.png)"
   ]
  },
  {
   "cell_type": "markdown",
   "id": "6f35df6a",
   "metadata": {},
   "source": [
    "<br><br>\n",
    "\n",
    "### `Content-Based`\n",
    "\n",
    "\n",
    "Algoritmos de recomendação baseados em conteúdo utilizam apenas informações dos próprios itens que estão sendo recomendados, ou dos usuários, se for o caso. Por exemplo, para recomendar títulos na Netflix, só levaríamos em conta as características de cada título, como gênero, duração, classificação etária, pessoa que dirigiu e etc.\n",
    "\n",
    "\n",
    "<br>\n",
    "\n",
    "![alt_text](https://developer-blogs.nvidia.com/wp-content/uploads/2021/04/whats-recommendation_Pic0.png)"
   ]
  },
  {
   "cell_type": "markdown",
   "id": "b0eed324",
   "metadata": {},
   "source": [
    "<br><br>\n",
    "\n",
    "### `Não Personalizado`\n",
    "\n",
    "\n",
    "Algoritmos de recomendação não personalizados vem para suprir uma demanda de momento e, principalmente, para os usuários cold start.\n",
    "\n",
    "Um usuário cold start é aquele que não tem nenhuma interação com os itens recomendáveis, ou possui pouca. Assim, não é possível gerar uma recomendação personalizada para essa pessoa.\n",
    "\n",
    "Ainda, pode ser que você não queira algo parecido com o que você já consumiu, ou queira saber o que mais está bombando naquele momento.\n",
    "\n",
    "Nesse sentido, recomendação mais genéricas são muito bem vindas. Aqui, vale muito do negócio em que o sistema de recomendação está inserido. Abaixo, um exemplo de uma recomendação não personalizada na Netflix.\n",
    "\n",
    "<br>\n",
    "\n",
    "![alt_text](https://s2.glbimg.com/dOcpGVEic2gPiKg8DYaMiAxQQcs=/0x0:1920x1080/984x0/smart/filters:strip_icc()/i.s3.glbimg.com/v1/AUTH_08fbf48bc0524877943fe86e43087e7a/internal_photos/bs/2020/O/k/SrQtwRRMW5Ad9YQlP26A/captura-2020-02-26-20-04-19.png)"
   ]
  }
 ],
 "metadata": {
  "kernelspec": {
   "display_name": "Python 3 (ipykernel)",
   "language": "python",
   "name": "python3"
  },
  "language_info": {
   "codemirror_mode": {
    "name": "ipython",
    "version": 3
   },
   "file_extension": ".py",
   "mimetype": "text/x-python",
   "name": "python",
   "nbconvert_exporter": "python",
   "pygments_lexer": "ipython3",
   "version": "3.8.9"
  }
 },
 "nbformat": 4,
 "nbformat_minor": 5
}
