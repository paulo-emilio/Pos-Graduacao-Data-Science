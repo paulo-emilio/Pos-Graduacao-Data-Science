{
 "cells": [
  {
   "cell_type": "markdown",
   "id": "99c8cbb5",
   "metadata": {},
   "source": [
    "![alt_text](https://miro.medium.com/max/1400/0*QYxNNYh6W9jO1b_-.png)"
   ]
  },
  {
   "cell_type": "markdown",
   "id": "a6fb2cfe",
   "metadata": {},
   "source": [
    "<br>"
   ]
  },
  {
   "cell_type": "markdown",
   "id": "b573e824",
   "metadata": {},
   "source": [
    "# `Reinforcement Learning`\n",
    "\n"
   ]
  },
  {
   "cell_type": "markdown",
   "id": "1f9b3ae2",
   "metadata": {},
   "source": [
    "#### Reinforcement Learning, que significa aprendizado por reforço em inglês, é uma categoria de algoritmos de Machine Learning. Os algoritmos de reinforcement learning funcionam baseados em recompensa e punição. Através de tentativa e erro, o algoritmo é recompensado quando acerta e punido quando erra. Assim, ao longo do tempo, ele aprende o que dá recompensa e tende a acertar mais do que errar."
   ]
  },
  {
   "cell_type": "markdown",
   "id": "087ee629",
   "metadata": {},
   "source": [
    "![alt_text](https://www.inwinstack.com/wp-content/uploads/2020/11/03.reinforcement.png)"
   ]
  },
  {
   "cell_type": "markdown",
   "id": "acca237c",
   "metadata": {},
   "source": [
    "<br><br><br>\n",
    "\n",
    "### E qual a diferença entre os 3 tipos de aprendizado?\n",
    "<br>\n",
    "\n",
    "![alt_text](https://developer.ibm.com/developer/default/articles/cc-models-machine-learning/images/figure01.png)"
   ]
  },
  {
   "cell_type": "markdown",
   "id": "2af3a897",
   "metadata": {},
   "source": [
    "<br>"
   ]
  },
  {
   "cell_type": "markdown",
   "id": "3874f1c6",
   "metadata": {},
   "source": [
    "<br><br>"
   ]
  },
  {
   "cell_type": "markdown",
   "id": "a8f0094e",
   "metadata": {},
   "source": [
    " "
   ]
  },
  {
   "cell_type": "markdown",
   "id": "65f5381a",
   "metadata": {},
   "source": [
    " "
   ]
  },
  {
   "cell_type": "markdown",
   "id": "fb1ae074",
   "metadata": {},
   "source": [
    "### `Aplicações de Algoritmos de Reinforcement Learning`"
   ]
  },
  {
   "cell_type": "markdown",
   "id": "8d56b351",
   "metadata": {},
   "source": [
    "Existem vários algoritmos diferentes de aprendizado por reforço, e suas aplicações também são diversas:\n",
    "\n",
    "* Games\n",
    "* Recomendação de conteúdo\n",
    "* Carros autônomos\n",
    "* Gerenciamento de recursos em redes de computadores"
   ]
  }
 ],
 "metadata": {
  "kernelspec": {
   "display_name": "Python 3 (ipykernel)",
   "language": "python",
   "name": "python3"
  },
  "language_info": {
   "codemirror_mode": {
    "name": "ipython",
    "version": 3
   },
   "file_extension": ".py",
   "mimetype": "text/x-python",
   "name": "python",
   "nbconvert_exporter": "python",
   "pygments_lexer": "ipython3",
   "version": "3.8.9"
  }
 },
 "nbformat": 4,
 "nbformat_minor": 5
}
