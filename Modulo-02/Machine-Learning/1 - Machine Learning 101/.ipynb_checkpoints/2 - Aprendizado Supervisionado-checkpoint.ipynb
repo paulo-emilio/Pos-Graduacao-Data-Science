{
 "cells": [
  {
   "cell_type": "markdown",
   "id": "98d56b8b",
   "metadata": {},
   "source": [
    "### `Os algoritmos de Machine Learning podem ser dividos de acordo com a forma como o aprendizado funciona!`\n",
    "\n",
    "<br><br>"
   ]
  },
  {
   "cell_type": "markdown",
   "id": "99c8cbb5",
   "metadata": {},
   "source": [
    "![alt_text](https://miro.medium.com/max/1400/0*QYxNNYh6W9jO1b_-.png)"
   ]
  },
  {
   "cell_type": "markdown",
   "id": "c8afd885",
   "metadata": {},
   "source": [
    "<br>"
   ]
  },
  {
   "cell_type": "markdown",
   "id": "b573e824",
   "metadata": {},
   "source": [
    "# `Supervised Learning`\n",
    "\n"
   ]
  },
  {
   "cell_type": "markdown",
   "id": "1f9b3ae2",
   "metadata": {},
   "source": [
    "#### Supervised Learning, que significa aprendizado supervisionado em inglês, é uma categoria de algoritmos de Machine Learning. Chamamos esses algoritmos de supervisionados porque usamos um conjunto de dados que possuem resultados já observados, ou já rotulados, que serão usados para treinar os algoritmos para classificar ou prever resultados com um certo grau de acerto."
   ]
  },
  {
   "cell_type": "markdown",
   "id": "087ee629",
   "metadata": {},
   "source": [
    "![alt_text](https://cdn-images-1.medium.com/max/1600/1*Iz7bCLrPTImnBDOOEyE3LA.png)"
   ]
  },
  {
   "cell_type": "markdown",
   "id": "acca237c",
   "metadata": {},
   "source": [
    "<br><br><br><br><br>"
   ]
  },
  {
   "cell_type": "markdown",
   "id": "2af3a897",
   "metadata": {},
   "source": [
    "<br>"
   ]
  },
  {
   "cell_type": "markdown",
   "id": "921b18bf",
   "metadata": {},
   "source": [
    "## `Diferença entre Regressão e Classificação`"
   ]
  },
  {
   "cell_type": "markdown",
   "id": "19c18f66",
   "metadata": {},
   "source": [
    "#### * Na Regressão, o algoritmo tem por objetivo prever um valor contínuo (real), usando dados de input, se baseando em dados históricos (de treino).\n",
    "\n",
    "#### * Na Classificação, o algoritmo tem por objetivo prever uma categoria, usando dados de input, se baseando em dados de treino."
   ]
  },
  {
   "cell_type": "markdown",
   "id": "fa994214",
   "metadata": {},
   "source": [
    "![alt_text](https://miro.medium.com/max/1400/1*wH09k0DhF4JQhVMymtVQHQ.jpeg)"
   ]
  },
  {
   "cell_type": "markdown",
   "id": "3874f1c6",
   "metadata": {},
   "source": [
    "<br><br>"
   ]
  },
  {
   "cell_type": "markdown",
   "id": "3cf8f0d4",
   "metadata": {},
   "source": [
    "![alt_text](https://www.sharpsightlabs.com/wp-content/uploads/2021/04/regression-vs-classification_FEATURED-IMAGE.png)"
   ]
  },
  {
   "cell_type": "markdown",
   "id": "ad8509e5",
   "metadata": {},
   "source": [
    "<br>"
   ]
  },
  {
   "cell_type": "markdown",
   "id": "2f24b197",
   "metadata": {},
   "source": [
    "<br>"
   ]
  },
  {
   "cell_type": "markdown",
   "id": "358ee4ae",
   "metadata": {},
   "source": [
    "<br>"
   ]
  },
  {
   "cell_type": "markdown",
   "id": "fb1ae074",
   "metadata": {},
   "source": [
    "### `Aplicações de Algoritmos de Regressão`"
   ]
  },
  {
   "cell_type": "markdown",
   "id": "8d56b351",
   "metadata": {},
   "source": [
    "Em qualquer situação que quisermos prever um valor numérico baseado em dados históricos, podemos usar um algoritmo de Regressão. Vejamos algumas aplicações:\n",
    "\n",
    "\n",
    "* Previsão de demanda de certo produto\n",
    "* Previsão de do PIB de um país\n",
    "* Previsão da audiência em um site na Black Friday\n",
    "* Previsão de preços de barril de petróleo\n",
    "* Previsão do quanto uma pessoa vai gastar em produtos em um e-commerce"
   ]
  },
  {
   "cell_type": "markdown",
   "id": "9640ca24",
   "metadata": {},
   "source": [
    "<br><br><br><br><br>"
   ]
  },
  {
   "cell_type": "markdown",
   "id": "f2ad280f",
   "metadata": {},
   "source": [
    "### `Aplicações de Algoritmos de Classificação`"
   ]
  },
  {
   "cell_type": "markdown",
   "id": "bc972aba",
   "metadata": {},
   "source": [
    "Toda vez que for necessário classificar um conjunto de dados em categorias já pré-estabelecidas, podemos usar um algoritmo de Classificação. Vejamos algumas aplicações:\n",
    "\n",
    "\n",
    "* Detecção de Spam em email\n",
    "* Classificação de Imagem\n",
    "* Identificação de doenças em exames\n",
    "* Identificação Biométrica\n",
    "* Análise de sentimento em imagens ou textos\n",
    "* Previsão de Churn em clientes \n",
    "* Detecção de Anomalia - detecção de fraude"
   ]
  }
 ],
 "metadata": {
  "kernelspec": {
   "display_name": "Python 3 (ipykernel)",
   "language": "python",
   "name": "python3"
  },
  "language_info": {
   "codemirror_mode": {
    "name": "ipython",
    "version": 3
   },
   "file_extension": ".py",
   "mimetype": "text/x-python",
   "name": "python",
   "nbconvert_exporter": "python",
   "pygments_lexer": "ipython3",
   "version": "3.8.9"
  }
 },
 "nbformat": 4,
 "nbformat_minor": 5
}
