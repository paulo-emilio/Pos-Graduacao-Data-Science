{
 "cells": [
  {
   "cell_type": "markdown",
   "id": "99c8cbb5",
   "metadata": {},
   "source": [
    "![alt_text](https://miro.medium.com/max/1400/0*QYxNNYh6W9jO1b_-.png)"
   ]
  },
  {
   "cell_type": "code",
   "execution_count": null,
   "id": "b08d3f7a",
   "metadata": {},
   "outputs": [],
   "source": []
  },
  {
   "cell_type": "markdown",
   "id": "b573e824",
   "metadata": {},
   "source": [
    "# `Unsupervised Learning`\n",
    "\n"
   ]
  },
  {
   "cell_type": "markdown",
   "id": "1f9b3ae2",
   "metadata": {},
   "source": [
    "#### Unsupervised Learning, que significa aprendizado não supervisionado em inglês, é uma categoria de algoritmos de Machine Learning. Chamamos esses algoritmos de não supervisionados porque, nesse caso, o conjunto de dados não possui resultados já observados, ou já rotulados, que seriam usados para treinar os algoritmos. Essa classe de algoritmos usa os dados disponíveis para achar padrões e informações que não foram possíveis de forma manual."
   ]
  },
  {
   "cell_type": "markdown",
   "id": "087ee629",
   "metadata": {},
   "source": [
    "![alt_text](https://static.javatpoint.com/tutorial/machine-learning/images/difference-between-supervised-and-unsupervised-learning.jpg)"
   ]
  },
  {
   "cell_type": "markdown",
   "id": "acca237c",
   "metadata": {},
   "source": [
    "<br><br>\n",
    "\n",
    "![alt_text](https://cdn-images-1.medium.com/max/1440/1*YUl_BcqFPgX49sSb5yrk3A.jpeg)"
   ]
  },
  {
   "cell_type": "markdown",
   "id": "2af3a897",
   "metadata": {},
   "source": [
    "<br>"
   ]
  },
  {
   "cell_type": "markdown",
   "id": "921b18bf",
   "metadata": {},
   "source": [
    "## `Redução de Dimensionalidade`"
   ]
  },
  {
   "cell_type": "markdown",
   "id": "19c18f66",
   "metadata": {},
   "source": [
    "#### Redução de dimensionalidade é uma técnica utilizada para diminuir o número de variáveis em um conjunto de dados. Quando utilizamos muitas variáveis como input para treinar um algoritmo de machine learning, é provável que o algoritmo não tenha um bom desempenho quando lidar com novos dados ainda não observáveis, pois se ajusta demais aos dados utilizados para treiná-lo. Chamamos de alta dimensionalidade um conjunto com muitas variáveis, onde muito pode significar centenas, milhares ou até mesmo milhões de variáveis diferentes."
   ]
  },
  {
   "cell_type": "markdown",
   "id": "fa994214",
   "metadata": {},
   "source": [
    "![alt_text](https://tutorialspoint.dev/image/Dimensionality_Reduction_1.jpg)"
   ]
  },
  {
   "cell_type": "markdown",
   "id": "3874f1c6",
   "metadata": {},
   "source": [
    "<br><br>"
   ]
  },
  {
   "cell_type": "markdown",
   "id": "68f379a0",
   "metadata": {},
   "source": [
    " "
   ]
  },
  {
   "cell_type": "markdown",
   "id": "509ea726",
   "metadata": {},
   "source": [
    "## `Clusterização`"
   ]
  },
  {
   "cell_type": "markdown",
   "id": "7239bcc7",
   "metadata": {},
   "source": [
    "#### Algoritmos de clusterização são modelos de machine learning utilizados para identificar grupos de dados com características em comum, quando não temos as informações dos grupos já pré-definidas. Esses grupos são chamados de clusters, e essa técnica é muito usado como uma forma de descobrir padrões nos dados, como grupos de clientes parecidos com base em seu comportamento."
   ]
  },
  {
   "cell_type": "markdown",
   "id": "0c0560f0",
   "metadata": {},
   "source": [
    "![alt_text](https://www.linedata.com/sites/default/files/inline-images/Graphic-article%2011-02.png)"
   ]
  },
  {
   "cell_type": "markdown",
   "id": "be6f6300",
   "metadata": {},
   "source": [
    " "
   ]
  },
  {
   "cell_type": "markdown",
   "id": "abeeea9e",
   "metadata": {},
   "source": [
    "![alt_text](https://editor.analyticsvidhya.com/uploads/447551_H-0Hu35Un_buwheCFlTvbA.png)"
   ]
  },
  {
   "cell_type": "markdown",
   "id": "77386575",
   "metadata": {},
   "source": [
    "<br>"
   ]
  },
  {
   "cell_type": "markdown",
   "id": "7d481ee9",
   "metadata": {},
   "source": [
    "<br>"
   ]
  },
  {
   "cell_type": "markdown",
   "id": "fb1ae074",
   "metadata": {},
   "source": [
    "### `Aplicações de Algoritmos de Clusterização`"
   ]
  },
  {
   "cell_type": "markdown",
   "id": "8d56b351",
   "metadata": {},
   "source": [
    "Vejamos algumas aplicações de algoritmos de clusterização:\n",
    "\n",
    "\n",
    "* Segmentação de usuários de acordo com seu comportamento\n",
    "* Detecção de fraude em seguros\n",
    "* Recomendação de conteúdo\n",
    "* Análise exploratória de dados pouco conhecidos"
   ]
  }
 ],
 "metadata": {
  "kernelspec": {
   "display_name": "Python 3 (ipykernel)",
   "language": "python",
   "name": "python3"
  },
  "language_info": {
   "codemirror_mode": {
    "name": "ipython",
    "version": 3
   },
   "file_extension": ".py",
   "mimetype": "text/x-python",
   "name": "python",
   "nbconvert_exporter": "python",
   "pygments_lexer": "ipython3",
   "version": "3.8.9"
  }
 },
 "nbformat": 4,
 "nbformat_minor": 5
}
