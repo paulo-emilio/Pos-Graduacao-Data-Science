{
 "cells": [
  {
   "cell_type": "markdown",
   "id": "a8ea2091",
   "metadata": {},
   "source": [
    "# `Arquiteturas de Modelos em Batch`\n",
    "\n",
    "\n",
    "Vamos olhar alguns exemplos de arquiteturas de entrega de resultado de modelos de machine learning que demanda uma natureza offline, como a maioria dos algoritmos de recomendação, classificação e regressão.\n",
    "\n",
    "\n",
    "<br><br><br><br>\n",
    "\n",
    "#### Abaixo, temos um exemplo de uma arquitetura para entrega de resultados de modelos de machine learning em batch.\n",
    "\n",
    "<br>\n",
    "\n",
    "![alt_text](https://miro.medium.com/max/1400/1*u587tY9au9sWa45ipHJU7Q.jpeg)"
   ]
  },
  {
   "cell_type": "markdown",
   "id": "a87a07b7",
   "metadata": {},
   "source": [
    "<br><br><br>\n",
    "\n",
    "#### Abaixo, temos um exemplo de uma uma arquitetura, mas agora na Google Cloud\n",
    "\n",
    "\n",
    "<br>\n",
    "\n",
    "![alt_text](https://cloud.google.com/static/architecture/images/minimizing-predictive-serving-latency-in-ml-architecture-precomputing-and-caching-predictions-bigtable.svg)"
   ]
  },
  {
   "cell_type": "markdown",
   "id": "c3b66ff0",
   "metadata": {},
   "source": [
    "<br><br><br>"
   ]
  },
  {
   "cell_type": "markdown",
   "id": "1b409c0a",
   "metadata": {},
   "source": [
    "#### Podemos até mesmo ter uma versão mais híbrida"
   ]
  },
  {
   "cell_type": "markdown",
   "id": "40d1c92c",
   "metadata": {},
   "source": [
    "![alt_text](https://cloud.google.com/static/architecture/images/minimizing-predictive-serving-latency-in-ml-architecture-precomputing-and-caching-predictions-using-datastore-memstore.svg)"
   ]
  }
 ],
 "metadata": {
  "kernelspec": {
   "display_name": "Python 3 (ipykernel)",
   "language": "python",
   "name": "python3"
  },
  "language_info": {
   "codemirror_mode": {
    "name": "ipython",
    "version": 3
   },
   "file_extension": ".py",
   "mimetype": "text/x-python",
   "name": "python",
   "nbconvert_exporter": "python",
   "pygments_lexer": "ipython3",
   "version": "3.8.9"
  }
 },
 "nbformat": 4,
 "nbformat_minor": 5
}
