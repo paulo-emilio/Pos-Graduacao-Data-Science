{
 "cells": [
  {
   "cell_type": "markdown",
   "id": "e6fd7928",
   "metadata": {},
   "source": [
    "# `Arquiteturas de Modelos Real Time`\n",
    "\n",
    "\n",
    "Vamos olhar alguns exemplos de arquiteturas de entrega de resultado de modelos de machine learning que demanda uma natureza online, como os algoritmos de MAB.\n",
    "\n",
    "\n",
    "\n",
    "<br><br><br><br>\n",
    "\n",
    "\n",
    "\n",
    "#### Abaixo, temos uma possível arquitetura utilizando a cloud da Azure.\n",
    "\n",
    "<br>\n",
    "\n",
    "\n",
    "\n",
    "![alt_text](https://learn.microsoft.com/en-us/azure/architecture/reference-architectures/ai/_images/recommenders-architecture.png)"
   ]
  },
  {
   "cell_type": "markdown",
   "id": "afda0da6",
   "metadata": {},
   "source": [
    "<br><br><br>\n",
    "\n",
    "#### Aqui, temos outra arquitetura, agora usando a Google Cloud.\n",
    "\n",
    "\n",
    "<br>\n",
    "\n",
    "![alt_text](https://cloud.google.com/static/architecture/images/minimizing-predictive-serving-latency-in-ml-architecture-storing-retrieving-reference-data.svg)"
   ]
  },
  {
   "cell_type": "markdown",
   "id": "40a0b9d4",
   "metadata": {},
   "source": [
    "<br><br><br><br>\n",
    "\n",
    "#### Aqui, temos uma arquitetura de entrega de modelos utilizando a AWS\n",
    "\n",
    "<br>\n",
    "\n",
    "![alt_text](https://d2908q01vomqb2.cloudfront.net/f1f836cb4ea6efb2a0b1b99f41ad8b103eff4b59/2020/12/03/ML-1505-1-509x630.jpg)"
   ]
  }
 ],
 "metadata": {
  "kernelspec": {
   "display_name": "Python 3 (ipykernel)",
   "language": "python",
   "name": "python3"
  },
  "language_info": {
   "codemirror_mode": {
    "name": "ipython",
    "version": 3
   },
   "file_extension": ".py",
   "mimetype": "text/x-python",
   "name": "python",
   "nbconvert_exporter": "python",
   "pygments_lexer": "ipython3",
   "version": "3.8.9"
  }
 },
 "nbformat": 4,
 "nbformat_minor": 5
}
