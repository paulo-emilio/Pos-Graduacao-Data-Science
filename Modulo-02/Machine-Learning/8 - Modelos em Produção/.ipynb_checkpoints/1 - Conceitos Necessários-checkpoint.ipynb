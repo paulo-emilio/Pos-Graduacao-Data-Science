{
 "cells": [
  {
   "cell_type": "markdown",
   "id": "1b418c93",
   "metadata": {},
   "source": [
    "## `O que é colocar em produção?`\n",
    "\n",
    "Antes de tudo, o que significa colocar um modelo de Machine Learning em produção? Bem, qualquer projeto de desenvolvimento de software passa por alguns passos em seu ciclo de vida. Ele começa quando a pessoa desenvolvedora começa a escrever o código propriamente dito, e termina quando aquele projeto é disponibilizado para cumprir a função para que foi criado.\n",
    "\n",
    "Abaixo, temos o ciclo de vida de um projeto de desenvolvimento de software no Uber, e podemos ver as fases por onde se passa até o código estar em produção.\n",
    "\n",
    "\n",
    "<br><br>\n",
    "\n",
    "\n",
    "![alt_text](https://static.imasters.com.br/wp-content/uploads/2016/07/deploy-1.jpg)\n",
    "https://imasters.com.br/desenvolvimento/engenharia-de-micro-deploy-do-uber-deploy-diario-com-confianca"
   ]
  },
  {
   "cell_type": "markdown",
   "id": "34e5dd72",
   "metadata": {},
   "source": [
    "<br><br><br>\n",
    "\n",
    "## `O que é uma API?`\n",
    "\n",
    "Um outro conceito muito importante é o de API. A sigla significa Application Programming Interface, que seria interface de programação de aplicação em inglês. Isso significa que uma api vai ser um serviço que vai possibilitar a comunicação entre dois ou mais softwares .\n",
    "\n",
    "Segundo a AWS:\n",
    "APIs são mecanismos que permitem que dois componentes de software se comuniquem usando um conjunto de definições e protocolos. \n",
    "\n",
    "No contexto de APIs, a palavra Aplicação refere-se a qualquer software com uma função distinta. A interface pode ser pensada como um contrato de serviço entre duas aplicações. Esse contrato define como as duas se comunicam usando solicitações e respostas.\n",
    "\n",
    "<br><br>\n",
    "\n",
    "![alt_text](https://www.container-loading.com/wp-content/uploads/2022/03/API-infographics-1024x536.png)"
   ]
  },
  {
   "cell_type": "markdown",
   "id": "78987815",
   "metadata": {},
   "source": [
    "Por exemplo, toda vez que você entra em algum site ou app, tem várias api's trabalhando para buscar informações e trazê-las para você.\n",
    "\n",
    "<br>\n",
    "\n",
    "![alt_text](https://www.tibco.com/sites/tibco/files/media_entity/2021-04/application-programming-interface-diagram.svg)"
   ]
  },
  {
   "cell_type": "markdown",
   "id": "2b781481",
   "metadata": {},
   "source": [
    "<br>"
   ]
  },
  {
   "cell_type": "markdown",
   "id": "a71a4734",
   "metadata": {},
   "source": [
    "## `Tipos de Arquitetura`\n",
    "\n",
    "\n",
    "\n",
    "Podemos dividir uma arquitetura para entrega de resultados de um modelo de Machine Learning em dois tipos: batch e online. \n",
    "\n",
    "Em uma arquitetura batch, o modelo é treinado e prevê os resultados de forma offline, salva em em banco de dados e uma api é responsável por entregar esses resultados.\n",
    "\n",
    "Em uma arquitetura online, o modelo pode tanto aprender quanto prever os resultados de forma online, e uma api é responsável por toda essa comunicação.\n",
    "\n",
    "\n",
    "![alt_text](https://www.analyticsvidhya.com/blog/wp-content/uploads/2015/01/schematics.png)\n"
   ]
  }
 ],
 "metadata": {
  "kernelspec": {
   "display_name": "Python 3 (ipykernel)",
   "language": "python",
   "name": "python3"
  },
  "language_info": {
   "codemirror_mode": {
    "name": "ipython",
    "version": 3
   },
   "file_extension": ".py",
   "mimetype": "text/x-python",
   "name": "python",
   "nbconvert_exporter": "python",
   "pygments_lexer": "ipython3",
   "version": "3.8.9"
  }
 },
 "nbformat": 4,
 "nbformat_minor": 5
}
