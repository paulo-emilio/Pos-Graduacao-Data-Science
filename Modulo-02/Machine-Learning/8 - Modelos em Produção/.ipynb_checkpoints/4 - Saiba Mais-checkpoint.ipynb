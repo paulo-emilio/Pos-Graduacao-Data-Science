{
 "cells": [
  {
   "cell_type": "markdown",
   "id": "6c6b9593",
   "metadata": {},
   "source": [
    "# `E agora?`\n",
    "\n",
    "\n",
    "\n",
    "\n",
    "Bem, vimos vários tipos de algoritmos diferentes, como avaliá-los e como colocá-los em produção. E agora? Agora é saber que o mundo de Machine Learning é gigantesco, e existem muitas soluções diferentes para problemas diferentes!\n",
    "\n",
    "\n",
    "<br><br>\n",
    "\n",
    "![alt_text](https://insightlab.ufc.br/wp-content/webp-express/webp-images/doc-root/wp-content/uploads/2022/01/12.png.webp)"
   ]
  },
  {
   "cell_type": "markdown",
   "id": "b63786f0",
   "metadata": {},
   "source": [
    "<br><br><br>"
   ]
  },
  {
   "cell_type": "markdown",
   "id": "2f2a2043",
   "metadata": {},
   "source": [
    " "
   ]
  },
  {
   "cell_type": "markdown",
   "id": "6b6d7b3d",
   "metadata": {},
   "source": [
    "## Assuntos que estão bem quentes\n",
    "\n",
    "<br>\n",
    "\n",
    "![alt_text](https://encrypted-tbn0.gstatic.com/images?q=tbn:ANd9GcQ48Yt4xRdmp0m3txIe04veklAQ2qzsq5gV7A&usqp=CAU)"
   ]
  },
  {
   "cell_type": "markdown",
   "id": "2a63250a",
   "metadata": {},
   "source": [
    " "
   ]
  },
  {
   "cell_type": "markdown",
   "id": "a2d2c4e3",
   "metadata": {},
   "source": [
    "<br><br>"
   ]
  },
  {
   "cell_type": "markdown",
   "id": "a2af1190",
   "metadata": {},
   "source": [
    "## E livros legais para ler?\n",
    "\n",
    "\n",
    "<br>\n",
    "\n",
    "![alt_text](https://images.tcdn.com.br/img/img_prod/1073342/algoritmos_de_destruicao_em_massa_15_3_d17bcc0755c1a8bf9af2a10362ac10c2.jpg)"
   ]
  },
  {
   "cell_type": "markdown",
   "id": "a6136de5",
   "metadata": {},
   "source": [
    "<br><br><br>"
   ]
  },
  {
   "cell_type": "markdown",
   "id": "c0cdd618",
   "metadata": {},
   "source": [
    " "
   ]
  },
  {
   "cell_type": "markdown",
   "id": "ee349b2b",
   "metadata": {},
   "source": [
    "## Mas também vale aprender de formas mais legais :)\n",
    "\n",
    "\n",
    "![alt_text](https://br.web.img3.acsta.net/pictures/16/02/11/19/08/291258.jpg)"
   ]
  }
 ],
 "metadata": {
  "kernelspec": {
   "display_name": "Python 3 (ipykernel)",
   "language": "python",
   "name": "python3"
  },
  "language_info": {
   "codemirror_mode": {
    "name": "ipython",
    "version": 3
   },
   "file_extension": ".py",
   "mimetype": "text/x-python",
   "name": "python",
   "nbconvert_exporter": "python",
   "pygments_lexer": "ipython3",
   "version": "3.8.9"
  }
 },
 "nbformat": 4,
 "nbformat_minor": 5
}
