{
 "cells": [
  {
   "cell_type": "markdown",
   "id": "54fb4452",
   "metadata": {},
   "source": [
    "# `KMeans`\n",
    "\n",
    "\n",
    "Kmeans é um algoritmo de aprendizado não supervisionado para clusterização. Seu nome vem da forma como ele funciona, já que seu objetivo é achar centróides para cada cluster, que são a média de todas as observações pertencentes aquele cluster, fazendo isso para todos os K clusters. Para que uma observação pertença a um cluster, o centróide desse cluster deve ser o centróide mais próximo dessa observação.\n",
    "\n",
    "Primeiramente, vamos entender o que é um `centróide` e o que é `estar mais próximo` de um centroide.\n",
    "\n",
    "<br>\n",
    "\n",
    "![alt_text](https://www.jcchouinard.com/wp-content/uploads/2021/10/image-54.png)\n"
   ]
  },
  {
   "cell_type": "markdown",
   "id": "9e3aa14d",
   "metadata": {},
   "source": [
    "<br><br><br>"
   ]
  },
  {
   "cell_type": "markdown",
   "id": "883c3be3",
   "metadata": {},
   "source": [
    "#### `Centróides`\n",
    "\n",
    "Centróides nada mais são do que pontos no espaço de features que temos disponível em nosso conjunto de dados, que estarão no centro do cluster.\n",
    "\n",
    "No KMeans, cada cluster possui um centróide, ou seja, teremos k centróides, que irão definir k clusters. \n",
    "\n",
    "As observações mais próximas de cada centróide serão atribuídas ao cluster que esse centróide pertence.\n",
    "\n",
    "<br>\n",
    "\n",
    "![alt_text](https://miro.medium.com/max/1200/1*rw8IUza1dbffBhiA4i0GNQ.png)"
   ]
  },
  {
   "cell_type": "markdown",
   "id": "00efbf9a",
   "metadata": {},
   "source": [
    "#### `Estar mais próximo`\n",
    "\n",
    "O conceito de uma observação estar mais próxima de um centróide tem a ver com a distância entre eles. Na prática, cada observação pode ser representada como um ponto, onde as coordenadas desse ponto são as features que possuímos no conjunto de dados. O centróide também será um ponto, e calcularemos a distância entre cada observação e cada centróide.\n",
    "\n",
    "O KMeans utiliza a distância Euclidiana para calcular a distância entre as observações e os centróides.\n",
    "\n",
    "<br>\n",
    "\n",
    "![alt_text](https://miro.medium.com/max/1262/0*kF0Qj3NJDjxnz-Nx.png)"
   ]
  },
  {
   "cell_type": "markdown",
   "id": "567a9e41",
   "metadata": {},
   "source": [
    "<br><br><br>\n",
    "\n",
    "\n",
    "### `Funcionamento`\n",
    "\n",
    "\n",
    "O KMeans vai funcionar da seguinte forma:\n",
    "\n",
    "\n",
    "1 - Escolha o número K de clusters;<br>\n",
    "2 - Crie aleatoriamente k centróides, um para cada cluster;<br>\n",
    "3 - Calcule as distâncias euclidianas entre todas as observações e todos os centróides;<br>\n",
    "4 - Cada observação irá fazer parte do cluster com centróide de menor distância;<br>\n",
    "5 - Atualize o valor de cada centróide, sendo a média das observações do respectivo cluster;<br>\n",
    "6 - Repita os 3 últimos passos até achar os centroides ideais.\n",
    "\n",
    "<br><br>\n",
    "![alt_text](https://upload.wikimedia.org/wikipedia/commons/e/ea/K-means_convergence.gif)\n"
   ]
  },
  {
   "cell_type": "markdown",
   "id": "e27daf24",
   "metadata": {},
   "source": [
    "<br><br><br>\n",
    "\n",
    "#### `Hiperparâmetros`\n",
    "\n",
    "Existem 3 hiperparâmetros importantes do KMeans:\n",
    "\n",
    "`n_clusters` - Número de clusters que o Kmeans precisa encontrar<br>\n",
    "`max_iter` - Número de iterações até encontrar o centróide ideal<br>\n",
    "`n_init` - Número de vezes que o algoritmo repete o processo inteiro de clusterização<br>\n",
    "\n",
    "\n",
    "\n",
    "Pode acontecer de a posição aleatória inicial dos centroides seja ruim, e influencie em uma má clusterização. Por isso, o Kmeans irá repetir n_init vezes o algoritmo e escolherá o resultado que possui a menor distância total entre cada observação e seu centróide.\n",
    "\n",
    "Para um conjunto de dados com muitas observações, é aconselhável que max_iter seja alto."
   ]
  },
  {
   "cell_type": "markdown",
   "id": "bd0f85eb",
   "metadata": {},
   "source": [
    "<br><br><br>\n",
    "\n",
    "#### `Vantagens e Desvantagens`\n",
    "\n",
    "`Vantagens`\n",
    "\n",
    "* Tem um funcionamento simples\n",
    "* Escala bem para grandes conjuntos de dados\n",
    "* É genérico e não paramétrico\n",
    "* Se adapta bem para novas observações\n",
    "\n",
    "\n",
    "`Desvantagens`\n",
    "\n",
    "* Escolher o valor de K pode ser difícil\n",
    "* Depende dos valores iniciais dos centróides\n",
    "* Pode ser difícil de achar clusters com tamanhos e formas muito diferentes entre si\n",
    "* Sensível a outliers\n",
    "* Não funciona muito bem para dimensões muito altas"
   ]
  }
 ],
 "metadata": {
  "kernelspec": {
   "display_name": "Python 3 (ipykernel)",
   "language": "python",
   "name": "python3"
  },
  "language_info": {
   "codemirror_mode": {
    "name": "ipython",
    "version": 3
   },
   "file_extension": ".py",
   "mimetype": "text/x-python",
   "name": "python",
   "nbconvert_exporter": "python",
   "pygments_lexer": "ipython3",
   "version": "3.8.9"
  }
 },
 "nbformat": 4,
 "nbformat_minor": 5
}
