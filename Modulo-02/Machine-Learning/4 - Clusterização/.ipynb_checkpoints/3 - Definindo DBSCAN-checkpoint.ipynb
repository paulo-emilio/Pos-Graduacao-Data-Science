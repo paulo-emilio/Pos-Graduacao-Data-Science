{
 "cells": [
  {
   "cell_type": "markdown",
   "id": "eeec8f7f",
   "metadata": {},
   "source": [
    "# `DBSCAN`\n",
    "\n",
    "DBSCAN é um algoritmo de aprendizado não supervisionado para clusterização. A sigla significa Density Based Spatial Clustering of Applications with Noise (Clusterização Espacial Baseada em Densidade de Aplicações com Ruído), e seu objetivo é encontrar vizinhanças de observações para formar os clusters. Ele faz isso determinando, para cada observação, um raio de tamanho $\\epsilon$, que deve conter um mínimo de pontos M.\n",
    "\n",
    "Ele, diferente do KMeans, é um ótimo algoritmo para identificar clusters de densidades, formatos e tamanhos diferentes entre si.\n",
    "\n",
    "Vamos entender passo a passo como ele funciona.\n",
    "\n",
    "<br>\n",
    "\n",
    "![alt_text](https://miro.medium.com/max/1339/0*xu3GYMsWu9QiKNOo.png)"
   ]
  },
  {
   "cell_type": "markdown",
   "id": "5d3a1f1d",
   "metadata": {},
   "source": [
    "<br><br><br>"
   ]
  },
  {
   "cell_type": "markdown",
   "id": "67344af5",
   "metadata": {},
   "source": [
    "### `Como funciona?`\n",
    "\n",
    "\n",
    "\n",
    "No DBSCAN, cada ponto (observação) vai ser classificado em 3 tipos: central, de fronteira ou outlier.\n",
    "\n",
    "<br><br>\n",
    "\n",
    "**`Ponto Central`** - É um ponto que contém pelo menos M pontos em sua vizinhança, contando com ele mesmo<br><br>\n",
    "**`Ponto de Fronteira`** - É um ponto que é alcançado por um ponto central, mas contém menos de M pontos em sua vizinhança, contando com ele mesmo<br><br>\n",
    "**`Ponto Outlier`** - É um ponto que não é central e nem de fronteira. Será considerado ruído e não será incluído em nenhum cluster.<br><br>\n",
    "\n",
    "\n",
    "\n",
    "\n",
    "#### O DBSCAN vai funcionar da seguinte forma:\n",
    "\n",
    "\n",
    "1 - Escolha aleatoriamente uma observação nos dados<br>\n",
    "2 - Trace o raio de tamanho $\\epsilon$ a partir desse ponto e classifique entre ponto central, de fronteira ou outlier de acordo com o número mínimo M de pontos na vizinhança<br>\n",
    "3 - Se for um ponto central, ele irá determinar um cluster, e todos os pontos de fronteira farão parte desse cluster, e assim sucessivamente até que não haja mais nenhum ponto de fronteira<br>\n",
    "4 - Se for um ponto outlier, escolha outro ponto até que ele seja um ponto central, repetindo o passo 3<br>\n",
    "5 - Repita os dois últimos passos até não restar nenhum ponto no conjunto de dados.\n",
    "\n",
    "\n",
    "<br><br>\n",
    "\n",
    "![alt_text](https://dashee87.github.io/images/DBSCAN_tutorial.gif)"
   ]
  },
  {
   "cell_type": "markdown",
   "id": "74e1598b",
   "metadata": {},
   "source": [
    "<br><br>\n",
    "![alt_text](https://miro.medium.com/proxy/1*tc8UF-h0nQqUfLC8-0uInQ.gif)"
   ]
  },
  {
   "cell_type": "markdown",
   "id": "5cdb470c",
   "metadata": {},
   "source": [
    "<br><br>"
   ]
  },
  {
   "cell_type": "markdown",
   "id": "b2f75f5d",
   "metadata": {},
   "source": [
    "<br><br><br>\n",
    "\n",
    "#### `Vantagens e Desvantagens`\n",
    "\n",
    "`Vantagens`\n",
    "\n",
    "\n",
    "\n",
    "* Não é necessário escolher o número de clusters\n",
    "* Funciona muito bem para identificar clusters de tamanhos e formatos diferentes\n",
    "* É ótimo para determinar ruídos como outliers\n",
    "\n",
    "\n",
    "`Desvantagens`\n",
    "\n",
    "* Determinar o valor de ε pode ser difícil\n",
    "* Para um conjunto de dados de alta dimensão, utilizar a distância euclidiana pode ser ruim, e achar uma distância melhor pode ser difícil\n",
    "* Não funciona bem para dados muito esparsos"
   ]
  }
 ],
 "metadata": {
  "kernelspec": {
   "display_name": "Python 3 (ipykernel)",
   "language": "python",
   "name": "python3"
  },
  "language_info": {
   "codemirror_mode": {
    "name": "ipython",
    "version": 3
   },
   "file_extension": ".py",
   "mimetype": "text/x-python",
   "name": "python",
   "nbconvert_exporter": "python",
   "pygments_lexer": "ipython3",
   "version": "3.8.9"
  }
 },
 "nbformat": 4,
 "nbformat_minor": 5
}
