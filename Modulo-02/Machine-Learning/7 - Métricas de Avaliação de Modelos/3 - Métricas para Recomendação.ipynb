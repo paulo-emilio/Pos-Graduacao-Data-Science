{
 "cells": [
  {
   "cell_type": "markdown",
   "id": "ba5d7304",
   "metadata": {},
   "source": [
    "## `MRR`: Mean Reciprocal Rank\n",
    "\n",
    "\n",
    "Essa é uma métrica boa para medir se o melhor item para um usuário está sendo mostrado na melhor posição. Ele tenta avaliar se o item mais relevante está com o melhor ranking.\n",
    "\n",
    "<br>\n",
    "\n",
    "![alt_text](https://media-exp1.licdn.com/dms/image/C4E12AQGlLG6bxzgzGA/article-inline_image-shrink_400_744/0/1520576973982?e=1675900800&v=beta&t=hZXSuwXdX8HidSAdFYg0O-VR196sVnm4yr6TrwHdWKM)\n",
    "\n",
    "\n",
    "<br><br>\n",
    "\n",
    "\n",
    "\n",
    "![alt_text](https://image.jimcdn.com/app/cms/image/transf/dimension=248x10000:format=png/path/s665000f481e45f73/image/i6ff26ffa90aab5fb/version/1414324417/image.png)"
   ]
  },
  {
   "cell_type": "markdown",
   "id": "d201c709",
   "metadata": {},
   "source": [
    "<br><br><br>"
   ]
  },
  {
   "cell_type": "markdown",
   "id": "ca76361b",
   "metadata": {},
   "source": [
    "## `MAP`: Mean Average Precision\n",
    "\n",
    "\n",
    "Com o MAP, o objetivo é dar um peso maior para os erros do início da lista e um peso menor para os do fim da lista. Ou seja, ela também leva em consideração a ordem em que o item relevante está. Ao contrário do MRR, ela leva em conta que o usuário pode ter mais de um item relevante em sua lista de recomendações.\n",
    "\n",
    "<br>\n",
    "\n",
    "![alt_text](https://miro.medium.com/max/1400/1*0xdZ-NWJLlf3m4oyjh0K5g.webp)"
   ]
  }
 ],
 "metadata": {
  "kernelspec": {
   "display_name": "Python 3 (ipykernel)",
   "language": "python",
   "name": "python3"
  },
  "language_info": {
   "codemirror_mode": {
    "name": "ipython",
    "version": 3
   },
   "file_extension": ".py",
   "mimetype": "text/x-python",
   "name": "python",
   "nbconvert_exporter": "python",
   "pygments_lexer": "ipython3",
   "version": "3.11.7"
  }
 },
 "nbformat": 4,
 "nbformat_minor": 5
}
