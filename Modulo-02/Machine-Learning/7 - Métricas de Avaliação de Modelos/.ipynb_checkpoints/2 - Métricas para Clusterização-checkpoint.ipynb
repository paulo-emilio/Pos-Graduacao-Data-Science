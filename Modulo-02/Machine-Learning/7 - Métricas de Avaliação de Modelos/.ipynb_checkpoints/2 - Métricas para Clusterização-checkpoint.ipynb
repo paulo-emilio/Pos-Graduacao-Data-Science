{
 "cells": [
  {
   "cell_type": "markdown",
   "id": "369d195b",
   "metadata": {},
   "source": [
    "## `Silhouette Score`\n",
    "\n",
    "\n",
    "O Silhouette Score é usado para medir a distância de separação entre os clusters. Ele é uma medida de quão próxima cada observação em um cluster está das observações nos clusters vizinhos. Esse score está sempre em um intervalo entre -1 e 1, e é muito utilizado para encontrar a `quantidade ideal de clusters` em um algoritmo de clusterização.\n",
    "\n",
    "O Silhouette Score é calculado usando a distância média intra-cluster (a) e a distância média do cluster mais próximo (b) para cada amostra. O coeficiente de silhueta para uma amostra é \n",
    "`(b - a) / max(b, a)`.\n",
    "\n",
    "`b` é a distância média entre cada observação e o cluster mais próximo do qual a observação não faz parte, e `a` é a distância média dentro de cada cluster.\n",
    "\n",
    "\n",
    "<br><br>\n",
    "\n",
    "\n",
    "![alt_text](https://uploads-ssl.webflow.com/5f5148a709e16c7d368ea080/5f7dea907b8e8c7769e769c8_5f7c9650bc3b1ed0ad2247eb_silhouette_formula.jpg)"
   ]
  },
  {
   "cell_type": "markdown",
   "id": "889aab77",
   "metadata": {},
   "source": [
    "<br><br><br>"
   ]
  },
  {
   "cell_type": "markdown",
   "id": "72fe746e",
   "metadata": {},
   "source": [
    "### `Como utilizar?`\n",
    "\n",
    "<br>\n",
    "\n",
    "\n",
    "Quanto maior o coeficiente (mais próximo de 1), mais distantes as observações de um cluster estão das observações dos clusters vizinhos. \n",
    "\n",
    "O valor 0 vai indicar que os clusters estão muito próximos, quase se misturando.\n",
    "\n",
    "Quanto mais próximo de -1, maior a chance de uma observação ter sido classificada no cluster errada.\n",
    "\n",
    "O silhouette score será a média dos coeficientes de silhueta de todos os clusters, e o usaremos para avaliar o quão boa foi a clusterização.\n",
    "\n",
    "<br>\n",
    "\n",
    "![alt_text](https://uc-r.github.io/public/images/analytics/clustering/kmeans/unnamed-chunk-14-1.png)"
   ]
  }
 ],
 "metadata": {
  "kernelspec": {
   "display_name": "Python 3 (ipykernel)",
   "language": "python",
   "name": "python3"
  },
  "language_info": {
   "codemirror_mode": {
    "name": "ipython",
    "version": 3
   },
   "file_extension": ".py",
   "mimetype": "text/x-python",
   "name": "python",
   "nbconvert_exporter": "python",
   "pygments_lexer": "ipython3",
   "version": "3.8.9"
  }
 },
 "nbformat": 4,
 "nbformat_minor": 5
}
