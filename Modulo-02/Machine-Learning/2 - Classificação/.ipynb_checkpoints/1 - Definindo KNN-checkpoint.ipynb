{
 "cells": [
  {
   "cell_type": "markdown",
   "id": "2842e24d",
   "metadata": {},
   "source": [
    "# `KNN`\n",
    "\n",
    "\n",
    "KNN é um algoritmo de aprendizado supervisionado para classificação. A sigla significa K-Nearest Neighbors (K-vizinhos mais próximos), e seu objetivo é, baseado nas classes das K observações mais próximas da observação que queremos classificar, prever a classe que mais ocorre. \n",
    "\n",
    "<br><br>\n",
    "\n",
    "![alt_text](https://miro.medium.com/max/1151/0*ItVKiyx2F3ZU8zV5)"
   ]
  },
  {
   "cell_type": "markdown",
   "id": "d7db8c52",
   "metadata": {},
   "source": [
    "<br><br><br>\n",
    "\n",
    "#### `Características`\n",
    "\n",
    "Ele é tão simples quanto isso! O KNN vai armazenar todos os dados utilizados para treiná-lo e classificar uma nova observação baseado na proximidade dos dados de teste. Esse algoritmo é chamado de Lazy, pois não aprende propriamento nada, mas somente armazena todos os dados e, no momento da previsão da classe, acha os K mais próximos e faz a classificação.\n",
    "\n",
    "Além disso, ele é um algoritmo não paramétrico, ou seja, não faz nenhuma suposição sobre os dados que utiliza.\n",
    "\n",
    "\n",
    "Mas, fica restando um ponto muito importante: entender como calcular as `K observações mais próximas`. \n",
    "\n",
    "Para isso, o KNN utiliza funções para cálculo de distância entre dois pontos. Existem várias distâncias diferentes já conhecidas, mas a mais utilizada é a distância Euclideana.\n",
    "\n",
    "<br><br>\n",
    "\n",
    "![alt_text](https://static.javatpoint.com/tutorial/machine-learning/images/k-nearest-neighbor-algorithm-for-machine-learning4.png)"
   ]
  },
  {
   "cell_type": "markdown",
   "id": "58c70b65",
   "metadata": {},
   "source": [
    "<br><br><br>\n",
    "\n",
    "#### `Funcionamento`\n",
    "\n",
    "Portanto, o KNN vai funcionar da seguinte forma:\n",
    "\n",
    "\n",
    "* 1 - Recebe uma nova observação\n",
    "* 2 - Calcula a distância euclideana dos dados de treino para a nova observação\n",
    "* 3 - Escolhe as K observações de treino mais próximas da nova observação\n",
    "* 4 - Entre essas K observações, conta a quantidade de ocorrências em cada classe disponível nos dados\n",
    "* 5 - Classifica o novo dado com a classe de maior ocorrência entre as K observações mais próximas\n"
   ]
  },
  {
   "cell_type": "markdown",
   "id": "7a79760d",
   "metadata": {},
   "source": [
    " "
   ]
  },
  {
   "cell_type": "markdown",
   "id": "bb2aa572",
   "metadata": {},
   "source": [
    "#### `Vantagens e Desvantagens`\n",
    "\n",
    "`Vantagens`\n",
    "\n",
    "* É um algoritmo de fácil compreensão\n",
    "* É um algoritmo não paramétrico\n",
    "* Geralmente é mais efetivo quando temos um grande conjunto de dados de treino\n",
    "\n",
    "`Desvantagens`\n",
    "\n",
    "* A complexidade computacional do KNN aumenta com o tamanho do conjunto de dados de treinamento.\n",
    "* Não funciona bem com muitas variáveis de entrada\n",
    "* O KNN funciona muito melhor se todos os dados tiverem a mesma escala. "
   ]
  }
 ],
 "metadata": {
  "kernelspec": {
   "display_name": "Python 3 (ipykernel)",
   "language": "python",
   "name": "python3"
  },
  "language_info": {
   "codemirror_mode": {
    "name": "ipython",
    "version": 3
   },
   "file_extension": ".py",
   "mimetype": "text/x-python",
   "name": "python",
   "nbconvert_exporter": "python",
   "pygments_lexer": "ipython3",
   "version": "3.8.9"
  }
 },
 "nbformat": 4,
 "nbformat_minor": 5
}
