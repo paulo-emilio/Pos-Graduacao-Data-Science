{
 "cells": [
  {
   "cell_type": "markdown",
   "id": "39c840a6",
   "metadata": {},
   "source": [
    "# `SVM`\n",
    "\n",
    "\n",
    "SVM é um algoritmo de aprendizado supervisionado para classificação. A sigla significa Support Vector Machine (máquina de vetores de suporte), e seu objetivo é achar um hiperplano que separe duas classes de observações da melhor forma possível. \n",
    "\n",
    "Primeiramente, precisamos entender o que é um `hiperplano`, o que é `separar da melhor forma` possível e, por fim, o que é um `vetor de suporte`.\n",
    "\n"
   ]
  },
  {
   "cell_type": "markdown",
   "id": "052e185a",
   "metadata": {},
   "source": [
    "<br><br>"
   ]
  },
  {
   "cell_type": "markdown",
   "id": "a5fa9ba1",
   "metadata": {},
   "source": [
    "#### `Hiperplano`\n",
    "\n",
    "Um hiperplano é a generalização de um plano. Quando estamos em 1 dimensão (uma variável), um hiperplano seria um ponto. Na imagem abaixo, L é um hiperplano.\n",
    "\n",
    "\n",
    "![alt_text](http://www2.decom.ufop.br/imobilis/wp-content/uploads/2015/08/separating-hyperplane.png)\n",
    "\n",
    "<br><br><br><br><br><br>\n",
    "Em duas dimensões, um hiperplano seria uma reta, e em três dimensões, seria um plano.\n",
    "\n",
    "![alt_text](https://i0.wp.com/alvarezsolucoesdigitais.com/wp-content/uploads/2020/02/M%C3%A1quinas-de-Vetores-de-Suportes-SVM-Introdu%C3%A7%C3%A3o-aos-algoritmos-de-Aprendizado-de-M%C3%A1quina-04.png?resize=1024%2C433&ssl=1)\n",
    "\n",
    "\n",
    "\n",
    "Para mais dimensões, podemos chamar somente de hiperplano.\n",
    "\n",
    "<br><br><br><br><br><br>"
   ]
  },
  {
   "cell_type": "markdown",
   "id": "29db1ea3",
   "metadata": {},
   "source": [
    "#### `Melhor Hiperplano`\n",
    "\n",
    "Agora, o que significa achar um hiperplano que separe as classes da `melhor forma possível`?\n",
    "\n",
    "\n",
    "Significa que o melhor hiperplano vai ser o que mais se distancia das duas classes de observações.\n",
    "\n",
    "\n",
    "![alt_text](https://miro.medium.com/max/662/0*rIGWbxfCPvxr_cz1)"
   ]
  },
  {
   "cell_type": "markdown",
   "id": "0c26dc3c",
   "metadata": {},
   "source": [
    "<br><br><br>\n",
    "\n",
    "#### `Support Vector`\n",
    "Mas uma classe possui muitas observações. Então, quais observações serão utilizadas para achar o hiperplano que mais se distancia dos dois grupos? Utilizando os vetores de suporte.\n",
    "\n",
    "Os vetores de suporte são os dois pontos (um de cada classe) que mais se aproximam na classe vizinha.\n",
    "\n",
    "![alt_text](https://static.javatpoint.com/tutorial/machine-learning/images/support-vector-machine-algorithm.png)"
   ]
  },
  {
   "cell_type": "markdown",
   "id": "22ddfd46",
   "metadata": {},
   "source": [
    "<br><br><br>\n",
    "\n",
    "#### `Objetivo`\n",
    "No fim das contas, o objetivo do SVM é encontrar um hiperplano atl que a margem de separação entre as classes seja máxima.\n",
    "\n",
    "![alt_text](https://jeremykun.com/wp-content/uploads/2017/06/svm_solve_by_hand-e1496076457793.gif)"
   ]
  },
  {
   "cell_type": "markdown",
   "id": "4d28d9e5",
   "metadata": {},
   "source": [
    "<br><br><br><br><br><br>"
   ]
  },
  {
   "cell_type": "markdown",
   "id": "28f678b4",
   "metadata": {},
   "source": [
    "#### `Multiclasse`\n",
    "\n",
    "Repare que, até agora, falamos somente para situações onde os dados estão dividos somente entre duas classes. Entretanto, o SVM funciona também para dados classificados em 3 ou mais grupos. Para isso, duas estratégias são muito utilizadas, a `one vs one` e a `one vs rest`.\n",
    "\n",
    "<br><br>\n",
    "A estratégia one vs one consiste em separar os dados em grupos de duas classes, dois a dois, classificar a observação em cada caso e escolher a mais votada. Por exemplo, se nossos dados são dividos entre as classes A, B e C, o SVM vai dividir entre (A; B), (A; C) e (B;C). Daí, para (A; B), o SVM classificaria como A, entre (A; C), como A, e entre (B; C) como A, e a classe escolhida seria a classe A.\n",
    "\n",
    "![alt_text](https://miro.medium.com/max/1056/1*4xjYPBsT9ZHOe3u0MIRB2A.webp)\n",
    "\n",
    "\n",
    "<br><br>\n",
    "A estratégia one vs all consiste em comparar cada classe com todas as outras classes. Por exemplo, se novamente tivermos as classes A, B e C, agora os grupos seriam (A; B & C), (B; A & C) e (C; B & C). Daí, o SVM classificaria a observação dentre os grupos e o mais escolhida seria a classificação final.\n",
    "\n",
    "![alt_text](https://miro.medium.com/max/1400/1*RElrybCZ4WPsUfRwDl7fqA.png)"
   ]
  },
  {
   "cell_type": "markdown",
   "id": "3d3cf666",
   "metadata": {},
   "source": [
    " "
   ]
  },
  {
   "cell_type": "markdown",
   "id": "b39758f4",
   "metadata": {},
   "source": [
    " "
   ]
  },
  {
   "cell_type": "markdown",
   "id": "f8b47254",
   "metadata": {},
   "source": [
    " "
   ]
  },
  {
   "cell_type": "markdown",
   "id": "cb13eb17",
   "metadata": {},
   "source": [
    " "
   ]
  },
  {
   "cell_type": "markdown",
   "id": "ff7e0b95",
   "metadata": {},
   "source": [
    "#### `Não Linear`\n",
    "\n",
    "Outro ponto importante é que, até então, vimos exemplos onde uma classificação linear resolveria o problema, em duas dimensões, por exemplo, o hiperplano seria uma reta. Entretanto, nem sempre os dados se comportam dessa forma.\n",
    "\n",
    "![alt_text](https://miro.medium.com/max/620/1*yLQxzD1GR9Wt2-kcAMVARg.png)"
   ]
  },
  {
   "cell_type": "markdown",
   "id": "c8615376",
   "metadata": {},
   "source": [
    "<br><br>\n",
    "\n",
    "\n",
    "Para resolver os casos não lineares, o SVM utiliza funções para transformar os dados em um espaço linear para então achar o hiperplano ideal. Esse espaço transformado é chamado de espaco das features.\n",
    "\n",
    "![alt_text](https://www.researchgate.net/publication/272520997/figure/fig2/AS:601593388998663@1520442449352/Motivation-behind-non-linear-SVM-classifier.png)\n"
   ]
  },
  {
   "cell_type": "markdown",
   "id": "3dbfbb9d",
   "metadata": {},
   "source": [
    " "
   ]
  },
  {
   "cell_type": "markdown",
   "id": "ae8484d4",
   "metadata": {},
   "source": [
    " "
   ]
  },
  {
   "cell_type": "markdown",
   "id": "b25cfa2f",
   "metadata": {},
   "source": [
    " "
   ]
  },
  {
   "cell_type": "markdown",
   "id": "fac46097",
   "metadata": {},
   "source": [
    " "
   ]
  },
  {
   "cell_type": "markdown",
   "id": "c16c0ded",
   "metadata": {},
   "source": [
    "#### `Vantagens e Desvantagens do SVM`\n",
    "\n",
    "<br>\n",
    "\n",
    "`Vantagens`\n",
    "* Funciona muito bem quando as classes estão muito bem separadas;\n",
    "* Funciona bem quando o número de variáveis é maior que o tamanho da amostra;\n",
    "* Ele guarda os vetores de suporte, o que o torna eficiente em termos de memória.\n",
    "\n",
    "`Desvantagens`\n",
    "* Pode demorar muito para ser treinado quando o conjunto de dados é muito grande;\n",
    "* O SVM não fornece estimativas de probabilidade diretamente, elas são calculadas usando uma validação cruzada;\n",
    "* Não funciona muito bem quando as classes estão sobrepostas."
   ]
  },
  {
   "cell_type": "code",
   "execution_count": null,
   "id": "29010c99-7061-4840-8a6e-7fcb030a63fa",
   "metadata": {},
   "outputs": [],
   "source": []
  }
 ],
 "metadata": {
  "kernelspec": {
   "display_name": "Python 3 (ipykernel)",
   "language": "python",
   "name": "python3"
  },
  "language_info": {
   "codemirror_mode": {
    "name": "ipython",
    "version": 3
   },
   "file_extension": ".py",
   "mimetype": "text/x-python",
   "name": "python",
   "nbconvert_exporter": "python",
   "pygments_lexer": "ipython3",
   "version": "3.11.7"
  }
 },
 "nbformat": 4,
 "nbformat_minor": 5
}
