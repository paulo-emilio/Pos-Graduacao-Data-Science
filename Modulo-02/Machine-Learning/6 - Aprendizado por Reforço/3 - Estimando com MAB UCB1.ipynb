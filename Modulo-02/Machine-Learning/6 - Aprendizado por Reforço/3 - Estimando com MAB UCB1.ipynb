{
 "cells": [
  {
   "cell_type": "markdown",
   "id": "262f4931",
   "metadata": {},
   "source": [
    "# `UCB1`"
   ]
  },
  {
   "cell_type": "markdown",
   "id": "c27012d5",
   "metadata": {},
   "source": [
    "#### Vamos ver uma implementação muito interessante do `UCB1`. Esse é um projeto do `Alison Carrera`, e tem sido utilizado em muitas empresas para implementação de MAB's. Vamos ver como funciona!\n",
    "\n",
    "https://github.com/alison-carrera/mabalgs"
   ]
  },
  {
   "cell_type": "code",
   "execution_count": 3,
   "id": "22fa12ec",
   "metadata": {},
   "outputs": [
    {
     "name": "stdout",
     "output_type": "stream",
     "text": [
      "Collecting mabalgs\n",
      "  Downloading mabalgs-0.6.8.tar.gz (12 kB)\n",
      "  Preparing metadata (setup.py): started\n",
      "  Preparing metadata (setup.py): finished with status 'done'\n",
      "Requirement already satisfied: numpy in c:\\users\\paulo\\anaconda3\\lib\\site-packages (from mabalgs) (1.26.3)\n",
      "Building wheels for collected packages: mabalgs\n",
      "  Building wheel for mabalgs (setup.py): started\n",
      "  Building wheel for mabalgs (setup.py): finished with status 'done'\n",
      "  Created wheel for mabalgs: filename=mabalgs-0.6.8-py3-none-any.whl size=9736 sha256=2c76816e416087c8398115a53682a203355bf936cc98377bb7c0b4e5a81f2df0\n",
      "  Stored in directory: c:\\users\\paulo\\appdata\\local\\pip\\cache\\wheels\\f5\\e4\\c1\\90a9a5a7feb7e71bb2f3df20dc282391fda8dd28ea251b66a7\n",
      "Successfully built mabalgs\n",
      "Installing collected packages: mabalgs\n",
      "Successfully installed mabalgs-0.6.8\n"
     ]
    }
   ],
   "source": [
    "# !pip install mabalgs"
   ]
  },
  {
   "cell_type": "markdown",
   "id": "494429dc",
   "metadata": {},
   "source": [
    "Primeiro, vamos importar o UCB1"
   ]
  },
  {
   "cell_type": "code",
   "execution_count": 4,
   "id": "349723e3",
   "metadata": {},
   "outputs": [],
   "source": [
    "from mab.algs import UCB1"
   ]
  },
  {
   "cell_type": "code",
   "execution_count": null,
   "id": "df36ef4a",
   "metadata": {},
   "outputs": [],
   "source": []
  },
  {
   "cell_type": "markdown",
   "id": "95ab10eb",
   "metadata": {},
   "source": [
    "Agora, vamos criar um mab UCB1, com 3 arms"
   ]
  },
  {
   "cell_type": "code",
   "execution_count": 6,
   "id": "1fadce86",
   "metadata": {},
   "outputs": [],
   "source": [
    "ucb_with_three_arms = UCB1(3)"
   ]
  },
  {
   "cell_type": "code",
   "execution_count": null,
   "id": "de34d338",
   "metadata": {},
   "outputs": [],
   "source": []
  },
  {
   "cell_type": "code",
   "execution_count": null,
   "id": "dc9ed7da",
   "metadata": {},
   "outputs": [],
   "source": []
  },
  {
   "cell_type": "markdown",
   "id": "d0ad363b",
   "metadata": {},
   "source": [
    "Agora, toda vez que quisermos selecionar um arm, usamos o método `select`"
   ]
  },
  {
   "cell_type": "code",
   "execution_count": 7,
   "id": "6091d805",
   "metadata": {},
   "outputs": [
    {
     "data": {
      "text/plain": [
       "(0, [0, 1, 2])"
      ]
     },
     "execution_count": 7,
     "metadata": {},
     "output_type": "execute_result"
    }
   ],
   "source": [
    "ucb_with_three_arms.select()"
   ]
  },
  {
   "cell_type": "code",
   "execution_count": null,
   "id": "5a7eabea",
   "metadata": {},
   "outputs": [],
   "source": []
  },
  {
   "cell_type": "code",
   "execution_count": null,
   "id": "2d70857f",
   "metadata": {},
   "outputs": [],
   "source": []
  },
  {
   "cell_type": "markdown",
   "id": "351e2758",
   "metadata": {},
   "source": [
    "Toda vez que ele for executado, ele irá calcular os upper bound confidences (UCB) e irá retornar o mab com maior UCB"
   ]
  },
  {
   "cell_type": "code",
   "execution_count": 27,
   "id": "13c9df35",
   "metadata": {},
   "outputs": [
    {
     "data": {
      "text/plain": [
       "(1, array([1, 0, 2]))"
      ]
     },
     "execution_count": 27,
     "metadata": {},
     "output_type": "execute_result"
    }
   ],
   "source": [
    "ucb_with_three_arms.select()"
   ]
  },
  {
   "cell_type": "code",
   "execution_count": null,
   "id": "de103453",
   "metadata": {},
   "outputs": [],
   "source": []
  },
  {
   "cell_type": "code",
   "execution_count": null,
   "id": "009581f4",
   "metadata": {},
   "outputs": [],
   "source": []
  },
  {
   "cell_type": "code",
   "execution_count": null,
   "id": "c2cad8e2",
   "metadata": {},
   "outputs": [],
   "source": []
  },
  {
   "cell_type": "code",
   "execution_count": null,
   "id": "c89f83fd",
   "metadata": {},
   "outputs": [],
   "source": []
  },
  {
   "cell_type": "markdown",
   "id": "67173d93",
   "metadata": {},
   "source": [
    "Daí, temos que recompensar o arm se ele gerar um retorno positivo!"
   ]
  },
  {
   "cell_type": "code",
   "execution_count": 9,
   "id": "ecd2fb8e",
   "metadata": {},
   "outputs": [
    {
     "data": {
      "text/plain": [
       "1"
      ]
     },
     "execution_count": 9,
     "metadata": {},
     "output_type": "execute_result"
    }
   ],
   "source": [
    "my_arm = ucb_with_three_arms.select()[0]\n",
    "my_arm"
   ]
  },
  {
   "cell_type": "code",
   "execution_count": 10,
   "id": "c6e07d76",
   "metadata": {},
   "outputs": [],
   "source": [
    "ucb_with_three_arms.reward(my_arm)"
   ]
  },
  {
   "cell_type": "code",
   "execution_count": null,
   "id": "90e20465",
   "metadata": {},
   "outputs": [],
   "source": []
  },
  {
   "cell_type": "code",
   "execution_count": null,
   "id": "13edd430",
   "metadata": {},
   "outputs": [],
   "source": []
  },
  {
   "cell_type": "code",
   "execution_count": null,
   "id": "acb10067",
   "metadata": {},
   "outputs": [],
   "source": []
  },
  {
   "cell_type": "markdown",
   "id": "3f674b99",
   "metadata": {},
   "source": [
    "A ideia é recompensar o arm toda vez que ele gerar um retorno positivo, e não fazer nada se não houver nenhum retorno."
   ]
  },
  {
   "cell_type": "markdown",
   "id": "2d7c54eb",
   "metadata": {},
   "source": [
    "Podemos avaliar o número de impressões de cada arm, assim como o de recompensas recebidas"
   ]
  },
  {
   "cell_type": "code",
   "execution_count": null,
   "id": "7022d66e",
   "metadata": {},
   "outputs": [],
   "source": []
  },
  {
   "cell_type": "code",
   "execution_count": 11,
   "id": "7bec775e",
   "metadata": {},
   "outputs": [
    {
     "data": {
      "text/plain": [
       "array([1., 1., 0.])"
      ]
     },
     "execution_count": 11,
     "metadata": {},
     "output_type": "execute_result"
    }
   ],
   "source": [
    "ucb_with_three_arms.n_impressions"
   ]
  },
  {
   "cell_type": "code",
   "execution_count": 12,
   "id": "615a2bc8",
   "metadata": {},
   "outputs": [
    {
     "data": {
      "text/plain": [
       "array([0., 1., 0.])"
      ]
     },
     "execution_count": 12,
     "metadata": {},
     "output_type": "execute_result"
    }
   ],
   "source": [
    "ucb_with_three_arms.n_rewards"
   ]
  },
  {
   "cell_type": "code",
   "execution_count": null,
   "id": "00c4f18e-da10-4cd2-9c5d-df1e612f1e09",
   "metadata": {},
   "outputs": [],
   "source": []
  }
 ],
 "metadata": {
  "kernelspec": {
   "display_name": "Python 3 (ipykernel)",
   "language": "python",
   "name": "python3"
  },
  "language_info": {
   "codemirror_mode": {
    "name": "ipython",
    "version": 3
   },
   "file_extension": ".py",
   "mimetype": "text/x-python",
   "name": "python",
   "nbconvert_exporter": "python",
   "pygments_lexer": "ipython3",
   "version": "3.11.7"
  }
 },
 "nbformat": 4,
 "nbformat_minor": 5
}
