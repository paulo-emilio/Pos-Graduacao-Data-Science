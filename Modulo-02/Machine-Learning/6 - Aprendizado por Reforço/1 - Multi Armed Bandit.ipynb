{
 "cells": [
  {
   "cell_type": "markdown",
   "id": "6a888d64",
   "metadata": {},
   "source": [
    "# `MAB`\n",
    "\n",
    "\n",
    "\n",
    "A sigla MAB significa Multi Armed Bandit, e é uma classe de algoritmos de machine learning de aprendizado por reforço. Um MAB tenta resolver um problema onde você possui várias opções de escolha e tem como objetivo maximizar a sua recompensa obtida numa escolha vencedora. Surgiu com o caça-níquel e hoje utilizamos em muitas aplicações de mercado. \n",
    "\n",
    "O grande problema é que cada arm tem sua própria distribuição de probabilidade de sucesso, e não conhecemos essa probabilidade. Então, o funcionamento vai se dar por exploration e exploitation.\n",
    "\n",
    "#### A ideia é que, uma vez identificada a opção que te dá recompensas mais vezes, você passa a majoritariamente escolher essa opção, até que uma outra opção se mostre melhor.\n",
    "\n",
    "\n",
    "<br><br>\n",
    "\n",
    "![alt_text](https://multithreaded.stitchfix.com/assets/posts/2020-08-05-bandits/multi_armed_bandit.png)"
   ]
  },
  {
   "cell_type": "markdown",
   "id": "d016f725",
   "metadata": {},
   "source": [
    "<br><br><br><br><br><br>"
   ]
  },
  {
   "cell_type": "markdown",
   "id": "537f1867",
   "metadata": {},
   "source": [
    "## `Como funcionam?`\n",
    "\n",
    "<br>\n",
    "\n",
    "O MAB vai usar os resultados da exploração inicial para alocar mais pessoas para os arms com melhor desempenho, enquanto aloca menos tráfego para arms com baixo desempenho. Em teoria, os algoritmos de MAB devem produzir uma recompensa geral mais alta e uma punição geral menor, ao mesmo tempo em que permitem coletar dados sobre como os usuários interagem com diferentes arms.\n",
    "\n",
    "\n",
    "\n",
    "<br><br>\n",
    "\n",
    "\n",
    "![alt_text](https://uploads-ssl.webflow.com/6321235cdfe41f71eb58daa4/6321235cdfe41fda5258dd46_AB-testing-versus-Multi-armed-Bandit-Algorithm-1024x535.png)\n",
    "\n",
    "<br><br><br><br>\n",
    "\n",
    "\n",
    "#### Ou seja, a partir do momento que o algoritmo entende qual o melhor caminho,  a parte de exploration acaba e começa a fase de exploitation, onde a maioria dos usuários recebe o arm que está uma maior recompensa. Entretanto, os outros arms sempre recebem algum tráfego, mesmo que pequeno, porque os cenários podem mudar ao longo do tempo.\n",
    "\n",
    "<br><br>\n",
    "\n",
    "![alt_text](https://images.velog.io/images/taejinjeong/post/10daf959-749c-41ec-8f42-433ea73b308e/MAB.png)"
   ]
  }
 ],
 "metadata": {
  "kernelspec": {
   "display_name": "Python 3 (ipykernel)",
   "language": "python",
   "name": "python3"
  },
  "language_info": {
   "codemirror_mode": {
    "name": "ipython",
    "version": 3
   },
   "file_extension": ".py",
   "mimetype": "text/x-python",
   "name": "python",
   "nbconvert_exporter": "python",
   "pygments_lexer": "ipython3",
   "version": "3.8.9"
  }
 },
 "nbformat": 4,
 "nbformat_minor": 5
}
