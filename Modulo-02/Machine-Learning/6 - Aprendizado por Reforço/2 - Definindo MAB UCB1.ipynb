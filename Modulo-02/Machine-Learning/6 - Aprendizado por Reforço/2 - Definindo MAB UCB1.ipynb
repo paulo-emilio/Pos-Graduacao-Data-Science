{
 "cells": [
  {
   "cell_type": "markdown",
   "id": "b37d3e02",
   "metadata": {},
   "source": [
    "# `UCB1`\n",
    "\n",
    "<br>\n",
    "\n",
    "O algoritmo UCB1 é um algoritmo de reinforcement learning do time MAB, e sua sigla significa Upper Bound Confidence, ou limite superior de confiança em inglês. \n",
    "\n",
    "Seu nome tem a ver com a forma como ele funciona. Isso porque, para cada arm, ele irá identificar um limite superior de confiança (UCB) que representa o maior palpite sobre o possível retorno para esse arm. Em cada iteração, o algoritmo escolherá o arm com o UCB mais alto.\n",
    "\n",
    "O UCB, para cada arm, é calculado com base tanto na recompensa média do arm quanto no número de vezes que o arm foi alocados para, com a seguinte fórmula:\n",
    "\n",
    "<br><br><br>\n",
    "\n",
    "![alt_text](https://miro.medium.com/max/720/1*bNRDUK-v1StVARLVJLY8KQ.webp)"
   ]
  },
  {
   "cell_type": "markdown",
   "id": "e0de9110",
   "metadata": {},
   "source": [
    "<br><br><br><br>"
   ]
  },
  {
   "cell_type": "markdown",
   "id": "6e0e36c6",
   "metadata": {},
   "source": [
    "## `Exploration & Exploitation`\n",
    "\n",
    "<br>\n",
    "\n",
    "Conforme mostrado pela fórmula, o resultado do UCB de um arm diminui à medida que o número vezes em que o arm foi escolhido aumenta, pois o valor de `n` vai levando a fração para zero. Ou seja, mesmo que um arm específica esteja ganhando em recompensa média, o UCB pode ser menor do que um arm menos explorado, com uma recompensa média um pouco mais baixa. Assim, o algoritmo é capaz de encontrar o equilíbrio entre explorar opções desconhecidas e explorar a variante vencedora.\n",
    "\n",
    "<br><br>\n",
    "\n",
    "![alt_text](https://miro.medium.com/max/720/1*JNlmwDKMITRYolBqUAHAww.webp)"
   ]
  }
 ],
 "metadata": {
  "kernelspec": {
   "display_name": "Python 3 (ipykernel)",
   "language": "python",
   "name": "python3"
  },
  "language_info": {
   "codemirror_mode": {
    "name": "ipython",
    "version": 3
   },
   "file_extension": ".py",
   "mimetype": "text/x-python",
   "name": "python",
   "nbconvert_exporter": "python",
   "pygments_lexer": "ipython3",
   "version": "3.8.9"
  }
 },
 "nbformat": 4,
 "nbformat_minor": 5
}
