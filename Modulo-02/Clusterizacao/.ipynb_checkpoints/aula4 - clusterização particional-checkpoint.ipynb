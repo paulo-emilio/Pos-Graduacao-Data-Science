{
 "cells": [
  {
   "cell_type": "markdown",
   "id": "fae76fef",
   "metadata": {},
   "source": [
    "# aula = \"Clusterização Particional\"\n",
    "\n"
   ]
  },
  {
   "cell_type": "markdown",
   "id": "86690b65",
   "metadata": {},
   "source": [
    "## Como funciona a Clusterização Particional\n",
    "\n",
    "A clusterização Particional é uma estratégia de agrupamento que busca encontrar por uma matriz de partição de um conjunto de observações.\n",
    "\n"
   ]
  },
  {
   "cell_type": "markdown",
   "id": "2d934e5f",
   "metadata": {},
   "source": [
    "## Algoritmo k-means\n",
    "\n",
    "Objetiva particionar 𝑁 observações dentre 𝑘 grupos em que cada observação pertence ao grupo mais próximo da média.\n",
    "\n",
    "**Algoritmo**\n",
    "1. Escolher K centroides\n",
    "2. Atribuir cada observação ao centroide mais próximo\n",
    "3. Atualizar a posição do centroide como a média de todos os elementos do grupo\n",
    "4. Testar se após a atualização os centroides mudaram:\n",
    "    1. Se sim, volta ao passo 2\n",
    "    2. Se não, encerra\n",
    "    \n",
    "    \n",
    "**Pontos Fortes**\n",
    "* Simples e Intuitivo\n",
    "* Complexidade Linear em todos os parâmetros importantes\n",
    "* Funciona bem em muitos cenários práticos\n",
    "* Resultado de interpretação simples\n",
    "\n",
    "**Pontos de Atenção**\n",
    "* Necessidade de definir k\n",
    "* Sensível a inicialização\n",
    "* Limita-se a encontrar grupos volumétricos/globulares\n",
    "* Cada item deve pertencer a um único cluster (partição rígida)\n",
    "* Limitado a atributos numéricos\n",
    "* Sensível a outliers\n"
   ]
  },
  {
   "cell_type": "code",
   "execution_count": null,
   "id": "27a44770",
   "metadata": {},
   "outputs": [],
   "source": []
  },
  {
   "cell_type": "code",
   "execution_count": null,
   "id": "f2019f26",
   "metadata": {},
   "outputs": [],
   "source": []
  },
  {
   "cell_type": "markdown",
   "id": "6ec0e57d",
   "metadata": {},
   "source": [
    "## Implementação do algoritmo k-means em Python"
   ]
  },
  {
   "cell_type": "code",
   "execution_count": 1,
   "id": "43a63320",
   "metadata": {},
   "outputs": [],
   "source": [
    "import pandas as pd\n",
    "import numpy as np\n",
    "from sklearn.preprocessing import MinMaxScaler\n",
    "\n",
    "import seaborn as sns\n",
    "from matplotlib import pyplot as plt\n",
    "\n",
    "import warnings\n",
    "warnings.filterwarnings('ignore')"
   ]
  },
  {
   "cell_type": "code",
   "execution_count": 2,
   "id": "cc290f74",
   "metadata": {},
   "outputs": [
    {
     "data": {
      "text/html": [
       "<div>\n",
       "<style scoped>\n",
       "    .dataframe tbody tr th:only-of-type {\n",
       "        vertical-align: middle;\n",
       "    }\n",
       "\n",
       "    .dataframe tbody tr th {\n",
       "        vertical-align: top;\n",
       "    }\n",
       "\n",
       "    .dataframe thead th {\n",
       "        text-align: right;\n",
       "    }\n",
       "</style>\n",
       "<table border=\"1\" class=\"dataframe\">\n",
       "  <thead>\n",
       "    <tr style=\"text-align: right;\">\n",
       "      <th></th>\n",
       "      <th>especie</th>\n",
       "      <th>ilha</th>\n",
       "      <th>comp_bico_mm</th>\n",
       "      <th>larg_bico_mm</th>\n",
       "      <th>comp_asa_mm</th>\n",
       "      <th>peso_gr</th>\n",
       "      <th>sexo</th>\n",
       "    </tr>\n",
       "  </thead>\n",
       "  <tbody>\n",
       "    <tr>\n",
       "      <th>163</th>\n",
       "      <td>Chinstrap</td>\n",
       "      <td>Dream</td>\n",
       "      <td>51.7</td>\n",
       "      <td>20.3</td>\n",
       "      <td>194.0</td>\n",
       "      <td>3775.0</td>\n",
       "      <td>MALE</td>\n",
       "    </tr>\n",
       "    <tr>\n",
       "      <th>152</th>\n",
       "      <td>Chinstrap</td>\n",
       "      <td>Dream</td>\n",
       "      <td>46.5</td>\n",
       "      <td>17.9</td>\n",
       "      <td>192.0</td>\n",
       "      <td>3500.0</td>\n",
       "      <td>FEMALE</td>\n",
       "    </tr>\n",
       "    <tr>\n",
       "      <th>144</th>\n",
       "      <td>Adelie</td>\n",
       "      <td>Dream</td>\n",
       "      <td>37.3</td>\n",
       "      <td>16.8</td>\n",
       "      <td>192.0</td>\n",
       "      <td>3000.0</td>\n",
       "      <td>FEMALE</td>\n",
       "    </tr>\n",
       "    <tr>\n",
       "      <th>187</th>\n",
       "      <td>Chinstrap</td>\n",
       "      <td>Dream</td>\n",
       "      <td>47.5</td>\n",
       "      <td>16.8</td>\n",
       "      <td>199.0</td>\n",
       "      <td>3900.0</td>\n",
       "      <td>FEMALE</td>\n",
       "    </tr>\n",
       "    <tr>\n",
       "      <th>255</th>\n",
       "      <td>Gentoo</td>\n",
       "      <td>Biscoe</td>\n",
       "      <td>48.4</td>\n",
       "      <td>16.3</td>\n",
       "      <td>220.0</td>\n",
       "      <td>5400.0</td>\n",
       "      <td>MALE</td>\n",
       "    </tr>\n",
       "  </tbody>\n",
       "</table>\n",
       "</div>"
      ],
      "text/plain": [
       "       especie    ilha  comp_bico_mm  larg_bico_mm  comp_asa_mm  peso_gr  \\\n",
       "163  Chinstrap   Dream          51.7          20.3        194.0   3775.0   \n",
       "152  Chinstrap   Dream          46.5          17.9        192.0   3500.0   \n",
       "144     Adelie   Dream          37.3          16.8        192.0   3000.0   \n",
       "187  Chinstrap   Dream          47.5          16.8        199.0   3900.0   \n",
       "255     Gentoo  Biscoe          48.4          16.3        220.0   5400.0   \n",
       "\n",
       "       sexo  \n",
       "163    MALE  \n",
       "152  FEMALE  \n",
       "144  FEMALE  \n",
       "187  FEMALE  \n",
       "255    MALE  "
      ]
     },
     "execution_count": 2,
     "metadata": {},
     "output_type": "execute_result"
    }
   ],
   "source": [
    "data = pd.read_csv('data/tamanho_pinguins.csv')\n",
    "data.sample(5)"
   ]
  },
  {
   "cell_type": "code",
   "execution_count": 3,
   "id": "9461a6a1",
   "metadata": {},
   "outputs": [],
   "source": [
    "# nesse caso iremos apenas apagar as linhas que possuem valores faltantes\n",
    "data = data.dropna()\n",
    "\n",
    "# excluir outliers\n",
    "data = data[data.larg_bico_mm < 50]"
   ]
  },
  {
   "cell_type": "code",
   "execution_count": 4,
   "id": "915670d8",
   "metadata": {},
   "outputs": [],
   "source": [
    "X, y = data.iloc[:, 2:-1], data.iloc[:, 0]"
   ]
  },
  {
   "cell_type": "code",
   "execution_count": 5,
   "id": "611c501c",
   "metadata": {},
   "outputs": [
    {
     "data": {
      "text/plain": [
       "array([[0.25454545, 0.66666667, 0.15254237, 0.29166667],\n",
       "       [0.26909091, 0.51190476, 0.23728814, 0.30555556],\n",
       "       [0.29818182, 0.58333333, 0.38983051, 0.15277778],\n",
       "       ...,\n",
       "       [0.66545455, 0.30952381, 0.84745763, 0.84722222],\n",
       "       [0.47636364, 0.20238095, 0.6779661 , 0.69444444],\n",
       "       [0.64727273, 0.35714286, 0.69491525, 0.75      ]])"
      ]
     },
     "execution_count": 5,
     "metadata": {},
     "output_type": "execute_result"
    }
   ],
   "source": [
    "scaler = MinMaxScaler()\n",
    "X_ = scaler.fit_transform(X)\n",
    "X_"
   ]
  },
  {
   "cell_type": "code",
   "execution_count": 6,
   "id": "939f6687",
   "metadata": {},
   "outputs": [],
   "source": [
    "x = X_[:, [0,2]]"
   ]
  },
  {
   "cell_type": "code",
   "execution_count": 7,
   "id": "08409b45",
   "metadata": {},
   "outputs": [],
   "source": [
    "def k_means(data, k, threshhold=2):\n",
    "    \n",
    "    n = np.size(data, 0)\n",
    "    \n",
    "    cluster_centers = np.random.choice(range(0, n), k)\n",
    "    clustering = np.random.randint(0, k, n)\n",
    "    cluster_means = data[cluster_centers]\n",
    "    old_clustering = np.zeros(n)\n",
    "    \n",
    "    while np.sum(clustering != old_clustering) > threshhold:\n",
    "        old_clustering = clustering\n",
    "        \n",
    "        cluster_distances = np.zeros((n, k))\n",
    "        for cluster in range(k):\n",
    "            cluster_distances[:, cluster] = np.sum(np.sqrt((data - cluster_means[cluster])**2), 1)\n",
    "        clustering = np.argmin(cluster_distances, 1)\n",
    "        \n",
    "        cluster_means = np.array([np.mean(data[clustering==c], 0) for c in range(k)])\n",
    "    \n",
    "    return cluster_means, clustering"
   ]
  },
  {
   "cell_type": "code",
   "execution_count": 8,
   "id": "32857414",
   "metadata": {},
   "outputs": [],
   "source": [
    "centers, labels = k_means(x, 3)"
   ]
  },
  {
   "cell_type": "code",
   "execution_count": 9,
   "id": "16372958",
   "metadata": {},
   "outputs": [
    {
     "data": {
      "image/png": "[encoded data removed]",
      "text/plain": [
       "<Figure size 640x480 with 1 Axes>"
      ]
     },
     "metadata": {},
     "output_type": "display_data"
    }
   ],
   "source": [
    "plt.scatter(x[labels == 0, 0], x[labels == 0, 1], color=\"blue\", edgecolors='black', s=15)\n",
    "plt.scatter(x[labels == 1, 0], x[labels == 1, 1], color=\"red\", edgecolors='black', s=15)\n",
    "plt.scatter(x[labels == 2, 0], x[labels == 2, 1], color=\"green\", edgecolors='black', s=15)\n",
    "plt.scatter(centers[:,0], centers[:,1], color='orange', marker='X')\n",
    "plt.xlabel('comp_bico_mm')\n",
    "plt.ylabel('comp_asa_mm');"
   ]
  },
  {
   "cell_type": "markdown",
   "id": "a1bd52c7",
   "metadata": {},
   "source": [
    "## Algoritmo k-medoids\n",
    "\n",
    "Objetiva particionar 𝑁 observações dentre 𝑘 grupos em que cada observação pertence ao grupo mais próximo da média.\n",
    "\n",
    "**Algoritmo**\n",
    "1. Escolher K centroides\n",
    "2. Atribuir cada observação ao centroide mais próximo\n",
    "3. Atualizar a posição do centroide como a média de todos os elementos do grupo\n",
    "4. Substituir cada centroide por uma observação representativa do cluster, **medóide**\n",
    "4. Testar se após a atualização os centroides mudaram:\n",
    "    1. Se sim, volta ao passo 2\n",
    "    2. Se não, encerra\n",
    "    \n",
    "    \n",
    "**Pontos Fortes**\n",
    "* Simples e Intuitivo\n",
    "* Funciona bem em muitos cenários práticos\n",
    "* Resultado de interpretação simples\n",
    "* Menos Sensível a outliers\n",
    "* Pode ser aplicado a dados categóricos\n",
    "* Convergência assegurada com qualquer medida de similaridade\n",
    "\n",
    "**Pontos de Atenção**\n",
    "* Necessidade de definir k\n",
    "* Cada item deve pertencer a um único cluster (partição rígida)\n",
    "* Complexidade quadrática no número de objetos"
   ]
  },
  {
   "cell_type": "markdown",
   "id": "9656113b",
   "metadata": {},
   "source": [
    "## Implementação do algoritmo k-medoids em Python"
   ]
  },
  {
   "cell_type": "code",
   "execution_count": 10,
   "id": "7fbbebfe",
   "metadata": {},
   "outputs": [],
   "source": [
    "import pandas as pd\n",
    "import numpy as np\n",
    "from sklearn.preprocessing import MinMaxScaler\n",
    "\n",
    "import seaborn as sns\n",
    "sns.set_theme(style=\"darkgrid\", palette=\"pastel\")\n",
    "from matplotlib import pyplot as plt\n",
    "\n",
    "import warnings\n",
    "warnings.filterwarnings('ignore')"
   ]
  },
  {
   "cell_type": "code",
   "execution_count": 11,
   "id": "e22af3c6",
   "metadata": {},
   "outputs": [
    {
     "data": {
      "text/html": [
       "<div>\n",
       "<style scoped>\n",
       "    .dataframe tbody tr th:only-of-type {\n",
       "        vertical-align: middle;\n",
       "    }\n",
       "\n",
       "    .dataframe tbody tr th {\n",
       "        vertical-align: top;\n",
       "    }\n",
       "\n",
       "    .dataframe thead th {\n",
       "        text-align: right;\n",
       "    }\n",
       "</style>\n",
       "<table border=\"1\" class=\"dataframe\">\n",
       "  <thead>\n",
       "    <tr style=\"text-align: right;\">\n",
       "      <th></th>\n",
       "      <th>especie</th>\n",
       "      <th>ilha</th>\n",
       "      <th>comp_bico_mm</th>\n",
       "      <th>larg_bico_mm</th>\n",
       "      <th>comp_asa_mm</th>\n",
       "      <th>peso_gr</th>\n",
       "      <th>sexo</th>\n",
       "    </tr>\n",
       "  </thead>\n",
       "  <tbody>\n",
       "    <tr>\n",
       "      <th>0</th>\n",
       "      <td>Adelie</td>\n",
       "      <td>Torgersen</td>\n",
       "      <td>39.1</td>\n",
       "      <td>18.7</td>\n",
       "      <td>181.0</td>\n",
       "      <td>3750.0</td>\n",
       "      <td>MALE</td>\n",
       "    </tr>\n",
       "    <tr>\n",
       "      <th>1</th>\n",
       "      <td>Adelie</td>\n",
       "      <td>Torgersen</td>\n",
       "      <td>39.5</td>\n",
       "      <td>17.4</td>\n",
       "      <td>186.0</td>\n",
       "      <td>3800.0</td>\n",
       "      <td>FEMALE</td>\n",
       "    </tr>\n",
       "    <tr>\n",
       "      <th>2</th>\n",
       "      <td>Adelie</td>\n",
       "      <td>Torgersen</td>\n",
       "      <td>40.3</td>\n",
       "      <td>18.0</td>\n",
       "      <td>195.0</td>\n",
       "      <td>3250.0</td>\n",
       "      <td>FEMALE</td>\n",
       "    </tr>\n",
       "    <tr>\n",
       "      <th>3</th>\n",
       "      <td>Adelie</td>\n",
       "      <td>Torgersen</td>\n",
       "      <td>NaN</td>\n",
       "      <td>NaN</td>\n",
       "      <td>NaN</td>\n",
       "      <td>NaN</td>\n",
       "      <td>NaN</td>\n",
       "    </tr>\n",
       "    <tr>\n",
       "      <th>4</th>\n",
       "      <td>Adelie</td>\n",
       "      <td>Torgersen</td>\n",
       "      <td>36.7</td>\n",
       "      <td>19.3</td>\n",
       "      <td>193.0</td>\n",
       "      <td>3450.0</td>\n",
       "      <td>FEMALE</td>\n",
       "    </tr>\n",
       "  </tbody>\n",
       "</table>\n",
       "</div>"
      ],
      "text/plain": [
       "  especie       ilha  comp_bico_mm  larg_bico_mm  comp_asa_mm  peso_gr    sexo\n",
       "0  Adelie  Torgersen          39.1          18.7        181.0   3750.0    MALE\n",
       "1  Adelie  Torgersen          39.5          17.4        186.0   3800.0  FEMALE\n",
       "2  Adelie  Torgersen          40.3          18.0        195.0   3250.0  FEMALE\n",
       "3  Adelie  Torgersen           NaN           NaN          NaN      NaN     NaN\n",
       "4  Adelie  Torgersen          36.7          19.3        193.0   3450.0  FEMALE"
      ]
     },
     "execution_count": 11,
     "metadata": {},
     "output_type": "execute_result"
    }
   ],
   "source": [
    "data = pd.read_csv('data/tamanho_pinguins.csv')\n",
    "data.head()"
   ]
  },
  {
   "cell_type": "code",
   "execution_count": 12,
   "id": "dd2af738",
   "metadata": {},
   "outputs": [],
   "source": [
    "# nesse caso iremos apenas apagar as linhas que possuem valores faltantes\n",
    "data = data.dropna()\n",
    "\n",
    "# excluir outliers\n",
    "data = data[data.larg_bico_mm < 50]"
   ]
  },
  {
   "cell_type": "code",
   "execution_count": 13,
   "id": "bba8632f",
   "metadata": {},
   "outputs": [
    {
     "data": {
      "text/plain": [
       "array([[0.25454545, 0.66666667, 0.15254237, 0.29166667],\n",
       "       [0.26909091, 0.51190476, 0.23728814, 0.30555556],\n",
       "       [0.29818182, 0.58333333, 0.38983051, 0.15277778],\n",
       "       ...,\n",
       "       [0.66545455, 0.30952381, 0.84745763, 0.84722222],\n",
       "       [0.47636364, 0.20238095, 0.6779661 , 0.69444444],\n",
       "       [0.64727273, 0.35714286, 0.69491525, 0.75      ]])"
      ]
     },
     "execution_count": 13,
     "metadata": {},
     "output_type": "execute_result"
    }
   ],
   "source": [
    "X, y = data.iloc[:, 2:-1], data.iloc[:, 0]\n",
    "\n",
    "scaler = MinMaxScaler()\n",
    "X_ = scaler.fit_transform(X)\n",
    "X_"
   ]
  },
  {
   "cell_type": "code",
   "execution_count": 14,
   "id": "c4425d9e",
   "metadata": {},
   "outputs": [],
   "source": [
    "x = X_[:, [0,2]]"
   ]
  },
  {
   "cell_type": "code",
   "execution_count": null,
   "id": "c949fdbb",
   "metadata": {},
   "outputs": [],
   "source": []
  },
  {
   "cell_type": "code",
   "execution_count": 38,
   "id": "4cacafcb",
   "metadata": {},
   "outputs": [],
   "source": [
    "# Implentação do Kmeans\n",
    "\n",
    "def k_means(data, k, threshhold=2):\n",
    "    \n",
    "    n = np.size(data, 0)\n",
    "    \n",
    "    cluster_centers = np.random.choice(range(0, n), k)\n",
    "    clustering = np.random.randint(0, k, n)\n",
    "    cluster_means = data[cluster_centers]\n",
    "    old_clustering = np.zeros(n)\n",
    "    \n",
    "    while np.sum(clustering != old_clustering) > threshhold:\n",
    "        old_clustering = clustering\n",
    "        \n",
    "        cluster_distances = np.zeros((n, k))\n",
    "        for cluster in range(k):\n",
    "            cluster_distances[:, cluster] = np.sum(np.sqrt((data - cluster_means[cluster])**2), 1)\n",
    "        clustering = np.argmin(cluster_distances, 1)\n",
    "        \n",
    "        cluster_means = np.array([np.mean(data[clustering==c], 0) for c in range(k)])\n",
    "    \n",
    "    return cluster_means, clustering"
   ]
  },
  {
   "cell_type": "code",
   "execution_count": 39,
   "id": "0ea072e5",
   "metadata": {},
   "outputs": [],
   "source": [
    "def k_medoids(data, k, threshhold=2):\n",
    "    \n",
    "    n = np.size(data, 0)\n",
    "    \n",
    "    cluster_centers = np.random.choice(range(0, n), k)\n",
    "    clustering = np.random.randint(0, k, n)\n",
    "    cluster_means = data[cluster_centers]\n",
    "    old_clustering = np.zeros(n)\n",
    "    \n",
    "    while np.sum(clustering != old_clustering) > threshhold:\n",
    "        old_clustering = clustering\n",
    "        \n",
    "        cluster_distances = np.zeros((n, k))\n",
    "        for cluster in range(k):\n",
    "            cluster_distances[:, cluster] = np.sum(np.sqrt((data - cluster_means[cluster])**2), 1)\n",
    "        clustering = np.argmin(cluster_distances, 1)\n",
    "        \n",
    "        temp_cluster_means = np.array([np.mean(data[clustering==c], 0) for c in range(k)])\n",
    "        \n",
    "        cluster_means = []\n",
    "        for ncluster in range(k):\n",
    "            distances_means = np.sum(np.sqrt((data[clustering == ncluster] - temp_cluster_means[ncluster])**2), 1)\n",
    "            cluster_means.append(list(data[clustering == ncluster][np.argmin(distances_means)]))\n",
    "    \n",
    "    return np.array(cluster_means), clustering"
   ]
  },
  {
   "cell_type": "code",
   "execution_count": 40,
   "id": "c6eaee67",
   "metadata": {},
   "outputs": [
    {
     "data": {
      "text/plain": [
       "'from sklearn.cluster import KMeans\\n\\nkmeans = KMeans(n_clusters=3)\\nkmeans.fit(x)\\n\\ncluster_centers = kmeans.cluster_centers_\\nclustering = kmeans.labels_'"
      ]
     },
     "execution_count": 40,
     "metadata": {},
     "output_type": "execute_result"
    }
   ],
   "source": [
    "'''from sklearn.cluster import KMeans\n",
    "\n",
    "kmeans = KMeans(n_clusters=3)\n",
    "kmeans.fit(x)\n",
    "\n",
    "cluster_centers = kmeans.cluster_centers_\n",
    "clustering = kmeans.labels_'''"
   ]
  },
  {
   "cell_type": "code",
   "execution_count": 41,
   "id": "23e677ea-03aa-4b89-9a93-5842844b2ec4",
   "metadata": {},
   "outputs": [
    {
     "data": {
      "text/plain": [
       "(array([[0.56      , 0.77966102],\n",
       "        [0.49818182, 0.42372881],\n",
       "        [0.22545455, 0.28813559]]),\n",
       " array([2, 2, 2, 2, 2, 2, 2, 2, 2, 2, 2, 2, 1, 2, 1, 2, 2, 2, 2, 2, 2, 2,\n",
       "        2, 2, 2, 2, 2, 2, 2, 2, 2, 2, 2, 2, 2, 2, 2, 1, 2, 2, 2, 2, 2, 2,\n",
       "        2, 2, 1, 2, 2, 2, 2, 2, 2, 2, 1, 2, 2, 2, 2, 2, 2, 2, 1, 2, 2, 2,\n",
       "        1, 2, 1, 2, 2, 2, 1, 2, 1, 2, 2, 2, 2, 2, 2, 2, 2, 2, 1, 2, 2, 2,\n",
       "        1, 2, 2, 2, 1, 2, 1, 2, 2, 2, 2, 2, 2, 2, 1, 2, 1, 2, 1, 2, 1, 2,\n",
       "        2, 2, 2, 2, 2, 2, 1, 2, 1, 2, 1, 2, 0, 2, 1, 2, 2, 2, 2, 2, 1, 2,\n",
       "        2, 2, 2, 2, 2, 2, 2, 2, 2, 2, 2, 2, 1, 1, 1, 1, 1, 1, 1, 1, 1, 1,\n",
       "        1, 1, 1, 1, 1, 1, 1, 1, 1, 1, 1, 2, 1, 2, 1, 1, 1, 1, 1, 1, 1, 2,\n",
       "        1, 2, 1, 1, 1, 1, 0, 1, 1, 0, 1, 1, 1, 1, 1, 1, 0, 1, 1, 1, 1, 1,\n",
       "        1, 2, 1, 1, 1, 1, 1, 0, 1, 1, 0, 1, 1, 0, 1, 0, 0, 0, 0, 0, 0, 0,\n",
       "        0, 1, 0, 0, 0, 0, 0, 0, 0, 0, 0, 0, 0, 0, 0, 0, 0, 0, 0, 0, 0, 0,\n",
       "        0, 1, 1, 0, 0, 0, 0, 0, 1, 0, 1, 0, 0, 0, 0, 0, 0, 0, 0, 0, 0, 0,\n",
       "        0, 0, 0, 0, 1, 0, 1, 0, 1, 0, 0, 0, 0, 0, 0, 0, 0, 0, 0, 0, 0, 0,\n",
       "        0, 0, 0, 0, 0, 0, 0, 0, 0, 0, 0, 0, 0, 0, 0, 0, 0, 0, 0, 0, 0, 0,\n",
       "        0, 1, 0, 0, 0, 0, 0, 0, 0, 0, 1, 0, 0, 0, 0, 0, 0, 0, 0, 0, 0, 0,\n",
       "        0, 0, 0], dtype=int64))"
      ]
     },
     "execution_count": 41,
     "metadata": {},
     "output_type": "execute_result"
    }
   ],
   "source": [
    "k_medoids(x, 3)"
   ]
  },
  {
   "cell_type": "code",
   "execution_count": 42,
   "id": "f0c42f15",
   "metadata": {
    "scrolled": true
   },
   "outputs": [],
   "source": [
    "centers, labels = k_medoids(x, 3)"
   ]
  },
  {
   "cell_type": "code",
   "execution_count": 43,
   "id": "de7ba64c",
   "metadata": {},
   "outputs": [
    {
     "data": {
      "image/png": "[encoded data removed]",
      "text/plain": [
       "<Figure size 640x480 with 1 Axes>"
      ]
     },
     "metadata": {},
     "output_type": "display_data"
    }
   ],
   "source": [
    "plt.scatter(x[labels == 0, 0], x[labels == 0, 1], color=\"blue\", edgecolors='black', s=15)\n",
    "plt.scatter(x[labels == 1, 0], x[labels == 1, 1], color=\"red\", edgecolors='black', s=15)\n",
    "plt.scatter(x[labels == 2, 0], x[labels == 2, 1], color=\"green\", edgecolors='black', s=15)\n",
    "plt.scatter(centers[:,0], centers[:,1], color='orange', marker='X', alpha=.6)\n",
    "plt.xlabel('comp_bico_mm')\n",
    "plt.ylabel('comp_asa_mm');"
   ]
  },
  {
   "cell_type": "code",
   "execution_count": null,
   "id": "6992bda9",
   "metadata": {},
   "outputs": [],
   "source": []
  },
  {
   "cell_type": "code",
   "execution_count": null,
   "id": "6f94fbd2",
   "metadata": {},
   "outputs": [],
   "source": []
  },
  {
   "cell_type": "markdown",
   "id": "7df5a07a",
   "metadata": {},
   "source": [
    "## Clusterização Particional na Prática"
   ]
  },
  {
   "cell_type": "code",
   "execution_count": 46,
   "id": "4655a616",
   "metadata": {},
   "outputs": [],
   "source": [
    "import pandas as pd\n",
    "import numpy as np\n",
    "from sklearn.preprocessing import MinMaxScaler"
   ]
  },
  {
   "cell_type": "code",
   "execution_count": 47,
   "id": "cd4b6a1c",
   "metadata": {},
   "outputs": [
    {
     "data": {
      "text/html": [
       "<div>\n",
       "<style scoped>\n",
       "    .dataframe tbody tr th:only-of-type {\n",
       "        vertical-align: middle;\n",
       "    }\n",
       "\n",
       "    .dataframe tbody tr th {\n",
       "        vertical-align: top;\n",
       "    }\n",
       "\n",
       "    .dataframe thead th {\n",
       "        text-align: right;\n",
       "    }\n",
       "</style>\n",
       "<table border=\"1\" class=\"dataframe\">\n",
       "  <thead>\n",
       "    <tr style=\"text-align: right;\">\n",
       "      <th></th>\n",
       "      <th>pais</th>\n",
       "      <th>regiao</th>\n",
       "      <th>populacao</th>\n",
       "      <th>area</th>\n",
       "      <th>densidade_populacional</th>\n",
       "      <th>costa</th>\n",
       "      <th>imigracao</th>\n",
       "      <th>mortalidade_infantil</th>\n",
       "      <th>pib_per_capta</th>\n",
       "      <th>perc_alfabetizacao</th>\n",
       "      <th>telefones</th>\n",
       "      <th>pec_aravel</th>\n",
       "      <th>perc_plantacao</th>\n",
       "      <th>perc_outras</th>\n",
       "      <th>clima</th>\n",
       "      <th>taxa_nascimento</th>\n",
       "      <th>taxa_mortalidade</th>\n",
       "      <th>agricultura</th>\n",
       "      <th>industria</th>\n",
       "      <th>servicos</th>\n",
       "    </tr>\n",
       "  </thead>\n",
       "  <tbody>\n",
       "    <tr>\n",
       "      <th>0</th>\n",
       "      <td>Afghanistan</td>\n",
       "      <td>ASIA (EX. NEAR EAST)</td>\n",
       "      <td>31056997</td>\n",
       "      <td>647500</td>\n",
       "      <td>48.0</td>\n",
       "      <td>0.00</td>\n",
       "      <td>23.06</td>\n",
       "      <td>163.07</td>\n",
       "      <td>700.0</td>\n",
       "      <td>36.0</td>\n",
       "      <td>3.2</td>\n",
       "      <td>12.13</td>\n",
       "      <td>0.22</td>\n",
       "      <td>87.65</td>\n",
       "      <td>1.0</td>\n",
       "      <td>46.60</td>\n",
       "      <td>20.34</td>\n",
       "      <td>0.380</td>\n",
       "      <td>0.240</td>\n",
       "      <td>0.380</td>\n",
       "    </tr>\n",
       "    <tr>\n",
       "      <th>1</th>\n",
       "      <td>Albania</td>\n",
       "      <td>EASTERN EUROPE</td>\n",
       "      <td>3581655</td>\n",
       "      <td>28748</td>\n",
       "      <td>124.6</td>\n",
       "      <td>1.26</td>\n",
       "      <td>-4.93</td>\n",
       "      <td>21.52</td>\n",
       "      <td>4500.0</td>\n",
       "      <td>86.5</td>\n",
       "      <td>71.2</td>\n",
       "      <td>21.09</td>\n",
       "      <td>4.42</td>\n",
       "      <td>74.49</td>\n",
       "      <td>3.0</td>\n",
       "      <td>15.11</td>\n",
       "      <td>5.22</td>\n",
       "      <td>0.232</td>\n",
       "      <td>0.188</td>\n",
       "      <td>0.579</td>\n",
       "    </tr>\n",
       "    <tr>\n",
       "      <th>2</th>\n",
       "      <td>Algeria</td>\n",
       "      <td>NORTHERN AFRICA</td>\n",
       "      <td>32930091</td>\n",
       "      <td>2381740</td>\n",
       "      <td>13.8</td>\n",
       "      <td>0.04</td>\n",
       "      <td>-0.39</td>\n",
       "      <td>31.00</td>\n",
       "      <td>6000.0</td>\n",
       "      <td>70.0</td>\n",
       "      <td>78.1</td>\n",
       "      <td>3.22</td>\n",
       "      <td>0.25</td>\n",
       "      <td>96.53</td>\n",
       "      <td>1.0</td>\n",
       "      <td>17.14</td>\n",
       "      <td>4.61</td>\n",
       "      <td>0.101</td>\n",
       "      <td>0.600</td>\n",
       "      <td>0.298</td>\n",
       "    </tr>\n",
       "    <tr>\n",
       "      <th>6</th>\n",
       "      <td>Anguilla</td>\n",
       "      <td>LATIN AMER. &amp; CARIB</td>\n",
       "      <td>13477</td>\n",
       "      <td>102</td>\n",
       "      <td>132.1</td>\n",
       "      <td>59.80</td>\n",
       "      <td>10.76</td>\n",
       "      <td>21.03</td>\n",
       "      <td>8600.0</td>\n",
       "      <td>95.0</td>\n",
       "      <td>460.0</td>\n",
       "      <td>0.00</td>\n",
       "      <td>0.00</td>\n",
       "      <td>100.00</td>\n",
       "      <td>2.0</td>\n",
       "      <td>14.17</td>\n",
       "      <td>5.34</td>\n",
       "      <td>0.040</td>\n",
       "      <td>0.180</td>\n",
       "      <td>0.780</td>\n",
       "    </tr>\n",
       "    <tr>\n",
       "      <th>7</th>\n",
       "      <td>Antigua &amp; Barbuda</td>\n",
       "      <td>LATIN AMER. &amp; CARIB</td>\n",
       "      <td>69108</td>\n",
       "      <td>443</td>\n",
       "      <td>156.0</td>\n",
       "      <td>34.54</td>\n",
       "      <td>-6.15</td>\n",
       "      <td>19.46</td>\n",
       "      <td>11000.0</td>\n",
       "      <td>89.0</td>\n",
       "      <td>549.9</td>\n",
       "      <td>18.18</td>\n",
       "      <td>4.55</td>\n",
       "      <td>77.27</td>\n",
       "      <td>2.0</td>\n",
       "      <td>16.93</td>\n",
       "      <td>5.37</td>\n",
       "      <td>0.038</td>\n",
       "      <td>0.220</td>\n",
       "      <td>0.743</td>\n",
       "    </tr>\n",
       "  </tbody>\n",
       "</table>\n",
       "</div>"
      ],
      "text/plain": [
       "                 pais                               regiao  populacao  \\\n",
       "0        Afghanistan         ASIA (EX. NEAR EAST)            31056997   \n",
       "1            Albania   EASTERN EUROPE                         3581655   \n",
       "2            Algeria   NORTHERN AFRICA                       32930091   \n",
       "6           Anguilla               LATIN AMER. & CARIB          13477   \n",
       "7  Antigua & Barbuda               LATIN AMER. & CARIB          69108   \n",
       "\n",
       "      area  densidade_populacional  costa  imigracao  mortalidade_infantil  \\\n",
       "0   647500                    48.0   0.00      23.06                163.07   \n",
       "1    28748                   124.6   1.26      -4.93                 21.52   \n",
       "2  2381740                    13.8   0.04      -0.39                 31.00   \n",
       "6      102                   132.1  59.80      10.76                 21.03   \n",
       "7      443                   156.0  34.54      -6.15                 19.46   \n",
       "\n",
       "   pib_per_capta  perc_alfabetizacao  telefones  pec_aravel  perc_plantacao  \\\n",
       "0          700.0                36.0        3.2       12.13            0.22   \n",
       "1         4500.0                86.5       71.2       21.09            4.42   \n",
       "2         6000.0                70.0       78.1        3.22            0.25   \n",
       "6         8600.0                95.0      460.0        0.00            0.00   \n",
       "7        11000.0                89.0      549.9       18.18            4.55   \n",
       "\n",
       "   perc_outras  clima  taxa_nascimento  taxa_mortalidade  agricultura  \\\n",
       "0        87.65    1.0            46.60             20.34        0.380   \n",
       "1        74.49    3.0            15.11              5.22        0.232   \n",
       "2        96.53    1.0            17.14              4.61        0.101   \n",
       "6       100.00    2.0            14.17              5.34        0.040   \n",
       "7        77.27    2.0            16.93              5.37        0.038   \n",
       "\n",
       "   industria  servicos  \n",
       "0      0.240     0.380  \n",
       "1      0.188     0.579  \n",
       "2      0.600     0.298  \n",
       "6      0.180     0.780  \n",
       "7      0.220     0.743  "
      ]
     },
     "execution_count": 47,
     "metadata": {},
     "output_type": "execute_result"
    }
   ],
   "source": [
    "# arquivo original countries of the world.csv\n",
    "df = pd.read_csv('data/paises_do_mundo.csv')\n",
    "df.dropna(inplace=True)\n",
    "df.head()"
   ]
  },
  {
   "cell_type": "code",
   "execution_count": 48,
   "id": "686e72b0",
   "metadata": {},
   "outputs": [
    {
     "data": {
      "text/html": [
       "<div>\n",
       "<style scoped>\n",
       "    .dataframe tbody tr th:only-of-type {\n",
       "        vertical-align: middle;\n",
       "    }\n",
       "\n",
       "    .dataframe tbody tr th {\n",
       "        vertical-align: top;\n",
       "    }\n",
       "\n",
       "    .dataframe thead th {\n",
       "        text-align: right;\n",
       "    }\n",
       "</style>\n",
       "<table border=\"1\" class=\"dataframe\">\n",
       "  <thead>\n",
       "    <tr style=\"text-align: right;\">\n",
       "      <th></th>\n",
       "      <th>densidade_populacional</th>\n",
       "      <th>costa</th>\n",
       "      <th>imigracao</th>\n",
       "      <th>mortalidade_infantil</th>\n",
       "      <th>pib_per_capta</th>\n",
       "      <th>perc_alfabetizacao</th>\n",
       "    </tr>\n",
       "  </thead>\n",
       "  <tbody>\n",
       "    <tr>\n",
       "      <th>0</th>\n",
       "      <td>48.0</td>\n",
       "      <td>0.00</td>\n",
       "      <td>23.06</td>\n",
       "      <td>163.07</td>\n",
       "      <td>700.0</td>\n",
       "      <td>36.0</td>\n",
       "    </tr>\n",
       "    <tr>\n",
       "      <th>1</th>\n",
       "      <td>124.6</td>\n",
       "      <td>1.26</td>\n",
       "      <td>-4.93</td>\n",
       "      <td>21.52</td>\n",
       "      <td>4500.0</td>\n",
       "      <td>86.5</td>\n",
       "    </tr>\n",
       "    <tr>\n",
       "      <th>2</th>\n",
       "      <td>13.8</td>\n",
       "      <td>0.04</td>\n",
       "      <td>-0.39</td>\n",
       "      <td>31.00</td>\n",
       "      <td>6000.0</td>\n",
       "      <td>70.0</td>\n",
       "    </tr>\n",
       "    <tr>\n",
       "      <th>6</th>\n",
       "      <td>132.1</td>\n",
       "      <td>59.80</td>\n",
       "      <td>10.76</td>\n",
       "      <td>21.03</td>\n",
       "      <td>8600.0</td>\n",
       "      <td>95.0</td>\n",
       "    </tr>\n",
       "    <tr>\n",
       "      <th>7</th>\n",
       "      <td>156.0</td>\n",
       "      <td>34.54</td>\n",
       "      <td>-6.15</td>\n",
       "      <td>19.46</td>\n",
       "      <td>11000.0</td>\n",
       "      <td>89.0</td>\n",
       "    </tr>\n",
       "    <tr>\n",
       "      <th>...</th>\n",
       "      <td>...</td>\n",
       "      <td>...</td>\n",
       "      <td>...</td>\n",
       "      <td>...</td>\n",
       "      <td>...</td>\n",
       "      <td>...</td>\n",
       "    </tr>\n",
       "    <tr>\n",
       "      <th>218</th>\n",
       "      <td>28.2</td>\n",
       "      <td>0.31</td>\n",
       "      <td>-0.04</td>\n",
       "      <td>22.20</td>\n",
       "      <td>4800.0</td>\n",
       "      <td>93.4</td>\n",
       "    </tr>\n",
       "    <tr>\n",
       "      <th>219</th>\n",
       "      <td>256.1</td>\n",
       "      <td>1.05</td>\n",
       "      <td>-0.45</td>\n",
       "      <td>25.95</td>\n",
       "      <td>2500.0</td>\n",
       "      <td>90.3</td>\n",
       "    </tr>\n",
       "    <tr>\n",
       "      <th>224</th>\n",
       "      <td>40.6</td>\n",
       "      <td>0.36</td>\n",
       "      <td>0.00</td>\n",
       "      <td>61.50</td>\n",
       "      <td>800.0</td>\n",
       "      <td>50.2</td>\n",
       "    </tr>\n",
       "    <tr>\n",
       "      <th>225</th>\n",
       "      <td>15.3</td>\n",
       "      <td>0.00</td>\n",
       "      <td>0.00</td>\n",
       "      <td>88.29</td>\n",
       "      <td>800.0</td>\n",
       "      <td>80.6</td>\n",
       "    </tr>\n",
       "    <tr>\n",
       "      <th>226</th>\n",
       "      <td>31.3</td>\n",
       "      <td>0.00</td>\n",
       "      <td>0.00</td>\n",
       "      <td>67.69</td>\n",
       "      <td>1900.0</td>\n",
       "      <td>90.7</td>\n",
       "    </tr>\n",
       "  </tbody>\n",
       "</table>\n",
       "<p>179 rows × 6 columns</p>\n",
       "</div>"
      ],
      "text/plain": [
       "     densidade_populacional  costa  imigracao  mortalidade_infantil  \\\n",
       "0                      48.0   0.00      23.06                163.07   \n",
       "1                     124.6   1.26      -4.93                 21.52   \n",
       "2                      13.8   0.04      -0.39                 31.00   \n",
       "6                     132.1  59.80      10.76                 21.03   \n",
       "7                     156.0  34.54      -6.15                 19.46   \n",
       "..                      ...    ...        ...                   ...   \n",
       "218                    28.2   0.31      -0.04                 22.20   \n",
       "219                   256.1   1.05      -0.45                 25.95   \n",
       "224                    40.6   0.36       0.00                 61.50   \n",
       "225                    15.3   0.00       0.00                 88.29   \n",
       "226                    31.3   0.00       0.00                 67.69   \n",
       "\n",
       "     pib_per_capta  perc_alfabetizacao  \n",
       "0            700.0                36.0  \n",
       "1           4500.0                86.5  \n",
       "2           6000.0                70.0  \n",
       "6           8600.0                95.0  \n",
       "7          11000.0                89.0  \n",
       "..             ...                 ...  \n",
       "218         4800.0                93.4  \n",
       "219         2500.0                90.3  \n",
       "224          800.0                50.2  \n",
       "225          800.0                80.6  \n",
       "226         1900.0                90.7  \n",
       "\n",
       "[179 rows x 6 columns]"
      ]
     },
     "execution_count": 48,
     "metadata": {},
     "output_type": "execute_result"
    }
   ],
   "source": [
    "X = df.iloc[:, 4:10].copy()\n",
    "X"
   ]
  },
  {
   "cell_type": "code",
   "execution_count": 49,
   "id": "68c4ba2f",
   "metadata": {},
   "outputs": [],
   "source": [
    "X.drop('costa', axis=1, inplace=True)"
   ]
  },
  {
   "cell_type": "code",
   "execution_count": 50,
   "id": "c35ade4e",
   "metadata": {},
   "outputs": [],
   "source": [
    "scaler = MinMaxScaler()\n",
    "X_ = scaler.fit_transform(X)"
   ]
  },
  {
   "cell_type": "code",
   "execution_count": 51,
   "id": "d4bcf38f",
   "metadata": {},
   "outputs": [],
   "source": [
    "from sklearn.cluster import KMeans\n",
    "from sklearn.decomposition import PCA\n"
   ]
  },
  {
   "cell_type": "code",
   "execution_count": 52,
   "id": "492bc3ac",
   "metadata": {},
   "outputs": [
    {
     "name": "stdout",
     "output_type": "stream",
     "text": [
      "[0.68280947 0.18073361]\n"
     ]
    }
   ],
   "source": [
    "# visualização 2D\n",
    "pca = PCA(n_components=2)\n",
    "pca_features = pca.fit_transform(X_)\n",
    "\n",
    "print(pca.explained_variance_ratio_)"
   ]
  },
  {
   "cell_type": "code",
   "execution_count": 53,
   "id": "375716e2",
   "metadata": {},
   "outputs": [
    {
     "data": {
      "image/png": "[encoded data removed]",
      "text/plain": [
       "<Figure size 800x550 with 2 Axes>"
      ]
     },
     "metadata": {},
     "output_type": "display_data"
    }
   ],
   "source": [
    "from yellowbrick.cluster import KElbowVisualizer\n",
    "model = KMeans()\n",
    "visualizer = KElbowVisualizer(model, k=(2,10),metric='distortion', timings= True)\n",
    "visualizer.fit(X_) \n",
    "visualizer.show(); "
   ]
  },
  {
   "cell_type": "code",
   "execution_count": 54,
   "id": "7a86167c",
   "metadata": {},
   "outputs": [],
   "source": [
    "k=5\n",
    "kmeans = KMeans(n_clusters=k, random_state=3, n_init=\"auto\").fit(X_)\n",
    "labels = kmeans.labels_"
   ]
  },
  {
   "cell_type": "code",
   "execution_count": 55,
   "id": "c22d4a1d",
   "metadata": {},
   "outputs": [
    {
     "data": {
      "image/png": "[encoded data removed]",
      "text/plain": [
       "<Figure size 800x550 with 1 Axes>"
      ]
     },
     "metadata": {},
     "output_type": "display_data"
    }
   ],
   "source": [
    "# Dados Reais\n",
    "for n in range(k):\n",
    "    plt.scatter(pca_features[labels == n, 0], pca_features[labels == n, 1], edgecolors='black', s=15)\n",
    "plt.plot();\n",
    "   "
   ]
  },
  {
   "cell_type": "code",
   "execution_count": 56,
   "id": "0ae0c037",
   "metadata": {},
   "outputs": [
    {
     "data": {
      "text/html": [
       "<div>\n",
       "<style scoped>\n",
       "    .dataframe tbody tr th:only-of-type {\n",
       "        vertical-align: middle;\n",
       "    }\n",
       "\n",
       "    .dataframe tbody tr th {\n",
       "        vertical-align: top;\n",
       "    }\n",
       "\n",
       "    .dataframe thead th {\n",
       "        text-align: right;\n",
       "    }\n",
       "</style>\n",
       "<table border=\"1\" class=\"dataframe\">\n",
       "  <thead>\n",
       "    <tr style=\"text-align: right;\">\n",
       "      <th></th>\n",
       "      <th>densidade_populacional</th>\n",
       "      <th>imigracao</th>\n",
       "      <th>mortalidade_infantil</th>\n",
       "      <th>pib_per_capta</th>\n",
       "      <th>perc_alfabetizacao</th>\n",
       "    </tr>\n",
       "    <tr>\n",
       "      <th>cluster</th>\n",
       "      <th></th>\n",
       "      <th></th>\n",
       "      <th></th>\n",
       "      <th></th>\n",
       "      <th></th>\n",
       "    </tr>\n",
       "  </thead>\n",
       "  <tbody>\n",
       "    <tr>\n",
       "      <th>0</th>\n",
       "      <td>750.675000</td>\n",
       "      <td>2.523929</td>\n",
       "      <td>10.932143</td>\n",
       "      <td>16428.571429</td>\n",
       "      <td>94.125000</td>\n",
       "    </tr>\n",
       "    <tr>\n",
       "      <th>1</th>\n",
       "      <td>110.924138</td>\n",
       "      <td>0.601724</td>\n",
       "      <td>92.044828</td>\n",
       "      <td>1203.448276</td>\n",
       "      <td>44.527586</td>\n",
       "    </tr>\n",
       "    <tr>\n",
       "      <th>2</th>\n",
       "      <td>132.361905</td>\n",
       "      <td>-2.724444</td>\n",
       "      <td>22.493016</td>\n",
       "      <td>5679.365079</td>\n",
       "      <td>90.671429</td>\n",
       "    </tr>\n",
       "    <tr>\n",
       "      <th>3</th>\n",
       "      <td>769.226087</td>\n",
       "      <td>3.464348</td>\n",
       "      <td>4.742174</td>\n",
       "      <td>29643.478261</td>\n",
       "      <td>98.217391</td>\n",
       "    </tr>\n",
       "    <tr>\n",
       "      <th>4</th>\n",
       "      <td>69.538889</td>\n",
       "      <td>-0.920278</td>\n",
       "      <td>68.367778</td>\n",
       "      <td>2750.000000</td>\n",
       "      <td>76.941667</td>\n",
       "    </tr>\n",
       "  </tbody>\n",
       "</table>\n",
       "</div>"
      ],
      "text/plain": [
       "         densidade_populacional  imigracao  mortalidade_infantil  \\\n",
       "cluster                                                            \n",
       "0                    750.675000   2.523929             10.932143   \n",
       "1                    110.924138   0.601724             92.044828   \n",
       "2                    132.361905  -2.724444             22.493016   \n",
       "3                    769.226087   3.464348              4.742174   \n",
       "4                     69.538889  -0.920278             68.367778   \n",
       "\n",
       "         pib_per_capta  perc_alfabetizacao  \n",
       "cluster                                     \n",
       "0         16428.571429           94.125000  \n",
       "1          1203.448276           44.527586  \n",
       "2          5679.365079           90.671429  \n",
       "3         29643.478261           98.217391  \n",
       "4          2750.000000           76.941667  "
      ]
     },
     "execution_count": 56,
     "metadata": {},
     "output_type": "execute_result"
    }
   ],
   "source": [
    "X['cluster'] = labels\n",
    "X.groupby(by='cluster').mean()"
   ]
  },
  {
   "cell_type": "code",
   "execution_count": 57,
   "id": "ba97368e",
   "metadata": {},
   "outputs": [
    {
     "data": {
      "text/html": [
       "<div>\n",
       "<style scoped>\n",
       "    .dataframe tbody tr th:only-of-type {\n",
       "        vertical-align: middle;\n",
       "    }\n",
       "\n",
       "    .dataframe tbody tr th {\n",
       "        vertical-align: top;\n",
       "    }\n",
       "\n",
       "    .dataframe thead th {\n",
       "        text-align: right;\n",
       "    }\n",
       "</style>\n",
       "<table border=\"1\" class=\"dataframe\">\n",
       "  <thead>\n",
       "    <tr style=\"text-align: right;\">\n",
       "      <th></th>\n",
       "      <th>densidade_populacional</th>\n",
       "      <th>imigracao</th>\n",
       "      <th>mortalidade_infantil</th>\n",
       "      <th>pib_per_capta</th>\n",
       "      <th>perc_alfabetizacao</th>\n",
       "      <th>cluster</th>\n",
       "    </tr>\n",
       "  </thead>\n",
       "  <tbody>\n",
       "    <tr>\n",
       "      <th>0</th>\n",
       "      <td>48.0</td>\n",
       "      <td>23.06</td>\n",
       "      <td>163.07</td>\n",
       "      <td>700.0</td>\n",
       "      <td>36.0</td>\n",
       "      <td>1</td>\n",
       "    </tr>\n",
       "    <tr>\n",
       "      <th>1</th>\n",
       "      <td>124.6</td>\n",
       "      <td>-4.93</td>\n",
       "      <td>21.52</td>\n",
       "      <td>4500.0</td>\n",
       "      <td>86.5</td>\n",
       "      <td>2</td>\n",
       "    </tr>\n",
       "    <tr>\n",
       "      <th>2</th>\n",
       "      <td>13.8</td>\n",
       "      <td>-0.39</td>\n",
       "      <td>31.00</td>\n",
       "      <td>6000.0</td>\n",
       "      <td>70.0</td>\n",
       "      <td>2</td>\n",
       "    </tr>\n",
       "    <tr>\n",
       "      <th>6</th>\n",
       "      <td>132.1</td>\n",
       "      <td>10.76</td>\n",
       "      <td>21.03</td>\n",
       "      <td>8600.0</td>\n",
       "      <td>95.0</td>\n",
       "      <td>0</td>\n",
       "    </tr>\n",
       "    <tr>\n",
       "      <th>7</th>\n",
       "      <td>156.0</td>\n",
       "      <td>-6.15</td>\n",
       "      <td>19.46</td>\n",
       "      <td>11000.0</td>\n",
       "      <td>89.0</td>\n",
       "      <td>2</td>\n",
       "    </tr>\n",
       "    <tr>\n",
       "      <th>...</th>\n",
       "      <td>...</td>\n",
       "      <td>...</td>\n",
       "      <td>...</td>\n",
       "      <td>...</td>\n",
       "      <td>...</td>\n",
       "      <td>...</td>\n",
       "    </tr>\n",
       "    <tr>\n",
       "      <th>218</th>\n",
       "      <td>28.2</td>\n",
       "      <td>-0.04</td>\n",
       "      <td>22.20</td>\n",
       "      <td>4800.0</td>\n",
       "      <td>93.4</td>\n",
       "      <td>2</td>\n",
       "    </tr>\n",
       "    <tr>\n",
       "      <th>219</th>\n",
       "      <td>256.1</td>\n",
       "      <td>-0.45</td>\n",
       "      <td>25.95</td>\n",
       "      <td>2500.0</td>\n",
       "      <td>90.3</td>\n",
       "      <td>2</td>\n",
       "    </tr>\n",
       "    <tr>\n",
       "      <th>224</th>\n",
       "      <td>40.6</td>\n",
       "      <td>0.00</td>\n",
       "      <td>61.50</td>\n",
       "      <td>800.0</td>\n",
       "      <td>50.2</td>\n",
       "      <td>1</td>\n",
       "    </tr>\n",
       "    <tr>\n",
       "      <th>225</th>\n",
       "      <td>15.3</td>\n",
       "      <td>0.00</td>\n",
       "      <td>88.29</td>\n",
       "      <td>800.0</td>\n",
       "      <td>80.6</td>\n",
       "      <td>4</td>\n",
       "    </tr>\n",
       "    <tr>\n",
       "      <th>226</th>\n",
       "      <td>31.3</td>\n",
       "      <td>0.00</td>\n",
       "      <td>67.69</td>\n",
       "      <td>1900.0</td>\n",
       "      <td>90.7</td>\n",
       "      <td>4</td>\n",
       "    </tr>\n",
       "  </tbody>\n",
       "</table>\n",
       "<p>179 rows × 6 columns</p>\n",
       "</div>"
      ],
      "text/plain": [
       "     densidade_populacional  imigracao  mortalidade_infantil  pib_per_capta  \\\n",
       "0                      48.0      23.06                163.07          700.0   \n",
       "1                     124.6      -4.93                 21.52         4500.0   \n",
       "2                      13.8      -0.39                 31.00         6000.0   \n",
       "6                     132.1      10.76                 21.03         8600.0   \n",
       "7                     156.0      -6.15                 19.46        11000.0   \n",
       "..                      ...        ...                   ...            ...   \n",
       "218                    28.2      -0.04                 22.20         4800.0   \n",
       "219                   256.1      -0.45                 25.95         2500.0   \n",
       "224                    40.6       0.00                 61.50          800.0   \n",
       "225                    15.3       0.00                 88.29          800.0   \n",
       "226                    31.3       0.00                 67.69         1900.0   \n",
       "\n",
       "     perc_alfabetizacao  cluster  \n",
       "0                  36.0        1  \n",
       "1                  86.5        2  \n",
       "2                  70.0        2  \n",
       "6                  95.0        0  \n",
       "7                  89.0        2  \n",
       "..                  ...      ...  \n",
       "218                93.4        2  \n",
       "219                90.3        2  \n",
       "224                50.2        1  \n",
       "225                80.6        4  \n",
       "226                90.7        4  \n",
       "\n",
       "[179 rows x 6 columns]"
      ]
     },
     "execution_count": 57,
     "metadata": {},
     "output_type": "execute_result"
    }
   ],
   "source": [
    "X"
   ]
  },
  {
   "cell_type": "code",
   "execution_count": 58,
   "id": "e0556cca",
   "metadata": {},
   "outputs": [],
   "source": [
    "df['cluster'] = labels"
   ]
  },
  {
   "cell_type": "code",
   "execution_count": 59,
   "id": "4f2b65cd",
   "metadata": {},
   "outputs": [
    {
     "data": {
      "text/plain": [
       "cluster  regiao                             \n",
       "0        ASIA (EX. NEAR EAST)                    3\n",
       "         BALTICS                                 1\n",
       "         EASTERN EUROPE                          3\n",
       "         LATIN AMER. & CARIB                     9\n",
       "         NEAR EAST                               6\n",
       "         OCEANIA                                 3\n",
       "         WESTERN EUROPE                          3\n",
       "1        ASIA (EX. NEAR EAST)                    4\n",
       "         LATIN AMER. & CARIB                     1\n",
       "         NEAR EAST                               2\n",
       "         OCEANIA                                 1\n",
       "         SUB-SAHARAN AFRICA                     21\n",
       "2        ASIA (EX. NEAR EAST)                   11\n",
       "         BALTICS                                 1\n",
       "         C.W. OF IND. STATES                     6\n",
       "         EASTERN EUROPE                          3\n",
       "         LATIN AMER. & CARIB                    27\n",
       "         NEAR EAST                               4\n",
       "         NORTHERN AFRICA                         2\n",
       "         OCEANIA                                 6\n",
       "         SUB-SAHARAN AFRICA                      3\n",
       "3        ASIA (EX. NEAR EAST)                    4\n",
       "         LATIN AMER. & CARIB                     2\n",
       "         NORTHERN AMERICA                        2\n",
       "         OCEANIA                                 1\n",
       "         WESTERN EUROPE                         14\n",
       "4        ASIA (EX. NEAR EAST)                    4\n",
       "         C.W. OF IND. STATES                     4\n",
       "         LATIN AMER. & CARIB                     3\n",
       "         NORTHERN AFRICA                         1\n",
       "         OCEANIA                                 1\n",
       "         SUB-SAHARAN AFRICA                     23\n",
       "Name: regiao, dtype: int64"
      ]
     },
     "execution_count": 59,
     "metadata": {},
     "output_type": "execute_result"
    }
   ],
   "source": [
    "df.groupby(['cluster', 'regiao'])['regiao'].count()"
   ]
  },
  {
   "cell_type": "code",
   "execution_count": 60,
   "id": "5aa60b18",
   "metadata": {},
   "outputs": [
    {
     "data": {
      "text/plain": [
       "regiao\n",
       "SUB-SAHARAN AFRICA                     47\n",
       "LATIN AMER. & CARIB                    42\n",
       "ASIA (EX. NEAR EAST)                   26\n",
       "WESTERN EUROPE                         17\n",
       "OCEANIA                                12\n",
       "NEAR EAST                              12\n",
       "C.W. OF IND. STATES                    10\n",
       "EASTERN EUROPE                          6\n",
       "NORTHERN AFRICA                         3\n",
       "NORTHERN AMERICA                        2\n",
       "BALTICS                                 2\n",
       "Name: count, dtype: int64"
      ]
     },
     "execution_count": 60,
     "metadata": {},
     "output_type": "execute_result"
    }
   ],
   "source": [
    "df['regiao'].value_counts()"
   ]
  },
  {
   "cell_type": "code",
   "execution_count": null,
   "id": "61e7e791-dd19-44d3-b89e-4b3a49e58383",
   "metadata": {},
   "outputs": [],
   "source": []
  },
  {
   "cell_type": "code",
   "execution_count": null,
   "id": "6f204fa6-a2f5-40b1-b0ac-7d6cee616e81",
   "metadata": {},
   "outputs": [],
   "source": []
  },
  {
   "cell_type": "code",
   "execution_count": null,
   "id": "367c5b0f-8608-4ae7-a833-8113dcb3e1ac",
   "metadata": {},
   "outputs": [],
   "source": []
  },
  {
   "cell_type": "code",
   "execution_count": null,
   "id": "a59c448c-32ab-4ba4-9adf-9e685ad4ace1",
   "metadata": {},
   "outputs": [],
   "source": []
  },
  {
   "cell_type": "code",
   "execution_count": null,
   "id": "52a213e3-567b-4d6d-a409-0ee6dd971177",
   "metadata": {},
   "outputs": [],
   "source": []
  },
  {
   "cell_type": "code",
   "execution_count": null,
   "id": "2f78b1da-caf2-4f26-a893-593022d27e5a",
   "metadata": {},
   "outputs": [],
   "source": []
  },
  {
   "cell_type": "code",
   "execution_count": null,
   "id": "3713253d-a273-4892-b3d6-59250e50825e",
   "metadata": {},
   "outputs": [],
   "source": []
  },
  {
   "cell_type": "code",
   "execution_count": null,
   "id": "7960161c-766f-4f1a-89d4-744136d3eeaf",
   "metadata": {},
   "outputs": [],
   "source": []
  },
  {
   "cell_type": "code",
   "execution_count": null,
   "id": "1a667a94-eac6-4050-bd15-ed941e4910ca",
   "metadata": {},
   "outputs": [],
   "source": []
  },
  {
   "cell_type": "code",
   "execution_count": null,
   "id": "3c41a881-cb09-4bbd-b140-1f4a2b2353bc",
   "metadata": {},
   "outputs": [],
   "source": []
  },
  {
   "cell_type": "code",
   "execution_count": null,
   "id": "77b793a1-84b0-4ba3-9b54-b8154aa29f82",
   "metadata": {},
   "outputs": [],
   "source": []
  },
  {
   "cell_type": "code",
   "execution_count": null,
   "id": "b5856076-73af-4695-88b1-4b3087bfed96",
   "metadata": {},
   "outputs": [],
   "source": []
  },
  {
   "cell_type": "code",
   "execution_count": null,
   "id": "506aed25-423a-449a-8180-78c3713b32f4",
   "metadata": {},
   "outputs": [],
   "source": []
  }
 ],
 "metadata": {
  "kernelspec": {
   "display_name": "Python 3 (ipykernel)",
   "language": "python",
   "name": "python3"
  },
  "language_info": {
   "codemirror_mode": {
    "name": "ipython",
    "version": 3
   },
   "file_extension": ".py",
   "mimetype": "text/x-python",
   "name": "python",
   "nbconvert_exporter": "python",
   "pygments_lexer": "ipython3",
   "version": "3.11.7"
  }
 },
 "nbformat": 4,
 "nbformat_minor": 5
}
